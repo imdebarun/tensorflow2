{
  "nbformat": 4,
  "nbformat_minor": 0,
  "metadata": {
    "colab": {
      "provenance": [],
      "authorship_tag": "ABX9TyN+vBC4QD5Qz7hDhGXdjkPn",
      "include_colab_link": true
    },
    "kernelspec": {
      "name": "python3",
      "display_name": "Python 3"
    },
    "language_info": {
      "name": "python"
    }
  },
  "cells": [
    {
      "cell_type": "markdown",
      "metadata": {
        "id": "view-in-github",
        "colab_type": "text"
      },
      "source": [
        "<a href=\"https://colab.research.google.com/github/imdebarun/tensorflow2/blob/main/Getting_started_with_TensorFlow.ipynb\" target=\"_parent\"><img src=\"https://colab.research.google.com/assets/colab-badge.svg\" alt=\"Open In Colab\"/></a>"
      ]
    },
    {
      "cell_type": "markdown",
      "source": [
        "## Getting started with tensor is to understand the funtionality of each attibutes."
      ],
      "metadata": {
        "id": "6ytglv7RQO5W"
      }
    },
    {
      "cell_type": "code",
      "execution_count": 1,
      "metadata": {
        "colab": {
          "base_uri": "https://localhost:8080/"
        },
        "id": "srB1p6R5Kth3",
        "outputId": "cf961a0c-ac0d-41b0-dbd1-c943a7b51b66"
      },
      "outputs": [
        {
          "output_type": "stream",
          "name": "stdout",
          "text": [
            "2.15.0\n"
          ]
        }
      ],
      "source": [
        "import tensorflow as tf\n",
        "print(tf.__version__)"
      ]
    },
    {
      "cell_type": "code",
      "source": [
        "scalar = tf.constant(9)\n",
        "scalar"
      ],
      "metadata": {
        "colab": {
          "base_uri": "https://localhost:8080/"
        },
        "id": "mBhzi7iHK9w9",
        "outputId": "9df824ee-8d00-4809-d9e3-35113499e62a"
      },
      "execution_count": 2,
      "outputs": [
        {
          "output_type": "execute_result",
          "data": {
            "text/plain": [
              "<tf.Tensor: shape=(), dtype=int32, numpy=9>"
            ]
          },
          "metadata": {},
          "execution_count": 2
        }
      ]
    },
    {
      "cell_type": "code",
      "source": [
        "vector = tf.constant([3,9])\n",
        "vector"
      ],
      "metadata": {
        "colab": {
          "base_uri": "https://localhost:8080/"
        },
        "id": "v7hakDH6LlGm",
        "outputId": "16b0fc4d-77ab-4835-d889-e4ad07bae907"
      },
      "execution_count": 4,
      "outputs": [
        {
          "output_type": "execute_result",
          "data": {
            "text/plain": [
              "<tf.Tensor: shape=(2,), dtype=int32, numpy=array([3, 9], dtype=int32)>"
            ]
          },
          "metadata": {},
          "execution_count": 4
        }
      ]
    },
    {
      "cell_type": "code",
      "source": [
        "matrix = tf.constant([[3,9],[1,3]])\n",
        "matrix"
      ],
      "metadata": {
        "colab": {
          "base_uri": "https://localhost:8080/"
        },
        "id": "dX8i2-qILsUM",
        "outputId": "87323bf9-59da-4291-d7db-2de49e3c85cd"
      },
      "execution_count": 6,
      "outputs": [
        {
          "output_type": "execute_result",
          "data": {
            "text/plain": [
              "<tf.Tensor: shape=(2, 2), dtype=int32, numpy=\n",
              "array([[3, 9],\n",
              "       [1, 3]], dtype=int32)>"
            ]
          },
          "metadata": {},
          "execution_count": 6
        }
      ]
    },
    {
      "cell_type": "code",
      "source": [
        "scalar.ndim, vector.ndim, matrix.ndim"
      ],
      "metadata": {
        "colab": {
          "base_uri": "https://localhost:8080/"
        },
        "id": "-s-Mj4H9L4pN",
        "outputId": "5cc033dc-98fb-4b17-fc69-6a4e8d4f9b18"
      },
      "execution_count": 7,
      "outputs": [
        {
          "output_type": "execute_result",
          "data": {
            "text/plain": [
              "(0, 1, 2)"
            ]
          },
          "metadata": {},
          "execution_count": 7
        }
      ]
    },
    {
      "cell_type": "code",
      "source": [
        "tensor = tf.constant([[[1,2,3],[4,5,6]],\n",
        "                      [[7,8,9],[10,11,12]],\n",
        "                      [[13,14,15],[16,17,18]]])\n",
        "tensor"
      ],
      "metadata": {
        "colab": {
          "base_uri": "https://localhost:8080/"
        },
        "id": "-LxL3Z0HMKXn",
        "outputId": "82e81d9b-c0b2-4909-9320-758f4ba31ede"
      },
      "execution_count": 10,
      "outputs": [
        {
          "output_type": "execute_result",
          "data": {
            "text/plain": [
              "<tf.Tensor: shape=(3, 2, 3), dtype=int32, numpy=\n",
              "array([[[ 1,  2,  3],\n",
              "        [ 4,  5,  6]],\n",
              "\n",
              "       [[ 7,  8,  9],\n",
              "        [10, 11, 12]],\n",
              "\n",
              "       [[13, 14, 15],\n",
              "        [16, 17, 18]]], dtype=int32)>"
            ]
          },
          "metadata": {},
          "execution_count": 10
        }
      ]
    },
    {
      "cell_type": "code",
      "source": [
        "tensor.ndim"
      ],
      "metadata": {
        "colab": {
          "base_uri": "https://localhost:8080/"
        },
        "id": "G22Zv7AmMwIc",
        "outputId": "ca414366-b3cf-4276-e942-954eb62d400c"
      },
      "execution_count": 11,
      "outputs": [
        {
          "output_type": "execute_result",
          "data": {
            "text/plain": [
              "3"
            ]
          },
          "metadata": {},
          "execution_count": 11
        }
      ]
    },
    {
      "cell_type": "code",
      "source": [
        "## Creating tensor with tf.Variable:\n",
        "# create the same tensor with tf.Variable() as before -\n",
        "Changeable_tensor = tf.Variable([3,9])\n",
        "Unchangeable_tensor = tf.constant([3,9])\n",
        "Changeable_tensor, Unchangeable_tensor"
      ],
      "metadata": {
        "colab": {
          "base_uri": "https://localhost:8080/"
        },
        "id": "3Np8wGcKNJMZ",
        "outputId": "34a607fc-b737-4f9d-ffb4-cc60ad009467"
      },
      "execution_count": 12,
      "outputs": [
        {
          "output_type": "execute_result",
          "data": {
            "text/plain": [
              "(<tf.Variable 'Variable:0' shape=(2,) dtype=int32, numpy=array([3, 9], dtype=int32)>,\n",
              " <tf.Tensor: shape=(2,), dtype=int32, numpy=array([3, 9], dtype=int32)>)"
            ]
          },
          "metadata": {},
          "execution_count": 12
        }
      ]
    },
    {
      "cell_type": "code",
      "source": [
        "# Changeable_tensor[0] = 7\n",
        "# Changeable_tensor\n",
        "Changeable_tensor[0].assign(7)\n",
        "Changeable_tensor"
      ],
      "metadata": {
        "colab": {
          "base_uri": "https://localhost:8080/"
        },
        "id": "zCA-1HQWRGyq",
        "outputId": "85104216-188b-40f0-aac6-b6fdcffc6540"
      },
      "execution_count": 14,
      "outputs": [
        {
          "output_type": "execute_result",
          "data": {
            "text/plain": [
              "<tf.Variable 'Variable:0' shape=(2,) dtype=int32, numpy=array([7, 9], dtype=int32)>"
            ]
          },
          "metadata": {},
          "execution_count": 14
        }
      ]
    },
    {
      "cell_type": "markdown",
      "source": [
        "Creating Random Tensor :"
      ],
      "metadata": {
        "id": "6o3s23XuUSMP"
      }
    },
    {
      "cell_type": "code",
      "source": [
        "rand1 = tf.random.Generator.from_seed(42)\n",
        "rand1 = rand1.normal(shape = (3,2))\n",
        "rand1"
      ],
      "metadata": {
        "colab": {
          "base_uri": "https://localhost:8080/"
        },
        "id": "lAQphGItT7ka",
        "outputId": "5003ca71-25b9-4334-8477-d2b48a4ef8dc"
      },
      "execution_count": 15,
      "outputs": [
        {
          "output_type": "execute_result",
          "data": {
            "text/plain": [
              "<tf.Tensor: shape=(3, 2), dtype=float32, numpy=\n",
              "array([[-0.7565803 , -0.06854702],\n",
              "       [ 0.07595026, -1.2573844 ],\n",
              "       [-0.23193763, -1.8107855 ]], dtype=float32)>"
            ]
          },
          "metadata": {},
          "execution_count": 15
        }
      ]
    },
    {
      "cell_type": "code",
      "source": [
        "rand2 = tf.random.Generator.from_seed(42)\n",
        "rand2 = rand2.normal(shape = (3,2))\n",
        "rand2"
      ],
      "metadata": {
        "colab": {
          "base_uri": "https://localhost:8080/"
        },
        "id": "P5ogTRP5Uum2",
        "outputId": "d41d8876-82ce-4eca-cba0-af1d48ea0ca1"
      },
      "execution_count": 17,
      "outputs": [
        {
          "output_type": "execute_result",
          "data": {
            "text/plain": [
              "<tf.Tensor: shape=(3, 2), dtype=float32, numpy=\n",
              "array([[-0.7565803 , -0.06854702],\n",
              "       [ 0.07595026, -1.2573844 ],\n",
              "       [-0.23193763, -1.8107855 ]], dtype=float32)>"
            ]
          },
          "metadata": {},
          "execution_count": 17
        }
      ]
    },
    {
      "cell_type": "code",
      "source": [
        "rand1==rand2"
      ],
      "metadata": {
        "colab": {
          "base_uri": "https://localhost:8080/"
        },
        "id": "snlzyfUIVExo",
        "outputId": "032a34fc-516f-4e7e-9542-b2e602a9a1bb"
      },
      "execution_count": 18,
      "outputs": [
        {
          "output_type": "execute_result",
          "data": {
            "text/plain": [
              "<tf.Tensor: shape=(3, 2), dtype=bool, numpy=\n",
              "array([[ True,  True],\n",
              "       [ True,  True],\n",
              "       [ True,  True]])>"
            ]
          },
          "metadata": {},
          "execution_count": 18
        }
      ]
    },
    {
      "cell_type": "markdown",
      "source": [
        "Shuffle the order elements of a tensor:-"
      ],
      "metadata": {
        "id": "I3BA6tTnVNgH"
      }
    },
    {
      "cell_type": "code",
      "source": [
        "tensor_a = tf.constant([[10,7],[3,4],[2,3]])\n",
        "tensor_a, tensor_a.ndim"
      ],
      "metadata": {
        "colab": {
          "base_uri": "https://localhost:8080/"
        },
        "id": "Ica3_Bf2VJYu",
        "outputId": "484e2cc3-cc31-4df0-e130-83c2104aa511"
      },
      "execution_count": 20,
      "outputs": [
        {
          "output_type": "execute_result",
          "data": {
            "text/plain": [
              "(<tf.Tensor: shape=(3, 2), dtype=int32, numpy=\n",
              " array([[10,  7],\n",
              "        [ 3,  4],\n",
              "        [ 2,  3]], dtype=int32)>,\n",
              " 2)"
            ]
          },
          "metadata": {},
          "execution_count": 20
        }
      ]
    },
    {
      "cell_type": "code",
      "source": [
        "tf.random.shuffle(tensor_a)"
      ],
      "metadata": {
        "colab": {
          "base_uri": "https://localhost:8080/"
        },
        "id": "G3A47HT2VqWW",
        "outputId": "3de76144-bea4-4945-dbab-ecf9d679b587"
      },
      "execution_count": 24,
      "outputs": [
        {
          "output_type": "execute_result",
          "data": {
            "text/plain": [
              "<tf.Tensor: shape=(3, 2), dtype=int32, numpy=\n",
              "array([[ 2,  3],\n",
              "       [ 3,  4],\n",
              "       [10,  7]], dtype=int32)>"
            ]
          },
          "metadata": {},
          "execution_count": 24
        }
      ]
    },
    {
      "cell_type": "code",
      "source": [
        "tf.random.set_seed(42)\n",
        "tf.random.shuffle(tensor_a, seed=42)"
      ],
      "metadata": {
        "colab": {
          "base_uri": "https://localhost:8080/"
        },
        "id": "YH0ltoQNV2vs",
        "outputId": "bf4e44e9-1716-42db-8367-207bda17f10b"
      },
      "execution_count": 26,
      "outputs": [
        {
          "output_type": "execute_result",
          "data": {
            "text/plain": [
              "<tf.Tensor: shape=(3, 2), dtype=int32, numpy=\n",
              "array([[10,  7],\n",
              "       [ 3,  4],\n",
              "       [ 2,  3]], dtype=int32)>"
            ]
          },
          "metadata": {},
          "execution_count": 26
        }
      ]
    },
    {
      "cell_type": "markdown",
      "source": [
        "Other ways to create a tenosr -"
      ],
      "metadata": {
        "id": "GgCDag1WWei0"
      }
    },
    {
      "cell_type": "code",
      "source": [
        "# cretae tensor of all ones\n",
        "tf.ones([10,7])"
      ],
      "metadata": {
        "colab": {
          "base_uri": "https://localhost:8080/"
        },
        "id": "9kYSHtgAWNJ7",
        "outputId": "458fdc60-6519-4227-ba8e-a6492c0c3447"
      },
      "execution_count": 28,
      "outputs": [
        {
          "output_type": "execute_result",
          "data": {
            "text/plain": [
              "<tf.Tensor: shape=(10, 7), dtype=float32, numpy=\n",
              "array([[1., 1., 1., 1., 1., 1., 1.],\n",
              "       [1., 1., 1., 1., 1., 1., 1.],\n",
              "       [1., 1., 1., 1., 1., 1., 1.],\n",
              "       [1., 1., 1., 1., 1., 1., 1.],\n",
              "       [1., 1., 1., 1., 1., 1., 1.],\n",
              "       [1., 1., 1., 1., 1., 1., 1.],\n",
              "       [1., 1., 1., 1., 1., 1., 1.],\n",
              "       [1., 1., 1., 1., 1., 1., 1.],\n",
              "       [1., 1., 1., 1., 1., 1., 1.],\n",
              "       [1., 1., 1., 1., 1., 1., 1.]], dtype=float32)>"
            ]
          },
          "metadata": {},
          "execution_count": 28
        }
      ]
    },
    {
      "cell_type": "code",
      "source": [
        "#create a tensor of all zeros -\n",
        "tf.zeros(shape=(3,4))"
      ],
      "metadata": {
        "colab": {
          "base_uri": "https://localhost:8080/"
        },
        "id": "F0ptoydIWuCD",
        "outputId": "6705ae08-290a-4592-8594-a9c75899a4bc"
      },
      "execution_count": 29,
      "outputs": [
        {
          "output_type": "execute_result",
          "data": {
            "text/plain": [
              "<tf.Tensor: shape=(3, 4), dtype=float32, numpy=\n",
              "array([[0., 0., 0., 0.],\n",
              "       [0., 0., 0., 0.],\n",
              "       [0., 0., 0., 0.]], dtype=float32)>"
            ]
          },
          "metadata": {},
          "execution_count": 29
        }
      ]
    },
    {
      "cell_type": "markdown",
      "source": [
        "### Turn Numpy arrays into tensor:\n",
        "* the main difference between numpy arrays and TensorFlow tensors is taht tensors can be run on GPU for much faster computing."
      ],
      "metadata": {
        "id": "oriUovRXXLlV"
      }
    },
    {
      "cell_type": "code",
      "source": [
        "import numpy as np\n",
        "numpy_A = np.arange(1,25, dtype = np.int32)\n",
        "numpy_A"
      ],
      "metadata": {
        "colab": {
          "base_uri": "https://localhost:8080/"
        },
        "id": "xTnj1AccXLNn",
        "outputId": "1e8c76cb-4b51-4191-b945-ac601a36180d"
      },
      "execution_count": 30,
      "outputs": [
        {
          "output_type": "execute_result",
          "data": {
            "text/plain": [
              "array([ 1,  2,  3,  4,  5,  6,  7,  8,  9, 10, 11, 12, 13, 14, 15, 16, 17,\n",
              "       18, 19, 20, 21, 22, 23, 24], dtype=int32)"
            ]
          },
          "metadata": {},
          "execution_count": 30
        }
      ]
    },
    {
      "cell_type": "code",
      "source": [
        "A = tf.constant(numpy_A)\n",
        "A"
      ],
      "metadata": {
        "colab": {
          "base_uri": "https://localhost:8080/"
        },
        "id": "W7mVFMECXCTi",
        "outputId": "713cd5a0-b293-4a7b-cc09-b3dc3dfec620"
      },
      "execution_count": 31,
      "outputs": [
        {
          "output_type": "execute_result",
          "data": {
            "text/plain": [
              "<tf.Tensor: shape=(24,), dtype=int32, numpy=\n",
              "array([ 1,  2,  3,  4,  5,  6,  7,  8,  9, 10, 11, 12, 13, 14, 15, 16, 17,\n",
              "       18, 19, 20, 21, 22, 23, 24], dtype=int32)>"
            ]
          },
          "metadata": {},
          "execution_count": 31
        }
      ]
    },
    {
      "cell_type": "code",
      "source": [
        "B = tf.constant(numpy_A, shape = (2,3,4))\n",
        "B"
      ],
      "metadata": {
        "colab": {
          "base_uri": "https://localhost:8080/"
        },
        "id": "KsKb1PQVaH-e",
        "outputId": "1e8edfa2-5f4e-44c5-87f4-93fc60e00818"
      },
      "execution_count": 32,
      "outputs": [
        {
          "output_type": "execute_result",
          "data": {
            "text/plain": [
              "<tf.Tensor: shape=(2, 3, 4), dtype=int32, numpy=\n",
              "array([[[ 1,  2,  3,  4],\n",
              "        [ 5,  6,  7,  8],\n",
              "        [ 9, 10, 11, 12]],\n",
              "\n",
              "       [[13, 14, 15, 16],\n",
              "        [17, 18, 19, 20],\n",
              "        [21, 22, 23, 24]]], dtype=int32)>"
            ]
          },
          "metadata": {},
          "execution_count": 32
        }
      ]
    },
    {
      "cell_type": "markdown",
      "source": [
        "## Tensor Attributes --\n",
        "* Shape - The length or number of elements of each of the dimensions of a tensor.\n",
        "* Rank - The number of tensor dimensions. A scalar has rank 0, a vector has rank 1, a matrix has rank 2, a tensor has rank n.\n",
        "* Axis or Dimension - A particular dimension of a tensor.\n",
        "* Size - The total number of items in the tensor."
      ],
      "metadata": {
        "id": "nIkX1qc2aYrQ"
      }
    },
    {
      "cell_type": "code",
      "source": [
        "rank_5_tensor = tf.zeros(shape = [2,3,4,5,6])\n",
        "rank_5_tensor"
      ],
      "metadata": {
        "colab": {
          "base_uri": "https://localhost:8080/"
        },
        "id": "NKYq7YsNaTVo",
        "outputId": "11b52b9a-888b-403b-d9e6-5d21f4cc70a9"
      },
      "execution_count": 33,
      "outputs": [
        {
          "output_type": "execute_result",
          "data": {
            "text/plain": [
              "<tf.Tensor: shape=(2, 3, 4, 5, 6), dtype=float32, numpy=\n",
              "array([[[[[0., 0., 0., 0., 0., 0.],\n",
              "          [0., 0., 0., 0., 0., 0.],\n",
              "          [0., 0., 0., 0., 0., 0.],\n",
              "          [0., 0., 0., 0., 0., 0.],\n",
              "          [0., 0., 0., 0., 0., 0.]],\n",
              "\n",
              "         [[0., 0., 0., 0., 0., 0.],\n",
              "          [0., 0., 0., 0., 0., 0.],\n",
              "          [0., 0., 0., 0., 0., 0.],\n",
              "          [0., 0., 0., 0., 0., 0.],\n",
              "          [0., 0., 0., 0., 0., 0.]],\n",
              "\n",
              "         [[0., 0., 0., 0., 0., 0.],\n",
              "          [0., 0., 0., 0., 0., 0.],\n",
              "          [0., 0., 0., 0., 0., 0.],\n",
              "          [0., 0., 0., 0., 0., 0.],\n",
              "          [0., 0., 0., 0., 0., 0.]],\n",
              "\n",
              "         [[0., 0., 0., 0., 0., 0.],\n",
              "          [0., 0., 0., 0., 0., 0.],\n",
              "          [0., 0., 0., 0., 0., 0.],\n",
              "          [0., 0., 0., 0., 0., 0.],\n",
              "          [0., 0., 0., 0., 0., 0.]]],\n",
              "\n",
              "\n",
              "        [[[0., 0., 0., 0., 0., 0.],\n",
              "          [0., 0., 0., 0., 0., 0.],\n",
              "          [0., 0., 0., 0., 0., 0.],\n",
              "          [0., 0., 0., 0., 0., 0.],\n",
              "          [0., 0., 0., 0., 0., 0.]],\n",
              "\n",
              "         [[0., 0., 0., 0., 0., 0.],\n",
              "          [0., 0., 0., 0., 0., 0.],\n",
              "          [0., 0., 0., 0., 0., 0.],\n",
              "          [0., 0., 0., 0., 0., 0.],\n",
              "          [0., 0., 0., 0., 0., 0.]],\n",
              "\n",
              "         [[0., 0., 0., 0., 0., 0.],\n",
              "          [0., 0., 0., 0., 0., 0.],\n",
              "          [0., 0., 0., 0., 0., 0.],\n",
              "          [0., 0., 0., 0., 0., 0.],\n",
              "          [0., 0., 0., 0., 0., 0.]],\n",
              "\n",
              "         [[0., 0., 0., 0., 0., 0.],\n",
              "          [0., 0., 0., 0., 0., 0.],\n",
              "          [0., 0., 0., 0., 0., 0.],\n",
              "          [0., 0., 0., 0., 0., 0.],\n",
              "          [0., 0., 0., 0., 0., 0.]]],\n",
              "\n",
              "\n",
              "        [[[0., 0., 0., 0., 0., 0.],\n",
              "          [0., 0., 0., 0., 0., 0.],\n",
              "          [0., 0., 0., 0., 0., 0.],\n",
              "          [0., 0., 0., 0., 0., 0.],\n",
              "          [0., 0., 0., 0., 0., 0.]],\n",
              "\n",
              "         [[0., 0., 0., 0., 0., 0.],\n",
              "          [0., 0., 0., 0., 0., 0.],\n",
              "          [0., 0., 0., 0., 0., 0.],\n",
              "          [0., 0., 0., 0., 0., 0.],\n",
              "          [0., 0., 0., 0., 0., 0.]],\n",
              "\n",
              "         [[0., 0., 0., 0., 0., 0.],\n",
              "          [0., 0., 0., 0., 0., 0.],\n",
              "          [0., 0., 0., 0., 0., 0.],\n",
              "          [0., 0., 0., 0., 0., 0.],\n",
              "          [0., 0., 0., 0., 0., 0.]],\n",
              "\n",
              "         [[0., 0., 0., 0., 0., 0.],\n",
              "          [0., 0., 0., 0., 0., 0.],\n",
              "          [0., 0., 0., 0., 0., 0.],\n",
              "          [0., 0., 0., 0., 0., 0.],\n",
              "          [0., 0., 0., 0., 0., 0.]]]],\n",
              "\n",
              "\n",
              "\n",
              "       [[[[0., 0., 0., 0., 0., 0.],\n",
              "          [0., 0., 0., 0., 0., 0.],\n",
              "          [0., 0., 0., 0., 0., 0.],\n",
              "          [0., 0., 0., 0., 0., 0.],\n",
              "          [0., 0., 0., 0., 0., 0.]],\n",
              "\n",
              "         [[0., 0., 0., 0., 0., 0.],\n",
              "          [0., 0., 0., 0., 0., 0.],\n",
              "          [0., 0., 0., 0., 0., 0.],\n",
              "          [0., 0., 0., 0., 0., 0.],\n",
              "          [0., 0., 0., 0., 0., 0.]],\n",
              "\n",
              "         [[0., 0., 0., 0., 0., 0.],\n",
              "          [0., 0., 0., 0., 0., 0.],\n",
              "          [0., 0., 0., 0., 0., 0.],\n",
              "          [0., 0., 0., 0., 0., 0.],\n",
              "          [0., 0., 0., 0., 0., 0.]],\n",
              "\n",
              "         [[0., 0., 0., 0., 0., 0.],\n",
              "          [0., 0., 0., 0., 0., 0.],\n",
              "          [0., 0., 0., 0., 0., 0.],\n",
              "          [0., 0., 0., 0., 0., 0.],\n",
              "          [0., 0., 0., 0., 0., 0.]]],\n",
              "\n",
              "\n",
              "        [[[0., 0., 0., 0., 0., 0.],\n",
              "          [0., 0., 0., 0., 0., 0.],\n",
              "          [0., 0., 0., 0., 0., 0.],\n",
              "          [0., 0., 0., 0., 0., 0.],\n",
              "          [0., 0., 0., 0., 0., 0.]],\n",
              "\n",
              "         [[0., 0., 0., 0., 0., 0.],\n",
              "          [0., 0., 0., 0., 0., 0.],\n",
              "          [0., 0., 0., 0., 0., 0.],\n",
              "          [0., 0., 0., 0., 0., 0.],\n",
              "          [0., 0., 0., 0., 0., 0.]],\n",
              "\n",
              "         [[0., 0., 0., 0., 0., 0.],\n",
              "          [0., 0., 0., 0., 0., 0.],\n",
              "          [0., 0., 0., 0., 0., 0.],\n",
              "          [0., 0., 0., 0., 0., 0.],\n",
              "          [0., 0., 0., 0., 0., 0.]],\n",
              "\n",
              "         [[0., 0., 0., 0., 0., 0.],\n",
              "          [0., 0., 0., 0., 0., 0.],\n",
              "          [0., 0., 0., 0., 0., 0.],\n",
              "          [0., 0., 0., 0., 0., 0.],\n",
              "          [0., 0., 0., 0., 0., 0.]]],\n",
              "\n",
              "\n",
              "        [[[0., 0., 0., 0., 0., 0.],\n",
              "          [0., 0., 0., 0., 0., 0.],\n",
              "          [0., 0., 0., 0., 0., 0.],\n",
              "          [0., 0., 0., 0., 0., 0.],\n",
              "          [0., 0., 0., 0., 0., 0.]],\n",
              "\n",
              "         [[0., 0., 0., 0., 0., 0.],\n",
              "          [0., 0., 0., 0., 0., 0.],\n",
              "          [0., 0., 0., 0., 0., 0.],\n",
              "          [0., 0., 0., 0., 0., 0.],\n",
              "          [0., 0., 0., 0., 0., 0.]],\n",
              "\n",
              "         [[0., 0., 0., 0., 0., 0.],\n",
              "          [0., 0., 0., 0., 0., 0.],\n",
              "          [0., 0., 0., 0., 0., 0.],\n",
              "          [0., 0., 0., 0., 0., 0.],\n",
              "          [0., 0., 0., 0., 0., 0.]],\n",
              "\n",
              "         [[0., 0., 0., 0., 0., 0.],\n",
              "          [0., 0., 0., 0., 0., 0.],\n",
              "          [0., 0., 0., 0., 0., 0.],\n",
              "          [0., 0., 0., 0., 0., 0.],\n",
              "          [0., 0., 0., 0., 0., 0.]]]]], dtype=float32)>"
            ]
          },
          "metadata": {},
          "execution_count": 33
        }
      ]
    },
    {
      "cell_type": "code",
      "source": [
        "rank_5_tensor[0]"
      ],
      "metadata": {
        "colab": {
          "base_uri": "https://localhost:8080/"
        },
        "id": "JAE_fL5peaqv",
        "outputId": "6fa26984-822e-4b84-95ca-289300285603"
      },
      "execution_count": 34,
      "outputs": [
        {
          "output_type": "execute_result",
          "data": {
            "text/plain": [
              "<tf.Tensor: shape=(3, 4, 5, 6), dtype=float32, numpy=\n",
              "array([[[[0., 0., 0., 0., 0., 0.],\n",
              "         [0., 0., 0., 0., 0., 0.],\n",
              "         [0., 0., 0., 0., 0., 0.],\n",
              "         [0., 0., 0., 0., 0., 0.],\n",
              "         [0., 0., 0., 0., 0., 0.]],\n",
              "\n",
              "        [[0., 0., 0., 0., 0., 0.],\n",
              "         [0., 0., 0., 0., 0., 0.],\n",
              "         [0., 0., 0., 0., 0., 0.],\n",
              "         [0., 0., 0., 0., 0., 0.],\n",
              "         [0., 0., 0., 0., 0., 0.]],\n",
              "\n",
              "        [[0., 0., 0., 0., 0., 0.],\n",
              "         [0., 0., 0., 0., 0., 0.],\n",
              "         [0., 0., 0., 0., 0., 0.],\n",
              "         [0., 0., 0., 0., 0., 0.],\n",
              "         [0., 0., 0., 0., 0., 0.]],\n",
              "\n",
              "        [[0., 0., 0., 0., 0., 0.],\n",
              "         [0., 0., 0., 0., 0., 0.],\n",
              "         [0., 0., 0., 0., 0., 0.],\n",
              "         [0., 0., 0., 0., 0., 0.],\n",
              "         [0., 0., 0., 0., 0., 0.]]],\n",
              "\n",
              "\n",
              "       [[[0., 0., 0., 0., 0., 0.],\n",
              "         [0., 0., 0., 0., 0., 0.],\n",
              "         [0., 0., 0., 0., 0., 0.],\n",
              "         [0., 0., 0., 0., 0., 0.],\n",
              "         [0., 0., 0., 0., 0., 0.]],\n",
              "\n",
              "        [[0., 0., 0., 0., 0., 0.],\n",
              "         [0., 0., 0., 0., 0., 0.],\n",
              "         [0., 0., 0., 0., 0., 0.],\n",
              "         [0., 0., 0., 0., 0., 0.],\n",
              "         [0., 0., 0., 0., 0., 0.]],\n",
              "\n",
              "        [[0., 0., 0., 0., 0., 0.],\n",
              "         [0., 0., 0., 0., 0., 0.],\n",
              "         [0., 0., 0., 0., 0., 0.],\n",
              "         [0., 0., 0., 0., 0., 0.],\n",
              "         [0., 0., 0., 0., 0., 0.]],\n",
              "\n",
              "        [[0., 0., 0., 0., 0., 0.],\n",
              "         [0., 0., 0., 0., 0., 0.],\n",
              "         [0., 0., 0., 0., 0., 0.],\n",
              "         [0., 0., 0., 0., 0., 0.],\n",
              "         [0., 0., 0., 0., 0., 0.]]],\n",
              "\n",
              "\n",
              "       [[[0., 0., 0., 0., 0., 0.],\n",
              "         [0., 0., 0., 0., 0., 0.],\n",
              "         [0., 0., 0., 0., 0., 0.],\n",
              "         [0., 0., 0., 0., 0., 0.],\n",
              "         [0., 0., 0., 0., 0., 0.]],\n",
              "\n",
              "        [[0., 0., 0., 0., 0., 0.],\n",
              "         [0., 0., 0., 0., 0., 0.],\n",
              "         [0., 0., 0., 0., 0., 0.],\n",
              "         [0., 0., 0., 0., 0., 0.],\n",
              "         [0., 0., 0., 0., 0., 0.]],\n",
              "\n",
              "        [[0., 0., 0., 0., 0., 0.],\n",
              "         [0., 0., 0., 0., 0., 0.],\n",
              "         [0., 0., 0., 0., 0., 0.],\n",
              "         [0., 0., 0., 0., 0., 0.],\n",
              "         [0., 0., 0., 0., 0., 0.]],\n",
              "\n",
              "        [[0., 0., 0., 0., 0., 0.],\n",
              "         [0., 0., 0., 0., 0., 0.],\n",
              "         [0., 0., 0., 0., 0., 0.],\n",
              "         [0., 0., 0., 0., 0., 0.],\n",
              "         [0., 0., 0., 0., 0., 0.]]]], dtype=float32)>"
            ]
          },
          "metadata": {},
          "execution_count": 34
        }
      ]
    },
    {
      "cell_type": "code",
      "source": [
        "rank_5_tensor.shape, rank_5_tensor.ndim, tf.size(rank_5_tensor)"
      ],
      "metadata": {
        "colab": {
          "base_uri": "https://localhost:8080/"
        },
        "id": "Ko8eMPE_eitj",
        "outputId": "a27466b7-8788-4746-cd04-5a3486efed7c"
      },
      "execution_count": 35,
      "outputs": [
        {
          "output_type": "execute_result",
          "data": {
            "text/plain": [
              "(TensorShape([2, 3, 4, 5, 6]),\n",
              " 5,\n",
              " <tf.Tensor: shape=(), dtype=int32, numpy=720>)"
            ]
          },
          "metadata": {},
          "execution_count": 35
        }
      ]
    },
    {
      "cell_type": "code",
      "source": [
        "# Get various attributes of our tensor -\n",
        "print(\"Datatype of every Element:\", rank_5_tensor.dtype)\n",
        "print(\"Number of dimensions (rank):\", rank_5_tensor.ndim)\n",
        "print(\"Shape of tenosr:\", rank_5_tensor.shape)\n",
        "print(\"Elements along the 0 axis:\", rank_5_tensor.shape[0])\n",
        "print(\"Elements along the last axis:\", rank_5_tensor.shape[-1])\n",
        "print(\"Total number of elements in our tensor:\", tf.size(rank_5_tensor).numpy())"
      ],
      "metadata": {
        "colab": {
          "base_uri": "https://localhost:8080/"
        },
        "id": "G0sVgn_7ey5U",
        "outputId": "606c7bb1-100b-4bd3-de89-07f41047cfa7"
      },
      "execution_count": 36,
      "outputs": [
        {
          "output_type": "stream",
          "name": "stdout",
          "text": [
            "Datatype of every Element: <dtype: 'float32'>\n",
            "Number of dimensions (rank): 5\n",
            "Shape of tenosr: (2, 3, 4, 5, 6)\n",
            "Elements along the 0 axis: 2\n",
            "Elements along the last axis: 6\n",
            "Total number of elements in our tensor: 720\n"
          ]
        }
      ]
    },
    {
      "cell_type": "code",
      "source": [],
      "metadata": {
        "id": "qHBBjhatgBI1"
      },
      "execution_count": null,
      "outputs": []
    }
  ]
}