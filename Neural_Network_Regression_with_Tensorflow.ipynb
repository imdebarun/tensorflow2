{
  "nbformat": 4,
  "nbformat_minor": 0,
  "metadata": {
    "colab": {
      "provenance": [],
      "authorship_tag": "ABX9TyMo+0HoBzICja6AbakFgCwe",
      "include_colab_link": true
    },
    "kernelspec": {
      "name": "python3",
      "display_name": "Python 3"
    },
    "language_info": {
      "name": "python"
    }
  },
  "cells": [
    {
      "cell_type": "markdown",
      "metadata": {
        "id": "view-in-github",
        "colab_type": "text"
      },
      "source": [
        "<a href=\"https://colab.research.google.com/github/imdebarun/tensorflow2/blob/main/Neural_Network_Regression_with_Tensorflow.ipynb\" target=\"_parent\"><img src=\"https://colab.research.google.com/assets/colab-badge.svg\" alt=\"Open In Colab\"/></a>"
      ]
    },
    {
      "cell_type": "markdown",
      "source": [
        "# Introduction to Regression with Neural Network in Tensorflow :\n",
        "There are many definitions for a regression problem but in our case, we are going to simplify it: predicting a numerical variable based on some other comination of variables, even shorter...predicting a number."
      ],
      "metadata": {
        "id": "yg0RhoNIBI1g"
      }
    },
    {
      "cell_type": "markdown",
      "source": [
        "### Hyperparameter & Typical value :\n",
        "* Input layer shape - Same shape as number of input features\n",
        "* Hidden layer(s) - Problem specific, minimum = 1, maximum = unlimited\n",
        "* Neurons per hidden layer - Problem specific generally 10 to 100\n",
        "* Output layer shape - Same shape as desired prediction shape\n",
        "* Hidden Activation - Usually ReLU (rectified linear unit)\n",
        "* Output Activation - None, ReLU, logistic/tanh\n",
        "* Loss function - MSE (mean squared error) or MAE (mean absolute error) / Huber (combination of MAE/MSE) if outliers\n",
        "* Optimizer - SGD (Stochastic gradient descent), ADAM"
      ],
      "metadata": {
        "id": "ThDweAhjzL9J"
      }
    },
    {
      "cell_type": "code",
      "source": [
        "# Import Tensorflow\n",
        "import tensorflow as tf\n",
        "print(tf.__version__)"
      ],
      "metadata": {
        "colab": {
          "base_uri": "https://localhost:8080/"
        },
        "id": "HvYmEi9m_5Yo",
        "outputId": "bb8b16ff-7f94-46c9-9341-e8a9ded78097"
      },
      "execution_count": 1,
      "outputs": [
        {
          "output_type": "stream",
          "name": "stdout",
          "text": [
            "2.15.0\n"
          ]
        }
      ]
    },
    {
      "cell_type": "markdown",
      "source": [
        "### Creating some data to view and fit -"
      ],
      "metadata": {
        "id": "6RWv8pW7B5Y7"
      }
    },
    {
      "cell_type": "code",
      "source": [
        "import numpy as np\n",
        "import matplotlib.pyplot as plt\n",
        "\n",
        "# Create features -\n",
        "X = np.array([-7.0, -4.0, -1.0, 2.0, 5.0, 8.0, 11.0, 14.0])\n",
        "\n",
        "# Create labels -\n",
        "y = np.array([3.0, 6.0, 9.0, 12.0, 15.0, 18.0, 21.0, 24.0])\n",
        "\n",
        "# Visualize it -\n",
        "plt.scatter(X,y)"
      ],
      "metadata": {
        "colab": {
          "base_uri": "https://localhost:8080/",
          "height": 452
        },
        "id": "4r8J6NXZCFaU",
        "outputId": "436fe48e-81cf-484a-9353-1d7c0206dcec"
      },
      "execution_count": 2,
      "outputs": [
        {
          "output_type": "execute_result",
          "data": {
            "text/plain": [
              "<matplotlib.collections.PathCollection at 0x78e7efb6df60>"
            ]
          },
          "metadata": {},
          "execution_count": 2
        },
        {
          "output_type": "display_data",
          "data": {
            "text/plain": [
              "<Figure size 640x480 with 1 Axes>"
            ],
            "image/png": "[encoded data removed]"
          },
          "metadata": {}
        }
      ]
    },
    {
      "cell_type": "code",
      "source": [
        "y == X + 10"
      ],
      "metadata": {
        "colab": {
          "base_uri": "https://localhost:8080/"
        },
        "id": "2-QG0XsRCyaS",
        "outputId": "62da201a-f593-4395-e4a0-cf9cf5261f10"
      },
      "execution_count": 3,
      "outputs": [
        {
          "output_type": "execute_result",
          "data": {
            "text/plain": [
              "array([ True,  True,  True,  True,  True,  True,  True,  True])"
            ]
          },
          "metadata": {},
          "execution_count": 3
        }
      ]
    },
    {
      "cell_type": "markdown",
      "source": [
        "### Input and Output shapes -"
      ],
      "metadata": {
        "id": "dObx5RslDQpE"
      }
    },
    {
      "cell_type": "code",
      "source": [
        "# Create a demo tensor for our housing price prediction problem\n",
        "house_info = tf.constant([\"bedroom\", \"bathroom\", \"garage\"])\n",
        "house_price = tf.constant([937900])\n",
        "house_info, house_price"
      ],
      "metadata": {
        "colab": {
          "base_uri": "https://localhost:8080/"
        },
        "id": "S_HJZdRtDXlK",
        "outputId": "6ec0e76c-9589-4c29-b3a3-ba0658b02baa"
      },
      "execution_count": 4,
      "outputs": [
        {
          "output_type": "execute_result",
          "data": {
            "text/plain": [
              "(<tf.Tensor: shape=(3,), dtype=string, numpy=array([b'bedroom', b'bathroom', b'garage'], dtype=object)>,\n",
              " <tf.Tensor: shape=(1,), dtype=int32, numpy=array([937900], dtype=int32)>)"
            ]
          },
          "metadata": {},
          "execution_count": 4
        }
      ]
    },
    {
      "cell_type": "code",
      "source": [
        "# Turn our numpy arrays into tensors with dtype as float 32.\n",
        "X = tf.cast(tf.constant(X), dtype= tf.float32)\n",
        "y = tf.cast(tf.constant(y), dtype = tf.float32)\n",
        "X,y"
      ],
      "metadata": {
        "colab": {
          "base_uri": "https://localhost:8080/"
        },
        "id": "b3l13f5TDXh1",
        "outputId": "1db1c4f1-e569-4387-e7dc-86caba34eff6"
      },
      "execution_count": 5,
      "outputs": [
        {
          "output_type": "execute_result",
          "data": {
            "text/plain": [
              "(<tf.Tensor: shape=(8,), dtype=float32, numpy=array([-7., -4., -1.,  2.,  5.,  8., 11., 14.], dtype=float32)>,\n",
              " <tf.Tensor: shape=(8,), dtype=float32, numpy=array([ 3.,  6.,  9., 12., 15., 18., 21., 24.], dtype=float32)>)"
            ]
          },
          "metadata": {},
          "execution_count": 5
        }
      ]
    },
    {
      "cell_type": "code",
      "source": [
        "input_shape = X[0].shape\n",
        "output_shape = y[0].shape\n",
        "input_shape, output_shape"
      ],
      "metadata": {
        "colab": {
          "base_uri": "https://localhost:8080/"
        },
        "id": "qC-RbId7DXfH",
        "outputId": "fa4a873f-8ee2-4dc2-e48f-43adc91f2bed"
      },
      "execution_count": 6,
      "outputs": [
        {
          "output_type": "execute_result",
          "data": {
            "text/plain": [
              "(TensorShape([]), TensorShape([]))"
            ]
          },
          "metadata": {},
          "execution_count": 6
        }
      ]
    },
    {
      "cell_type": "markdown",
      "source": [
        "### Steps in modelling with Tensorflow -\n",
        "- **Creating a model** - define the input and output layers, as well as the layers of a deeplearning model.\n",
        "- **Compililng a model** - define the loss function (in other words, the function which tells our model how wrong it is) and the optimizer (tells our model how to improve the patterns its learning) and evaluation metrics (what we can use to interpret the performance of our model)\n",
        "- **Fitting the model** - letting the model try to find patterns between X and y (features and labels)"
      ],
      "metadata": {
        "id": "HGDKSgFRTUHd"
      }
    },
    {
      "cell_type": "code",
      "source": [
        "# Add one extra dimension to the input value to become compataible with the model.\n",
        "X = tf.reshape(X, (-1, 1))"
      ],
      "metadata": {
        "id": "eOy39MbuwljG"
      },
      "execution_count": 7,
      "outputs": []
    },
    {
      "cell_type": "code",
      "source": [
        "# Set random seed\n",
        "tf.random.set_seed(42)\n",
        "\n",
        "# 1. Create a model using the Sequential API\n",
        "model = tf.keras.Sequential([\n",
        "    tf.keras.layers.Dense(1)\n",
        "])\n",
        "\n",
        "# 3. Compile the model\n",
        "model.compile(loss = tf.keras.losses.mae,\n",
        "              optimizer = tf.keras.optimizers.SGD(),\n",
        "              metrics = [\"mae\"]) # mae is short form of mean absolute error\n",
        "\n",
        "# 4. Fit the model\n",
        "model.fit(X, y, epochs = 5)"
      ],
      "metadata": {
        "colab": {
          "base_uri": "https://localhost:8080/"
        },
        "id": "n_NIeAGYUYxD",
        "outputId": "27c27c62-0f2d-4978-80e6-c61aa6498d3c"
      },
      "execution_count": 8,
      "outputs": [
        {
          "output_type": "stream",
          "name": "stdout",
          "text": [
            "Epoch 1/5\n",
            "1/1 [==============================] - 1s 603ms/step - loss: 13.1970 - mae: 13.1970\n",
            "Epoch 2/5\n",
            "1/1 [==============================] - 0s 17ms/step - loss: 13.0645 - mae: 13.0645\n",
            "Epoch 3/5\n",
            "1/1 [==============================] - 0s 11ms/step - loss: 12.9320 - mae: 12.9320\n",
            "Epoch 4/5\n",
            "1/1 [==============================] - 0s 18ms/step - loss: 12.7995 - mae: 12.7995\n",
            "Epoch 5/5\n",
            "1/1 [==============================] - 0s 15ms/step - loss: 12.6670 - mae: 12.6670\n"
          ]
        },
        {
          "output_type": "execute_result",
          "data": {
            "text/plain": [
              "<keras.src.callbacks.History at 0x78e7ec1dec20>"
            ]
          },
          "metadata": {},
          "execution_count": 8
        }
      ]
    },
    {
      "cell_type": "code",
      "source": [
        "# # Optional methodology -\n",
        "# model = tf.keras.Sequential()\n",
        "# model.add(tf.keras.layers.Dense(1))"
      ],
      "metadata": {
        "id": "DBwbgUQtUYtw"
      },
      "execution_count": 9,
      "outputs": []
    },
    {
      "cell_type": "code",
      "source": [
        "# Check out X and y\n",
        "X, y"
      ],
      "metadata": {
        "colab": {
          "base_uri": "https://localhost:8080/"
        },
        "id": "nIafJvUZxet7",
        "outputId": "9158fc40-f159-4db7-fe89-07fffe0aba3d"
      },
      "execution_count": 10,
      "outputs": [
        {
          "output_type": "execute_result",
          "data": {
            "text/plain": [
              "(<tf.Tensor: shape=(8, 1), dtype=float32, numpy=\n",
              " array([[-7.],\n",
              "        [-4.],\n",
              "        [-1.],\n",
              "        [ 2.],\n",
              "        [ 5.],\n",
              "        [ 8.],\n",
              "        [11.],\n",
              "        [14.]], dtype=float32)>,\n",
              " <tf.Tensor: shape=(8,), dtype=float32, numpy=array([ 3.,  6.,  9., 12., 15., 18., 21., 24.], dtype=float32)>)"
            ]
          },
          "metadata": {},
          "execution_count": 10
        }
      ]
    },
    {
      "cell_type": "code",
      "source": [
        "# Try to make a prediction using our model:\n",
        "y_pred = model.predict([17.0])\n",
        "y_pred"
      ],
      "metadata": {
        "colab": {
          "base_uri": "https://localhost:8080/"
        },
        "id": "9TR_ddlwxex2",
        "outputId": "e3c9b00b-dce7-4bed-aa11-faec2012cb9b"
      },
      "execution_count": 11,
      "outputs": [
        {
          "output_type": "stream",
          "name": "stdout",
          "text": [
            "1/1 [==============================] - 0s 135ms/step\n"
          ]
        },
        {
          "output_type": "execute_result",
          "data": {
            "text/plain": [
              "array([[4.496792]], dtype=float32)"
            ]
          },
          "metadata": {},
          "execution_count": 11
        }
      ]
    },
    {
      "cell_type": "code",
      "source": [
        "y_pred + 11"
      ],
      "metadata": {
        "colab": {
          "base_uri": "https://localhost:8080/"
        },
        "id": "3BqjHv00xxdX",
        "outputId": "bfdccece-796b-4897-f793-ec864331a41a"
      },
      "execution_count": 12,
      "outputs": [
        {
          "output_type": "execute_result",
          "data": {
            "text/plain": [
              "array([[15.496792]], dtype=float32)"
            ]
          },
          "metadata": {},
          "execution_count": 12
        }
      ]
    },
    {
      "cell_type": "markdown",
      "source": [
        "### Steps in modelling with Tensorflow -\n",
        "1. Construct or import a pretrained model relevant to your problem.\n",
        "2. Compile the model (prepare it to be used with data)\n",
        "  * **Loss** - how wrong your model's predictions are compared to the truth labels (we need to minimise this).\n",
        "  * **Optimizer** - how your model should update its internal patterns to better its predictions.\n",
        "  * **Metrics** - human interpretable values for how well your model is doing.\n",
        "3. Fit the model to the training data so it can discover patterns\n",
        "  * **Epochs** - how many times the model will go through all of the training examples.\n",
        "4. Evaluate the model on the test data (how reliable are our model's predictions?)\n"
      ],
      "metadata": {
        "id": "WwHE5MjSyAKf"
      }
    },
    {
      "cell_type": "markdown",
      "source": [
        "## Improving our Model -\n",
        "we can improve our model by altering our steps we took to create a model.\n",
        "1. **Creating a Model** - here we might add more layers, increase the number of hidden units (all called neurons) within each of the hidden layers, change the activation function of each layer.\n",
        "2. **Compiling a model** - here we might change the optimization function or perhaps the **learning rate** of the optimization function.\n",
        "3.**Fitting a model** - here we might fit a model for more **epochs** (leave it training for longer ) or on more data (give the model more examples to learn from)."
      ],
      "metadata": {
        "id": "bVTtpT5Bz6fr"
      }
    },
    {
      "cell_type": "code",
      "source": [
        "# Let's rebuild our model\n",
        "\n",
        "#1. Create the model\n",
        "model = tf.keras.Sequential([\n",
        "    tf.keras.layers.Dense(1)\n",
        "])\n",
        "\n",
        "#2. Compile the model\n",
        "model.compile(loss = tf.keras.losses.mae,\n",
        "              optimizer = tf.keras.optimizers.SGD(),\n",
        "              metrics=[\"mae\"])\n",
        "\n",
        "#3. Fit the model\n",
        "model.fit(X, y, epochs=100)"
      ],
      "metadata": {
        "colab": {
          "base_uri": "https://localhost:8080/"
        },
        "id": "mz8pq8rq0OfH",
        "outputId": "f4f84f25-e8d9-4bae-a717-5328704bddc5"
      },
      "execution_count": 13,
      "outputs": [
        {
          "output_type": "stream",
          "name": "stdout",
          "text": [
            "Epoch 1/100\n",
            "1/1 [==============================] - 0s 439ms/step - loss: 11.9673 - mae: 11.9673\n",
            "Epoch 2/100\n",
            "1/1 [==============================] - 0s 12ms/step - loss: 11.8348 - mae: 11.8348\n",
            "Epoch 3/100\n",
            "1/1 [==============================] - 0s 16ms/step - loss: 11.7023 - mae: 11.7023\n",
            "Epoch 4/100\n",
            "1/1 [==============================] - 0s 13ms/step - loss: 11.5698 - mae: 11.5698\n",
            "Epoch 5/100\n",
            "1/1 [==============================] - 0s 19ms/step - loss: 11.4373 - mae: 11.4373\n",
            "Epoch 6/100\n",
            "1/1 [==============================] - 0s 14ms/step - loss: 11.3048 - mae: 11.3048\n",
            "Epoch 7/100\n",
            "1/1 [==============================] - 0s 15ms/step - loss: 11.1723 - mae: 11.1723\n",
            "Epoch 8/100\n",
            "1/1 [==============================] - 0s 18ms/step - loss: 11.0398 - mae: 11.0398\n",
            "Epoch 9/100\n",
            "1/1 [==============================] - 0s 10ms/step - loss: 10.9073 - mae: 10.9073\n",
            "Epoch 10/100\n",
            "1/1 [==============================] - 0s 31ms/step - loss: 10.7748 - mae: 10.7748\n",
            "Epoch 11/100\n",
            "1/1 [==============================] - 0s 10ms/step - loss: 10.6423 - mae: 10.6423\n",
            "Epoch 12/100\n",
            "1/1 [==============================] - 0s 15ms/step - loss: 10.5098 - mae: 10.5098\n",
            "Epoch 13/100\n",
            "1/1 [==============================] - 0s 14ms/step - loss: 10.3773 - mae: 10.3773\n",
            "Epoch 14/100\n",
            "1/1 [==============================] - 0s 15ms/step - loss: 10.2448 - mae: 10.2448\n",
            "Epoch 15/100\n",
            "1/1 [==============================] - 0s 12ms/step - loss: 10.1123 - mae: 10.1123\n",
            "Epoch 16/100\n",
            "1/1 [==============================] - 0s 9ms/step - loss: 9.9798 - mae: 9.9798\n",
            "Epoch 17/100\n",
            "1/1 [==============================] - 0s 10ms/step - loss: 9.8473 - mae: 9.8473\n",
            "Epoch 18/100\n",
            "1/1 [==============================] - 0s 11ms/step - loss: 9.7148 - mae: 9.7148\n",
            "Epoch 19/100\n",
            "1/1 [==============================] - 0s 10ms/step - loss: 9.5823 - mae: 9.5823\n",
            "Epoch 20/100\n",
            "1/1 [==============================] - 0s 10ms/step - loss: 9.4498 - mae: 9.4498\n",
            "Epoch 21/100\n",
            "1/1 [==============================] - 0s 10ms/step - loss: 9.3173 - mae: 9.3173\n",
            "Epoch 22/100\n",
            "1/1 [==============================] - 0s 12ms/step - loss: 9.1848 - mae: 9.1848\n",
            "Epoch 23/100\n",
            "1/1 [==============================] - 0s 11ms/step - loss: 9.0523 - mae: 9.0523\n",
            "Epoch 24/100\n",
            "1/1 [==============================] - 0s 11ms/step - loss: 8.9198 - mae: 8.9198\n",
            "Epoch 25/100\n",
            "1/1 [==============================] - 0s 10ms/step - loss: 8.7873 - mae: 8.7873\n",
            "Epoch 26/100\n",
            "1/1 [==============================] - 0s 10ms/step - loss: 8.6548 - mae: 8.6548\n",
            "Epoch 27/100\n",
            "1/1 [==============================] - 0s 10ms/step - loss: 8.5223 - mae: 8.5223\n",
            "Epoch 28/100\n",
            "1/1 [==============================] - 0s 10ms/step - loss: 8.3898 - mae: 8.3898\n",
            "Epoch 29/100\n",
            "1/1 [==============================] - 0s 10ms/step - loss: 8.2573 - mae: 8.2573\n",
            "Epoch 30/100\n",
            "1/1 [==============================] - 0s 12ms/step - loss: 8.1248 - mae: 8.1248\n",
            "Epoch 31/100\n",
            "1/1 [==============================] - 0s 13ms/step - loss: 7.9923 - mae: 7.9923\n",
            "Epoch 32/100\n",
            "1/1 [==============================] - 0s 11ms/step - loss: 7.8598 - mae: 7.8598\n",
            "Epoch 33/100\n",
            "1/1 [==============================] - 0s 11ms/step - loss: 7.7273 - mae: 7.7273\n",
            "Epoch 34/100\n",
            "1/1 [==============================] - 0s 11ms/step - loss: 7.5948 - mae: 7.5948\n",
            "Epoch 35/100\n",
            "1/1 [==============================] - 0s 13ms/step - loss: 7.4623 - mae: 7.4623\n",
            "Epoch 36/100\n",
            "1/1 [==============================] - 0s 10ms/step - loss: 7.3298 - mae: 7.3298\n",
            "Epoch 37/100\n",
            "1/1 [==============================] - 0s 10ms/step - loss: 7.2300 - mae: 7.2300\n",
            "Epoch 38/100\n",
            "1/1 [==============================] - 0s 10ms/step - loss: 7.2244 - mae: 7.2244\n",
            "Epoch 39/100\n",
            "1/1 [==============================] - 0s 10ms/step - loss: 7.2188 - mae: 7.2188\n",
            "Epoch 40/100\n",
            "1/1 [==============================] - 0s 10ms/step - loss: 7.2131 - mae: 7.2131\n",
            "Epoch 41/100\n",
            "1/1 [==============================] - 0s 10ms/step - loss: 7.2075 - mae: 7.2075\n",
            "Epoch 42/100\n",
            "1/1 [==============================] - 0s 14ms/step - loss: 7.2019 - mae: 7.2019\n",
            "Epoch 43/100\n",
            "1/1 [==============================] - 0s 11ms/step - loss: 7.1962 - mae: 7.1962\n",
            "Epoch 44/100\n",
            "1/1 [==============================] - 0s 10ms/step - loss: 7.1906 - mae: 7.1906\n",
            "Epoch 45/100\n",
            "1/1 [==============================] - 0s 11ms/step - loss: 7.1850 - mae: 7.1850\n",
            "Epoch 46/100\n",
            "1/1 [==============================] - 0s 9ms/step - loss: 7.1794 - mae: 7.1794\n",
            "Epoch 47/100\n",
            "1/1 [==============================] - 0s 11ms/step - loss: 7.1738 - mae: 7.1738\n",
            "Epoch 48/100\n",
            "1/1 [==============================] - 0s 10ms/step - loss: 7.1681 - mae: 7.1681\n",
            "Epoch 49/100\n",
            "1/1 [==============================] - 0s 13ms/step - loss: 7.1625 - mae: 7.1625\n",
            "Epoch 50/100\n",
            "1/1 [==============================] - 0s 10ms/step - loss: 7.1569 - mae: 7.1569\n",
            "Epoch 51/100\n",
            "1/1 [==============================] - 0s 11ms/step - loss: 7.1513 - mae: 7.1513\n",
            "Epoch 52/100\n",
            "1/1 [==============================] - 0s 12ms/step - loss: 7.1456 - mae: 7.1456\n",
            "Epoch 53/100\n",
            "1/1 [==============================] - 0s 19ms/step - loss: 7.1400 - mae: 7.1400\n",
            "Epoch 54/100\n",
            "1/1 [==============================] - 0s 16ms/step - loss: 7.1344 - mae: 7.1344\n",
            "Epoch 55/100\n",
            "1/1 [==============================] - 0s 10ms/step - loss: 7.1288 - mae: 7.1288\n",
            "Epoch 56/100\n",
            "1/1 [==============================] - 0s 16ms/step - loss: 7.1231 - mae: 7.1231\n",
            "Epoch 57/100\n",
            "1/1 [==============================] - 0s 15ms/step - loss: 7.1175 - mae: 7.1175\n",
            "Epoch 58/100\n",
            "1/1 [==============================] - 0s 10ms/step - loss: 7.1119 - mae: 7.1119\n",
            "Epoch 59/100\n",
            "1/1 [==============================] - 0s 10ms/step - loss: 7.1063 - mae: 7.1063\n",
            "Epoch 60/100\n",
            "1/1 [==============================] - 0s 10ms/step - loss: 7.1006 - mae: 7.1006\n",
            "Epoch 61/100\n",
            "1/1 [==============================] - 0s 10ms/step - loss: 7.0950 - mae: 7.0950\n",
            "Epoch 62/100\n",
            "1/1 [==============================] - 0s 10ms/step - loss: 7.0894 - mae: 7.0894\n",
            "Epoch 63/100\n",
            "1/1 [==============================] - 0s 12ms/step - loss: 7.0838 - mae: 7.0838\n",
            "Epoch 64/100\n",
            "1/1 [==============================] - 0s 11ms/step - loss: 7.0781 - mae: 7.0781\n",
            "Epoch 65/100\n",
            "1/1 [==============================] - 0s 11ms/step - loss: 7.0725 - mae: 7.0725\n",
            "Epoch 66/100\n",
            "1/1 [==============================] - 0s 10ms/step - loss: 7.0669 - mae: 7.0669\n",
            "Epoch 67/100\n",
            "1/1 [==============================] - 0s 10ms/step - loss: 7.0613 - mae: 7.0613\n",
            "Epoch 68/100\n",
            "1/1 [==============================] - 0s 10ms/step - loss: 7.0556 - mae: 7.0556\n",
            "Epoch 69/100\n",
            "1/1 [==============================] - 0s 12ms/step - loss: 7.0500 - mae: 7.0500\n",
            "Epoch 70/100\n",
            "1/1 [==============================] - 0s 12ms/step - loss: 7.0444 - mae: 7.0444\n",
            "Epoch 71/100\n",
            "1/1 [==============================] - 0s 15ms/step - loss: 7.0388 - mae: 7.0388\n",
            "Epoch 72/100\n",
            "1/1 [==============================] - 0s 15ms/step - loss: 7.0331 - mae: 7.0331\n",
            "Epoch 73/100\n",
            "1/1 [==============================] - 0s 10ms/step - loss: 7.0275 - mae: 7.0275\n",
            "Epoch 74/100\n",
            "1/1 [==============================] - 0s 10ms/step - loss: 7.0219 - mae: 7.0219\n",
            "Epoch 75/100\n",
            "1/1 [==============================] - 0s 14ms/step - loss: 7.0163 - mae: 7.0163\n",
            "Epoch 76/100\n",
            "1/1 [==============================] - 0s 9ms/step - loss: 7.0106 - mae: 7.0106\n",
            "Epoch 77/100\n",
            "1/1 [==============================] - 0s 9ms/step - loss: 7.0050 - mae: 7.0050\n",
            "Epoch 78/100\n",
            "1/1 [==============================] - 0s 9ms/step - loss: 6.9994 - mae: 6.9994\n",
            "Epoch 79/100\n",
            "1/1 [==============================] - 0s 11ms/step - loss: 6.9938 - mae: 6.9938\n",
            "Epoch 80/100\n",
            "1/1 [==============================] - 0s 9ms/step - loss: 6.9881 - mae: 6.9881\n",
            "Epoch 81/100\n",
            "1/1 [==============================] - 0s 10ms/step - loss: 6.9825 - mae: 6.9825\n",
            "Epoch 82/100\n",
            "1/1 [==============================] - 0s 9ms/step - loss: 6.9769 - mae: 6.9769\n",
            "Epoch 83/100\n",
            "1/1 [==============================] - 0s 9ms/step - loss: 6.9713 - mae: 6.9713\n",
            "Epoch 84/100\n",
            "1/1 [==============================] - 0s 10ms/step - loss: 6.9656 - mae: 6.9656\n",
            "Epoch 85/100\n",
            "1/1 [==============================] - 0s 12ms/step - loss: 6.9600 - mae: 6.9600\n",
            "Epoch 86/100\n",
            "1/1 [==============================] - 0s 13ms/step - loss: 6.9544 - mae: 6.9544\n",
            "Epoch 87/100\n",
            "1/1 [==============================] - 0s 13ms/step - loss: 6.9488 - mae: 6.9488\n",
            "Epoch 88/100\n",
            "1/1 [==============================] - 0s 12ms/step - loss: 6.9431 - mae: 6.9431\n",
            "Epoch 89/100\n",
            "1/1 [==============================] - 0s 13ms/step - loss: 6.9375 - mae: 6.9375\n",
            "Epoch 90/100\n",
            "1/1 [==============================] - 0s 12ms/step - loss: 6.9319 - mae: 6.9319\n",
            "Epoch 91/100\n",
            "1/1 [==============================] - 0s 13ms/step - loss: 6.9263 - mae: 6.9263\n",
            "Epoch 92/100\n",
            "1/1 [==============================] - 0s 11ms/step - loss: 6.9206 - mae: 6.9206\n",
            "Epoch 93/100\n",
            "1/1 [==============================] - 0s 12ms/step - loss: 6.9150 - mae: 6.9150\n",
            "Epoch 94/100\n",
            "1/1 [==============================] - 0s 12ms/step - loss: 6.9094 - mae: 6.9094\n",
            "Epoch 95/100\n",
            "1/1 [==============================] - 0s 12ms/step - loss: 6.9038 - mae: 6.9038\n",
            "Epoch 96/100\n",
            "1/1 [==============================] - 0s 11ms/step - loss: 6.8981 - mae: 6.8981\n",
            "Epoch 97/100\n",
            "1/1 [==============================] - 0s 15ms/step - loss: 6.8925 - mae: 6.8925\n",
            "Epoch 98/100\n",
            "1/1 [==============================] - 0s 10ms/step - loss: 6.8869 - mae: 6.8869\n",
            "Epoch 99/100\n",
            "1/1 [==============================] - 0s 10ms/step - loss: 6.8813 - mae: 6.8813\n",
            "Epoch 100/100\n",
            "1/1 [==============================] - 0s 9ms/step - loss: 6.8756 - mae: 6.8756\n"
          ]
        },
        {
          "output_type": "execute_result",
          "data": {
            "text/plain": [
              "<keras.src.callbacks.History at 0x78e7e6f052a0>"
            ]
          },
          "metadata": {},
          "execution_count": 13
        }
      ]
    },
    {
      "cell_type": "code",
      "source": [
        "# Remind ourselves of the data\n",
        "X, y"
      ],
      "metadata": {
        "colab": {
          "base_uri": "https://localhost:8080/"
        },
        "id": "kGVUhoyQ0Obe",
        "outputId": "ed07338f-ec63-4e59-d883-2a0081f2ca9a"
      },
      "execution_count": 14,
      "outputs": [
        {
          "output_type": "execute_result",
          "data": {
            "text/plain": [
              "(<tf.Tensor: shape=(8, 1), dtype=float32, numpy=\n",
              " array([[-7.],\n",
              "        [-4.],\n",
              "        [-1.],\n",
              "        [ 2.],\n",
              "        [ 5.],\n",
              "        [ 8.],\n",
              "        [11.],\n",
              "        [14.]], dtype=float32)>,\n",
              " <tf.Tensor: shape=(8,), dtype=float32, numpy=array([ 3.,  6.,  9., 12., 15., 18., 21., 24.], dtype=float32)>)"
            ]
          },
          "metadata": {},
          "execution_count": 14
        }
      ]
    },
    {
      "cell_type": "code",
      "source": [
        "# Let's see if our model's prediction has improved ...\n",
        "model.predict([17.0])"
      ],
      "metadata": {
        "colab": {
          "base_uri": "https://localhost:8080/"
        },
        "id": "udZL7mmm3ojJ",
        "outputId": "1d832f4a-1e4f-4992-83f6-8008a1507a43"
      },
      "execution_count": 15,
      "outputs": [
        {
          "output_type": "stream",
          "name": "stdout",
          "text": [
            "1/1 [==============================] - 0s 120ms/step\n"
          ]
        },
        {
          "output_type": "execute_result",
          "data": {
            "text/plain": [
              "array([[29.704676]], dtype=float32)"
            ]
          },
          "metadata": {},
          "execution_count": 15
        }
      ]
    },
    {
      "cell_type": "code",
      "source": [
        "# Let's see if we can make another change to improve our model -\n",
        "\n",
        "#1. Create the model (this time with an extra hidden layer with 100 hidden units)\n",
        "model = tf.keras.Sequential([\n",
        "    tf.keras.layers.Dense(100, activation = \"relu\"),\n",
        "    tf.keras.layers.Dense(1)\n",
        "])\n",
        "\n",
        "#2. Compile the model\n",
        "model.compile( loss=\"mae\",\n",
        "              optimizer=tf.keras.optimizers.SGD(),\n",
        "               metrics=[\"mae\"])\n",
        "\n",
        "#3. Fit the model\n",
        "model.fit(X,y, epochs=100)"
      ],
      "metadata": {
        "colab": {
          "base_uri": "https://localhost:8080/"
        },
        "id": "-P-LsmAw31Ze",
        "outputId": "40b50e10-0a02-49f9-fcff-ecd9dbf043b2"
      },
      "execution_count": 16,
      "outputs": [
        {
          "output_type": "stream",
          "name": "stdout",
          "text": [
            "Epoch 1/100\n",
            "1/1 [==============================] - 1s 767ms/step - loss: 12.8375 - mae: 12.8375\n",
            "Epoch 2/100\n",
            "1/1 [==============================] - 0s 12ms/step - loss: 12.3154 - mae: 12.3154\n",
            "Epoch 3/100\n",
            "1/1 [==============================] - 0s 12ms/step - loss: 11.7873 - mae: 11.7873\n",
            "Epoch 4/100\n",
            "1/1 [==============================] - 0s 10ms/step - loss: 11.2439 - mae: 11.2439\n",
            "Epoch 5/100\n",
            "1/1 [==============================] - 0s 12ms/step - loss: 10.6827 - mae: 10.6827\n",
            "Epoch 6/100\n",
            "1/1 [==============================] - 0s 10ms/step - loss: 10.0985 - mae: 10.0985\n",
            "Epoch 7/100\n",
            "1/1 [==============================] - 0s 11ms/step - loss: 9.4866 - mae: 9.4866\n",
            "Epoch 8/100\n",
            "1/1 [==============================] - 0s 12ms/step - loss: 8.8407 - mae: 8.8407\n",
            "Epoch 9/100\n",
            "1/1 [==============================] - 0s 13ms/step - loss: 8.1548 - mae: 8.1548\n",
            "Epoch 10/100\n",
            "1/1 [==============================] - 0s 13ms/step - loss: 7.4228 - mae: 7.4228\n",
            "Epoch 11/100\n",
            "1/1 [==============================] - 0s 12ms/step - loss: 6.6377 - mae: 6.6377\n",
            "Epoch 12/100\n",
            "1/1 [==============================] - 0s 11ms/step - loss: 5.7925 - mae: 5.7925\n",
            "Epoch 13/100\n",
            "1/1 [==============================] - 0s 11ms/step - loss: 4.8807 - mae: 4.8807\n",
            "Epoch 14/100\n",
            "1/1 [==============================] - 0s 10ms/step - loss: 4.1095 - mae: 4.1095\n",
            "Epoch 15/100\n",
            "1/1 [==============================] - 0s 11ms/step - loss: 4.0131 - mae: 4.0131\n",
            "Epoch 16/100\n",
            "1/1 [==============================] - 0s 13ms/step - loss: 3.9159 - mae: 3.9159\n",
            "Epoch 17/100\n",
            "1/1 [==============================] - 0s 9ms/step - loss: 3.9727 - mae: 3.9727\n",
            "Epoch 18/100\n",
            "1/1 [==============================] - 0s 11ms/step - loss: 3.9044 - mae: 3.9044\n",
            "Epoch 19/100\n",
            "1/1 [==============================] - 0s 11ms/step - loss: 3.9700 - mae: 3.9700\n",
            "Epoch 20/100\n",
            "1/1 [==============================] - 0s 9ms/step - loss: 3.9117 - mae: 3.9117\n",
            "Epoch 21/100\n",
            "1/1 [==============================] - 0s 11ms/step - loss: 3.9450 - mae: 3.9450\n",
            "Epoch 22/100\n",
            "1/1 [==============================] - 0s 11ms/step - loss: 3.9191 - mae: 3.9191\n",
            "Epoch 23/100\n",
            "1/1 [==============================] - 0s 11ms/step - loss: 3.9199 - mae: 3.9199\n",
            "Epoch 24/100\n",
            "1/1 [==============================] - 0s 11ms/step - loss: 3.9265 - mae: 3.9265\n",
            "Epoch 25/100\n",
            "1/1 [==============================] - 0s 13ms/step - loss: 3.9002 - mae: 3.9002\n",
            "Epoch 26/100\n",
            "1/1 [==============================] - 0s 12ms/step - loss: 3.9410 - mae: 3.9410\n",
            "Epoch 27/100\n",
            "1/1 [==============================] - 0s 10ms/step - loss: 3.8754 - mae: 3.8754\n",
            "Epoch 28/100\n",
            "1/1 [==============================] - 0s 10ms/step - loss: 3.9487 - mae: 3.9487\n",
            "Epoch 29/100\n",
            "1/1 [==============================] - 0s 12ms/step - loss: 3.8806 - mae: 3.8806\n",
            "Epoch 30/100\n",
            "1/1 [==============================] - 0s 11ms/step - loss: 3.9247 - mae: 3.9247\n",
            "Epoch 31/100\n",
            "1/1 [==============================] - 0s 19ms/step - loss: 3.8882 - mae: 3.8882\n",
            "Epoch 32/100\n",
            "1/1 [==============================] - 0s 11ms/step - loss: 3.8993 - mae: 3.8993\n",
            "Epoch 33/100\n",
            "1/1 [==============================] - 0s 22ms/step - loss: 3.8982 - mae: 3.8982\n",
            "Epoch 34/100\n",
            "1/1 [==============================] - 0s 14ms/step - loss: 3.8800 - mae: 3.8800\n",
            "Epoch 35/100\n",
            "1/1 [==============================] - 0s 12ms/step - loss: 3.9105 - mae: 3.9105\n",
            "Epoch 36/100\n",
            "1/1 [==============================] - 0s 10ms/step - loss: 3.8543 - mae: 3.8543\n",
            "Epoch 37/100\n",
            "1/1 [==============================] - 0s 12ms/step - loss: 3.9184 - mae: 3.9184\n",
            "Epoch 38/100\n",
            "1/1 [==============================] - 0s 10ms/step - loss: 3.8507 - mae: 3.8507\n",
            "Epoch 39/100\n",
            "1/1 [==============================] - 0s 13ms/step - loss: 3.9031 - mae: 3.9031\n",
            "Epoch 40/100\n",
            "1/1 [==============================] - 0s 13ms/step - loss: 3.8586 - mae: 3.8586\n",
            "Epoch 41/100\n",
            "1/1 [==============================] - 0s 13ms/step - loss: 3.8774 - mae: 3.8774\n",
            "Epoch 42/100\n",
            "1/1 [==============================] - 0s 16ms/step - loss: 3.8722 - mae: 3.8722\n",
            "Epoch 43/100\n",
            "1/1 [==============================] - 0s 14ms/step - loss: 3.8578 - mae: 3.8578\n",
            "Epoch 44/100\n",
            "1/1 [==============================] - 0s 15ms/step - loss: 3.8813 - mae: 3.8813\n",
            "Epoch 45/100\n",
            "1/1 [==============================] - 0s 13ms/step - loss: 3.8318 - mae: 3.8318\n",
            "Epoch 46/100\n",
            "1/1 [==============================] - 0s 14ms/step - loss: 3.8894 - mae: 3.8894\n",
            "Epoch 47/100\n",
            "1/1 [==============================] - 0s 12ms/step - loss: 3.8221 - mae: 3.8221\n",
            "Epoch 48/100\n",
            "1/1 [==============================] - 0s 12ms/step - loss: 3.8801 - mae: 3.8801\n",
            "Epoch 49/100\n",
            "1/1 [==============================] - 0s 13ms/step - loss: 3.8301 - mae: 3.8301\n",
            "Epoch 50/100\n",
            "1/1 [==============================] - 0s 13ms/step - loss: 3.8569 - mae: 3.8569\n",
            "Epoch 51/100\n",
            "1/1 [==============================] - 0s 13ms/step - loss: 3.8451 - mae: 3.8451\n",
            "Epoch 52/100\n",
            "1/1 [==============================] - 0s 14ms/step - loss: 3.8342 - mae: 3.8342\n",
            "Epoch 53/100\n",
            "1/1 [==============================] - 0s 13ms/step - loss: 3.8532 - mae: 3.8532\n",
            "Epoch 54/100\n",
            "1/1 [==============================] - 0s 14ms/step - loss: 3.8080 - mae: 3.8080\n",
            "Epoch 55/100\n",
            "1/1 [==============================] - 0s 10ms/step - loss: 3.8615 - mae: 3.8615\n",
            "Epoch 56/100\n",
            "1/1 [==============================] - 0s 12ms/step - loss: 3.7946 - mae: 3.7946\n",
            "Epoch 57/100\n",
            "1/1 [==============================] - 0s 13ms/step - loss: 3.8559 - mae: 3.8559\n",
            "Epoch 58/100\n",
            "1/1 [==============================] - 0s 12ms/step - loss: 3.8028 - mae: 3.8028\n",
            "Epoch 59/100\n",
            "1/1 [==============================] - 0s 12ms/step - loss: 3.8354 - mae: 3.8354\n",
            "Epoch 60/100\n",
            "1/1 [==============================] - 0s 13ms/step - loss: 3.8179 - mae: 3.8179\n",
            "Epoch 61/100\n",
            "1/1 [==============================] - 0s 10ms/step - loss: 3.8094 - mae: 3.8094\n",
            "Epoch 62/100\n",
            "1/1 [==============================] - 0s 12ms/step - loss: 3.8263 - mae: 3.8263\n",
            "Epoch 63/100\n",
            "1/1 [==============================] - 0s 15ms/step - loss: 3.7829 - mae: 3.7829\n",
            "Epoch 64/100\n",
            "1/1 [==============================] - 0s 12ms/step - loss: 3.8348 - mae: 3.8348\n",
            "Epoch 65/100\n",
            "1/1 [==============================] - 0s 11ms/step - loss: 3.7682 - mae: 3.7682\n",
            "Epoch 66/100\n",
            "1/1 [==============================] - 0s 10ms/step - loss: 3.8304 - mae: 3.8304\n",
            "Epoch 67/100\n",
            "1/1 [==============================] - 0s 10ms/step - loss: 3.7786 - mae: 3.7786\n",
            "Epoch 68/100\n",
            "1/1 [==============================] - 0s 12ms/step - loss: 3.8099 - mae: 3.8099\n",
            "Epoch 69/100\n",
            "1/1 [==============================] - 0s 18ms/step - loss: 3.7919 - mae: 3.7919\n",
            "Epoch 70/100\n",
            "1/1 [==============================] - 0s 14ms/step - loss: 3.7832 - mae: 3.7832\n",
            "Epoch 71/100\n",
            "1/1 [==============================] - 0s 13ms/step - loss: 3.8005 - mae: 3.8005\n",
            "Epoch 72/100\n",
            "1/1 [==============================] - 0s 12ms/step - loss: 3.7564 - mae: 3.7564\n",
            "Epoch 73/100\n",
            "1/1 [==============================] - 0s 14ms/step - loss: 3.8092 - mae: 3.8092\n",
            "Epoch 74/100\n",
            "1/1 [==============================] - 0s 12ms/step - loss: 3.7429 - mae: 3.7429\n",
            "Epoch 75/100\n",
            "1/1 [==============================] - 0s 12ms/step - loss: 3.8035 - mae: 3.8035\n",
            "Epoch 76/100\n",
            "1/1 [==============================] - 0s 11ms/step - loss: 3.7562 - mae: 3.7562\n",
            "Epoch 77/100\n",
            "1/1 [==============================] - 0s 12ms/step - loss: 3.7827 - mae: 3.7827\n",
            "Epoch 78/100\n",
            "1/1 [==============================] - 0s 13ms/step - loss: 3.7669 - mae: 3.7669\n",
            "Epoch 79/100\n",
            "1/1 [==============================] - 0s 13ms/step - loss: 3.7557 - mae: 3.7557\n",
            "Epoch 80/100\n",
            "1/1 [==============================] - 0s 12ms/step - loss: 3.7757 - mae: 3.7757\n",
            "Epoch 81/100\n",
            "1/1 [==============================] - 0s 12ms/step - loss: 3.7286 - mae: 3.7286\n",
            "Epoch 82/100\n",
            "1/1 [==============================] - 0s 14ms/step - loss: 3.7846 - mae: 3.7846\n",
            "Epoch 83/100\n",
            "1/1 [==============================] - 0s 12ms/step - loss: 3.7185 - mae: 3.7185\n",
            "Epoch 84/100\n",
            "1/1 [==============================] - 0s 11ms/step - loss: 3.7765 - mae: 3.7765\n",
            "Epoch 85/100\n",
            "1/1 [==============================] - 0s 12ms/step - loss: 3.7341 - mae: 3.7341\n",
            "Epoch 86/100\n",
            "1/1 [==============================] - 0s 10ms/step - loss: 3.7542 - mae: 3.7542\n",
            "Epoch 87/100\n",
            "1/1 [==============================] - 0s 12ms/step - loss: 3.7429 - mae: 3.7429\n",
            "Epoch 88/100\n",
            "1/1 [==============================] - 0s 9ms/step - loss: 3.7270 - mae: 3.7270\n",
            "Epoch 89/100\n",
            "1/1 [==============================] - 0s 11ms/step - loss: 3.7519 - mae: 3.7519\n",
            "Epoch 90/100\n",
            "1/1 [==============================] - 0s 10ms/step - loss: 3.6995 - mae: 3.6995\n",
            "Epoch 91/100\n",
            "1/1 [==============================] - 0s 12ms/step - loss: 3.7610 - mae: 3.7610\n",
            "Epoch 92/100\n",
            "1/1 [==============================] - 0s 13ms/step - loss: 3.6952 - mae: 3.6952\n",
            "Epoch 93/100\n",
            "1/1 [==============================] - 0s 10ms/step - loss: 3.7496 - mae: 3.7496\n",
            "Epoch 94/100\n",
            "1/1 [==============================] - 0s 14ms/step - loss: 3.7109 - mae: 3.7109\n",
            "Epoch 95/100\n",
            "1/1 [==============================] - 0s 12ms/step - loss: 3.7245 - mae: 3.7245\n",
            "Epoch 96/100\n",
            "1/1 [==============================] - 0s 13ms/step - loss: 3.7200 - mae: 3.7200\n",
            "Epoch 97/100\n",
            "1/1 [==============================] - 0s 11ms/step - loss: 3.6968 - mae: 3.6968\n",
            "Epoch 98/100\n",
            "1/1 [==============================] - 0s 12ms/step - loss: 3.7292 - mae: 3.7292\n",
            "Epoch 99/100\n",
            "1/1 [==============================] - 0s 28ms/step - loss: 3.6690 - mae: 3.6690\n",
            "Epoch 100/100\n",
            "1/1 [==============================] - 0s 26ms/step - loss: 3.7385 - mae: 3.7385\n"
          ]
        },
        {
          "output_type": "execute_result",
          "data": {
            "text/plain": [
              "<keras.src.callbacks.History at 0x78e7e6fddf30>"
            ]
          },
          "metadata": {},
          "execution_count": 16
        }
      ]
    },
    {
      "cell_type": "code",
      "source": [
        "# Let's remind ourselves of the data -\n",
        "X,y"
      ],
      "metadata": {
        "colab": {
          "base_uri": "https://localhost:8080/"
        },
        "id": "jQag8GIU5z5Q",
        "outputId": "2e98bfe7-9dcf-4756-f6f7-764b712206ed"
      },
      "execution_count": 17,
      "outputs": [
        {
          "output_type": "execute_result",
          "data": {
            "text/plain": [
              "(<tf.Tensor: shape=(8, 1), dtype=float32, numpy=\n",
              " array([[-7.],\n",
              "        [-4.],\n",
              "        [-1.],\n",
              "        [ 2.],\n",
              "        [ 5.],\n",
              "        [ 8.],\n",
              "        [11.],\n",
              "        [14.]], dtype=float32)>,\n",
              " <tf.Tensor: shape=(8,), dtype=float32, numpy=array([ 3.,  6.,  9., 12., 15., 18., 21., 24.], dtype=float32)>)"
            ]
          },
          "metadata": {},
          "execution_count": 17
        }
      ]
    },
    {
      "cell_type": "code",
      "source": [
        "# Let's try to predict the y value -\n",
        "model.predict([17.0])"
      ],
      "metadata": {
        "colab": {
          "base_uri": "https://localhost:8080/"
        },
        "id": "sGs_4dJL6H9B",
        "outputId": "d843ea96-ac1e-41ec-da93-ea984ce8e615"
      },
      "execution_count": 18,
      "outputs": [
        {
          "output_type": "stream",
          "name": "stdout",
          "text": [
            "1/1 [==============================] - 0s 350ms/step\n"
          ]
        },
        {
          "output_type": "execute_result",
          "data": {
            "text/plain": [
              "array([[32.116894]], dtype=float32)"
            ]
          },
          "metadata": {},
          "execution_count": 18
        }
      ]
    },
    {
      "cell_type": "code",
      "source": [
        "# Let's see if we can make another change to improve our model - now No activation function and reduced hidden units.\n",
        "\n",
        "#1. Create the model (this time with an extra hidden layer with 100 hidden units)\n",
        "model = tf.keras.Sequential([\n",
        "    tf.keras.layers.Dense(50, activation = None),\n",
        "    tf.keras.layers.Dense(1)\n",
        "])\n",
        "\n",
        "#2. Compile the model\n",
        "model.compile( loss=\"mae\",\n",
        "              optimizer=tf.keras.optimizers.SGD(),\n",
        "               metrics=[\"mae\"])\n",
        "\n",
        "#3. Fit the model\n",
        "model.fit(X,y, epochs=100)"
      ],
      "metadata": {
        "colab": {
          "base_uri": "https://localhost:8080/"
        },
        "id": "y6mWa2_n6R7G",
        "outputId": "8f52355d-be85-4d2e-e011-692e44dab6fe"
      },
      "execution_count": 19,
      "outputs": [
        {
          "output_type": "stream",
          "name": "stdout",
          "text": [
            "Epoch 1/100\n",
            "1/1 [==============================] - 2s 2s/step - loss: 14.2121 - mae: 14.2121\n",
            "Epoch 2/100\n",
            "1/1 [==============================] - 0s 20ms/step - loss: 13.6922 - mae: 13.6922\n",
            "Epoch 3/100\n",
            "1/1 [==============================] - 0s 16ms/step - loss: 13.1748 - mae: 13.1748\n",
            "Epoch 4/100\n",
            "1/1 [==============================] - 0s 13ms/step - loss: 12.6571 - mae: 12.6571\n",
            "Epoch 5/100\n",
            "1/1 [==============================] - 0s 14ms/step - loss: 12.1365 - mae: 12.1365\n",
            "Epoch 6/100\n",
            "1/1 [==============================] - 0s 14ms/step - loss: 11.6102 - mae: 11.6102\n",
            "Epoch 7/100\n",
            "1/1 [==============================] - 0s 24ms/step - loss: 11.0755 - mae: 11.0755\n",
            "Epoch 8/100\n",
            "1/1 [==============================] - 0s 18ms/step - loss: 10.5297 - mae: 10.5297\n",
            "Epoch 9/100\n",
            "1/1 [==============================] - 0s 16ms/step - loss: 9.9699 - mae: 9.9699\n",
            "Epoch 10/100\n",
            "1/1 [==============================] - 0s 11ms/step - loss: 9.3933 - mae: 9.3933\n",
            "Epoch 11/100\n",
            "1/1 [==============================] - 0s 19ms/step - loss: 8.7970 - mae: 8.7970\n",
            "Epoch 12/100\n",
            "1/1 [==============================] - 0s 15ms/step - loss: 8.1777 - mae: 8.1777\n",
            "Epoch 13/100\n",
            "1/1 [==============================] - 0s 14ms/step - loss: 7.5325 - mae: 7.5325\n",
            "Epoch 14/100\n",
            "1/1 [==============================] - 0s 16ms/step - loss: 7.1885 - mae: 7.1885\n",
            "Epoch 15/100\n",
            "1/1 [==============================] - 0s 16ms/step - loss: 7.1684 - mae: 7.1684\n",
            "Epoch 16/100\n",
            "1/1 [==============================] - 0s 16ms/step - loss: 7.1482 - mae: 7.1482\n",
            "Epoch 17/100\n",
            "1/1 [==============================] - 0s 17ms/step - loss: 7.1280 - mae: 7.1280\n",
            "Epoch 18/100\n",
            "1/1 [==============================] - 0s 19ms/step - loss: 7.1077 - mae: 7.1077\n",
            "Epoch 19/100\n",
            "1/1 [==============================] - 0s 21ms/step - loss: 7.0874 - mae: 7.0874\n",
            "Epoch 20/100\n",
            "1/1 [==============================] - 0s 24ms/step - loss: 7.0670 - mae: 7.0670\n",
            "Epoch 21/100\n",
            "1/1 [==============================] - 0s 14ms/step - loss: 7.0465 - mae: 7.0465\n",
            "Epoch 22/100\n",
            "1/1 [==============================] - 0s 31ms/step - loss: 7.0259 - mae: 7.0259\n",
            "Epoch 23/100\n",
            "1/1 [==============================] - 0s 18ms/step - loss: 7.0053 - mae: 7.0053\n",
            "Epoch 24/100\n",
            "1/1 [==============================] - 0s 17ms/step - loss: 6.9846 - mae: 6.9846\n",
            "Epoch 25/100\n",
            "1/1 [==============================] - 0s 23ms/step - loss: 6.9638 - mae: 6.9638\n",
            "Epoch 26/100\n",
            "1/1 [==============================] - 0s 20ms/step - loss: 6.9430 - mae: 6.9430\n",
            "Epoch 27/100\n",
            "1/1 [==============================] - 0s 18ms/step - loss: 6.9220 - mae: 6.9220\n",
            "Epoch 28/100\n",
            "1/1 [==============================] - 0s 30ms/step - loss: 6.9010 - mae: 6.9010\n",
            "Epoch 29/100\n",
            "1/1 [==============================] - 0s 22ms/step - loss: 6.8799 - mae: 6.8799\n",
            "Epoch 30/100\n",
            "1/1 [==============================] - 0s 12ms/step - loss: 6.8587 - mae: 6.8587\n",
            "Epoch 31/100\n",
            "1/1 [==============================] - 0s 21ms/step - loss: 6.8373 - mae: 6.8373\n",
            "Epoch 32/100\n",
            "1/1 [==============================] - 0s 16ms/step - loss: 6.8159 - mae: 6.8159\n",
            "Epoch 33/100\n",
            "1/1 [==============================] - 0s 18ms/step - loss: 6.7944 - mae: 6.7944\n",
            "Epoch 34/100\n",
            "1/1 [==============================] - 0s 16ms/step - loss: 6.7727 - mae: 6.7727\n",
            "Epoch 35/100\n",
            "1/1 [==============================] - 0s 16ms/step - loss: 6.7660 - mae: 6.7660\n",
            "Epoch 36/100\n",
            "1/1 [==============================] - 0s 20ms/step - loss: 6.7455 - mae: 6.7455\n",
            "Epoch 37/100\n",
            "1/1 [==============================] - 0s 12ms/step - loss: 6.7241 - mae: 6.7241\n",
            "Epoch 38/100\n",
            "1/1 [==============================] - 0s 17ms/step - loss: 6.7026 - mae: 6.7026\n",
            "Epoch 39/100\n",
            "1/1 [==============================] - 0s 16ms/step - loss: 6.6809 - mae: 6.6809\n",
            "Epoch 40/100\n",
            "1/1 [==============================] - 0s 22ms/step - loss: 6.6591 - mae: 6.6591\n",
            "Epoch 41/100\n",
            "1/1 [==============================] - 0s 18ms/step - loss: 6.6372 - mae: 6.6372\n",
            "Epoch 42/100\n",
            "1/1 [==============================] - 0s 14ms/step - loss: 6.6151 - mae: 6.6151\n",
            "Epoch 43/100\n",
            "1/1 [==============================] - 0s 13ms/step - loss: 6.5930 - mae: 6.5930\n",
            "Epoch 44/100\n",
            "1/1 [==============================] - 0s 26ms/step - loss: 6.5706 - mae: 6.5706\n",
            "Epoch 45/100\n",
            "1/1 [==============================] - 0s 17ms/step - loss: 6.5481 - mae: 6.5481\n",
            "Epoch 46/100\n",
            "1/1 [==============================] - 0s 16ms/step - loss: 6.5255 - mae: 6.5255\n",
            "Epoch 47/100\n",
            "1/1 [==============================] - 0s 23ms/step - loss: 6.5027 - mae: 6.5027\n",
            "Epoch 48/100\n",
            "1/1 [==============================] - 0s 38ms/step - loss: 6.4797 - mae: 6.4797\n",
            "Epoch 49/100\n",
            "1/1 [==============================] - 0s 39ms/step - loss: 6.4566 - mae: 6.4566\n",
            "Epoch 50/100\n",
            "1/1 [==============================] - 0s 40ms/step - loss: 6.4334 - mae: 6.4334\n",
            "Epoch 51/100\n",
            "1/1 [==============================] - 0s 21ms/step - loss: 6.4099 - mae: 6.4099\n",
            "Epoch 52/100\n",
            "1/1 [==============================] - 0s 24ms/step - loss: 6.3863 - mae: 6.3863\n",
            "Epoch 53/100\n",
            "1/1 [==============================] - 0s 19ms/step - loss: 6.3625 - mae: 6.3625\n",
            "Epoch 54/100\n",
            "1/1 [==============================] - 0s 15ms/step - loss: 6.3385 - mae: 6.3385\n",
            "Epoch 55/100\n",
            "1/1 [==============================] - 0s 29ms/step - loss: 6.3143 - mae: 6.3143\n",
            "Epoch 56/100\n",
            "1/1 [==============================] - 0s 31ms/step - loss: 6.2899 - mae: 6.2899\n",
            "Epoch 57/100\n",
            "1/1 [==============================] - 0s 38ms/step - loss: 6.2754 - mae: 6.2754\n",
            "Epoch 58/100\n",
            "1/1 [==============================] - 0s 29ms/step - loss: 6.2633 - mae: 6.2633\n",
            "Epoch 59/100\n",
            "1/1 [==============================] - 0s 29ms/step - loss: 6.2390 - mae: 6.2390\n",
            "Epoch 60/100\n",
            "1/1 [==============================] - 0s 19ms/step - loss: 6.2144 - mae: 6.2144\n",
            "Epoch 61/100\n",
            "1/1 [==============================] - 0s 18ms/step - loss: 6.1896 - mae: 6.1896\n",
            "Epoch 62/100\n",
            "1/1 [==============================] - 0s 22ms/step - loss: 6.1646 - mae: 6.1646\n",
            "Epoch 63/100\n",
            "1/1 [==============================] - 0s 16ms/step - loss: 6.1394 - mae: 6.1394\n",
            "Epoch 64/100\n",
            "1/1 [==============================] - 0s 17ms/step - loss: 6.1140 - mae: 6.1140\n",
            "Epoch 65/100\n",
            "1/1 [==============================] - 0s 15ms/step - loss: 6.0884 - mae: 6.0884\n",
            "Epoch 66/100\n",
            "1/1 [==============================] - 0s 47ms/step - loss: 6.0625 - mae: 6.0625\n",
            "Epoch 67/100\n",
            "1/1 [==============================] - 0s 20ms/step - loss: 6.0364 - mae: 6.0364\n",
            "Epoch 68/100\n",
            "1/1 [==============================] - 0s 11ms/step - loss: 6.0100 - mae: 6.0100\n",
            "Epoch 69/100\n",
            "1/1 [==============================] - 0s 21ms/step - loss: 5.9834 - mae: 5.9834\n",
            "Epoch 70/100\n",
            "1/1 [==============================] - 0s 29ms/step - loss: 5.9566 - mae: 5.9566\n",
            "Epoch 71/100\n",
            "1/1 [==============================] - 0s 26ms/step - loss: 5.9295 - mae: 5.9295\n",
            "Epoch 72/100\n",
            "1/1 [==============================] - 0s 15ms/step - loss: 5.9021 - mae: 5.9021\n",
            "Epoch 73/100\n",
            "1/1 [==============================] - 0s 18ms/step - loss: 5.8745 - mae: 5.8745\n",
            "Epoch 74/100\n",
            "1/1 [==============================] - 0s 26ms/step - loss: 5.8466 - mae: 5.8466\n",
            "Epoch 75/100\n",
            "1/1 [==============================] - 0s 23ms/step - loss: 5.8365 - mae: 5.8365\n",
            "Epoch 76/100\n",
            "1/1 [==============================] - 0s 19ms/step - loss: 5.8178 - mae: 5.8178\n",
            "Epoch 77/100\n",
            "1/1 [==============================] - 0s 15ms/step - loss: 5.7897 - mae: 5.7897\n",
            "Epoch 78/100\n",
            "1/1 [==============================] - 0s 26ms/step - loss: 5.7613 - mae: 5.7613\n",
            "Epoch 79/100\n",
            "1/1 [==============================] - 0s 17ms/step - loss: 5.7327 - mae: 5.7327\n",
            "Epoch 80/100\n",
            "1/1 [==============================] - 0s 18ms/step - loss: 5.7037 - mae: 5.7037\n",
            "Epoch 81/100\n",
            "1/1 [==============================] - 0s 14ms/step - loss: 5.6744 - mae: 5.6744\n",
            "Epoch 82/100\n",
            "1/1 [==============================] - 0s 39ms/step - loss: 5.6449 - mae: 5.6449\n",
            "Epoch 83/100\n",
            "1/1 [==============================] - 0s 19ms/step - loss: 5.6150 - mae: 5.6150\n",
            "Epoch 84/100\n",
            "1/1 [==============================] - 0s 18ms/step - loss: 5.5848 - mae: 5.5848\n",
            "Epoch 85/100\n",
            "1/1 [==============================] - 0s 23ms/step - loss: 5.5543 - mae: 5.5543\n",
            "Epoch 86/100\n",
            "1/1 [==============================] - 0s 36ms/step - loss: 5.5235 - mae: 5.5235\n",
            "Epoch 87/100\n",
            "1/1 [==============================] - 0s 19ms/step - loss: 5.4923 - mae: 5.4923\n",
            "Epoch 88/100\n",
            "1/1 [==============================] - 0s 26ms/step - loss: 5.4609 - mae: 5.4609\n",
            "Epoch 89/100\n",
            "1/1 [==============================] - 0s 16ms/step - loss: 5.4290 - mae: 5.4290\n",
            "Epoch 90/100\n",
            "1/1 [==============================] - 0s 17ms/step - loss: 5.3997 - mae: 5.3997\n",
            "Epoch 91/100\n",
            "1/1 [==============================] - 0s 16ms/step - loss: 5.4570 - mae: 5.4570\n",
            "Epoch 92/100\n",
            "1/1 [==============================] - 0s 24ms/step - loss: 5.5119 - mae: 5.5119\n",
            "Epoch 93/100\n",
            "1/1 [==============================] - 0s 53ms/step - loss: 5.3271 - mae: 5.3271\n",
            "Epoch 94/100\n",
            "1/1 [==============================] - 0s 23ms/step - loss: 5.2940 - mae: 5.2940\n",
            "Epoch 95/100\n",
            "1/1 [==============================] - 0s 13ms/step - loss: 5.2606 - mae: 5.2606\n",
            "Epoch 96/100\n",
            "1/1 [==============================] - 0s 14ms/step - loss: 5.2267 - mae: 5.2267\n",
            "Epoch 97/100\n",
            "1/1 [==============================] - 0s 12ms/step - loss: 5.1925 - mae: 5.1925\n",
            "Epoch 98/100\n",
            "1/1 [==============================] - 0s 20ms/step - loss: 5.1579 - mae: 5.1579\n",
            "Epoch 99/100\n",
            "1/1 [==============================] - 0s 10ms/step - loss: 5.1229 - mae: 5.1229\n",
            "Epoch 100/100\n",
            "1/1 [==============================] - 0s 17ms/step - loss: 5.0875 - mae: 5.0875\n"
          ]
        },
        {
          "output_type": "execute_result",
          "data": {
            "text/plain": [
              "<keras.src.callbacks.History at 0x78e7e66d59c0>"
            ]
          },
          "metadata": {},
          "execution_count": 19
        }
      ]
    },
    {
      "cell_type": "code",
      "source": [
        "# Let's try to predict the y value -\n",
        "model.predict([17.0])"
      ],
      "metadata": {
        "colab": {
          "base_uri": "https://localhost:8080/"
        },
        "id": "ZfL1N_h-7VMv",
        "outputId": "46b50878-47dd-4ab5-8522-1ab7746db298"
      },
      "execution_count": 20,
      "outputs": [
        {
          "output_type": "stream",
          "name": "stdout",
          "text": [
            "1/1 [==============================] - 0s 487ms/step\n"
          ]
        },
        {
          "output_type": "execute_result",
          "data": {
            "text/plain": [
              "array([[30.699419]], dtype=float32)"
            ]
          },
          "metadata": {},
          "execution_count": 20
        }
      ]
    },
    {
      "cell_type": "code",
      "source": [
        "# Let's see if we can make another change to improve our model - now we change the optimizer to ADAM optimizer\n",
        "\n",
        "#1. Create the model (this time with an extra hidden layer with 100 hidden units)\n",
        "model = tf.keras.Sequential([\n",
        "    tf.keras.layers.Dense(50, activation = None),\n",
        "    tf.keras.layers.Dense(1)\n",
        "])\n",
        "\n",
        "#2. Compile the model\n",
        "model.compile( loss=\"mae\",\n",
        "              optimizer=tf.keras.optimizers.Adam(),\n",
        "               metrics=[\"mae\"])\n",
        "\n",
        "#3. Fit the model\n",
        "model.fit(X,y, epochs=100)"
      ],
      "metadata": {
        "colab": {
          "base_uri": "https://localhost:8080/"
        },
        "id": "lXYZpyV07aTh",
        "outputId": "bdfad724-b49c-4a26-b4af-1ae546bf9e71"
      },
      "execution_count": 21,
      "outputs": [
        {
          "output_type": "stream",
          "name": "stdout",
          "text": [
            "Epoch 1/100\n",
            "1/1 [==============================] - 2s 2s/step - loss: 14.2452 - mae: 14.2452\n",
            "Epoch 2/100\n",
            "1/1 [==============================] - 0s 17ms/step - loss: 14.1690 - mae: 14.1690\n",
            "Epoch 3/100\n",
            "1/1 [==============================] - 0s 16ms/step - loss: 14.0928 - mae: 14.0928\n",
            "Epoch 4/100\n",
            "1/1 [==============================] - 0s 26ms/step - loss: 14.0167 - mae: 14.0167\n",
            "Epoch 5/100\n",
            "1/1 [==============================] - 0s 14ms/step - loss: 13.9407 - mae: 13.9407\n",
            "Epoch 6/100\n",
            "1/1 [==============================] - 0s 16ms/step - loss: 13.8648 - mae: 13.8648\n",
            "Epoch 7/100\n",
            "1/1 [==============================] - 0s 14ms/step - loss: 13.7890 - mae: 13.7890\n",
            "Epoch 8/100\n",
            "1/1 [==============================] - 0s 23ms/step - loss: 13.7133 - mae: 13.7133\n",
            "Epoch 9/100\n",
            "1/1 [==============================] - 0s 30ms/step - loss: 13.6376 - mae: 13.6376\n",
            "Epoch 10/100\n",
            "1/1 [==============================] - 0s 33ms/step - loss: 13.5620 - mae: 13.5620\n",
            "Epoch 11/100\n",
            "1/1 [==============================] - 0s 46ms/step - loss: 13.4864 - mae: 13.4864\n",
            "Epoch 12/100\n",
            "1/1 [==============================] - 0s 32ms/step - loss: 13.4109 - mae: 13.4109\n",
            "Epoch 13/100\n",
            "1/1 [==============================] - 0s 38ms/step - loss: 13.3354 - mae: 13.3354\n",
            "Epoch 14/100\n",
            "1/1 [==============================] - 0s 50ms/step - loss: 13.2600 - mae: 13.2600\n",
            "Epoch 15/100\n",
            "1/1 [==============================] - 0s 34ms/step - loss: 13.1846 - mae: 13.1846\n",
            "Epoch 16/100\n",
            "1/1 [==============================] - 0s 23ms/step - loss: 13.1092 - mae: 13.1092\n",
            "Epoch 17/100\n",
            "1/1 [==============================] - 0s 34ms/step - loss: 13.0338 - mae: 13.0338\n",
            "Epoch 18/100\n",
            "1/1 [==============================] - 0s 18ms/step - loss: 12.9585 - mae: 12.9585\n",
            "Epoch 19/100\n",
            "1/1 [==============================] - 0s 20ms/step - loss: 12.8832 - mae: 12.8832\n",
            "Epoch 20/100\n",
            "1/1 [==============================] - 0s 14ms/step - loss: 12.8079 - mae: 12.8079\n",
            "Epoch 21/100\n",
            "1/1 [==============================] - 0s 26ms/step - loss: 12.7325 - mae: 12.7325\n",
            "Epoch 22/100\n",
            "1/1 [==============================] - 0s 20ms/step - loss: 12.6572 - mae: 12.6572\n",
            "Epoch 23/100\n",
            "1/1 [==============================] - 0s 42ms/step - loss: 12.5819 - mae: 12.5819\n",
            "Epoch 24/100\n",
            "1/1 [==============================] - 0s 30ms/step - loss: 12.5066 - mae: 12.5066\n",
            "Epoch 25/100\n",
            "1/1 [==============================] - 0s 25ms/step - loss: 12.4312 - mae: 12.4312\n",
            "Epoch 26/100\n",
            "1/1 [==============================] - 0s 22ms/step - loss: 12.3559 - mae: 12.3559\n",
            "Epoch 27/100\n",
            "1/1 [==============================] - 0s 20ms/step - loss: 12.2805 - mae: 12.2805\n",
            "Epoch 28/100\n",
            "1/1 [==============================] - 0s 25ms/step - loss: 12.2050 - mae: 12.2050\n",
            "Epoch 29/100\n",
            "1/1 [==============================] - 0s 36ms/step - loss: 12.1295 - mae: 12.1295\n",
            "Epoch 30/100\n",
            "1/1 [==============================] - 0s 25ms/step - loss: 12.0540 - mae: 12.0540\n",
            "Epoch 31/100\n",
            "1/1 [==============================] - 0s 30ms/step - loss: 11.9784 - mae: 11.9784\n",
            "Epoch 32/100\n",
            "1/1 [==============================] - 0s 21ms/step - loss: 11.9027 - mae: 11.9027\n",
            "Epoch 33/100\n",
            "1/1 [==============================] - 0s 32ms/step - loss: 11.8270 - mae: 11.8270\n",
            "Epoch 34/100\n",
            "1/1 [==============================] - 0s 33ms/step - loss: 11.7511 - mae: 11.7511\n",
            "Epoch 35/100\n",
            "1/1 [==============================] - 0s 19ms/step - loss: 11.6752 - mae: 11.6752\n",
            "Epoch 36/100\n",
            "1/1 [==============================] - 0s 20ms/step - loss: 11.5992 - mae: 11.5992\n",
            "Epoch 37/100\n",
            "1/1 [==============================] - 0s 15ms/step - loss: 11.5231 - mae: 11.5231\n",
            "Epoch 38/100\n",
            "1/1 [==============================] - 0s 35ms/step - loss: 11.4469 - mae: 11.4469\n",
            "Epoch 39/100\n",
            "1/1 [==============================] - 0s 31ms/step - loss: 11.3706 - mae: 11.3706\n",
            "Epoch 40/100\n",
            "1/1 [==============================] - 0s 22ms/step - loss: 11.2942 - mae: 11.2942\n",
            "Epoch 41/100\n",
            "1/1 [==============================] - 0s 28ms/step - loss: 11.2177 - mae: 11.2177\n",
            "Epoch 42/100\n",
            "1/1 [==============================] - 0s 28ms/step - loss: 11.1410 - mae: 11.1410\n",
            "Epoch 43/100\n",
            "1/1 [==============================] - 0s 26ms/step - loss: 11.0642 - mae: 11.0642\n",
            "Epoch 44/100\n",
            "1/1 [==============================] - 0s 21ms/step - loss: 10.9872 - mae: 10.9872\n",
            "Epoch 45/100\n",
            "1/1 [==============================] - 0s 24ms/step - loss: 10.9101 - mae: 10.9101\n",
            "Epoch 46/100\n",
            "1/1 [==============================] - 0s 30ms/step - loss: 10.8329 - mae: 10.8329\n",
            "Epoch 47/100\n",
            "1/1 [==============================] - 0s 23ms/step - loss: 10.7554 - mae: 10.7554\n",
            "Epoch 48/100\n",
            "1/1 [==============================] - 0s 26ms/step - loss: 10.6779 - mae: 10.6779\n",
            "Epoch 49/100\n",
            "1/1 [==============================] - 0s 19ms/step - loss: 10.6001 - mae: 10.6001\n",
            "Epoch 50/100\n",
            "1/1 [==============================] - 0s 15ms/step - loss: 10.5222 - mae: 10.5222\n",
            "Epoch 51/100\n",
            "1/1 [==============================] - 0s 17ms/step - loss: 10.4441 - mae: 10.4441\n",
            "Epoch 52/100\n",
            "1/1 [==============================] - 0s 16ms/step - loss: 10.3658 - mae: 10.3658\n",
            "Epoch 53/100\n",
            "1/1 [==============================] - 0s 16ms/step - loss: 10.2873 - mae: 10.2873\n",
            "Epoch 54/100\n",
            "1/1 [==============================] - 0s 22ms/step - loss: 10.2086 - mae: 10.2086\n",
            "Epoch 55/100\n",
            "1/1 [==============================] - 0s 15ms/step - loss: 10.1297 - mae: 10.1297\n",
            "Epoch 56/100\n",
            "1/1 [==============================] - 0s 23ms/step - loss: 10.0506 - mae: 10.0506\n",
            "Epoch 57/100\n",
            "1/1 [==============================] - 0s 38ms/step - loss: 9.9713 - mae: 9.9713\n",
            "Epoch 58/100\n",
            "1/1 [==============================] - 0s 42ms/step - loss: 9.8917 - mae: 9.8917\n",
            "Epoch 59/100\n",
            "1/1 [==============================] - 0s 56ms/step - loss: 9.8119 - mae: 9.8119\n",
            "Epoch 60/100\n",
            "1/1 [==============================] - 0s 30ms/step - loss: 9.7319 - mae: 9.7319\n",
            "Epoch 61/100\n",
            "1/1 [==============================] - 0s 33ms/step - loss: 9.6517 - mae: 9.6517\n",
            "Epoch 62/100\n",
            "1/1 [==============================] - 0s 22ms/step - loss: 9.5711 - mae: 9.5711\n",
            "Epoch 63/100\n",
            "1/1 [==============================] - 0s 17ms/step - loss: 9.4904 - mae: 9.4904\n",
            "Epoch 64/100\n",
            "1/1 [==============================] - 0s 29ms/step - loss: 9.4093 - mae: 9.4093\n",
            "Epoch 65/100\n",
            "1/1 [==============================] - 0s 25ms/step - loss: 9.3280 - mae: 9.3280\n",
            "Epoch 66/100\n",
            "1/1 [==============================] - 0s 17ms/step - loss: 9.2464 - mae: 9.2464\n",
            "Epoch 67/100\n",
            "1/1 [==============================] - 0s 14ms/step - loss: 9.1645 - mae: 9.1645\n",
            "Epoch 68/100\n",
            "1/1 [==============================] - 0s 13ms/step - loss: 9.0824 - mae: 9.0824\n",
            "Epoch 69/100\n",
            "1/1 [==============================] - 0s 12ms/step - loss: 8.9999 - mae: 8.9999\n",
            "Epoch 70/100\n",
            "1/1 [==============================] - 0s 35ms/step - loss: 8.9172 - mae: 8.9172\n",
            "Epoch 71/100\n",
            "1/1 [==============================] - 0s 14ms/step - loss: 8.8341 - mae: 8.8341\n",
            "Epoch 72/100\n",
            "1/1 [==============================] - 0s 17ms/step - loss: 8.7507 - mae: 8.7507\n",
            "Epoch 73/100\n",
            "1/1 [==============================] - 0s 13ms/step - loss: 8.6670 - mae: 8.6670\n",
            "Epoch 74/100\n",
            "1/1 [==============================] - 0s 29ms/step - loss: 8.5830 - mae: 8.5830\n",
            "Epoch 75/100\n",
            "1/1 [==============================] - 0s 13ms/step - loss: 8.4986 - mae: 8.4986\n",
            "Epoch 76/100\n",
            "1/1 [==============================] - 0s 28ms/step - loss: 8.4139 - mae: 8.4139\n",
            "Epoch 77/100\n",
            "1/1 [==============================] - 0s 20ms/step - loss: 8.3288 - mae: 8.3288\n",
            "Epoch 78/100\n",
            "1/1 [==============================] - 0s 27ms/step - loss: 8.2434 - mae: 8.2434\n",
            "Epoch 79/100\n",
            "1/1 [==============================] - 0s 22ms/step - loss: 8.1577 - mae: 8.1577\n",
            "Epoch 80/100\n",
            "1/1 [==============================] - 0s 24ms/step - loss: 8.0715 - mae: 8.0715\n",
            "Epoch 81/100\n",
            "1/1 [==============================] - 0s 23ms/step - loss: 7.9850 - mae: 7.9850\n",
            "Epoch 82/100\n",
            "1/1 [==============================] - 0s 27ms/step - loss: 7.8981 - mae: 7.8981\n",
            "Epoch 83/100\n",
            "1/1 [==============================] - 0s 25ms/step - loss: 7.8109 - mae: 7.8109\n",
            "Epoch 84/100\n",
            "1/1 [==============================] - 0s 33ms/step - loss: 7.7232 - mae: 7.7232\n",
            "Epoch 85/100\n",
            "1/1 [==============================] - 0s 18ms/step - loss: 7.6351 - mae: 7.6351\n",
            "Epoch 86/100\n",
            "1/1 [==============================] - 0s 15ms/step - loss: 7.5467 - mae: 7.5467\n",
            "Epoch 87/100\n",
            "1/1 [==============================] - 0s 15ms/step - loss: 7.4578 - mae: 7.4578\n",
            "Epoch 88/100\n",
            "1/1 [==============================] - 0s 16ms/step - loss: 7.3685 - mae: 7.3685\n",
            "Epoch 89/100\n",
            "1/1 [==============================] - 0s 13ms/step - loss: 7.2787 - mae: 7.2787\n",
            "Epoch 90/100\n",
            "1/1 [==============================] - 0s 39ms/step - loss: 7.1886 - mae: 7.1886\n",
            "Epoch 91/100\n",
            "1/1 [==============================] - 0s 22ms/step - loss: 7.0979 - mae: 7.0979\n",
            "Epoch 92/100\n",
            "1/1 [==============================] - 0s 22ms/step - loss: 7.0069 - mae: 7.0069\n",
            "Epoch 93/100\n",
            "1/1 [==============================] - 0s 22ms/step - loss: 6.9154 - mae: 6.9154\n",
            "Epoch 94/100\n",
            "1/1 [==============================] - 0s 16ms/step - loss: 6.8234 - mae: 6.8234\n",
            "Epoch 95/100\n",
            "1/1 [==============================] - 0s 14ms/step - loss: 6.7310 - mae: 6.7310\n",
            "Epoch 96/100\n",
            "1/1 [==============================] - 0s 15ms/step - loss: 6.6381 - mae: 6.6381\n",
            "Epoch 97/100\n",
            "1/1 [==============================] - 0s 15ms/step - loss: 6.6149 - mae: 6.6149\n",
            "Epoch 98/100\n",
            "1/1 [==============================] - 0s 38ms/step - loss: 6.6034 - mae: 6.6034\n",
            "Epoch 99/100\n",
            "1/1 [==============================] - 0s 14ms/step - loss: 6.5922 - mae: 6.5922\n",
            "Epoch 100/100\n",
            "1/1 [==============================] - 0s 13ms/step - loss: 6.5812 - mae: 6.5812\n"
          ]
        },
        {
          "output_type": "execute_result",
          "data": {
            "text/plain": [
              "<keras.src.callbacks.History at 0x78e7e60a7dc0>"
            ]
          },
          "metadata": {},
          "execution_count": 21
        }
      ]
    },
    {
      "cell_type": "code",
      "source": [
        "# Let's try to predict the y value -\n",
        "model.predict([17.0])"
      ],
      "metadata": {
        "colab": {
          "base_uri": "https://localhost:8080/"
        },
        "id": "ZFHwLn7C7yvR",
        "outputId": "985467ac-9f55-4226-dce5-1a5ae93ca6a9"
      },
      "execution_count": 22,
      "outputs": [
        {
          "output_type": "stream",
          "name": "stderr",
          "text": [
            "WARNING:tensorflow:5 out of the last 5 calls to <function Model.make_predict_function.<locals>.predict_function at 0x78e7e66cb910> triggered tf.function retracing. Tracing is expensive and the excessive number of tracings could be due to (1) creating @tf.function repeatedly in a loop, (2) passing tensors with different shapes, (3) passing Python objects instead of tensors. For (1), please define your @tf.function outside of the loop. For (2), @tf.function has reduce_retracing=True option that can avoid unnecessary retracing. For (3), please refer to https://www.tensorflow.org/guide/function#controlling_retracing and https://www.tensorflow.org/api_docs/python/tf/function for  more details.\n"
          ]
        },
        {
          "output_type": "stream",
          "name": "stdout",
          "text": [
            "1/1 [==============================] - 0s 141ms/step\n"
          ]
        },
        {
          "output_type": "execute_result",
          "data": {
            "text/plain": [
              "array([[30.48906]], dtype=float32)"
            ]
          },
          "metadata": {},
          "execution_count": 22
        }
      ]
    },
    {
      "cell_type": "code",
      "source": [
        "# Let's see if we can make another change to improve our model - now we change the optimizer to ADAM optimizer with learning rate\n",
        "\n",
        "#1. Create the model (this time with an extra hidden layer with 100 hidden units)\n",
        "model = tf.keras.Sequential([\n",
        "    tf.keras.layers.Dense(50, activation = None),\n",
        "    tf.keras.layers.Dense(1)\n",
        "])\n",
        "\n",
        "#2. Compile the model\n",
        "model.compile( loss=\"mae\",\n",
        "              optimizer=tf.keras.optimizers.Adam(lr=0.01),\n",
        "               metrics=[\"mae\"])\n",
        "\n",
        "#3. Fit the model\n",
        "model.fit(X,y, epochs=100)"
      ],
      "metadata": {
        "colab": {
          "base_uri": "https://localhost:8080/"
        },
        "id": "YWGN2KQD76qe",
        "outputId": "5069f439-81b2-4f4c-de95-71ae1f77223e"
      },
      "execution_count": 23,
      "outputs": [
        {
          "output_type": "stream",
          "name": "stderr",
          "text": [
            "WARNING:absl:`lr` is deprecated in Keras optimizer, please use `learning_rate` or use the legacy optimizer, e.g.,tf.keras.optimizers.legacy.Adam.\n"
          ]
        },
        {
          "output_type": "stream",
          "name": "stdout",
          "text": [
            "Epoch 1/100\n",
            "1/1 [==============================] - 1s 1s/step - loss: 13.3462 - mae: 13.3462\n",
            "Epoch 2/100\n",
            "1/1 [==============================] - 0s 28ms/step - loss: 13.2761 - mae: 13.2761\n",
            "Epoch 3/100\n",
            "1/1 [==============================] - 0s 24ms/step - loss: 13.2061 - mae: 13.2061\n",
            "Epoch 4/100\n",
            "1/1 [==============================] - 0s 16ms/step - loss: 13.1360 - mae: 13.1360\n",
            "Epoch 5/100\n",
            "1/1 [==============================] - 0s 19ms/step - loss: 13.0658 - mae: 13.0658\n",
            "Epoch 6/100\n",
            "1/1 [==============================] - 0s 14ms/step - loss: 12.9955 - mae: 12.9955\n",
            "Epoch 7/100\n",
            "1/1 [==============================] - 0s 17ms/step - loss: 12.9252 - mae: 12.9252\n",
            "Epoch 8/100\n",
            "1/1 [==============================] - 0s 15ms/step - loss: 12.8549 - mae: 12.8549\n",
            "Epoch 9/100\n",
            "1/1 [==============================] - 0s 30ms/step - loss: 12.7844 - mae: 12.7844\n",
            "Epoch 10/100\n",
            "1/1 [==============================] - 0s 19ms/step - loss: 12.7139 - mae: 12.7139\n",
            "Epoch 11/100\n",
            "1/1 [==============================] - 0s 20ms/step - loss: 12.6433 - mae: 12.6433\n",
            "Epoch 12/100\n",
            "1/1 [==============================] - 0s 15ms/step - loss: 12.5725 - mae: 12.5725\n",
            "Epoch 13/100\n",
            "1/1 [==============================] - 0s 25ms/step - loss: 12.5017 - mae: 12.5017\n",
            "Epoch 14/100\n",
            "1/1 [==============================] - 0s 23ms/step - loss: 12.4308 - mae: 12.4308\n",
            "Epoch 15/100\n",
            "1/1 [==============================] - 0s 17ms/step - loss: 12.3598 - mae: 12.3598\n",
            "Epoch 16/100\n",
            "1/1 [==============================] - 0s 28ms/step - loss: 12.2887 - mae: 12.2887\n",
            "Epoch 17/100\n",
            "1/1 [==============================] - 0s 29ms/step - loss: 12.2174 - mae: 12.2174\n",
            "Epoch 18/100\n",
            "1/1 [==============================] - 0s 22ms/step - loss: 12.1460 - mae: 12.1460\n",
            "Epoch 19/100\n",
            "1/1 [==============================] - 0s 21ms/step - loss: 12.0745 - mae: 12.0745\n",
            "Epoch 20/100\n",
            "1/1 [==============================] - 0s 22ms/step - loss: 12.0029 - mae: 12.0029\n",
            "Epoch 21/100\n",
            "1/1 [==============================] - 0s 24ms/step - loss: 11.9311 - mae: 11.9311\n",
            "Epoch 22/100\n",
            "1/1 [==============================] - 0s 15ms/step - loss: 11.8592 - mae: 11.8592\n",
            "Epoch 23/100\n",
            "1/1 [==============================] - 0s 19ms/step - loss: 11.7871 - mae: 11.7871\n",
            "Epoch 24/100\n",
            "1/1 [==============================] - 0s 17ms/step - loss: 11.7149 - mae: 11.7149\n",
            "Epoch 25/100\n",
            "1/1 [==============================] - 0s 13ms/step - loss: 11.6425 - mae: 11.6425\n",
            "Epoch 26/100\n",
            "1/1 [==============================] - 0s 14ms/step - loss: 11.5699 - mae: 11.5699\n",
            "Epoch 27/100\n",
            "1/1 [==============================] - 0s 15ms/step - loss: 11.4972 - mae: 11.4972\n",
            "Epoch 28/100\n",
            "1/1 [==============================] - 0s 18ms/step - loss: 11.4242 - mae: 11.4242\n",
            "Epoch 29/100\n",
            "1/1 [==============================] - 0s 14ms/step - loss: 11.3511 - mae: 11.3511\n",
            "Epoch 30/100\n",
            "1/1 [==============================] - 0s 21ms/step - loss: 11.2778 - mae: 11.2778\n",
            "Epoch 31/100\n",
            "1/1 [==============================] - 0s 18ms/step - loss: 11.2043 - mae: 11.2043\n",
            "Epoch 32/100\n",
            "1/1 [==============================] - 0s 16ms/step - loss: 11.1305 - mae: 11.1305\n",
            "Epoch 33/100\n",
            "1/1 [==============================] - 0s 14ms/step - loss: 11.0566 - mae: 11.0566\n",
            "Epoch 34/100\n",
            "1/1 [==============================] - 0s 15ms/step - loss: 10.9824 - mae: 10.9824\n",
            "Epoch 35/100\n",
            "1/1 [==============================] - 0s 15ms/step - loss: 10.9080 - mae: 10.9080\n",
            "Epoch 36/100\n",
            "1/1 [==============================] - 0s 15ms/step - loss: 10.8333 - mae: 10.8333\n",
            "Epoch 37/100\n",
            "1/1 [==============================] - 0s 15ms/step - loss: 10.7585 - mae: 10.7585\n",
            "Epoch 38/100\n",
            "1/1 [==============================] - 0s 14ms/step - loss: 10.6833 - mae: 10.6833\n",
            "Epoch 39/100\n",
            "1/1 [==============================] - 0s 14ms/step - loss: 10.6080 - mae: 10.6080\n",
            "Epoch 40/100\n",
            "1/1 [==============================] - 0s 15ms/step - loss: 10.5323 - mae: 10.5323\n",
            "Epoch 41/100\n",
            "1/1 [==============================] - 0s 15ms/step - loss: 10.4564 - mae: 10.4564\n",
            "Epoch 42/100\n",
            "1/1 [==============================] - 0s 19ms/step - loss: 10.3802 - mae: 10.3802\n",
            "Epoch 43/100\n",
            "1/1 [==============================] - 0s 30ms/step - loss: 10.3038 - mae: 10.3038\n",
            "Epoch 44/100\n",
            "1/1 [==============================] - 0s 17ms/step - loss: 10.2270 - mae: 10.2270\n",
            "Epoch 45/100\n",
            "1/1 [==============================] - 0s 18ms/step - loss: 10.1500 - mae: 10.1500\n",
            "Epoch 46/100\n",
            "1/1 [==============================] - 0s 16ms/step - loss: 10.0726 - mae: 10.0726\n",
            "Epoch 47/100\n",
            "1/1 [==============================] - 0s 16ms/step - loss: 9.9950 - mae: 9.9950\n",
            "Epoch 48/100\n",
            "1/1 [==============================] - 0s 17ms/step - loss: 9.9170 - mae: 9.9170\n",
            "Epoch 49/100\n",
            "1/1 [==============================] - 0s 22ms/step - loss: 9.8387 - mae: 9.8387\n",
            "Epoch 50/100\n",
            "1/1 [==============================] - 0s 26ms/step - loss: 9.7601 - mae: 9.7601\n",
            "Epoch 51/100\n",
            "1/1 [==============================] - 0s 24ms/step - loss: 9.6811 - mae: 9.6811\n",
            "Epoch 52/100\n",
            "1/1 [==============================] - 0s 20ms/step - loss: 9.6018 - mae: 9.6018\n",
            "Epoch 53/100\n",
            "1/1 [==============================] - 0s 15ms/step - loss: 9.5221 - mae: 9.5221\n",
            "Epoch 54/100\n",
            "1/1 [==============================] - 0s 21ms/step - loss: 9.4421 - mae: 9.4421\n",
            "Epoch 55/100\n",
            "1/1 [==============================] - 0s 20ms/step - loss: 9.3617 - mae: 9.3617\n",
            "Epoch 56/100\n",
            "1/1 [==============================] - 0s 22ms/step - loss: 9.2810 - mae: 9.2810\n",
            "Epoch 57/100\n",
            "1/1 [==============================] - 0s 21ms/step - loss: 9.1999 - mae: 9.1999\n",
            "Epoch 58/100\n",
            "1/1 [==============================] - 0s 19ms/step - loss: 9.1183 - mae: 9.1183\n",
            "Epoch 59/100\n",
            "1/1 [==============================] - 0s 17ms/step - loss: 9.0364 - mae: 9.0364\n",
            "Epoch 60/100\n",
            "1/1 [==============================] - 0s 22ms/step - loss: 8.9541 - mae: 8.9541\n",
            "Epoch 61/100\n",
            "1/1 [==============================] - 0s 19ms/step - loss: 8.8714 - mae: 8.8714\n",
            "Epoch 62/100\n",
            "1/1 [==============================] - 0s 17ms/step - loss: 8.7882 - mae: 8.7882\n",
            "Epoch 63/100\n",
            "1/1 [==============================] - 0s 12ms/step - loss: 8.7047 - mae: 8.7047\n",
            "Epoch 64/100\n",
            "1/1 [==============================] - 0s 23ms/step - loss: 8.6206 - mae: 8.6206\n",
            "Epoch 65/100\n",
            "1/1 [==============================] - 0s 15ms/step - loss: 8.5362 - mae: 8.5362\n",
            "Epoch 66/100\n",
            "1/1 [==============================] - 0s 16ms/step - loss: 8.4513 - mae: 8.4513\n",
            "Epoch 67/100\n",
            "1/1 [==============================] - 0s 15ms/step - loss: 8.3660 - mae: 8.3660\n",
            "Epoch 68/100\n",
            "1/1 [==============================] - 0s 14ms/step - loss: 8.2801 - mae: 8.2801\n",
            "Epoch 69/100\n",
            "1/1 [==============================] - 0s 16ms/step - loss: 8.1939 - mae: 8.1939\n",
            "Epoch 70/100\n",
            "1/1 [==============================] - 0s 18ms/step - loss: 8.1071 - mae: 8.1071\n",
            "Epoch 71/100\n",
            "1/1 [==============================] - 0s 21ms/step - loss: 8.0199 - mae: 8.0199\n",
            "Epoch 72/100\n",
            "1/1 [==============================] - 0s 31ms/step - loss: 7.9321 - mae: 7.9321\n",
            "Epoch 73/100\n",
            "1/1 [==============================] - 0s 15ms/step - loss: 7.8439 - mae: 7.8439\n",
            "Epoch 74/100\n",
            "1/1 [==============================] - 0s 15ms/step - loss: 7.7552 - mae: 7.7552\n",
            "Epoch 75/100\n",
            "1/1 [==============================] - 0s 11ms/step - loss: 7.6659 - mae: 7.6659\n",
            "Epoch 76/100\n",
            "1/1 [==============================] - 0s 11ms/step - loss: 7.5761 - mae: 7.5761\n",
            "Epoch 77/100\n",
            "1/1 [==============================] - 0s 14ms/step - loss: 7.4858 - mae: 7.4858\n",
            "Epoch 78/100\n",
            "1/1 [==============================] - 0s 12ms/step - loss: 7.3950 - mae: 7.3950\n",
            "Epoch 79/100\n",
            "1/1 [==============================] - 0s 27ms/step - loss: 7.3036 - mae: 7.3036\n",
            "Epoch 80/100\n",
            "1/1 [==============================] - 0s 15ms/step - loss: 7.2117 - mae: 7.2117\n",
            "Epoch 81/100\n",
            "1/1 [==============================] - 0s 21ms/step - loss: 7.1192 - mae: 7.1192\n",
            "Epoch 82/100\n",
            "1/1 [==============================] - 0s 23ms/step - loss: 7.0261 - mae: 7.0261\n",
            "Epoch 83/100\n",
            "1/1 [==============================] - 0s 26ms/step - loss: 6.9325 - mae: 6.9325\n",
            "Epoch 84/100\n",
            "1/1 [==============================] - 0s 46ms/step - loss: 6.8383 - mae: 6.8383\n",
            "Epoch 85/100\n",
            "1/1 [==============================] - 0s 36ms/step - loss: 6.7879 - mae: 6.7879\n",
            "Epoch 86/100\n",
            "1/1 [==============================] - 0s 13ms/step - loss: 6.7770 - mae: 6.7770\n",
            "Epoch 87/100\n",
            "1/1 [==============================] - 0s 29ms/step - loss: 6.7662 - mae: 6.7662\n",
            "Epoch 88/100\n",
            "1/1 [==============================] - 0s 23ms/step - loss: 6.7557 - mae: 6.7557\n",
            "Epoch 89/100\n",
            "1/1 [==============================] - 0s 15ms/step - loss: 6.7454 - mae: 6.7454\n",
            "Epoch 90/100\n",
            "1/1 [==============================] - 0s 54ms/step - loss: 6.7353 - mae: 6.7353\n",
            "Epoch 91/100\n",
            "1/1 [==============================] - 0s 31ms/step - loss: 6.7254 - mae: 6.7254\n",
            "Epoch 92/100\n",
            "1/1 [==============================] - 0s 29ms/step - loss: 6.7156 - mae: 6.7156\n",
            "Epoch 93/100\n",
            "1/1 [==============================] - 0s 17ms/step - loss: 6.7059 - mae: 6.7059\n",
            "Epoch 94/100\n",
            "1/1 [==============================] - 0s 12ms/step - loss: 6.6964 - mae: 6.6964\n",
            "Epoch 95/100\n",
            "1/1 [==============================] - 0s 17ms/step - loss: 6.6870 - mae: 6.6870\n",
            "Epoch 96/100\n",
            "1/1 [==============================] - 0s 18ms/step - loss: 6.6779 - mae: 6.6779\n",
            "Epoch 97/100\n",
            "1/1 [==============================] - 0s 27ms/step - loss: 6.6872 - mae: 6.6872\n",
            "Epoch 98/100\n",
            "1/1 [==============================] - 0s 32ms/step - loss: 6.6898 - mae: 6.6898\n",
            "Epoch 99/100\n",
            "1/1 [==============================] - 0s 30ms/step - loss: 6.6864 - mae: 6.6864\n",
            "Epoch 100/100\n",
            "1/1 [==============================] - 0s 38ms/step - loss: 6.6776 - mae: 6.6776\n"
          ]
        },
        {
          "output_type": "execute_result",
          "data": {
            "text/plain": [
              "<keras.src.callbacks.History at 0x78e7e56bde10>"
            ]
          },
          "metadata": {},
          "execution_count": 23
        }
      ]
    },
    {
      "cell_type": "code",
      "source": [
        "# Let's try to predict the y value -\n",
        "model.predict([17.0])"
      ],
      "metadata": {
        "colab": {
          "base_uri": "https://localhost:8080/"
        },
        "id": "TgOvSXg48ID0",
        "outputId": "aac38827-d3ab-4261-a807-cb84a0c3bb79"
      },
      "execution_count": 24,
      "outputs": [
        {
          "output_type": "stream",
          "name": "stderr",
          "text": [
            "WARNING:tensorflow:6 out of the last 6 calls to <function Model.make_predict_function.<locals>.predict_function at 0x78e7e6fcab90> triggered tf.function retracing. Tracing is expensive and the excessive number of tracings could be due to (1) creating @tf.function repeatedly in a loop, (2) passing tensors with different shapes, (3) passing Python objects instead of tensors. For (1), please define your @tf.function outside of the loop. For (2), @tf.function has reduce_retracing=True option that can avoid unnecessary retracing. For (3), please refer to https://www.tensorflow.org/guide/function#controlling_retracing and https://www.tensorflow.org/api_docs/python/tf/function for  more details.\n"
          ]
        },
        {
          "output_type": "stream",
          "name": "stdout",
          "text": [
            "1/1 [==============================] - 0s 362ms/step\n"
          ]
        },
        {
          "output_type": "execute_result",
          "data": {
            "text/plain": [
              "array([[31.987017]], dtype=float32)"
            ]
          },
          "metadata": {},
          "execution_count": 24
        }
      ]
    },
    {
      "cell_type": "markdown",
      "source": [
        "## Evaluating a model\n",
        "\n",
        "In practice , typical workflow you'll go through when building neural network is:\n",
        "```\n",
        "Build a model -> fit it -> evaluate it -> tweak a model -> fit it -> evaluate it -> tweak a model -> fit it -> evaluate it ...\n",
        "```\n"
      ],
      "metadata": {
        "id": "6qoDRu9Y8tq9"
      }
    },
    {
      "cell_type": "markdown",
      "source": [
        "#### When it comes to evaluation ... there are 3 words you should memorize:\n",
        "> \"visualize, Visualize, Visualize\"\n",
        "\n",
        "It is always a good idea to visualize -\n",
        "* The data - what data are we working with? What does it look like?\n",
        "* The model itself - What does our model look like?\n",
        "* The traning of a model - how does a model perform while it learns?\n",
        "* The predictions of the model - how do the predictions of a model line up against the ground truth (the original lables)."
      ],
      "metadata": {
        "id": "3OstztIM9GqH"
      }
    },
    {
      "cell_type": "code",
      "source": [
        "# Make a bigger dataset\n",
        "X = tf.range(-100,100,4)\n",
        "X"
      ],
      "metadata": {
        "colab": {
          "base_uri": "https://localhost:8080/"
        },
        "id": "YIMcyf5D9GmS",
        "outputId": "924752ea-0d7d-47e0-fad3-1e72d9f7d572"
      },
      "execution_count": 25,
      "outputs": [
        {
          "output_type": "execute_result",
          "data": {
            "text/plain": [
              "<tf.Tensor: shape=(50,), dtype=int32, numpy=\n",
              "array([-100,  -96,  -92,  -88,  -84,  -80,  -76,  -72,  -68,  -64,  -60,\n",
              "        -56,  -52,  -48,  -44,  -40,  -36,  -32,  -28,  -24,  -20,  -16,\n",
              "        -12,   -8,   -4,    0,    4,    8,   12,   16,   20,   24,   28,\n",
              "         32,   36,   40,   44,   48,   52,   56,   60,   64,   68,   72,\n",
              "         76,   80,   84,   88,   92,   96], dtype=int32)>"
            ]
          },
          "metadata": {},
          "execution_count": 25
        }
      ]
    },
    {
      "cell_type": "code",
      "source": [
        "# Make labels for the dataset -\n",
        "y = X+10\n",
        "y"
      ],
      "metadata": {
        "colab": {
          "base_uri": "https://localhost:8080/"
        },
        "id": "pcPmpQ5rAQ3L",
        "outputId": "551d5a1a-1ce9-4245-b9aa-5d2236035af8"
      },
      "execution_count": 26,
      "outputs": [
        {
          "output_type": "execute_result",
          "data": {
            "text/plain": [
              "<tf.Tensor: shape=(50,), dtype=int32, numpy=\n",
              "array([-90, -86, -82, -78, -74, -70, -66, -62, -58, -54, -50, -46, -42,\n",
              "       -38, -34, -30, -26, -22, -18, -14, -10,  -6,  -2,   2,   6,  10,\n",
              "        14,  18,  22,  26,  30,  34,  38,  42,  46,  50,  54,  58,  62,\n",
              "        66,  70,  74,  78,  82,  86,  90,  94,  98, 102, 106], dtype=int32)>"
            ]
          },
          "metadata": {},
          "execution_count": 26
        }
      ]
    },
    {
      "cell_type": "code",
      "source": [
        "# Visualize the data:\n",
        "import matplotlib.pyplot as plt\n",
        "plt.scatter(X,y)"
      ],
      "metadata": {
        "colab": {
          "base_uri": "https://localhost:8080/",
          "height": 447
        },
        "id": "NbTAimsvAdjk",
        "outputId": "cb4600c9-dce5-432b-fd32-d23463edb533"
      },
      "execution_count": 27,
      "outputs": [
        {
          "output_type": "execute_result",
          "data": {
            "text/plain": [
              "<matplotlib.collections.PathCollection at 0x78e7e55ac490>"
            ]
          },
          "metadata": {},
          "execution_count": 27
        },
        {
          "output_type": "display_data",
          "data": {
            "text/plain": [
              "<Figure size 640x480 with 1 Axes>"
            ],
            "image/png": "[encoded data removed]"
          },
          "metadata": {}
        }
      ]
    },
    {
      "cell_type": "code",
      "source": [
        "# Split the data into train and test sets -\n",
        "X_train = X[:40]\n",
        "X_test = X[40:]\n",
        "\n",
        "y_train = y[:40]\n",
        "y_test = y[40:]\n",
        "\n",
        "len(X_train), len(X_test), len(y_train), len(y_test)"
      ],
      "metadata": {
        "colab": {
          "base_uri": "https://localhost:8080/"
        },
        "id": "Sv7rpxZsAqmm",
        "outputId": "a79627f0-c228-4fcf-e4b0-6e4efc61f7ee"
      },
      "execution_count": 28,
      "outputs": [
        {
          "output_type": "execute_result",
          "data": {
            "text/plain": [
              "(40, 10, 40, 10)"
            ]
          },
          "metadata": {},
          "execution_count": 28
        }
      ]
    },
    {
      "cell_type": "markdown",
      "source": [
        "### Visualizing the data\n",
        "Now we have got our data in training and test sets...let's visualize it again"
      ],
      "metadata": {
        "id": "FTlBzJaj8Eip"
      }
    },
    {
      "cell_type": "code",
      "source": [
        "plt.figure(figsize =(8,6))\n",
        "# Plot training data in blue-\n",
        "plt.scatter(X_train, y_train, c='b', label = \"Training Data\") # Our model need to learn on this\n",
        "# Plot testing data in green\n",
        "plt.scatter(X_test, y_test, c='g', label = \"Testing Data\")\n",
        "# Show a legend\n",
        "plt.legend();"
      ],
      "metadata": {
        "colab": {
          "base_uri": "https://localhost:8080/",
          "height": 522
        },
        "id": "J5vVxB5B8pOl",
        "outputId": "3b8ec553-df97-41f7-8e56-2f5fcbc04e55"
      },
      "execution_count": 29,
      "outputs": [
        {
          "output_type": "display_data",
          "data": {
            "text/plain": [
              "<Figure size 800x600 with 1 Axes>"
            ],
            "image/png": "[encoded data removed]"
          },
          "metadata": {}
        }
      ]
    },
    {
      "cell_type": "code",
      "source": [
        "# Let's have a look at how to build a neural network for our data -\n",
        "\n",
        "# 1. Create a model\n",
        "model = tf.keras.Sequential([\n",
        "    tf.keras.layers.Dense(1)\n",
        "])\n",
        "\n",
        "# 2. Compile the model\n",
        "model.compile(loss=tf.keras.losses.mae,\n",
        "              optimizer = tf.keras.optimizers.SGD(),\n",
        "              metrics = ['mae'])\n",
        "\n",
        "# # 3. Fit the model\n",
        "# model.fit(X_train, y_train, epochs=100)"
      ],
      "metadata": {
        "id": "B0Jxk6qE8pLI"
      },
      "execution_count": 30,
      "outputs": []
    },
    {
      "cell_type": "code",
      "source": [
        "# model.summary()"
      ],
      "metadata": {
        "id": "k5L0nFqr-ltB"
      },
      "execution_count": 31,
      "outputs": []
    },
    {
      "cell_type": "code",
      "source": [
        "# Let's create a model which builds automatically by defining the input_shape argument\n",
        "tf.random.set_seed(42)\n",
        "#1. Create a model\n",
        "model = tf.keras.Sequential([\n",
        "    tf.keras.layers.Dense(10, input_shape=[1], name='input_layer'),\n",
        "    tf.keras.layers.Dense(1, name='output_layer')  # Dense is a fully connected layer\n",
        "], name='Model_1')\n",
        "# 2. Compile a model\n",
        "model.compile(loss=tf.keras.losses.mae,\n",
        "              optimizer=tf.keras.optimizers.SGD(),\n",
        "              metrics=['mae'])\n"
      ],
      "metadata": {
        "id": "RfhOvh7y-vna"
      },
      "execution_count": 32,
      "outputs": []
    },
    {
      "cell_type": "code",
      "source": [
        "model.summary()"
      ],
      "metadata": {
        "colab": {
          "base_uri": "https://localhost:8080/"
        },
        "id": "wWs-dR9Y_xH3",
        "outputId": "275d9679-24a5-42c8-c4fc-28f5dd50e050"
      },
      "execution_count": 33,
      "outputs": [
        {
          "output_type": "stream",
          "name": "stdout",
          "text": [
            "Model: \"Model_1\"\n",
            "_________________________________________________________________\n",
            " Layer (type)                Output Shape              Param #   \n",
            "=================================================================\n",
            " input_layer (Dense)         (None, 10)                20        \n",
            "                                                                 \n",
            " output_layer (Dense)        (None, 1)                 11        \n",
            "                                                                 \n",
            "=================================================================\n",
            "Total params: 31 (124.00 Byte)\n",
            "Trainable params: 31 (124.00 Byte)\n",
            "Non-trainable params: 0 (0.00 Byte)\n",
            "_________________________________________________________________\n"
          ]
        }
      ]
    },
    {
      "cell_type": "code",
      "source": [
        "# Let's fit our model with the training data\n",
        "model.fit(X_train, y_train, epochs=100, verbose=0)"
      ],
      "metadata": {
        "colab": {
          "base_uri": "https://localhost:8080/"
        },
        "id": "eNtDHL3x_0tB",
        "outputId": "b96cee72-97c3-4acc-e7f7-725928be01ec"
      },
      "execution_count": 34,
      "outputs": [
        {
          "output_type": "execute_result",
          "data": {
            "text/plain": [
              "<keras.src.callbacks.History at 0x78e7e530d8a0>"
            ]
          },
          "metadata": {},
          "execution_count": 34
        }
      ]
    },
    {
      "cell_type": "code",
      "source": [
        "from tensorflow.keras.utils import plot_model\n",
        "\n",
        "plot_model(model=model, show_shapes= True)"
      ],
      "metadata": {
        "colab": {
          "base_uri": "https://localhost:8080/",
          "height": 312
        },
        "id": "bBzI_7ObCEJi",
        "outputId": "42361757-5fa5-4fb8-8e14-18b9e5d01af0"
      },
      "execution_count": 35,
      "outputs": [
        {
          "output_type": "execute_result",
          "data": {
            "image/png": "[encoded data removed]",
            "text/plain": [
              "<IPython.core.display.Image object>"
            ]
          },
          "metadata": {},
          "execution_count": 35
        }
      ]
    },
    {
      "cell_type": "markdown",
      "source": [
        "### Visualizing our Model's predictions -\n",
        "\n",
        "To visualize the predictions, it's a good practice to plot them against the ground truth labels.\n",
        "often you'll see this in the form of `y_test` or `y_true` versus `y_pred` (ground truth versus your model's predictions)\n"
      ],
      "metadata": {
        "id": "zjKMGd3dDATe"
      }
    },
    {
      "cell_type": "code",
      "source": [
        "# Make some predictions to create y_pred\n",
        "y_preds = model.predict(X_test)\n",
        "y_preds"
      ],
      "metadata": {
        "colab": {
          "base_uri": "https://localhost:8080/"
        },
        "id": "qHtlOaLfrmlk",
        "outputId": "596df798-7722-4356-b9b7-5bd350c46a0c"
      },
      "execution_count": 36,
      "outputs": [
        {
          "output_type": "stream",
          "name": "stdout",
          "text": [
            "1/1 [==============================] - 0s 93ms/step\n"
          ]
        },
        {
          "output_type": "execute_result",
          "data": {
            "text/plain": [
              "array([[ 78.26857 ],\n",
              "       [ 83.37034 ],\n",
              "       [ 88.472115],\n",
              "       [ 93.57389 ],\n",
              "       [ 98.67566 ],\n",
              "       [103.77744 ],\n",
              "       [108.87921 ],\n",
              "       [113.98099 ],\n",
              "       [119.082756],\n",
              "       [124.18453 ]], dtype=float32)"
            ]
          },
          "metadata": {},
          "execution_count": 36
        }
      ]
    },
    {
      "cell_type": "code",
      "source": [
        "y_test"
      ],
      "metadata": {
        "colab": {
          "base_uri": "https://localhost:8080/"
        },
        "id": "bUKdZpvfr0q3",
        "outputId": "37cdad33-92d2-4349-c159-1cb8b8fa28cb"
      },
      "execution_count": 37,
      "outputs": [
        {
          "output_type": "execute_result",
          "data": {
            "text/plain": [
              "<tf.Tensor: shape=(10,), dtype=int32, numpy=array([ 70,  74,  78,  82,  86,  90,  94,  98, 102, 106], dtype=int32)>"
            ]
          },
          "metadata": {},
          "execution_count": 37
        }
      ]
    },
    {
      "cell_type": "code",
      "source": [
        "X_train.shape"
      ],
      "metadata": {
        "colab": {
          "base_uri": "https://localhost:8080/"
        },
        "id": "6pKW_QypuMH9",
        "outputId": "24abae31-33b5-479e-a8bd-0d9cb9ef8398"
      },
      "execution_count": 38,
      "outputs": [
        {
          "output_type": "execute_result",
          "data": {
            "text/plain": [
              "TensorShape([40])"
            ]
          },
          "metadata": {},
          "execution_count": 38
        }
      ]
    },
    {
      "cell_type": "code",
      "source": [
        "y_preds.shape"
      ],
      "metadata": {
        "colab": {
          "base_uri": "https://localhost:8080/"
        },
        "id": "5VotetlquClY",
        "outputId": "da5b7140-4127-44e1-b6a0-da6d804dadde"
      },
      "execution_count": 39,
      "outputs": [
        {
          "output_type": "execute_result",
          "data": {
            "text/plain": [
              "(10, 1)"
            ]
          },
          "metadata": {},
          "execution_count": 39
        }
      ]
    },
    {
      "cell_type": "code",
      "source": [
        "# Let's create a plotting function -\n",
        "def plot_predictions(train_data=X_train,\n",
        "                     train_labels = y_train,\n",
        "                     test_data=X_test,\n",
        "                     test_labels=y_test,\n",
        "                     predictions=y_preds):\n",
        "  \"\"\" Plots training data, test data and compares predictions to ground truth label \"\"\"\n",
        "  plt.figure(figsize=(8,6))\n",
        "  #plot training data in blue\n",
        "  plt.scatter(train_data, train_labels, c='b', label='Training Data')\n",
        "  #plot testing data in green\n",
        "  plt.scatter(test_data, test_labels, c='g', label =\"Testing Data\")\n",
        "  #plot model's predictions in red\n",
        "  plt.scatter(test_data, predictions, c='r', label = \"Predictions\")\n",
        "  # Show the legend\n",
        "  plt.legend();"
      ],
      "metadata": {
        "id": "Ghnwh4K3r4bo"
      },
      "execution_count": 40,
      "outputs": []
    },
    {
      "cell_type": "code",
      "source": [
        "plot_predictions()"
      ],
      "metadata": {
        "colab": {
          "base_uri": "https://localhost:8080/",
          "height": 522
        },
        "id": "bx_pRxd1trdt",
        "outputId": "b75ad0c7-27d9-4aff-cc0a-f29067f0334d"
      },
      "execution_count": 41,
      "outputs": [
        {
          "output_type": "display_data",
          "data": {
            "text/plain": [
              "<Figure size 800x600 with 1 Axes>"
            ],
            "image/png": "[encoded data removed]"
          },
          "metadata": {}
        }
      ]
    },
    {
      "cell_type": "markdown",
      "source": [
        "### Evaluating our model's prediction with regression evaluation metrics:\n",
        "Depeneding on the problem you are working on, there will be different evaluation metrics to evaluate your model's performance.\n",
        "\n",
        "Since we're working on a regression, two of the main etrics:\n",
        "* MAE - mean absolute error, \" on average, how wrong is each of my model's predictions\".\n",
        "\n",
        "* MSE - Mean square error, \"Square the average errors\""
      ],
      "metadata": {
        "id": "905aANuptx-f"
      }
    },
    {
      "cell_type": "code",
      "source": [
        "# Evaluate the model on the test set\n",
        "model.evaluate(X_test, y_test)"
      ],
      "metadata": {
        "colab": {
          "base_uri": "https://localhost:8080/"
        },
        "id": "K_2k7IyCAb2u",
        "outputId": "fc0585e6-4685-438f-d91d-720b0b06b8a2"
      },
      "execution_count": 42,
      "outputs": [
        {
          "output_type": "stream",
          "name": "stdout",
          "text": [
            "1/1 [==============================] - 0s 408ms/step - loss: 13.2266 - mae: 13.2266\n"
          ]
        },
        {
          "output_type": "execute_result",
          "data": {
            "text/plain": [
              "[13.226550102233887, 13.226550102233887]"
            ]
          },
          "metadata": {},
          "execution_count": 42
        }
      ]
    },
    {
      "cell_type": "code",
      "source": [
        "# Calaculate the mean absolute error -\n",
        "mae = tf.metrics.mean_absolute_error(y_true = y_test, y_pred = y_preds)\n",
        "mae"
      ],
      "metadata": {
        "colab": {
          "base_uri": "https://localhost:8080/"
        },
        "id": "HGpQNPnFAbze",
        "outputId": "6fc04191-9cf7-4cad-86aa-65eeba59caf4"
      },
      "execution_count": 43,
      "outputs": [
        {
          "output_type": "execute_result",
          "data": {
            "text/plain": [
              "<tf.Tensor: shape=(10,), dtype=float32, numpy=\n",
              "array([12.292572, 10.525932, 10.      , 10.714778, 12.805395, 16.221954,\n",
              "       20.879211, 25.980988, 31.082758, 36.184532], dtype=float32)>"
            ]
          },
          "metadata": {},
          "execution_count": 43
        }
      ]
    },
    {
      "cell_type": "code",
      "source": [
        "tf.constant(y_preds)"
      ],
      "metadata": {
        "colab": {
          "base_uri": "https://localhost:8080/"
        },
        "id": "Om-1xg8PEIyw",
        "outputId": "f1cedfc5-4a5d-4452-c504-98e86f172066"
      },
      "execution_count": 44,
      "outputs": [
        {
          "output_type": "execute_result",
          "data": {
            "text/plain": [
              "<tf.Tensor: shape=(10, 1), dtype=float32, numpy=\n",
              "array([[ 78.26857 ],\n",
              "       [ 83.37034 ],\n",
              "       [ 88.472115],\n",
              "       [ 93.57389 ],\n",
              "       [ 98.67566 ],\n",
              "       [103.77744 ],\n",
              "       [108.87921 ],\n",
              "       [113.98099 ],\n",
              "       [119.082756],\n",
              "       [124.18453 ]], dtype=float32)>"
            ]
          },
          "metadata": {},
          "execution_count": 44
        }
      ]
    },
    {
      "cell_type": "code",
      "source": [
        "tf.squeeze(y_preds)"
      ],
      "metadata": {
        "colab": {
          "base_uri": "https://localhost:8080/"
        },
        "id": "nyCqWe0PEko3",
        "outputId": "90655045-57e9-48c4-95a6-def46875e34d"
      },
      "execution_count": 45,
      "outputs": [
        {
          "output_type": "execute_result",
          "data": {
            "text/plain": [
              "<tf.Tensor: shape=(10,), dtype=float32, numpy=\n",
              "array([ 78.26857 ,  83.37034 ,  88.472115,  93.57389 ,  98.67566 ,\n",
              "       103.77744 , 108.87921 , 113.98099 , 119.082756, 124.18453 ],\n",
              "      dtype=float32)>"
            ]
          },
          "metadata": {},
          "execution_count": 45
        }
      ]
    },
    {
      "cell_type": "code",
      "source": [
        "# Calculate the mean absolute error\n",
        "mae = tf.metrics.mean_absolute_error(y_true = y_test,\n",
        "                                     y_pred = tf.squeeze(y_preds))\n",
        "mae"
      ],
      "metadata": {
        "colab": {
          "base_uri": "https://localhost:8080/"
        },
        "id": "0JG4-uFLExLh",
        "outputId": "3653146a-34e3-4a72-d129-0ac3752f520a"
      },
      "execution_count": 46,
      "outputs": [
        {
          "output_type": "execute_result",
          "data": {
            "text/plain": [
              "<tf.Tensor: shape=(), dtype=float32, numpy=13.22655>"
            ]
          },
          "metadata": {},
          "execution_count": 46
        }
      ]
    },
    {
      "cell_type": "code",
      "source": [
        "# Calculate the mean square error\n",
        "mse = tf.metrics.mean_squared_error(y_true=y_test,\n",
        "                                    y_pred=tf.squeeze(y_preds))\n",
        "mse"
      ],
      "metadata": {
        "colab": {
          "base_uri": "https://localhost:8080/"
        },
        "id": "VLlhr4OVFGbg",
        "outputId": "55a163e4-469c-4ac8-f491-ab67df1901cf"
      },
      "execution_count": 47,
      "outputs": [
        {
          "output_type": "execute_result",
          "data": {
            "text/plain": [
              "<tf.Tensor: shape=(), dtype=float32, numpy=184.95638>"
            ]
          },
          "metadata": {},
          "execution_count": 47
        }
      ]
    },
    {
      "cell_type": "code",
      "source": [
        "# Make some functions to reuse MAE and MSE:\n",
        "def mae(y_true, y_pred):\n",
        "  return tf.metrics.mean_absolute_error(y_true = y_true,\n",
        "                                        y_pred = tf.squeeze(y_pred))\n",
        "\n",
        "def mse(y_true, y_pred):\n",
        "  return tf.metrics.mean_squared_error(y_true = y_true,\n",
        "                                       y_pred = tf.squeeze(y_pred))"
      ],
      "metadata": {
        "id": "Dfk3jI9mFkTM"
      },
      "execution_count": 48,
      "outputs": []
    },
    {
      "cell_type": "markdown",
      "source": [
        "### Running experiments to improve our model\n",
        "```\n",
        "build a model -> fit it -> evaluate it -> tweak it -> fit it -> evaluate it -> tweak it -> fit it ->evaluate it ...\n",
        "```\n",
        "\n",
        "1. Get more data - get more examples for your model to train on (more opportunities to learn patterns or relationships between featureds and labels).\n",
        "2. Make your model larger (using a more complex model) - this might come in the form of more layers or more hidden units in each layer.\n",
        "3. Train for longer - give your model more of a chance to find the pattens in the data."
      ],
      "metadata": {
        "id": "D1oxmdwWGrmU"
      }
    },
    {
      "cell_type": "code",
      "source": [
        "X_train, y_train"
      ],
      "metadata": {
        "colab": {
          "base_uri": "https://localhost:8080/"
        },
        "id": "3K5aAQ5pIGp2",
        "outputId": "e7839963-f647-4011-ed09-b3828220d643"
      },
      "execution_count": 49,
      "outputs": [
        {
          "output_type": "execute_result",
          "data": {
            "text/plain": [
              "(<tf.Tensor: shape=(40,), dtype=int32, numpy=\n",
              " array([-100,  -96,  -92,  -88,  -84,  -80,  -76,  -72,  -68,  -64,  -60,\n",
              "         -56,  -52,  -48,  -44,  -40,  -36,  -32,  -28,  -24,  -20,  -16,\n",
              "         -12,   -8,   -4,    0,    4,    8,   12,   16,   20,   24,   28,\n",
              "          32,   36,   40,   44,   48,   52,   56], dtype=int32)>,\n",
              " <tf.Tensor: shape=(40,), dtype=int32, numpy=\n",
              " array([-90, -86, -82, -78, -74, -70, -66, -62, -58, -54, -50, -46, -42,\n",
              "        -38, -34, -30, -26, -22, -18, -14, -10,  -6,  -2,   2,   6,  10,\n",
              "         14,  18,  22,  26,  30,  34,  38,  42,  46,  50,  54,  58,  62,\n",
              "         66], dtype=int32)>)"
            ]
          },
          "metadata": {},
          "execution_count": 49
        }
      ]
    },
    {
      "cell_type": "markdown",
      "source": [
        "* Let's do 3 modelling expirements :\n",
        "1. `model_1` - same as the original model, 1 layer, trained for 100 epochs\n",
        "2. `model_2` - 2 layers, trained for 100 epochs\n",
        "3. `model_3` - 2 layers, trained for 500 epochs\n",
        "\n",
        "**Build `model_1`**"
      ],
      "metadata": {
        "id": "VCac2ywCIJ83"
      }
    },
    {
      "cell_type": "code",
      "source": [
        "# Set random seed\n",
        "tf.random.set_seed(42)\n",
        "\n",
        "# 1. Create a model\n",
        "model_1 = tf.keras.Sequential([\n",
        "    tf.keras.layers.Dense(1, input_shape=[1])\n",
        "])\n",
        "# 2. Compile a model\n",
        "model_1.compile(loss = tf.keras.losses.mae,\n",
        "                optimizer=tf.keras.optimizers.SGD(),\n",
        "                metrics=['mae'])\n",
        "\n",
        "# 3. Fit the Model\n",
        "model_1.fit(X_train, y_train, epochs=100)"
      ],
      "metadata": {
        "colab": {
          "base_uri": "https://localhost:8080/"
        },
        "id": "YyRU3PPdKWjy",
        "outputId": "f969143b-5f67-4e07-9d26-c66921e5f4e4"
      },
      "execution_count": 50,
      "outputs": [
        {
          "output_type": "stream",
          "name": "stdout",
          "text": [
            "Epoch 1/100\n",
            "2/2 [==============================] - 1s 40ms/step - loss: 66.9513 - mae: 66.9513\n",
            "Epoch 2/100\n",
            "2/2 [==============================] - 0s 15ms/step - loss: 31.8226 - mae: 31.8226\n",
            "Epoch 3/100\n",
            "2/2 [==============================] - 0s 11ms/step - loss: 9.8438 - mae: 9.8438\n",
            "Epoch 4/100\n",
            "2/2 [==============================] - 0s 24ms/step - loss: 12.0423 - mae: 12.0423\n",
            "Epoch 5/100\n",
            "2/2 [==============================] - 0s 13ms/step - loss: 11.1036 - mae: 11.1036\n",
            "Epoch 6/100\n",
            "2/2 [==============================] - 0s 11ms/step - loss: 10.2564 - mae: 10.2564\n",
            "Epoch 7/100\n",
            "2/2 [==============================] - 0s 13ms/step - loss: 9.2633 - mae: 9.2633\n",
            "Epoch 8/100\n",
            "2/2 [==============================] - 0s 10ms/step - loss: 9.1841 - mae: 9.1841\n",
            "Epoch 9/100\n",
            "2/2 [==============================] - 0s 16ms/step - loss: 11.8176 - mae: 11.8176\n",
            "Epoch 10/100\n",
            "2/2 [==============================] - 0s 11ms/step - loss: 13.7486 - mae: 13.7486\n",
            "Epoch 11/100\n",
            "2/2 [==============================] - 0s 18ms/step - loss: 11.8337 - mae: 11.8337\n",
            "Epoch 12/100\n",
            "2/2 [==============================] - 0s 27ms/step - loss: 16.3675 - mae: 16.3675\n",
            "Epoch 13/100\n",
            "2/2 [==============================] - 0s 10ms/step - loss: 11.9203 - mae: 11.9203\n",
            "Epoch 14/100\n",
            "2/2 [==============================] - 0s 30ms/step - loss: 13.8373 - mae: 13.8373\n",
            "Epoch 15/100\n",
            "2/2 [==============================] - 0s 24ms/step - loss: 11.2240 - mae: 11.2240\n",
            "Epoch 16/100\n",
            "2/2 [==============================] - 0s 42ms/step - loss: 8.6136 - mae: 8.6136\n",
            "Epoch 17/100\n",
            "2/2 [==============================] - 0s 41ms/step - loss: 13.7880 - mae: 13.7880\n",
            "Epoch 18/100\n",
            "2/2 [==============================] - 0s 26ms/step - loss: 11.6500 - mae: 11.6500\n",
            "Epoch 19/100\n",
            "2/2 [==============================] - 0s 36ms/step - loss: 17.7221 - mae: 17.7221\n",
            "Epoch 20/100\n",
            "2/2 [==============================] - 0s 37ms/step - loss: 14.8582 - mae: 14.8582\n",
            "Epoch 21/100\n",
            "2/2 [==============================] - 0s 28ms/step - loss: 10.7695 - mae: 10.7695\n",
            "Epoch 22/100\n",
            "2/2 [==============================] - 0s 31ms/step - loss: 8.5103 - mae: 8.5103\n",
            "Epoch 23/100\n",
            "2/2 [==============================] - 0s 25ms/step - loss: 9.8077 - mae: 9.8077\n",
            "Epoch 24/100\n",
            "2/2 [==============================] - 0s 29ms/step - loss: 10.8682 - mae: 10.8682\n",
            "Epoch 25/100\n",
            "2/2 [==============================] - 0s 22ms/step - loss: 9.1348 - mae: 9.1348\n",
            "Epoch 26/100\n",
            "2/2 [==============================] - 0s 15ms/step - loss: 13.0976 - mae: 13.0976\n",
            "Epoch 27/100\n",
            "2/2 [==============================] - 0s 10ms/step - loss: 10.4275 - mae: 10.4275\n",
            "Epoch 28/100\n",
            "2/2 [==============================] - 0s 27ms/step - loss: 13.4394 - mae: 13.4394\n",
            "Epoch 29/100\n",
            "2/2 [==============================] - 0s 10ms/step - loss: 9.6321 - mae: 9.6321\n",
            "Epoch 30/100\n",
            "2/2 [==============================] - 0s 14ms/step - loss: 17.2657 - mae: 17.2657\n",
            "Epoch 31/100\n",
            "2/2 [==============================] - 0s 25ms/step - loss: 22.8153 - mae: 22.8153\n",
            "Epoch 32/100\n",
            "2/2 [==============================] - 0s 11ms/step - loss: 7.9321 - mae: 7.9321\n",
            "Epoch 33/100\n",
            "2/2 [==============================] - 0s 13ms/step - loss: 14.1868 - mae: 14.1868\n",
            "Epoch 34/100\n",
            "2/2 [==============================] - 0s 9ms/step - loss: 12.4428 - mae: 12.4428\n",
            "Epoch 35/100\n",
            "2/2 [==============================] - 0s 14ms/step - loss: 8.2613 - mae: 8.2613\n",
            "Epoch 36/100\n",
            "2/2 [==============================] - 0s 28ms/step - loss: 10.4707 - mae: 10.4707\n",
            "Epoch 37/100\n",
            "2/2 [==============================] - 0s 21ms/step - loss: 10.1213 - mae: 10.1213\n",
            "Epoch 38/100\n",
            "2/2 [==============================] - 0s 12ms/step - loss: 11.2981 - mae: 11.2981\n",
            "Epoch 39/100\n",
            "2/2 [==============================] - 0s 17ms/step - loss: 14.8100 - mae: 14.8100\n",
            "Epoch 40/100\n",
            "2/2 [==============================] - 0s 13ms/step - loss: 12.9399 - mae: 12.9399\n",
            "Epoch 41/100\n",
            "2/2 [==============================] - 0s 25ms/step - loss: 9.3357 - mae: 9.3357\n",
            "Epoch 42/100\n",
            "2/2 [==============================] - 0s 29ms/step - loss: 10.9873 - mae: 10.9873\n",
            "Epoch 43/100\n",
            "2/2 [==============================] - 0s 23ms/step - loss: 8.3427 - mae: 8.3427\n",
            "Epoch 44/100\n",
            "2/2 [==============================] - 0s 24ms/step - loss: 13.0049 - mae: 13.0049\n",
            "Epoch 45/100\n",
            "2/2 [==============================] - 0s 13ms/step - loss: 13.7362 - mae: 13.7362\n",
            "Epoch 46/100\n",
            "2/2 [==============================] - 0s 13ms/step - loss: 8.4344 - mae: 8.4344\n",
            "Epoch 47/100\n",
            "2/2 [==============================] - 0s 24ms/step - loss: 9.1822 - mae: 9.1822\n",
            "Epoch 48/100\n",
            "2/2 [==============================] - 0s 13ms/step - loss: 10.6854 - mae: 10.6854\n",
            "Epoch 49/100\n",
            "2/2 [==============================] - 0s 14ms/step - loss: 7.7944 - mae: 7.7944\n",
            "Epoch 50/100\n",
            "2/2 [==============================] - 0s 31ms/step - loss: 9.6021 - mae: 9.6021\n",
            "Epoch 51/100\n",
            "2/2 [==============================] - 0s 17ms/step - loss: 9.1840 - mae: 9.1840\n",
            "Epoch 52/100\n",
            "2/2 [==============================] - 0s 24ms/step - loss: 16.4683 - mae: 16.4683\n",
            "Epoch 53/100\n",
            "2/2 [==============================] - 0s 16ms/step - loss: 14.0975 - mae: 14.0975\n",
            "Epoch 54/100\n",
            "2/2 [==============================] - 0s 30ms/step - loss: 21.0212 - mae: 21.0212\n",
            "Epoch 55/100\n",
            "2/2 [==============================] - 0s 10ms/step - loss: 16.4949 - mae: 16.4949\n",
            "Epoch 56/100\n",
            "2/2 [==============================] - 0s 12ms/step - loss: 9.8816 - mae: 9.8816\n",
            "Epoch 57/100\n",
            "2/2 [==============================] - 0s 24ms/step - loss: 9.6711 - mae: 9.6711\n",
            "Epoch 58/100\n",
            "2/2 [==============================] - 0s 27ms/step - loss: 8.9917 - mae: 8.9917\n",
            "Epoch 59/100\n",
            "2/2 [==============================] - 0s 35ms/step - loss: 10.1995 - mae: 10.1995\n",
            "Epoch 60/100\n",
            "2/2 [==============================] - 0s 17ms/step - loss: 8.4352 - mae: 8.4352\n",
            "Epoch 61/100\n",
            "2/2 [==============================] - 0s 19ms/step - loss: 9.2731 - mae: 9.2731\n",
            "Epoch 62/100\n",
            "2/2 [==============================] - 0s 10ms/step - loss: 7.0898 - mae: 7.0898\n",
            "Epoch 63/100\n",
            "2/2 [==============================] - 0s 24ms/step - loss: 8.6685 - mae: 8.6685\n",
            "Epoch 64/100\n",
            "2/2 [==============================] - 0s 17ms/step - loss: 9.2455 - mae: 9.2455\n",
            "Epoch 65/100\n",
            "2/2 [==============================] - 0s 18ms/step - loss: 10.5090 - mae: 10.5090\n",
            "Epoch 66/100\n",
            "2/2 [==============================] - 0s 17ms/step - loss: 15.6426 - mae: 15.6426\n",
            "Epoch 67/100\n",
            "2/2 [==============================] - 0s 11ms/step - loss: 10.0431 - mae: 10.0431\n",
            "Epoch 68/100\n",
            "2/2 [==============================] - 0s 19ms/step - loss: 9.0251 - mae: 9.0251\n",
            "Epoch 69/100\n",
            "2/2 [==============================] - 0s 7ms/step - loss: 12.5136 - mae: 12.5136\n",
            "Epoch 70/100\n",
            "2/2 [==============================] - 0s 16ms/step - loss: 9.0012 - mae: 9.0012\n",
            "Epoch 71/100\n",
            "2/2 [==============================] - 0s 14ms/step - loss: 9.9793 - mae: 9.9793\n",
            "Epoch 72/100\n",
            "2/2 [==============================] - 0s 13ms/step - loss: 10.0105 - mae: 10.0105\n",
            "Epoch 73/100\n",
            "2/2 [==============================] - 0s 15ms/step - loss: 12.5056 - mae: 12.5056\n",
            "Epoch 74/100\n",
            "2/2 [==============================] - 0s 12ms/step - loss: 10.5300 - mae: 10.5300\n",
            "Epoch 75/100\n",
            "2/2 [==============================] - 0s 21ms/step - loss: 9.6727 - mae: 9.6727\n",
            "Epoch 76/100\n",
            "2/2 [==============================] - 0s 16ms/step - loss: 11.1503 - mae: 11.1503\n",
            "Epoch 77/100\n",
            "2/2 [==============================] - 0s 22ms/step - loss: 8.3183 - mae: 8.3183\n",
            "Epoch 78/100\n",
            "2/2 [==============================] - 0s 18ms/step - loss: 9.0320 - mae: 9.0320\n",
            "Epoch 79/100\n",
            "2/2 [==============================] - 0s 17ms/step - loss: 19.7096 - mae: 19.7096\n",
            "Epoch 80/100\n",
            "2/2 [==============================] - 0s 18ms/step - loss: 17.8946 - mae: 17.8946\n",
            "Epoch 81/100\n",
            "2/2 [==============================] - 0s 18ms/step - loss: 7.0628 - mae: 7.0628\n",
            "Epoch 82/100\n",
            "2/2 [==============================] - 0s 21ms/step - loss: 10.4562 - mae: 10.4562\n",
            "Epoch 83/100\n",
            "2/2 [==============================] - 0s 22ms/step - loss: 9.8882 - mae: 9.8882\n",
            "Epoch 84/100\n",
            "2/2 [==============================] - 0s 25ms/step - loss: 7.9290 - mae: 7.9290\n",
            "Epoch 85/100\n",
            "2/2 [==============================] - 0s 14ms/step - loss: 9.4243 - mae: 9.4243\n",
            "Epoch 86/100\n",
            "2/2 [==============================] - 0s 27ms/step - loss: 9.2512 - mae: 9.2512\n",
            "Epoch 87/100\n",
            "2/2 [==============================] - 0s 26ms/step - loss: 12.0261 - mae: 12.0261\n",
            "Epoch 88/100\n",
            "2/2 [==============================] - 0s 22ms/step - loss: 10.6449 - mae: 10.6449\n",
            "Epoch 89/100\n",
            "2/2 [==============================] - 0s 30ms/step - loss: 7.2765 - mae: 7.2765\n",
            "Epoch 90/100\n",
            "2/2 [==============================] - 0s 18ms/step - loss: 12.7841 - mae: 12.7841\n",
            "Epoch 91/100\n",
            "2/2 [==============================] - 0s 14ms/step - loss: 7.3572 - mae: 7.3572\n",
            "Epoch 92/100\n",
            "2/2 [==============================] - 0s 17ms/step - loss: 7.7267 - mae: 7.7267\n",
            "Epoch 93/100\n",
            "2/2 [==============================] - 0s 17ms/step - loss: 7.1366 - mae: 7.1366\n",
            "Epoch 94/100\n",
            "2/2 [==============================] - 0s 13ms/step - loss: 12.6250 - mae: 12.6250\n",
            "Epoch 95/100\n",
            "2/2 [==============================] - 0s 15ms/step - loss: 10.0005 - mae: 10.0005\n",
            "Epoch 96/100\n",
            "2/2 [==============================] - 0s 12ms/step - loss: 9.1312 - mae: 9.1312\n",
            "Epoch 97/100\n",
            "2/2 [==============================] - 0s 17ms/step - loss: 12.0327 - mae: 12.0327\n",
            "Epoch 98/100\n",
            "2/2 [==============================] - 0s 12ms/step - loss: 9.1455 - mae: 9.1455\n",
            "Epoch 99/100\n",
            "2/2 [==============================] - 0s 13ms/step - loss: 8.4980 - mae: 8.4980\n",
            "Epoch 100/100\n",
            "2/2 [==============================] - 0s 12ms/step - loss: 14.3801 - mae: 14.3801\n"
          ]
        },
        {
          "output_type": "execute_result",
          "data": {
            "text/plain": [
              "<keras.src.callbacks.History at 0x78e7e54c3430>"
            ]
          },
          "metadata": {},
          "execution_count": 50
        }
      ]
    },
    {
      "cell_type": "code",
      "source": [
        "from ast import PyCF_ALLOW_TOP_LEVEL_AWAIT\n",
        "# MAKE A PLOT PREDICTIONS FOR MODEL_1:\n",
        "y_preds_1 = model_1.predict(X_test)\n",
        "plot_predictions(predictions=y_preds_1)"
      ],
      "metadata": {
        "colab": {
          "base_uri": "https://localhost:8080/",
          "height": 539
        },
        "id": "b-bhRXCvLOhk",
        "outputId": "8a2ae093-c7c0-4453-f5b3-34fc26a43821"
      },
      "execution_count": 51,
      "outputs": [
        {
          "output_type": "stream",
          "name": "stdout",
          "text": [
            "1/1 [==============================] - 0s 279ms/step\n"
          ]
        },
        {
          "output_type": "display_data",
          "data": {
            "text/plain": [
              "<Figure size 800x600 with 1 Axes>"
            ],
            "image/png": "[encoded data removed]"
          },
          "metadata": {}
        }
      ]
    },
    {
      "cell_type": "code",
      "source": [
        "# Calculate model_1 evaluation metrics\n",
        "mae_1 = mae(y_test,y_preds_1)\n",
        "mse_1 = mse(y_test,y_preds_1)\n",
        "mae_1, mse_1"
      ],
      "metadata": {
        "colab": {
          "base_uri": "https://localhost:8080/"
        },
        "id": "QBHHjd4bM3aa",
        "outputId": "7012d5dd-7a6e-4ef2-8464-f998d3eeaf83"
      },
      "execution_count": 52,
      "outputs": [
        {
          "output_type": "execute_result",
          "data": {
            "text/plain": [
              "(<tf.Tensor: shape=(), dtype=float32, numpy=30.85764>,\n",
              " <tf.Tensor: shape=(), dtype=float32, numpy=962.8231>)"
            ]
          },
          "metadata": {},
          "execution_count": 52
        }
      ]
    },
    {
      "cell_type": "markdown",
      "source": [
        "**Build -> `model_2`**\n",
        "* 2 Dense layers, trained for 100 epochs"
      ],
      "metadata": {
        "id": "AAaqYcrYNfCk"
      }
    },
    {
      "cell_type": "code",
      "source": [
        "# Set the random seed\n",
        "tf.random.set_seed(42)\n",
        "\n",
        "#1. Create the model\n",
        "model_2 = tf.keras.Sequential([\n",
        "    tf.keras.layers.Dense(10, input_shape=[1]),\n",
        "    tf.keras.layers.Dense(1)\n",
        "])\n",
        "\n",
        "# 2. Compile the model\n",
        "model_2.compile(loss = tf.keras.losses.mae,\n",
        "                 optimizer = tf.keras.optimizers.SGD(),\n",
        "                 metrics = [\"mse\"])\n",
        "\n",
        "#3. Fit the model\n",
        "model_2.fit(X_train, y_train, epochs=100)"
      ],
      "metadata": {
        "id": "_ktVv0NmOgYw",
        "colab": {
          "base_uri": "https://localhost:8080/"
        },
        "outputId": "0a3a1606-b941-416b-cf41-ae07218ed10e"
      },
      "execution_count": 55,
      "outputs": [
        {
          "output_type": "stream",
          "name": "stdout",
          "text": [
            "Epoch 1/100\n",
            "2/2 [==============================] - 0s 13ms/step - loss: 46.1439 - mse: 3156.8423\n",
            "Epoch 2/100\n",
            "2/2 [==============================] - 0s 7ms/step - loss: 16.9317 - mse: 447.1936\n",
            "Epoch 3/100\n",
            "2/2 [==============================] - 0s 8ms/step - loss: 16.8242 - mse: 404.5046\n",
            "Epoch 4/100\n",
            "2/2 [==============================] - 0s 7ms/step - loss: 14.1135 - mse: 254.9138\n",
            "Epoch 5/100\n",
            "2/2 [==============================] - 0s 9ms/step - loss: 15.5710 - mse: 316.1104\n",
            "Epoch 6/100\n",
            "2/2 [==============================] - 0s 8ms/step - loss: 12.3327 - mse: 193.5316\n",
            "Epoch 7/100\n",
            "2/2 [==============================] - 0s 8ms/step - loss: 11.5857 - mse: 164.0544\n",
            "Epoch 8/100\n",
            "2/2 [==============================] - 0s 7ms/step - loss: 11.2029 - mse: 181.4837\n",
            "Epoch 9/100\n",
            "2/2 [==============================] - 0s 7ms/step - loss: 42.0458 - mse: 2826.2732\n",
            "Epoch 10/100\n",
            "2/2 [==============================] - 0s 6ms/step - loss: 29.2382 - mse: 1209.5237\n",
            "Epoch 11/100\n",
            "2/2 [==============================] - 0s 7ms/step - loss: 7.6805 - mse: 84.0650\n",
            "Epoch 12/100\n",
            "2/2 [==============================] - 0s 7ms/step - loss: 28.5552 - mse: 1115.4377\n",
            "Epoch 13/100\n",
            "2/2 [==============================] - 0s 9ms/step - loss: 11.4680 - mse: 144.5740\n",
            "Epoch 14/100\n",
            "2/2 [==============================] - 0s 8ms/step - loss: 30.0356 - mse: 1442.8861\n",
            "Epoch 15/100\n",
            "2/2 [==============================] - 0s 8ms/step - loss: 19.8487 - mse: 551.8434\n",
            "Epoch 16/100\n",
            "2/2 [==============================] - 0s 8ms/step - loss: 9.8708 - mse: 125.7358\n",
            "Epoch 17/100\n",
            "2/2 [==============================] - 0s 8ms/step - loss: 17.7382 - mse: 416.2792\n",
            "Epoch 18/100\n",
            "2/2 [==============================] - 0s 8ms/step - loss: 14.2184 - mse: 319.5175\n",
            "Epoch 19/100\n",
            "2/2 [==============================] - 0s 8ms/step - loss: 14.0610 - mse: 309.0048\n",
            "Epoch 20/100\n",
            "2/2 [==============================] - 0s 7ms/step - loss: 11.2502 - mse: 146.7727\n",
            "Epoch 21/100\n",
            "2/2 [==============================] - 0s 8ms/step - loss: 17.3943 - mse: 429.6499\n",
            "Epoch 22/100\n",
            "2/2 [==============================] - 0s 7ms/step - loss: 15.9189 - mse: 352.9864\n",
            "Epoch 23/100\n",
            "2/2 [==============================] - 0s 8ms/step - loss: 9.8435 - mse: 140.8736\n",
            "Epoch 24/100\n",
            "2/2 [==============================] - 0s 9ms/step - loss: 16.4466 - mse: 364.9998\n",
            "Epoch 25/100\n",
            "2/2 [==============================] - 0s 7ms/step - loss: 15.3760 - mse: 308.1837\n",
            "Epoch 26/100\n",
            "2/2 [==============================] - 0s 7ms/step - loss: 20.5999 - mse: 630.2794\n",
            "Epoch 27/100\n",
            "2/2 [==============================] - 0s 7ms/step - loss: 26.2935 - mse: 1081.9821\n",
            "Epoch 28/100\n",
            "2/2 [==============================] - 0s 7ms/step - loss: 18.7473 - mse: 557.0006\n",
            "Epoch 29/100\n",
            "2/2 [==============================] - 0s 7ms/step - loss: 9.2452 - mse: 96.1772\n",
            "Epoch 30/100\n",
            "2/2 [==============================] - 0s 6ms/step - loss: 29.3886 - mse: 1551.7532\n",
            "Epoch 31/100\n",
            "2/2 [==============================] - 0s 7ms/step - loss: 53.2616 - mse: 5077.8931\n",
            "Epoch 32/100\n",
            "2/2 [==============================] - 0s 6ms/step - loss: 9.4622 - mse: 100.3082\n",
            "Epoch 33/100\n",
            "2/2 [==============================] - 0s 7ms/step - loss: 12.0370 - mse: 173.1111\n",
            "Epoch 34/100\n",
            "2/2 [==============================] - 0s 7ms/step - loss: 23.2567 - mse: 820.9256\n",
            "Epoch 35/100\n",
            "2/2 [==============================] - 0s 7ms/step - loss: 11.8414 - mse: 217.2040\n",
            "Epoch 36/100\n",
            "2/2 [==============================] - 0s 7ms/step - loss: 21.8214 - mse: 678.9453\n",
            "Epoch 37/100\n",
            "2/2 [==============================] - 0s 7ms/step - loss: 11.1261 - mse: 145.0561\n",
            "Epoch 38/100\n",
            "2/2 [==============================] - 0s 7ms/step - loss: 12.7217 - mse: 234.4729\n",
            "Epoch 39/100\n",
            "2/2 [==============================] - 0s 7ms/step - loss: 11.5929 - mse: 192.1674\n",
            "Epoch 40/100\n",
            "2/2 [==============================] - 0s 8ms/step - loss: 19.2424 - mse: 532.6893\n",
            "Epoch 41/100\n",
            "2/2 [==============================] - 0s 7ms/step - loss: 10.9600 - mse: 179.9366\n",
            "Epoch 42/100\n",
            "2/2 [==============================] - 0s 7ms/step - loss: 9.2909 - mse: 115.2265\n",
            "Epoch 43/100\n",
            "2/2 [==============================] - 0s 7ms/step - loss: 9.5901 - mse: 111.1063\n",
            "Epoch 44/100\n",
            "2/2 [==============================] - 0s 7ms/step - loss: 27.9571 - mse: 1253.2720\n",
            "Epoch 45/100\n",
            "2/2 [==============================] - 0s 7ms/step - loss: 11.2752 - mse: 146.6589\n",
            "Epoch 46/100\n",
            "2/2 [==============================] - 0s 7ms/step - loss: 14.0465 - mse: 287.7869\n",
            "Epoch 47/100\n",
            "2/2 [==============================] - 0s 8ms/step - loss: 13.5102 - mse: 256.8176\n",
            "Epoch 48/100\n",
            "2/2 [==============================] - 0s 8ms/step - loss: 17.3507 - mse: 408.4835\n",
            "Epoch 49/100\n",
            "2/2 [==============================] - 0s 8ms/step - loss: 9.5087 - mse: 98.4704\n",
            "Epoch 50/100\n",
            "2/2 [==============================] - 0s 7ms/step - loss: 13.6931 - mse: 252.8380\n",
            "Epoch 51/100\n",
            "2/2 [==============================] - 0s 7ms/step - loss: 11.5555 - mse: 152.8496\n",
            "Epoch 52/100\n",
            "2/2 [==============================] - 0s 9ms/step - loss: 30.1908 - mse: 1571.5914\n",
            "Epoch 53/100\n",
            "2/2 [==============================] - 0s 8ms/step - loss: 13.7187 - mse: 278.3075\n",
            "Epoch 54/100\n",
            "2/2 [==============================] - 0s 7ms/step - loss: 26.4167 - mse: 1069.9867\n",
            "Epoch 55/100\n",
            "2/2 [==============================] - 0s 8ms/step - loss: 26.0037 - mse: 1025.8992\n",
            "Epoch 56/100\n",
            "2/2 [==============================] - 0s 7ms/step - loss: 11.2311 - mse: 171.3898\n",
            "Epoch 57/100\n",
            "2/2 [==============================] - 0s 7ms/step - loss: 13.2079 - mse: 217.9988\n",
            "Epoch 58/100\n",
            "2/2 [==============================] - 0s 7ms/step - loss: 9.8646 - mse: 107.3971\n",
            "Epoch 59/100\n",
            "2/2 [==============================] - 0s 6ms/step - loss: 13.4009 - mse: 254.6099\n",
            "Epoch 60/100\n",
            "2/2 [==============================] - 0s 7ms/step - loss: 10.9300 - mse: 141.3609\n",
            "Epoch 61/100\n",
            "2/2 [==============================] - 0s 7ms/step - loss: 13.5524 - mse: 245.9711\n",
            "Epoch 62/100\n",
            "2/2 [==============================] - 0s 7ms/step - loss: 17.8670 - mse: 486.0630\n",
            "Epoch 63/100\n",
            "2/2 [==============================] - 0s 9ms/step - loss: 8.7347 - mse: 92.0772\n",
            "Epoch 64/100\n",
            "2/2 [==============================] - 0s 7ms/step - loss: 16.1299 - mse: 372.9426\n",
            "Epoch 65/100\n",
            "2/2 [==============================] - 0s 8ms/step - loss: 10.7428 - mse: 146.4743\n",
            "Epoch 66/100\n",
            "2/2 [==============================] - 0s 7ms/step - loss: 22.1787 - mse: 728.7067\n",
            "Epoch 67/100\n",
            "2/2 [==============================] - 0s 7ms/step - loss: 10.2651 - mse: 121.1400\n",
            "Epoch 68/100\n",
            "2/2 [==============================] - 0s 7ms/step - loss: 13.4654 - mse: 268.9281\n",
            "Epoch 69/100\n",
            "2/2 [==============================] - 0s 7ms/step - loss: 11.4301 - mse: 163.0826\n",
            "Epoch 70/100\n",
            "2/2 [==============================] - 0s 7ms/step - loss: 13.6150 - mse: 245.7579\n",
            "Epoch 71/100\n",
            "2/2 [==============================] - 0s 7ms/step - loss: 15.6253 - mse: 346.8967\n",
            "Epoch 72/100\n",
            "2/2 [==============================] - 0s 7ms/step - loss: 11.8512 - mse: 168.3841\n",
            "Epoch 73/100\n",
            "2/2 [==============================] - 0s 7ms/step - loss: 16.6288 - mse: 372.6066\n",
            "Epoch 74/100\n",
            "2/2 [==============================] - 0s 7ms/step - loss: 24.1505 - mse: 917.9396\n",
            "Epoch 75/100\n",
            "2/2 [==============================] - 0s 7ms/step - loss: 9.6315 - mse: 149.1960\n",
            "Epoch 76/100\n",
            "2/2 [==============================] - 0s 8ms/step - loss: 12.4839 - mse: 189.8500\n",
            "Epoch 77/100\n",
            "2/2 [==============================] - 0s 11ms/step - loss: 16.7232 - mse: 433.5997\n",
            "Epoch 78/100\n",
            "2/2 [==============================] - 0s 10ms/step - loss: 9.0848 - mse: 96.4825\n",
            "Epoch 79/100\n",
            "2/2 [==============================] - 0s 8ms/step - loss: 24.0486 - mse: 870.8532\n",
            "Epoch 80/100\n",
            "2/2 [==============================] - 0s 8ms/step - loss: 26.8452 - mse: 1113.4601\n",
            "Epoch 81/100\n",
            "2/2 [==============================] - 0s 7ms/step - loss: 11.7302 - mse: 172.9785\n",
            "Epoch 82/100\n",
            "2/2 [==============================] - 0s 7ms/step - loss: 12.0022 - mse: 211.6679\n",
            "Epoch 83/100\n",
            "2/2 [==============================] - 0s 7ms/step - loss: 17.3937 - mse: 394.1337\n",
            "Epoch 84/100\n",
            "2/2 [==============================] - 0s 7ms/step - loss: 7.2707 - mse: 73.3912\n",
            "Epoch 85/100\n",
            "2/2 [==============================] - 0s 7ms/step - loss: 14.9476 - mse: 312.1265\n",
            "Epoch 86/100\n",
            "2/2 [==============================] - 0s 7ms/step - loss: 15.2738 - mse: 315.1532\n",
            "Epoch 87/100\n",
            "2/2 [==============================] - 0s 8ms/step - loss: 19.0771 - mse: 519.7978\n",
            "Epoch 88/100\n",
            "2/2 [==============================] - 0s 7ms/step - loss: 29.9099 - mse: 1295.2625\n",
            "Epoch 89/100\n",
            "2/2 [==============================] - 0s 8ms/step - loss: 10.2008 - mse: 124.4436\n",
            "Epoch 90/100\n",
            "2/2 [==============================] - 0s 8ms/step - loss: 21.5914 - mse: 668.2028\n",
            "Epoch 91/100\n",
            "2/2 [==============================] - 0s 12ms/step - loss: 10.6005 - mse: 161.7822\n",
            "Epoch 92/100\n",
            "2/2 [==============================] - 0s 8ms/step - loss: 18.4563 - mse: 467.2335\n",
            "Epoch 93/100\n",
            "2/2 [==============================] - 0s 8ms/step - loss: 7.4305 - mse: 81.8513\n",
            "Epoch 94/100\n",
            "2/2 [==============================] - 0s 7ms/step - loss: 17.7875 - mse: 448.3065\n",
            "Epoch 95/100\n",
            "2/2 [==============================] - 0s 8ms/step - loss: 11.1441 - mse: 165.4222\n",
            "Epoch 96/100\n",
            "2/2 [==============================] - 0s 7ms/step - loss: 19.4841 - mse: 513.0652\n",
            "Epoch 97/100\n",
            "2/2 [==============================] - 0s 11ms/step - loss: 12.5187 - mse: 224.9984\n",
            "Epoch 98/100\n",
            "2/2 [==============================] - 0s 7ms/step - loss: 10.3101 - mse: 137.4877\n",
            "Epoch 99/100\n",
            "2/2 [==============================] - 0s 7ms/step - loss: 13.8453 - mse: 263.5364\n",
            "Epoch 100/100\n",
            "2/2 [==============================] - 0s 7ms/step - loss: 20.1457 - mse: 603.6556\n"
          ]
        },
        {
          "output_type": "execute_result",
          "data": {
            "text/plain": [
              "<keras.src.callbacks.History at 0x78e7ec14d750>"
            ]
          },
          "metadata": {},
          "execution_count": 55
        }
      ]
    },
    {
      "cell_type": "code",
      "source": [
        "# Make and plot predictions of model_2\n",
        "y_preds_2 = model_2.predict(X_test)\n",
        "plot_predictions(predictions = y_preds_2)"
      ],
      "metadata": {
        "colab": {
          "base_uri": "https://localhost:8080/",
          "height": 539
        },
        "id": "sVCOnayrpw82",
        "outputId": "985b83c9-4778-4c44-8602-3a163551d311"
      },
      "execution_count": 56,
      "outputs": [
        {
          "output_type": "stream",
          "name": "stdout",
          "text": [
            "1/1 [==============================] - 0s 86ms/step\n"
          ]
        },
        {
          "output_type": "display_data",
          "data": {
            "text/plain": [
              "<Figure size 800x600 with 1 Axes>"
            ],
            "image/png": "[encoded data removed]"
          },
          "metadata": {}
        }
      ]
    },
    {
      "cell_type": "code",
      "source": [
        "# Calculate model_2 evaluation metrics -\n",
        "mae_2 = mae(y_test, y_preds_2)\n",
        "mse_2 = mse(y_test, y_preds_2)\n",
        "mae_2, mse_2"
      ],
      "metadata": {
        "colab": {
          "base_uri": "https://localhost:8080/"
        },
        "id": "jyM0sGa2qZ_6",
        "outputId": "b7f4a288-88a0-4b2e-fcd9-8d45521586a7"
      },
      "execution_count": 57,
      "outputs": [
        {
          "output_type": "execute_result",
          "data": {
            "text/plain": [
              "(<tf.Tensor: shape=(), dtype=float32, numpy=2.9480965>,\n",
              " <tf.Tensor: shape=(), dtype=float32, numpy=11.430389>)"
            ]
          },
          "metadata": {},
          "execution_count": 57
        }
      ]
    },
    {
      "cell_type": "markdown",
      "source": [
        "**Build `model_3`**\n",
        "* 2 layers, trained for 500 epochs"
      ],
      "metadata": {
        "id": "IIQnhrtjq0GH"
      }
    },
    {
      "cell_type": "code",
      "source": [
        "# Set random seed\n",
        "tf.random.set_seed(42)\n",
        "\n",
        "# 1. Create a model\n",
        "model_3 = tf.keras.Sequential([\n",
        "    tf.keras.layers.Dense(10, input_shape=[1]),\n",
        "    tf.keras.layers.Dense(1)\n",
        "])\n",
        "\n",
        "# 2. Compile the model\n",
        "model_3.compile(loss = tf.keras.losses.mae,\n",
        "                optimizer = tf.keras.optimizers.SGD(),\n",
        "                metrics = ['mse'])\n",
        "\n",
        "# 3. Fit the model\n",
        "model_3.fit(X_train, y_train, epochs = 500)"
      ],
      "metadata": {
        "colab": {
          "base_uri": "https://localhost:8080/"
        },
        "id": "rkdXAB9YrF-B",
        "outputId": "d8b4fa32-552c-4326-e053-2c7039686dec"
      },
      "execution_count": 59,
      "outputs": [
        {
          "output_type": "stream",
          "name": "stdout",
          "text": [
            "Epoch 1/500\n",
            "2/2 [==============================] - 0s 11ms/step - loss: 65.1243 - mse: 6520.0752\n",
            "Epoch 2/500\n",
            "2/2 [==============================] - 0s 7ms/step - loss: 27.1446 - mse: 1147.7701\n",
            "Epoch 3/500\n",
            "2/2 [==============================] - 0s 7ms/step - loss: 20.0655 - mse: 590.7103\n",
            "Epoch 4/500\n",
            "2/2 [==============================] - 0s 8ms/step - loss: 13.0177 - mse: 231.6626\n",
            "Epoch 5/500\n",
            "2/2 [==============================] - 0s 7ms/step - loss: 16.4997 - mse: 361.0232\n",
            "Epoch 6/500\n",
            "2/2 [==============================] - 0s 7ms/step - loss: 11.2142 - mse: 140.0922\n",
            "Epoch 7/500\n",
            "2/2 [==============================] - 0s 7ms/step - loss: 12.2361 - mse: 191.4113\n",
            "Epoch 8/500\n",
            "2/2 [==============================] - 0s 6ms/step - loss: 10.9387 - mse: 137.6586\n",
            "Epoch 9/500\n",
            "2/2 [==============================] - 0s 7ms/step - loss: 38.2485 - mse: 2265.0212\n",
            "Epoch 10/500\n",
            "2/2 [==============================] - 0s 8ms/step - loss: 25.7965 - mse: 935.0475\n",
            "Epoch 11/500\n",
            "2/2 [==============================] - 0s 6ms/step - loss: 10.2602 - mse: 149.3458\n",
            "Epoch 12/500\n",
            "2/2 [==============================] - 0s 8ms/step - loss: 25.2269 - mse: 887.2719\n",
            "Epoch 13/500\n",
            "2/2 [==============================] - 0s 8ms/step - loss: 17.1230 - mse: 407.7290\n",
            "Epoch 14/500\n",
            "2/2 [==============================] - 0s 8ms/step - loss: 26.1535 - mse: 1070.6522\n",
            "Epoch 15/500\n",
            "2/2 [==============================] - 0s 8ms/step - loss: 18.1853 - mse: 459.7547\n",
            "Epoch 16/500\n",
            "2/2 [==============================] - 0s 7ms/step - loss: 7.8711 - mse: 89.5328\n",
            "Epoch 17/500\n",
            "2/2 [==============================] - 0s 6ms/step - loss: 22.2949 - mse: 689.0915\n",
            "Epoch 18/500\n",
            "2/2 [==============================] - 0s 7ms/step - loss: 10.8589 - mse: 173.6637\n",
            "Epoch 19/500\n",
            "2/2 [==============================] - 0s 7ms/step - loss: 10.7467 - mse: 140.5138\n",
            "Epoch 20/500\n",
            "2/2 [==============================] - 0s 6ms/step - loss: 12.0667 - mse: 166.0999\n",
            "Epoch 21/500\n",
            "2/2 [==============================] - 0s 6ms/step - loss: 20.1945 - mse: 592.3219\n",
            "Epoch 22/500\n",
            "2/2 [==============================] - 0s 6ms/step - loss: 13.8204 - mse: 244.5201\n",
            "Epoch 23/500\n",
            "2/2 [==============================] - 0s 7ms/step - loss: 9.5578 - mse: 95.3200\n",
            "Epoch 24/500\n",
            "2/2 [==============================] - 0s 7ms/step - loss: 11.9150 - mse: 164.3393\n",
            "Epoch 25/500\n",
            "2/2 [==============================] - 0s 6ms/step - loss: 16.2303 - mse: 385.9159\n",
            "Epoch 26/500\n",
            "2/2 [==============================] - 0s 8ms/step - loss: 16.4232 - mse: 375.5030\n",
            "Epoch 27/500\n",
            "2/2 [==============================] - 0s 7ms/step - loss: 11.6016 - mse: 182.0601\n",
            "Epoch 28/500\n",
            "2/2 [==============================] - 0s 7ms/step - loss: 30.0071 - mse: 1468.4080\n",
            "Epoch 29/500\n",
            "2/2 [==============================] - 0s 9ms/step - loss: 9.2617 - mse: 92.7336\n",
            "Epoch 30/500\n",
            "2/2 [==============================] - 0s 8ms/step - loss: 30.5442 - mse: 1711.6058\n",
            "Epoch 31/500\n",
            "2/2 [==============================] - 0s 8ms/step - loss: 55.5282 - mse: 5531.7246\n",
            "Epoch 32/500\n",
            "2/2 [==============================] - 0s 9ms/step - loss: 9.7419 - mse: 103.5898\n",
            "Epoch 33/500\n",
            "2/2 [==============================] - 0s 7ms/step - loss: 12.3602 - mse: 195.0347\n",
            "Epoch 34/500\n",
            "2/2 [==============================] - 0s 8ms/step - loss: 24.7074 - mse: 928.4918\n",
            "Epoch 35/500\n",
            "2/2 [==============================] - 0s 8ms/step - loss: 11.9268 - mse: 211.6870\n",
            "Epoch 36/500\n",
            "2/2 [==============================] - 0s 7ms/step - loss: 22.1046 - mse: 695.8402\n",
            "Epoch 37/500\n",
            "2/2 [==============================] - 0s 7ms/step - loss: 17.5643 - mse: 440.7878\n",
            "Epoch 38/500\n",
            "2/2 [==============================] - 0s 7ms/step - loss: 10.7380 - mse: 133.7288\n",
            "Epoch 39/500\n",
            "2/2 [==============================] - 0s 8ms/step - loss: 11.2537 - mse: 166.9238\n",
            "Epoch 40/500\n",
            "2/2 [==============================] - 0s 7ms/step - loss: 18.2178 - mse: 479.3433\n",
            "Epoch 41/500\n",
            "2/2 [==============================] - 0s 8ms/step - loss: 10.5003 - mse: 182.1202\n",
            "Epoch 42/500\n",
            "2/2 [==============================] - 0s 7ms/step - loss: 7.8507 - mse: 83.6029\n",
            "Epoch 43/500\n",
            "2/2 [==============================] - 0s 7ms/step - loss: 14.2080 - mse: 290.8490\n",
            "Epoch 44/500\n",
            "2/2 [==============================] - 0s 7ms/step - loss: 24.9504 - mse: 987.8090\n",
            "Epoch 45/500\n",
            "2/2 [==============================] - 0s 7ms/step - loss: 10.9593 - mse: 138.0785\n",
            "Epoch 46/500\n",
            "2/2 [==============================] - 0s 7ms/step - loss: 13.0501 - mse: 243.5410\n",
            "Epoch 47/500\n",
            "2/2 [==============================] - 0s 8ms/step - loss: 10.4436 - mse: 172.1942\n",
            "Epoch 48/500\n",
            "2/2 [==============================] - 0s 7ms/step - loss: 17.1630 - mse: 399.3015\n",
            "Epoch 49/500\n",
            "2/2 [==============================] - 0s 6ms/step - loss: 9.6304 - mse: 101.1291\n",
            "Epoch 50/500\n",
            "2/2 [==============================] - 0s 8ms/step - loss: 13.9130 - mse: 265.5333\n",
            "Epoch 51/500\n",
            "2/2 [==============================] - 0s 7ms/step - loss: 11.6372 - mse: 156.4188\n",
            "Epoch 52/500\n",
            "2/2 [==============================] - 0s 7ms/step - loss: 30.7572 - mse: 1637.0070\n",
            "Epoch 53/500\n",
            "2/2 [==============================] - 0s 7ms/step - loss: 14.4474 - mse: 307.0463\n",
            "Epoch 54/500\n",
            "2/2 [==============================] - 0s 8ms/step - loss: 24.1289 - mse: 872.0790\n",
            "Epoch 55/500\n",
            "2/2 [==============================] - 0s 7ms/step - loss: 23.3675 - mse: 818.4445\n",
            "Epoch 56/500\n",
            "2/2 [==============================] - 0s 8ms/step - loss: 10.9479 - mse: 171.0496\n",
            "Epoch 57/500\n",
            "2/2 [==============================] - 0s 7ms/step - loss: 12.8267 - mse: 201.7893\n",
            "Epoch 58/500\n",
            "2/2 [==============================] - 0s 7ms/step - loss: 9.6484 - mse: 103.3196\n",
            "Epoch 59/500\n",
            "2/2 [==============================] - 0s 7ms/step - loss: 12.9830 - mse: 231.7737\n",
            "Epoch 60/500\n",
            "2/2 [==============================] - 0s 7ms/step - loss: 10.6827 - mse: 132.9997\n",
            "Epoch 61/500\n",
            "2/2 [==============================] - 0s 7ms/step - loss: 17.4184 - mse: 426.3717\n",
            "Epoch 62/500\n",
            "2/2 [==============================] - 0s 11ms/step - loss: 10.5935 - mse: 136.5355\n",
            "Epoch 63/500\n",
            "2/2 [==============================] - 0s 12ms/step - loss: 10.4840 - mse: 151.2785\n",
            "Epoch 64/500\n",
            "2/2 [==============================] - 0s 11ms/step - loss: 24.7762 - mse: 906.3588\n",
            "Epoch 65/500\n",
            "2/2 [==============================] - 0s 8ms/step - loss: 10.6696 - mse: 141.8774\n",
            "Epoch 66/500\n",
            "2/2 [==============================] - 0s 8ms/step - loss: 21.7180 - mse: 699.7697\n",
            "Epoch 67/500\n",
            "2/2 [==============================] - 0s 7ms/step - loss: 10.7000 - mse: 135.3250\n",
            "Epoch 68/500\n",
            "2/2 [==============================] - 0s 6ms/step - loss: 10.6315 - mse: 147.9946\n",
            "Epoch 69/500\n",
            "2/2 [==============================] - 0s 6ms/step - loss: 22.6056 - mse: 736.3293\n",
            "Epoch 70/500\n",
            "2/2 [==============================] - 0s 7ms/step - loss: 9.3533 - mse: 165.8164\n",
            "Epoch 71/500\n",
            "2/2 [==============================] - 0s 7ms/step - loss: 15.4693 - mse: 324.4401\n",
            "Epoch 72/500\n",
            "2/2 [==============================] - 0s 10ms/step - loss: 7.0249 - mse: 67.7360\n",
            "Epoch 73/500\n",
            "2/2 [==============================] - 0s 8ms/step - loss: 12.2277 - mse: 216.4395\n",
            "Epoch 74/500\n",
            "2/2 [==============================] - 0s 8ms/step - loss: 17.3762 - mse: 408.9054\n",
            "Epoch 75/500\n",
            "2/2 [==============================] - 0s 9ms/step - loss: 7.2308 - mse: 71.5741\n",
            "Epoch 76/500\n",
            "2/2 [==============================] - 0s 7ms/step - loss: 9.4668 - mse: 148.9279\n",
            "Epoch 77/500\n",
            "2/2 [==============================] - 0s 8ms/step - loss: 22.2066 - mse: 735.8444\n",
            "Epoch 78/500\n",
            "2/2 [==============================] - 0s 9ms/step - loss: 17.4165 - mse: 461.2462\n",
            "Epoch 79/500\n",
            "2/2 [==============================] - 0s 7ms/step - loss: 14.6731 - mse: 314.9783\n",
            "Epoch 80/500\n",
            "2/2 [==============================] - 0s 8ms/step - loss: 24.6548 - mse: 929.4188\n",
            "Epoch 81/500\n",
            "2/2 [==============================] - 0s 7ms/step - loss: 11.5221 - mse: 163.9206\n",
            "Epoch 82/500\n",
            "2/2 [==============================] - 0s 7ms/step - loss: 12.4117 - mse: 226.3146\n",
            "Epoch 83/500\n",
            "2/2 [==============================] - 0s 9ms/step - loss: 17.0698 - mse: 378.9577\n",
            "Epoch 84/500\n",
            "2/2 [==============================] - 0s 7ms/step - loss: 7.2578 - mse: 75.7871\n",
            "Epoch 85/500\n",
            "2/2 [==============================] - 0s 7ms/step - loss: 37.3073 - mse: 2239.8057\n",
            "Epoch 86/500\n",
            "2/2 [==============================] - 0s 8ms/step - loss: 21.2902 - mse: 651.2454\n",
            "Epoch 87/500\n",
            "2/2 [==============================] - 0s 7ms/step - loss: 11.0577 - mse: 148.5363\n",
            "Epoch 88/500\n",
            "2/2 [==============================] - 0s 7ms/step - loss: 25.1560 - mse: 900.7028\n",
            "Epoch 89/500\n",
            "2/2 [==============================] - 0s 7ms/step - loss: 9.3857 - mse: 136.6154\n",
            "Epoch 90/500\n",
            "2/2 [==============================] - 0s 7ms/step - loss: 17.4306 - mse: 435.9756\n",
            "Epoch 91/500\n",
            "2/2 [==============================] - 0s 8ms/step - loss: 10.8295 - mse: 160.7300\n",
            "Epoch 92/500\n",
            "2/2 [==============================] - 0s 7ms/step - loss: 19.1139 - mse: 503.5473\n",
            "Epoch 93/500\n",
            "2/2 [==============================] - 0s 7ms/step - loss: 8.3408 - mse: 102.5634\n",
            "Epoch 94/500\n",
            "2/2 [==============================] - 0s 7ms/step - loss: 11.5827 - mse: 179.4278\n",
            "Epoch 95/500\n",
            "2/2 [==============================] - 0s 8ms/step - loss: 26.1419 - mse: 1037.3563\n",
            "Epoch 96/500\n",
            "2/2 [==============================] - 0s 8ms/step - loss: 11.2105 - mse: 170.0609\n",
            "Epoch 97/500\n",
            "2/2 [==============================] - 0s 8ms/step - loss: 16.8042 - mse: 430.9827\n",
            "Epoch 98/500\n",
            "2/2 [==============================] - 0s 8ms/step - loss: 6.6038 - mse: 60.9969\n",
            "Epoch 99/500\n",
            "2/2 [==============================] - 0s 10ms/step - loss: 12.6099 - mse: 229.7634\n",
            "Epoch 100/500\n",
            "2/2 [==============================] - 0s 8ms/step - loss: 19.4215 - mse: 553.7661\n",
            "Epoch 101/500\n",
            "2/2 [==============================] - 0s 8ms/step - loss: 16.0598 - mse: 385.9469\n",
            "Epoch 102/500\n",
            "2/2 [==============================] - 0s 8ms/step - loss: 11.1963 - mse: 164.2504\n",
            "Epoch 103/500\n",
            "2/2 [==============================] - 0s 8ms/step - loss: 9.3372 - mse: 96.4167\n",
            "Epoch 104/500\n",
            "2/2 [==============================] - 0s 8ms/step - loss: 24.9009 - mse: 932.4476\n",
            "Epoch 105/500\n",
            "2/2 [==============================] - 0s 8ms/step - loss: 11.9693 - mse: 211.1124\n",
            "Epoch 106/500\n",
            "2/2 [==============================] - 0s 9ms/step - loss: 10.0922 - mse: 122.5925\n",
            "Epoch 107/500\n",
            "2/2 [==============================] - 0s 8ms/step - loss: 22.4391 - mse: 755.3263\n",
            "Epoch 108/500\n",
            "2/2 [==============================] - 0s 8ms/step - loss: 8.1315 - mse: 91.3313\n",
            "Epoch 109/500\n",
            "2/2 [==============================] - 0s 9ms/step - loss: 13.2952 - mse: 247.3838\n",
            "Epoch 110/500\n",
            "2/2 [==============================] - 0s 11ms/step - loss: 8.0138 - mse: 115.0213\n",
            "Epoch 111/500\n",
            "2/2 [==============================] - 0s 7ms/step - loss: 15.8037 - mse: 350.6951\n",
            "Epoch 112/500\n",
            "2/2 [==============================] - 0s 8ms/step - loss: 8.7540 - mse: 92.3436\n",
            "Epoch 113/500\n",
            "2/2 [==============================] - 0s 11ms/step - loss: 22.5675 - mse: 738.7762\n",
            "Epoch 114/500\n",
            "2/2 [==============================] - 0s 9ms/step - loss: 18.9344 - mse: 540.7620\n",
            "Epoch 115/500\n",
            "2/2 [==============================] - 0s 9ms/step - loss: 11.0819 - mse: 151.8748\n",
            "Epoch 116/500\n",
            "2/2 [==============================] - 0s 9ms/step - loss: 23.0028 - mse: 769.8469\n",
            "Epoch 117/500\n",
            "2/2 [==============================] - 0s 9ms/step - loss: 9.5537 - mse: 127.3543\n",
            "Epoch 118/500\n",
            "2/2 [==============================] - 0s 8ms/step - loss: 10.6054 - mse: 137.8269\n",
            "Epoch 119/500\n",
            "2/2 [==============================] - 0s 8ms/step - loss: 8.0585 - mse: 76.5877\n",
            "Epoch 120/500\n",
            "2/2 [==============================] - 0s 7ms/step - loss: 29.2323 - mse: 1273.2986\n",
            "Epoch 121/500\n",
            "2/2 [==============================] - 0s 8ms/step - loss: 8.0947 - mse: 70.7315\n",
            "Epoch 122/500\n",
            "2/2 [==============================] - 0s 8ms/step - loss: 27.9189 - mse: 1193.8359\n",
            "Epoch 123/500\n",
            "2/2 [==============================] - 0s 8ms/step - loss: 32.4169 - mse: 1541.7390\n",
            "Epoch 124/500\n",
            "2/2 [==============================] - 0s 8ms/step - loss: 19.2752 - mse: 550.8371\n",
            "Epoch 125/500\n",
            "2/2 [==============================] - 0s 8ms/step - loss: 9.5146 - mse: 153.0511\n",
            "Epoch 126/500\n",
            "2/2 [==============================] - 0s 8ms/step - loss: 9.5891 - mse: 113.4854\n",
            "Epoch 127/500\n",
            "2/2 [==============================] - 0s 8ms/step - loss: 12.3071 - mse: 237.3923\n",
            "Epoch 128/500\n",
            "2/2 [==============================] - 0s 10ms/step - loss: 15.3234 - mse: 333.8363\n",
            "Epoch 129/500\n",
            "2/2 [==============================] - 0s 8ms/step - loss: 9.6646 - mse: 137.9549\n",
            "Epoch 130/500\n",
            "2/2 [==============================] - 0s 9ms/step - loss: 20.7288 - mse: 602.2080\n",
            "Epoch 131/500\n",
            "2/2 [==============================] - 0s 8ms/step - loss: 9.3635 - mse: 107.6820\n",
            "Epoch 132/500\n",
            "2/2 [==============================] - 0s 8ms/step - loss: 16.7759 - mse: 420.7968\n",
            "Epoch 133/500\n",
            "2/2 [==============================] - 0s 7ms/step - loss: 7.7253 - mse: 77.4465\n",
            "Epoch 134/500\n",
            "2/2 [==============================] - 0s 8ms/step - loss: 19.1422 - mse: 539.0093\n",
            "Epoch 135/500\n",
            "2/2 [==============================] - 0s 7ms/step - loss: 10.7710 - mse: 151.1948\n",
            "Epoch 136/500\n",
            "2/2 [==============================] - 0s 8ms/step - loss: 18.7199 - mse: 497.3667\n",
            "Epoch 137/500\n",
            "2/2 [==============================] - 0s 8ms/step - loss: 23.7846 - mse: 764.5654\n",
            "Epoch 138/500\n",
            "2/2 [==============================] - 0s 7ms/step - loss: 9.4095 - mse: 139.9498\n",
            "Epoch 139/500\n",
            "2/2 [==============================] - 0s 7ms/step - loss: 9.0994 - mse: 142.4076\n",
            "Epoch 140/500\n",
            "2/2 [==============================] - 0s 9ms/step - loss: 17.1556 - mse: 423.0353\n",
            "Epoch 141/500\n",
            "2/2 [==============================] - 0s 7ms/step - loss: 8.3609 - mse: 77.0643\n",
            "Epoch 142/500\n",
            "2/2 [==============================] - 0s 7ms/step - loss: 34.2990 - mse: 2040.4379\n",
            "Epoch 143/500\n",
            "2/2 [==============================] - 0s 7ms/step - loss: 23.3264 - mse: 762.3026\n",
            "Epoch 144/500\n",
            "2/2 [==============================] - 0s 8ms/step - loss: 10.4882 - mse: 183.7813\n",
            "Epoch 145/500\n",
            "2/2 [==============================] - 0s 8ms/step - loss: 25.8448 - mse: 903.4363\n",
            "Epoch 146/500\n",
            "2/2 [==============================] - 0s 9ms/step - loss: 9.9462 - mse: 130.9969\n",
            "Epoch 147/500\n",
            "2/2 [==============================] - 0s 8ms/step - loss: 14.7396 - mse: 290.6175\n",
            "Epoch 148/500\n",
            "2/2 [==============================] - 0s 7ms/step - loss: 17.8533 - mse: 439.7729\n",
            "Epoch 149/500\n",
            "2/2 [==============================] - 0s 7ms/step - loss: 8.4519 - mse: 106.0629\n",
            "Epoch 150/500\n",
            "2/2 [==============================] - 0s 7ms/step - loss: 7.6240 - mse: 66.4704\n",
            "Epoch 151/500\n",
            "2/2 [==============================] - 0s 7ms/step - loss: 18.8305 - mse: 514.4691\n",
            "Epoch 152/500\n",
            "2/2 [==============================] - 0s 10ms/step - loss: 10.4655 - mse: 136.3424\n",
            "Epoch 153/500\n",
            "2/2 [==============================] - 0s 7ms/step - loss: 30.3513 - mse: 1336.3705\n",
            "Epoch 154/500\n",
            "2/2 [==============================] - 0s 11ms/step - loss: 9.9981 - mse: 178.0786\n",
            "Epoch 155/500\n",
            "2/2 [==============================] - 0s 9ms/step - loss: 15.7480 - mse: 368.2436\n",
            "Epoch 156/500\n",
            "2/2 [==============================] - 0s 8ms/step - loss: 17.6669 - mse: 463.9100\n",
            "Epoch 157/500\n",
            "2/2 [==============================] - 0s 8ms/step - loss: 31.1222 - mse: 1556.3486\n",
            "Epoch 158/500\n",
            "2/2 [==============================] - 0s 8ms/step - loss: 10.2229 - mse: 139.0443\n",
            "Epoch 159/500\n",
            "2/2 [==============================] - 0s 8ms/step - loss: 8.6968 - mse: 98.2400\n",
            "Epoch 160/500\n",
            "2/2 [==============================] - 0s 7ms/step - loss: 20.7547 - mse: 619.6742\n",
            "Epoch 161/500\n",
            "2/2 [==============================] - 0s 7ms/step - loss: 11.8217 - mse: 206.5123\n",
            "Epoch 162/500\n",
            "2/2 [==============================] - 0s 7ms/step - loss: 21.7362 - mse: 681.2551\n",
            "Epoch 163/500\n",
            "2/2 [==============================] - 0s 7ms/step - loss: 19.4095 - mse: 542.5002\n",
            "Epoch 164/500\n",
            "2/2 [==============================] - 0s 7ms/step - loss: 11.1471 - mse: 182.0044\n",
            "Epoch 165/500\n",
            "2/2 [==============================] - 0s 7ms/step - loss: 9.6158 - mse: 181.6159\n",
            "Epoch 166/500\n",
            "2/2 [==============================] - 0s 7ms/step - loss: 21.5365 - mse: 679.2125\n",
            "Epoch 167/500\n",
            "2/2 [==============================] - 0s 13ms/step - loss: 26.4376 - mse: 1062.0724\n",
            "Epoch 168/500\n",
            "2/2 [==============================] - 0s 8ms/step - loss: 9.9288 - mse: 119.5125\n",
            "Epoch 169/500\n",
            "2/2 [==============================] - 0s 13ms/step - loss: 22.6803 - mse: 796.0955\n",
            "Epoch 170/500\n",
            "2/2 [==============================] - 0s 10ms/step - loss: 10.1557 - mse: 197.3706\n",
            "Epoch 171/500\n",
            "2/2 [==============================] - 0s 11ms/step - loss: 18.0098 - mse: 501.5974\n",
            "Epoch 172/500\n",
            "2/2 [==============================] - 0s 9ms/step - loss: 28.9317 - mse: 1316.0120\n",
            "Epoch 173/500\n",
            "2/2 [==============================] - 0s 11ms/step - loss: 16.6171 - mse: 436.6781\n",
            "Epoch 174/500\n",
            "2/2 [==============================] - 0s 10ms/step - loss: 11.2254 - mse: 201.1727\n",
            "Epoch 175/500\n",
            "2/2 [==============================] - 0s 11ms/step - loss: 27.5642 - mse: 1096.1467\n",
            "Epoch 176/500\n",
            "2/2 [==============================] - 0s 12ms/step - loss: 8.3344 - mse: 78.7365\n",
            "Epoch 177/500\n",
            "2/2 [==============================] - 0s 14ms/step - loss: 9.3202 - mse: 109.9536\n",
            "Epoch 178/500\n",
            "2/2 [==============================] - 0s 10ms/step - loss: 18.1966 - mse: 468.7421\n",
            "Epoch 179/500\n",
            "2/2 [==============================] - 0s 10ms/step - loss: 10.5896 - mse: 147.7794\n",
            "Epoch 180/500\n",
            "2/2 [==============================] - 0s 12ms/step - loss: 7.9492 - mse: 101.1817\n",
            "Epoch 181/500\n",
            "2/2 [==============================] - 0s 14ms/step - loss: 17.4238 - mse: 439.7490\n",
            "Epoch 182/500\n",
            "2/2 [==============================] - 0s 15ms/step - loss: 11.0602 - mse: 158.1929\n",
            "Epoch 183/500\n",
            "2/2 [==============================] - 0s 14ms/step - loss: 11.7203 - mse: 204.3713\n",
            "Epoch 184/500\n",
            "2/2 [==============================] - 0s 11ms/step - loss: 30.3879 - mse: 1385.8240\n",
            "Epoch 185/500\n",
            "2/2 [==============================] - 0s 10ms/step - loss: 7.5984 - mse: 99.2899\n",
            "Epoch 186/500\n",
            "2/2 [==============================] - 0s 11ms/step - loss: 16.0211 - mse: 370.3489\n",
            "Epoch 187/500\n",
            "2/2 [==============================] - 0s 11ms/step - loss: 8.5965 - mse: 86.1985\n",
            "Epoch 188/500\n",
            "2/2 [==============================] - 0s 12ms/step - loss: 28.6525 - mse: 1168.4170\n",
            "Epoch 189/500\n",
            "2/2 [==============================] - 0s 12ms/step - loss: 13.2026 - mse: 271.5464\n",
            "Epoch 190/500\n",
            "2/2 [==============================] - 0s 11ms/step - loss: 18.3495 - mse: 514.7431\n",
            "Epoch 191/500\n",
            "2/2 [==============================] - 0s 8ms/step - loss: 13.7846 - mse: 266.6840\n",
            "Epoch 192/500\n",
            "2/2 [==============================] - 0s 11ms/step - loss: 13.7453 - mse: 261.3811\n",
            "Epoch 193/500\n",
            "2/2 [==============================] - 0s 10ms/step - loss: 28.6200 - mse: 1137.5422\n",
            "Epoch 194/500\n",
            "2/2 [==============================] - 0s 9ms/step - loss: 7.0687 - mse: 79.6321\n",
            "Epoch 195/500\n",
            "2/2 [==============================] - 0s 9ms/step - loss: 7.8084 - mse: 100.0244\n",
            "Epoch 196/500\n",
            "2/2 [==============================] - 0s 10ms/step - loss: 26.0509 - mse: 961.4495\n",
            "Epoch 197/500\n",
            "2/2 [==============================] - 0s 9ms/step - loss: 11.5849 - mse: 188.6035\n",
            "Epoch 198/500\n",
            "2/2 [==============================] - 0s 16ms/step - loss: 18.8798 - mse: 527.5536\n",
            "Epoch 199/500\n",
            "2/2 [==============================] - 0s 15ms/step - loss: 16.6808 - mse: 404.4218\n",
            "Epoch 200/500\n",
            "2/2 [==============================] - 0s 12ms/step - loss: 12.3751 - mse: 227.2707\n",
            "Epoch 201/500\n",
            "2/2 [==============================] - 0s 11ms/step - loss: 7.1266 - mse: 68.1685\n",
            "Epoch 202/500\n",
            "2/2 [==============================] - 0s 13ms/step - loss: 22.8951 - mse: 747.7144\n",
            "Epoch 203/500\n",
            "2/2 [==============================] - 0s 8ms/step - loss: 9.0071 - mse: 153.9685\n",
            "Epoch 204/500\n",
            "2/2 [==============================] - 0s 8ms/step - loss: 18.8474 - mse: 532.7334\n",
            "Epoch 205/500\n",
            "2/2 [==============================] - 0s 9ms/step - loss: 9.4050 - mse: 127.9679\n",
            "Epoch 206/500\n",
            "2/2 [==============================] - 0s 8ms/step - loss: 10.4674 - mse: 143.9022\n",
            "Epoch 207/500\n",
            "2/2 [==============================] - 0s 8ms/step - loss: 21.0704 - mse: 675.0845\n",
            "Epoch 208/500\n",
            "2/2 [==============================] - 0s 8ms/step - loss: 16.4700 - mse: 390.3859\n",
            "Epoch 209/500\n",
            "2/2 [==============================] - 0s 8ms/step - loss: 14.3488 - mse: 317.7423\n",
            "Epoch 210/500\n",
            "2/2 [==============================] - 0s 7ms/step - loss: 17.3141 - mse: 437.7195\n",
            "Epoch 211/500\n",
            "2/2 [==============================] - 0s 9ms/step - loss: 10.2804 - mse: 147.0722\n",
            "Epoch 212/500\n",
            "2/2 [==============================] - 0s 8ms/step - loss: 19.8058 - mse: 588.9909\n",
            "Epoch 213/500\n",
            "2/2 [==============================] - 0s 8ms/step - loss: 14.6617 - mse: 297.3039\n",
            "Epoch 214/500\n",
            "2/2 [==============================] - 0s 10ms/step - loss: 14.3494 - mse: 281.9025\n",
            "Epoch 215/500\n",
            "2/2 [==============================] - 0s 7ms/step - loss: 22.8017 - mse: 769.4014\n",
            "Epoch 216/500\n",
            "2/2 [==============================] - 0s 8ms/step - loss: 14.5241 - mse: 324.7271\n",
            "Epoch 217/500\n",
            "2/2 [==============================] - 0s 9ms/step - loss: 9.2588 - mse: 116.7457\n",
            "Epoch 218/500\n",
            "2/2 [==============================] - 0s 9ms/step - loss: 11.8452 - mse: 190.5867\n",
            "Epoch 219/500\n",
            "2/2 [==============================] - 0s 10ms/step - loss: 6.8330 - mse: 59.4274\n",
            "Epoch 220/500\n",
            "2/2 [==============================] - 0s 8ms/step - loss: 7.1306 - mse: 52.6368\n",
            "Epoch 221/500\n",
            "2/2 [==============================] - 0s 9ms/step - loss: 38.6275 - mse: 2582.7588\n",
            "Epoch 222/500\n",
            "2/2 [==============================] - 0s 7ms/step - loss: 38.6798 - mse: 2447.0913\n",
            "Epoch 223/500\n",
            "2/2 [==============================] - 0s 6ms/step - loss: 5.0809 - mse: 43.5047\n",
            "Epoch 224/500\n",
            "2/2 [==============================] - 0s 6ms/step - loss: 11.2524 - mse: 199.3882\n",
            "Epoch 225/500\n",
            "2/2 [==============================] - 0s 8ms/step - loss: 31.0944 - mse: 1348.3379\n",
            "Epoch 226/500\n",
            "2/2 [==============================] - 0s 6ms/step - loss: 12.2778 - mse: 239.2110\n",
            "Epoch 227/500\n",
            "2/2 [==============================] - 0s 6ms/step - loss: 19.2381 - mse: 550.0548\n",
            "Epoch 228/500\n",
            "2/2 [==============================] - 0s 9ms/step - loss: 11.3037 - mse: 173.9149\n",
            "Epoch 229/500\n",
            "2/2 [==============================] - 0s 10ms/step - loss: 13.7364 - mse: 291.7239\n",
            "Epoch 230/500\n",
            "2/2 [==============================] - 0s 9ms/step - loss: 9.6064 - mse: 192.5585\n",
            "Epoch 231/500\n",
            "2/2 [==============================] - 0s 7ms/step - loss: 19.2444 - mse: 568.1495\n",
            "Epoch 232/500\n",
            "2/2 [==============================] - 0s 8ms/step - loss: 15.8237 - mse: 381.9742\n",
            "Epoch 233/500\n",
            "2/2 [==============================] - 0s 8ms/step - loss: 11.3183 - mse: 188.8163\n",
            "Epoch 234/500\n",
            "2/2 [==============================] - 0s 6ms/step - loss: 11.5385 - mse: 227.5057\n",
            "Epoch 235/500\n",
            "2/2 [==============================] - 0s 9ms/step - loss: 8.5986 - mse: 116.4886\n",
            "Epoch 236/500\n",
            "2/2 [==============================] - 0s 6ms/step - loss: 10.0877 - mse: 160.4857\n",
            "Epoch 237/500\n",
            "2/2 [==============================] - 0s 6ms/step - loss: 7.9513 - mse: 116.4771\n",
            "Epoch 238/500\n",
            "2/2 [==============================] - 0s 9ms/step - loss: 7.4278 - mse: 96.6382\n",
            "Epoch 239/500\n",
            "2/2 [==============================] - 0s 9ms/step - loss: 14.0790 - mse: 307.4734\n",
            "Epoch 240/500\n",
            "2/2 [==============================] - 0s 9ms/step - loss: 9.1859 - mse: 111.5001\n",
            "Epoch 241/500\n",
            "2/2 [==============================] - 0s 7ms/step - loss: 13.6701 - mse: 286.4445\n",
            "Epoch 242/500\n",
            "2/2 [==============================] - 0s 7ms/step - loss: 9.0366 - mse: 110.9281\n",
            "Epoch 243/500\n",
            "2/2 [==============================] - 0s 8ms/step - loss: 19.6263 - mse: 588.0898\n",
            "Epoch 244/500\n",
            "2/2 [==============================] - 0s 8ms/step - loss: 14.3864 - mse: 284.6561\n",
            "Epoch 245/500\n",
            "2/2 [==============================] - 0s 6ms/step - loss: 14.9732 - mse: 304.9107\n",
            "Epoch 246/500\n",
            "2/2 [==============================] - 0s 8ms/step - loss: 16.0841 - mse: 389.1137\n",
            "Epoch 247/500\n",
            "2/2 [==============================] - 0s 7ms/step - loss: 18.0495 - mse: 442.3397\n",
            "Epoch 248/500\n",
            "2/2 [==============================] - 0s 11ms/step - loss: 13.5864 - mse: 258.1450\n",
            "Epoch 249/500\n",
            "2/2 [==============================] - 0s 7ms/step - loss: 14.7315 - mse: 300.6781\n",
            "Epoch 250/500\n",
            "2/2 [==============================] - 0s 6ms/step - loss: 23.6453 - mse: 818.1293\n",
            "Epoch 251/500\n",
            "2/2 [==============================] - 0s 7ms/step - loss: 13.8083 - mse: 285.2293\n",
            "Epoch 252/500\n",
            "2/2 [==============================] - 0s 8ms/step - loss: 22.9375 - mse: 772.8959\n",
            "Epoch 253/500\n",
            "2/2 [==============================] - 0s 7ms/step - loss: 10.4245 - mse: 153.6173\n",
            "Epoch 254/500\n",
            "2/2 [==============================] - 0s 6ms/step - loss: 12.3543 - mse: 226.7795\n",
            "Epoch 255/500\n",
            "2/2 [==============================] - 0s 10ms/step - loss: 16.7584 - mse: 384.9651\n",
            "Epoch 256/500\n",
            "2/2 [==============================] - 0s 6ms/step - loss: 9.4167 - mse: 133.2099\n",
            "Epoch 257/500\n",
            "2/2 [==============================] - 0s 9ms/step - loss: 13.2638 - mse: 274.1708\n",
            "Epoch 258/500\n",
            "2/2 [==============================] - 0s 8ms/step - loss: 7.4965 - mse: 93.2413\n",
            "Epoch 259/500\n",
            "2/2 [==============================] - 0s 7ms/step - loss: 18.4014 - mse: 490.0223\n",
            "Epoch 260/500\n",
            "2/2 [==============================] - 0s 10ms/step - loss: 25.9341 - mse: 1005.0568\n",
            "Epoch 261/500\n",
            "2/2 [==============================] - 0s 6ms/step - loss: 9.5091 - mse: 143.7538\n",
            "Epoch 262/500\n",
            "2/2 [==============================] - 0s 7ms/step - loss: 8.5979 - mse: 123.7684\n",
            "Epoch 263/500\n",
            "2/2 [==============================] - 0s 6ms/step - loss: 8.0941 - mse: 101.5825\n",
            "Epoch 264/500\n",
            "2/2 [==============================] - 0s 6ms/step - loss: 17.9247 - mse: 449.4772\n",
            "Epoch 265/500\n",
            "2/2 [==============================] - 0s 11ms/step - loss: 12.2377 - mse: 215.3953\n",
            "Epoch 266/500\n",
            "2/2 [==============================] - 0s 7ms/step - loss: 13.6165 - mse: 262.6457\n",
            "Epoch 267/500\n",
            "2/2 [==============================] - 0s 7ms/step - loss: 11.2594 - mse: 225.7181\n",
            "Epoch 268/500\n",
            "2/2 [==============================] - 0s 11ms/step - loss: 19.5687 - mse: 568.3783\n",
            "Epoch 269/500\n",
            "2/2 [==============================] - 0s 10ms/step - loss: 39.4378 - mse: 2400.3464\n",
            "Epoch 270/500\n",
            "2/2 [==============================] - 0s 11ms/step - loss: 12.1040 - mse: 225.9213\n",
            "Epoch 271/500\n",
            "2/2 [==============================] - 0s 6ms/step - loss: 14.1459 - mse: 268.0360\n",
            "Epoch 272/500\n",
            "2/2 [==============================] - 0s 6ms/step - loss: 28.0005 - mse: 1077.0571\n",
            "Epoch 273/500\n",
            "2/2 [==============================] - 0s 6ms/step - loss: 8.0022 - mse: 87.1372\n",
            "Epoch 274/500\n",
            "2/2 [==============================] - 0s 9ms/step - loss: 6.4553 - mse: 46.5369\n",
            "Epoch 275/500\n",
            "2/2 [==============================] - 0s 6ms/step - loss: 33.7842 - mse: 1721.4211\n",
            "Epoch 276/500\n",
            "2/2 [==============================] - 0s 7ms/step - loss: 7.9732 - mse: 124.8486\n",
            "Epoch 277/500\n",
            "2/2 [==============================] - 0s 6ms/step - loss: 25.1337 - mse: 851.7738\n",
            "Epoch 278/500\n",
            "2/2 [==============================] - 0s 7ms/step - loss: 11.5622 - mse: 222.2539\n",
            "Epoch 279/500\n",
            "2/2 [==============================] - 0s 6ms/step - loss: 16.2913 - mse: 404.9817\n",
            "Epoch 280/500\n",
            "2/2 [==============================] - 0s 12ms/step - loss: 21.6238 - mse: 701.6165\n",
            "Epoch 281/500\n",
            "2/2 [==============================] - 0s 7ms/step - loss: 22.8697 - mse: 796.6919\n",
            "Epoch 282/500\n",
            "2/2 [==============================] - 0s 10ms/step - loss: 8.0103 - mse: 93.0237\n",
            "Epoch 283/500\n",
            "2/2 [==============================] - 0s 6ms/step - loss: 8.3105 - mse: 92.3101\n",
            "Epoch 284/500\n",
            "2/2 [==============================] - 0s 9ms/step - loss: 25.6097 - mse: 991.8491\n",
            "Epoch 285/500\n",
            "2/2 [==============================] - 0s 9ms/step - loss: 14.2084 - mse: 321.0005\n",
            "Epoch 286/500\n",
            "2/2 [==============================] - 0s 8ms/step - loss: 5.2862 - mse: 37.3411\n",
            "Epoch 287/500\n",
            "2/2 [==============================] - 0s 7ms/step - loss: 20.8408 - mse: 650.5883\n",
            "Epoch 288/500\n",
            "2/2 [==============================] - 0s 7ms/step - loss: 27.5583 - mse: 1154.9589\n",
            "Epoch 289/500\n",
            "2/2 [==============================] - 0s 7ms/step - loss: 10.4572 - mse: 224.1768\n",
            "Epoch 290/500\n",
            "2/2 [==============================] - 0s 7ms/step - loss: 16.3286 - mse: 354.5215\n",
            "Epoch 291/500\n",
            "2/2 [==============================] - 0s 7ms/step - loss: 16.5229 - mse: 400.2132\n",
            "Epoch 292/500\n",
            "2/2 [==============================] - 0s 7ms/step - loss: 7.4587 - mse: 104.7306\n",
            "Epoch 293/500\n",
            "2/2 [==============================] - 0s 7ms/step - loss: 16.5666 - mse: 423.5013\n",
            "Epoch 294/500\n",
            "2/2 [==============================] - 0s 8ms/step - loss: 25.3613 - mse: 944.9904\n",
            "Epoch 295/500\n",
            "2/2 [==============================] - 0s 8ms/step - loss: 14.5262 - mse: 307.7849\n",
            "Epoch 296/500\n",
            "2/2 [==============================] - 0s 8ms/step - loss: 4.7043 - mse: 33.1895\n",
            "Epoch 297/500\n",
            "2/2 [==============================] - 0s 8ms/step - loss: 6.2885 - mse: 64.9341\n",
            "Epoch 298/500\n",
            "2/2 [==============================] - 0s 8ms/step - loss: 26.6665 - mse: 1060.9792\n",
            "Epoch 299/500\n",
            "2/2 [==============================] - 0s 8ms/step - loss: 7.2631 - mse: 71.8029\n",
            "Epoch 300/500\n",
            "2/2 [==============================] - 0s 8ms/step - loss: 26.8179 - mse: 1108.5193\n",
            "Epoch 301/500\n",
            "2/2 [==============================] - 0s 10ms/step - loss: 11.7923 - mse: 210.3031\n",
            "Epoch 302/500\n",
            "2/2 [==============================] - 0s 9ms/step - loss: 7.9092 - mse: 84.3853\n",
            "Epoch 303/500\n",
            "2/2 [==============================] - 0s 8ms/step - loss: 19.8455 - mse: 578.2823\n",
            "Epoch 304/500\n",
            "2/2 [==============================] - 0s 8ms/step - loss: 13.6757 - mse: 278.0501\n",
            "Epoch 305/500\n",
            "2/2 [==============================] - 0s 9ms/step - loss: 7.0830 - mse: 93.0586\n",
            "Epoch 306/500\n",
            "2/2 [==============================] - 0s 8ms/step - loss: 19.1931 - mse: 515.2257\n",
            "Epoch 307/500\n",
            "2/2 [==============================] - 0s 7ms/step - loss: 9.0193 - mse: 163.9043\n",
            "Epoch 308/500\n",
            "2/2 [==============================] - 0s 8ms/step - loss: 20.6430 - mse: 654.4606\n",
            "Epoch 309/500\n",
            "2/2 [==============================] - 0s 7ms/step - loss: 13.4977 - mse: 286.5162\n",
            "Epoch 310/500\n",
            "2/2 [==============================] - 0s 7ms/step - loss: 6.7119 - mse: 96.5495\n",
            "Epoch 311/500\n",
            "2/2 [==============================] - 0s 8ms/step - loss: 13.6867 - mse: 264.3243\n",
            "Epoch 312/500\n",
            "2/2 [==============================] - 0s 7ms/step - loss: 30.0540 - mse: 1247.2489\n",
            "Epoch 313/500\n",
            "2/2 [==============================] - 0s 9ms/step - loss: 7.5107 - mse: 104.9525\n",
            "Epoch 314/500\n",
            "2/2 [==============================] - 0s 9ms/step - loss: 9.9897 - mse: 232.7364\n",
            "Epoch 315/500\n",
            "2/2 [==============================] - 0s 7ms/step - loss: 23.9284 - mse: 830.1701\n",
            "Epoch 316/500\n",
            "2/2 [==============================] - 0s 7ms/step - loss: 16.0827 - mse: 391.8375\n",
            "Epoch 317/500\n",
            "2/2 [==============================] - 0s 8ms/step - loss: 20.5595 - mse: 577.3929\n",
            "Epoch 318/500\n",
            "2/2 [==============================] - 0s 8ms/step - loss: 8.6996 - mse: 103.5969\n",
            "Epoch 319/500\n",
            "2/2 [==============================] - 0s 10ms/step - loss: 15.1747 - mse: 359.1979\n",
            "Epoch 320/500\n",
            "2/2 [==============================] - 0s 8ms/step - loss: 8.3349 - mse: 99.7067\n",
            "Epoch 321/500\n",
            "2/2 [==============================] - 0s 7ms/step - loss: 14.5673 - mse: 315.3716\n",
            "Epoch 322/500\n",
            "2/2 [==============================] - 0s 9ms/step - loss: 12.8550 - mse: 242.8332\n",
            "Epoch 323/500\n",
            "2/2 [==============================] - 0s 9ms/step - loss: 17.4739 - mse: 456.7459\n",
            "Epoch 324/500\n",
            "2/2 [==============================] - 0s 8ms/step - loss: 15.7421 - mse: 328.8251\n",
            "Epoch 325/500\n",
            "2/2 [==============================] - 0s 7ms/step - loss: 17.3072 - mse: 477.5289\n",
            "Epoch 326/500\n",
            "2/2 [==============================] - 0s 7ms/step - loss: 13.1267 - mse: 263.1720\n",
            "Epoch 327/500\n",
            "2/2 [==============================] - 0s 7ms/step - loss: 20.9953 - mse: 656.0900\n",
            "Epoch 328/500\n",
            "2/2 [==============================] - 0s 8ms/step - loss: 15.4086 - mse: 352.8139\n",
            "Epoch 329/500\n",
            "2/2 [==============================] - 0s 8ms/step - loss: 9.6325 - mse: 181.7156\n",
            "Epoch 330/500\n",
            "2/2 [==============================] - 0s 9ms/step - loss: 13.7723 - mse: 262.4277\n",
            "Epoch 331/500\n",
            "2/2 [==============================] - 0s 7ms/step - loss: 25.1443 - mse: 909.3952\n",
            "Epoch 332/500\n",
            "2/2 [==============================] - 0s 8ms/step - loss: 18.6311 - mse: 487.7548\n",
            "Epoch 333/500\n",
            "2/2 [==============================] - 0s 8ms/step - loss: 10.7342 - mse: 186.6331\n",
            "Epoch 334/500\n",
            "2/2 [==============================] - 0s 7ms/step - loss: 7.0236 - mse: 133.7875\n",
            "Epoch 335/500\n",
            "2/2 [==============================] - 0s 7ms/step - loss: 13.0108 - mse: 277.9100\n",
            "Epoch 336/500\n",
            "2/2 [==============================] - 0s 8ms/step - loss: 32.3495 - mse: 1427.1580\n",
            "Epoch 337/500\n",
            "2/2 [==============================] - 0s 7ms/step - loss: 10.5982 - mse: 178.0737\n",
            "Epoch 338/500\n",
            "2/2 [==============================] - 0s 8ms/step - loss: 20.0269 - mse: 589.4309\n",
            "Epoch 339/500\n",
            "2/2 [==============================] - 0s 7ms/step - loss: 34.1159 - mse: 1740.4974\n",
            "Epoch 340/500\n",
            "2/2 [==============================] - 0s 9ms/step - loss: 8.7177 - mse: 107.2494\n",
            "Epoch 341/500\n",
            "2/2 [==============================] - 0s 8ms/step - loss: 21.7648 - mse: 662.1954\n",
            "Epoch 342/500\n",
            "2/2 [==============================] - 0s 7ms/step - loss: 13.9068 - mse: 259.3995\n",
            "Epoch 343/500\n",
            "2/2 [==============================] - 0s 7ms/step - loss: 11.7664 - mse: 183.1265\n",
            "Epoch 344/500\n",
            "2/2 [==============================] - 0s 7ms/step - loss: 10.7267 - mse: 225.3004\n",
            "Epoch 345/500\n",
            "2/2 [==============================] - 0s 7ms/step - loss: 30.9489 - mse: 1346.6191\n",
            "Epoch 346/500\n",
            "2/2 [==============================] - 0s 10ms/step - loss: 10.6795 - mse: 257.5007\n",
            "Epoch 347/500\n",
            "2/2 [==============================] - 0s 7ms/step - loss: 25.6342 - mse: 919.7657\n",
            "Epoch 348/500\n",
            "2/2 [==============================] - 0s 12ms/step - loss: 13.1320 - mse: 268.4095\n",
            "Epoch 349/500\n",
            "2/2 [==============================] - 0s 10ms/step - loss: 13.1083 - mse: 249.7904\n",
            "Epoch 350/500\n",
            "2/2 [==============================] - 0s 6ms/step - loss: 15.4346 - mse: 330.3336\n",
            "Epoch 351/500\n",
            "2/2 [==============================] - 0s 8ms/step - loss: 32.9141 - mse: 1520.3777\n",
            "Epoch 352/500\n",
            "2/2 [==============================] - 0s 8ms/step - loss: 14.1550 - mse: 281.5123\n",
            "Epoch 353/500\n",
            "2/2 [==============================] - 0s 7ms/step - loss: 15.8813 - mse: 370.6104\n",
            "Epoch 354/500\n",
            "2/2 [==============================] - 0s 7ms/step - loss: 19.0015 - mse: 530.4935\n",
            "Epoch 355/500\n",
            "2/2 [==============================] - 0s 8ms/step - loss: 34.3721 - mse: 1812.6365\n",
            "Epoch 356/500\n",
            "2/2 [==============================] - 0s 7ms/step - loss: 8.3441 - mse: 110.9439\n",
            "Epoch 357/500\n",
            "2/2 [==============================] - 0s 9ms/step - loss: 21.8536 - mse: 716.9889\n",
            "Epoch 358/500\n",
            "2/2 [==============================] - 0s 7ms/step - loss: 20.0061 - mse: 577.6355\n",
            "Epoch 359/500\n",
            "2/2 [==============================] - 0s 6ms/step - loss: 11.0865 - mse: 292.3911\n",
            "Epoch 360/500\n",
            "2/2 [==============================] - 0s 7ms/step - loss: 20.3044 - mse: 619.1391\n",
            "Epoch 361/500\n",
            "2/2 [==============================] - 0s 7ms/step - loss: 10.9944 - mse: 220.6398\n",
            "Epoch 362/500\n",
            "2/2 [==============================] - 0s 10ms/step - loss: 6.8655 - mse: 77.4706\n",
            "Epoch 363/500\n",
            "2/2 [==============================] - 0s 8ms/step - loss: 23.9132 - mse: 832.4865\n",
            "Epoch 364/500\n",
            "2/2 [==============================] - 0s 9ms/step - loss: 29.6548 - mse: 1276.7571\n",
            "Epoch 365/500\n",
            "2/2 [==============================] - 0s 10ms/step - loss: 8.3630 - mse: 108.3368\n",
            "Epoch 366/500\n",
            "2/2 [==============================] - 0s 9ms/step - loss: 6.1431 - mse: 49.4119\n",
            "Epoch 367/500\n",
            "2/2 [==============================] - 0s 7ms/step - loss: 34.7068 - mse: 1828.6521\n",
            "Epoch 368/500\n",
            "2/2 [==============================] - 0s 8ms/step - loss: 7.4188 - mse: 101.4911\n",
            "Epoch 369/500\n",
            "2/2 [==============================] - 0s 10ms/step - loss: 8.7629 - mse: 110.8178\n",
            "Epoch 370/500\n",
            "2/2 [==============================] - 0s 7ms/step - loss: 14.3225 - mse: 320.3969\n",
            "Epoch 371/500\n",
            "2/2 [==============================] - 0s 9ms/step - loss: 6.9101 - mse: 85.7019\n",
            "Epoch 372/500\n",
            "2/2 [==============================] - 0s 11ms/step - loss: 6.5974 - mse: 77.6035\n",
            "Epoch 373/500\n",
            "2/2 [==============================] - 0s 10ms/step - loss: 24.2505 - mse: 871.6835\n",
            "Epoch 374/500\n",
            "2/2 [==============================] - 0s 14ms/step - loss: 10.2126 - mse: 210.1605\n",
            "Epoch 375/500\n",
            "2/2 [==============================] - 0s 11ms/step - loss: 12.8358 - mse: 234.2819\n",
            "Epoch 376/500\n",
            "2/2 [==============================] - 0s 11ms/step - loss: 14.7049 - mse: 314.9792\n",
            "Epoch 377/500\n",
            "2/2 [==============================] - 0s 9ms/step - loss: 14.6515 - mse: 296.4661\n",
            "Epoch 378/500\n",
            "2/2 [==============================] - 0s 11ms/step - loss: 16.1792 - mse: 408.9031\n",
            "Epoch 379/500\n",
            "2/2 [==============================] - 0s 10ms/step - loss: 20.5959 - mse: 585.3644\n",
            "Epoch 380/500\n",
            "2/2 [==============================] - 0s 8ms/step - loss: 34.2306 - mse: 1761.6887\n",
            "Epoch 381/500\n",
            "2/2 [==============================] - 0s 10ms/step - loss: 8.8922 - mse: 123.8535\n",
            "Epoch 382/500\n",
            "2/2 [==============================] - 0s 10ms/step - loss: 9.6328 - mse: 164.1850\n",
            "Epoch 383/500\n",
            "2/2 [==============================] - 0s 9ms/step - loss: 5.7961 - mse: 50.5582\n",
            "Epoch 384/500\n",
            "2/2 [==============================] - 0s 9ms/step - loss: 8.7203 - mse: 125.3282\n",
            "Epoch 385/500\n",
            "2/2 [==============================] - 0s 8ms/step - loss: 4.9859 - mse: 41.8023\n",
            "Epoch 386/500\n",
            "2/2 [==============================] - 0s 9ms/step - loss: 25.1285 - mse: 906.0959\n",
            "Epoch 387/500\n",
            "2/2 [==============================] - 0s 9ms/step - loss: 15.1112 - mse: 356.3985\n",
            "Epoch 388/500\n",
            "2/2 [==============================] - 0s 10ms/step - loss: 6.6700 - mse: 101.0990\n",
            "Epoch 389/500\n",
            "2/2 [==============================] - 0s 6ms/step - loss: 17.5808 - mse: 460.6805\n",
            "Epoch 390/500\n",
            "2/2 [==============================] - 0s 7ms/step - loss: 23.8710 - mse: 850.3152\n",
            "Epoch 391/500\n",
            "2/2 [==============================] - 0s 9ms/step - loss: 16.4914 - mse: 412.1061\n",
            "Epoch 392/500\n",
            "2/2 [==============================] - 0s 6ms/step - loss: 8.3874 - mse: 172.4917\n",
            "Epoch 393/500\n",
            "2/2 [==============================] - 0s 7ms/step - loss: 18.1595 - mse: 513.3342\n",
            "Epoch 394/500\n",
            "2/2 [==============================] - 0s 7ms/step - loss: 14.2127 - mse: 278.5084\n",
            "Epoch 395/500\n",
            "2/2 [==============================] - 0s 7ms/step - loss: 28.6844 - mse: 1140.9626\n",
            "Epoch 396/500\n",
            "2/2 [==============================] - 0s 6ms/step - loss: 8.2344 - mse: 109.6930\n",
            "Epoch 397/500\n",
            "2/2 [==============================] - 0s 7ms/step - loss: 10.4886 - mse: 204.9307\n",
            "Epoch 398/500\n",
            "2/2 [==============================] - 0s 7ms/step - loss: 7.4070 - mse: 81.6588\n",
            "Epoch 399/500\n",
            "2/2 [==============================] - 0s 10ms/step - loss: 15.5250 - mse: 366.2051\n",
            "Epoch 400/500\n",
            "2/2 [==============================] - 0s 7ms/step - loss: 6.7456 - mse: 61.2572\n",
            "Epoch 401/500\n",
            "2/2 [==============================] - 0s 9ms/step - loss: 7.9869 - mse: 114.3461\n",
            "Epoch 402/500\n",
            "2/2 [==============================] - 0s 9ms/step - loss: 16.3647 - mse: 387.5394\n",
            "Epoch 403/500\n",
            "2/2 [==============================] - 0s 9ms/step - loss: 12.4038 - mse: 293.9413\n",
            "Epoch 404/500\n",
            "2/2 [==============================] - 0s 8ms/step - loss: 22.9986 - mse: 741.7404\n",
            "Epoch 405/500\n",
            "2/2 [==============================] - 0s 10ms/step - loss: 17.9552 - mse: 494.7182\n",
            "Epoch 406/500\n",
            "2/2 [==============================] - 0s 8ms/step - loss: 7.0518 - mse: 75.7107\n",
            "Epoch 407/500\n",
            "2/2 [==============================] - 0s 11ms/step - loss: 12.5480 - mse: 267.7744\n",
            "Epoch 408/500\n",
            "2/2 [==============================] - 0s 11ms/step - loss: 5.6960 - mse: 41.1933\n",
            "Epoch 409/500\n",
            "2/2 [==============================] - 0s 7ms/step - loss: 30.9566 - mse: 1483.8811\n",
            "Epoch 410/500\n",
            "2/2 [==============================] - 0s 7ms/step - loss: 9.3339 - mse: 218.6170\n",
            "Epoch 411/500\n",
            "2/2 [==============================] - 0s 8ms/step - loss: 14.9302 - mse: 288.1871\n",
            "Epoch 412/500\n",
            "2/2 [==============================] - 0s 7ms/step - loss: 21.8380 - mse: 728.1964\n",
            "Epoch 413/500\n",
            "2/2 [==============================] - 0s 9ms/step - loss: 12.4572 - mse: 243.0082\n",
            "Epoch 414/500\n",
            "2/2 [==============================] - 0s 7ms/step - loss: 6.6268 - mse: 111.8065\n",
            "Epoch 415/500\n",
            "2/2 [==============================] - 0s 7ms/step - loss: 12.7061 - mse: 229.6754\n",
            "Epoch 416/500\n",
            "2/2 [==============================] - 0s 7ms/step - loss: 26.9375 - mse: 1003.2663\n",
            "Epoch 417/500\n",
            "2/2 [==============================] - 0s 7ms/step - loss: 12.0558 - mse: 248.7164\n",
            "Epoch 418/500\n",
            "2/2 [==============================] - 0s 8ms/step - loss: 13.0713 - mse: 242.9410\n",
            "Epoch 419/500\n",
            "2/2 [==============================] - 0s 8ms/step - loss: 16.0433 - mse: 389.4748\n",
            "Epoch 420/500\n",
            "2/2 [==============================] - 0s 10ms/step - loss: 25.0798 - mse: 870.3592\n",
            "Epoch 421/500\n",
            "2/2 [==============================] - 0s 7ms/step - loss: 16.5849 - mse: 410.5820\n",
            "Epoch 422/500\n",
            "2/2 [==============================] - 0s 8ms/step - loss: 8.7131 - mse: 194.5431\n",
            "Epoch 423/500\n",
            "2/2 [==============================] - 0s 8ms/step - loss: 24.8127 - mse: 871.2424\n",
            "Epoch 424/500\n",
            "2/2 [==============================] - 0s 9ms/step - loss: 16.4807 - mse: 423.5266\n",
            "Epoch 425/500\n",
            "2/2 [==============================] - 0s 12ms/step - loss: 7.2591 - mse: 76.6314\n",
            "Epoch 426/500\n",
            "2/2 [==============================] - 0s 12ms/step - loss: 20.6143 - mse: 587.9948\n",
            "Epoch 427/500\n",
            "2/2 [==============================] - 0s 10ms/step - loss: 6.4223 - mse: 84.2352\n",
            "Epoch 428/500\n",
            "2/2 [==============================] - 0s 11ms/step - loss: 13.1753 - mse: 292.5649\n",
            "Epoch 429/500\n",
            "2/2 [==============================] - 0s 9ms/step - loss: 10.9417 - mse: 196.0750\n",
            "Epoch 430/500\n",
            "2/2 [==============================] - 0s 10ms/step - loss: 11.8102 - mse: 268.4574\n",
            "Epoch 431/500\n",
            "2/2 [==============================] - 0s 11ms/step - loss: 7.9751 - mse: 112.9187\n",
            "Epoch 432/500\n",
            "2/2 [==============================] - 0s 12ms/step - loss: 22.2481 - mse: 681.9836\n",
            "Epoch 433/500\n",
            "2/2 [==============================] - 0s 10ms/step - loss: 5.9554 - mse: 65.7735\n",
            "Epoch 434/500\n",
            "2/2 [==============================] - 0s 9ms/step - loss: 32.6462 - mse: 1484.1504\n",
            "Epoch 435/500\n",
            "2/2 [==============================] - 0s 7ms/step - loss: 13.5083 - mse: 259.5264\n",
            "Epoch 436/500\n",
            "2/2 [==============================] - 0s 10ms/step - loss: 29.0672 - mse: 1230.1331\n",
            "Epoch 437/500\n",
            "2/2 [==============================] - 0s 9ms/step - loss: 9.2097 - mse: 232.1633\n",
            "Epoch 438/500\n",
            "2/2 [==============================] - 0s 9ms/step - loss: 12.3757 - mse: 257.6102\n",
            "Epoch 439/500\n",
            "2/2 [==============================] - 0s 9ms/step - loss: 33.6577 - mse: 1568.6194\n",
            "Epoch 440/500\n",
            "2/2 [==============================] - 0s 8ms/step - loss: 15.0730 - mse: 293.7172\n",
            "Epoch 441/500\n",
            "2/2 [==============================] - 0s 7ms/step - loss: 17.4661 - mse: 485.0947\n",
            "Epoch 442/500\n",
            "2/2 [==============================] - 0s 8ms/step - loss: 22.2684 - mse: 748.8199\n",
            "Epoch 443/500\n",
            "2/2 [==============================] - 0s 8ms/step - loss: 23.6755 - mse: 790.5965\n",
            "Epoch 444/500\n",
            "2/2 [==============================] - 0s 9ms/step - loss: 11.0767 - mse: 205.7246\n",
            "Epoch 445/500\n",
            "2/2 [==============================] - 0s 8ms/step - loss: 14.9023 - mse: 315.5445\n",
            "Epoch 446/500\n",
            "2/2 [==============================] - 0s 10ms/step - loss: 17.9765 - mse: 513.6163\n",
            "Epoch 447/500\n",
            "2/2 [==============================] - 0s 8ms/step - loss: 5.4859 - mse: 51.6533\n",
            "Epoch 448/500\n",
            "2/2 [==============================] - 0s 8ms/step - loss: 9.6991 - mse: 228.3160\n",
            "Epoch 449/500\n",
            "2/2 [==============================] - 0s 8ms/step - loss: 14.3277 - mse: 286.5458\n",
            "Epoch 450/500\n",
            "2/2 [==============================] - 0s 8ms/step - loss: 17.0913 - mse: 446.9047\n",
            "Epoch 451/500\n",
            "2/2 [==============================] - 0s 9ms/step - loss: 14.4276 - mse: 318.2122\n",
            "Epoch 452/500\n",
            "2/2 [==============================] - 0s 9ms/step - loss: 30.8961 - mse: 1352.0397\n",
            "Epoch 453/500\n",
            "2/2 [==============================] - 0s 8ms/step - loss: 9.1556 - mse: 232.3733\n",
            "Epoch 454/500\n",
            "2/2 [==============================] - 0s 9ms/step - loss: 27.2784 - mse: 1041.5461\n",
            "Epoch 455/500\n",
            "2/2 [==============================] - 0s 9ms/step - loss: 11.0569 - mse: 219.3147\n",
            "Epoch 456/500\n",
            "2/2 [==============================] - 0s 6ms/step - loss: 15.0232 - mse: 303.2834\n",
            "Epoch 457/500\n",
            "2/2 [==============================] - 0s 7ms/step - loss: 18.4409 - mse: 515.3926\n",
            "Epoch 458/500\n",
            "2/2 [==============================] - 0s 6ms/step - loss: 24.8057 - mse: 919.2306\n",
            "Epoch 459/500\n",
            "2/2 [==============================] - 0s 7ms/step - loss: 18.0915 - mse: 460.0191\n",
            "Epoch 460/500\n",
            "2/2 [==============================] - 0s 7ms/step - loss: 4.6675 - mse: 43.2141\n",
            "Epoch 461/500\n",
            "2/2 [==============================] - 0s 11ms/step - loss: 15.9240 - mse: 388.6614\n",
            "Epoch 462/500\n",
            "2/2 [==============================] - 0s 6ms/step - loss: 12.1809 - mse: 281.6096\n",
            "Epoch 463/500\n",
            "2/2 [==============================] - 0s 9ms/step - loss: 27.2251 - mse: 1046.7631\n",
            "Epoch 464/500\n",
            "2/2 [==============================] - 0s 8ms/step - loss: 11.5449 - mse: 229.2643\n",
            "Epoch 465/500\n",
            "2/2 [==============================] - 0s 11ms/step - loss: 7.3210 - mse: 101.8744\n",
            "Epoch 466/500\n",
            "2/2 [==============================] - 0s 11ms/step - loss: 12.0745 - mse: 261.8629\n",
            "Epoch 467/500\n",
            "2/2 [==============================] - 0s 9ms/step - loss: 5.9052 - mse: 68.1098\n",
            "Epoch 468/500\n",
            "2/2 [==============================] - 0s 11ms/step - loss: 13.3613 - mse: 289.2037\n",
            "Epoch 469/500\n",
            "2/2 [==============================] - 0s 8ms/step - loss: 13.3085 - mse: 290.4016\n",
            "Epoch 470/500\n",
            "2/2 [==============================] - 0s 9ms/step - loss: 6.6709 - mse: 110.0289\n",
            "Epoch 471/500\n",
            "2/2 [==============================] - 0s 9ms/step - loss: 22.3805 - mse: 733.5856\n",
            "Epoch 472/500\n",
            "2/2 [==============================] - 0s 7ms/step - loss: 13.4645 - mse: 254.1068\n",
            "Epoch 473/500\n",
            "2/2 [==============================] - 0s 8ms/step - loss: 15.3885 - mse: 402.6967\n",
            "Epoch 474/500\n",
            "2/2 [==============================] - 0s 9ms/step - loss: 11.8562 - mse: 300.1861\n",
            "Epoch 475/500\n",
            "2/2 [==============================] - 0s 9ms/step - loss: 16.5070 - mse: 403.8125\n",
            "Epoch 476/500\n",
            "2/2 [==============================] - 0s 8ms/step - loss: 13.9256 - mse: 277.7833\n",
            "Epoch 477/500\n",
            "2/2 [==============================] - 0s 8ms/step - loss: 30.7490 - mse: 1315.5652\n",
            "Epoch 478/500\n",
            "2/2 [==============================] - 0s 8ms/step - loss: 8.7522 - mse: 185.9132\n",
            "Epoch 479/500\n",
            "2/2 [==============================] - 0s 10ms/step - loss: 10.8498 - mse: 256.3363\n",
            "Epoch 480/500\n",
            "2/2 [==============================] - 0s 10ms/step - loss: 18.0186 - mse: 492.7867\n",
            "Epoch 481/500\n",
            "2/2 [==============================] - 0s 8ms/step - loss: 15.9002 - mse: 375.0222\n",
            "Epoch 482/500\n",
            "2/2 [==============================] - 0s 11ms/step - loss: 21.4918 - mse: 707.8624\n",
            "Epoch 483/500\n",
            "2/2 [==============================] - 0s 12ms/step - loss: 24.9678 - mse: 919.5664\n",
            "Epoch 484/500\n",
            "2/2 [==============================] - 0s 12ms/step - loss: 23.5481 - mse: 780.2649\n",
            "Epoch 485/500\n",
            "2/2 [==============================] - 0s 9ms/step - loss: 5.7219 - mse: 53.9663\n",
            "Epoch 486/500\n",
            "2/2 [==============================] - 0s 8ms/step - loss: 19.4793 - mse: 535.8037\n",
            "Epoch 487/500\n",
            "2/2 [==============================] - 0s 8ms/step - loss: 13.9763 - mse: 280.9925\n",
            "Epoch 488/500\n",
            "2/2 [==============================] - 0s 6ms/step - loss: 30.4804 - mse: 1324.1174\n",
            "Epoch 489/500\n",
            "2/2 [==============================] - 0s 8ms/step - loss: 11.7437 - mse: 238.5161\n",
            "Epoch 490/500\n",
            "2/2 [==============================] - 0s 8ms/step - loss: 12.4601 - mse: 244.2731\n",
            "Epoch 491/500\n",
            "2/2 [==============================] - 0s 9ms/step - loss: 23.6372 - mse: 839.1434\n",
            "Epoch 492/500\n",
            "2/2 [==============================] - 0s 8ms/step - loss: 20.4882 - mse: 589.6395\n",
            "Epoch 493/500\n",
            "2/2 [==============================] - 0s 9ms/step - loss: 5.0055 - mse: 48.3282\n",
            "Epoch 494/500\n",
            "2/2 [==============================] - 0s 8ms/step - loss: 12.7541 - mse: 246.3988\n",
            "Epoch 495/500\n",
            "2/2 [==============================] - 0s 9ms/step - loss: 13.4082 - mse: 240.3437\n",
            "Epoch 496/500\n",
            "2/2 [==============================] - 0s 9ms/step - loss: 12.6953 - mse: 241.6487\n",
            "Epoch 497/500\n",
            "2/2 [==============================] - 0s 8ms/step - loss: 17.6622 - mse: 517.2239\n",
            "Epoch 498/500\n",
            "2/2 [==============================] - 0s 8ms/step - loss: 23.4773 - mse: 810.1562\n",
            "Epoch 499/500\n",
            "2/2 [==============================] - 0s 6ms/step - loss: 9.2020 - mse: 130.7104\n",
            "Epoch 500/500\n",
            "2/2 [==============================] - 0s 6ms/step - loss: 14.3797 - mse: 273.0509\n"
          ]
        },
        {
          "output_type": "execute_result",
          "data": {
            "text/plain": [
              "<keras.src.callbacks.History at 0x78e7e511ba60>"
            ]
          },
          "metadata": {},
          "execution_count": 59
        }
      ]
    },
    {
      "cell_type": "code",
      "source": [
        "# Make and Plot some predictions -\n",
        "y_preds_3 = model_3.predict(X_test)\n",
        "plot_predictions(predictions=y_preds_3)"
      ],
      "metadata": {
        "colab": {
          "base_uri": "https://localhost:8080/",
          "height": 539
        },
        "id": "SUyRQigqsB6N",
        "outputId": "0e7c6175-f59f-4e63-ae72-4ab5d3da0dcf"
      },
      "execution_count": 60,
      "outputs": [
        {
          "output_type": "stream",
          "name": "stdout",
          "text": [
            "1/1 [==============================] - 0s 85ms/step\n"
          ]
        },
        {
          "output_type": "display_data",
          "data": {
            "text/plain": [
              "<Figure size 800x600 with 1 Axes>"
            ],
            "image/png": "[encoded data removed]"
          },
          "metadata": {}
        }
      ]
    },
    {
      "cell_type": "code",
      "source": [
        "# Lets calculate model_3 evaluation metrics-\n",
        "mae_3 = mae(y_test, y_preds_3)\n",
        "mse_3 = mse(y_test, y_preds_3)\n",
        "mae_3, mse_3"
      ],
      "metadata": {
        "colab": {
          "base_uri": "https://localhost:8080/"
        },
        "id": "Z0lxUn4tskvg",
        "outputId": "d1d2c82c-fe8f-4eaa-9e8e-e5aed7ce5af3"
      },
      "execution_count": 61,
      "outputs": [
        {
          "output_type": "execute_result",
          "data": {
            "text/plain": [
              "(<tf.Tensor: shape=(), dtype=float32, numpy=67.90511>,\n",
              " <tf.Tensor: shape=(), dtype=float32, numpy=4695.4277>)"
            ]
          },
          "metadata": {},
          "execution_count": 61
        }
      ]
    },
    {
      "cell_type": "markdown",
      "source": [
        "## Comparing the results of our experiments :\n",
        "* We have run a few experiments, let's compare the results-\n"
      ],
      "metadata": {
        "id": "NOsnmFEltIIu"
      }
    },
    {
      "cell_type": "code",
      "source": [
        "# Let's Compare our model's results using pandas Dataframe -\n",
        "import pandas as pd\n",
        "\n",
        "model_results = [[\"model_1\", mae_1.numpy(), mse_1.numpy()],\n",
        "                 [\"model_2\", mae_2.numpy(), mse_2.numpy()],\n",
        "                 [\"model_3\", mae_3.numpy(), mse_3.numpy()]]\n",
        "all_results = pd.DataFrame(model_results, columns=['Model', 'mae', 'mse'])\n",
        "all_results"
      ],
      "metadata": {
        "colab": {
          "base_uri": "https://localhost:8080/",
          "height": 143
        },
        "id": "v72-nKR2tmDO",
        "outputId": "6bcaba70-32c9-4e62-9d77-0c7180f0dc79"
      },
      "execution_count": 64,
      "outputs": [
        {
          "output_type": "execute_result",
          "data": {
            "text/plain": [
              "     Model        mae          mse\n",
              "0  model_1  30.857639   962.823120\n",
              "1  model_2   2.948097    11.430389\n",
              "2  model_3  67.905113  4695.427734"
            ],
            "text/html": [
              "\n",
              "  <div id=\"df-6d2afed0-eb7e-4f29-9b0a-7ac4abd68a5e\" class=\"colab-df-container\">\n",
              "    <div>\n",
              "<style scoped>\n",
              "    .dataframe tbody tr th:only-of-type {\n",
              "        vertical-align: middle;\n",
              "    }\n",
              "\n",
              "    .dataframe tbody tr th {\n",
              "        vertical-align: top;\n",
              "    }\n",
              "\n",
              "    .dataframe thead th {\n",
              "        text-align: right;\n",
              "    }\n",
              "</style>\n",
              "<table border=\"1\" class=\"dataframe\">\n",
              "  <thead>\n",
              "    <tr style=\"text-align: right;\">\n",
              "      <th></th>\n",
              "      <th>Model</th>\n",
              "      <th>mae</th>\n",
              "      <th>mse</th>\n",
              "    </tr>\n",
              "  </thead>\n",
              "  <tbody>\n",
              "    <tr>\n",
              "      <th>0</th>\n",
              "      <td>model_1</td>\n",
              "      <td>30.857639</td>\n",
              "      <td>962.823120</td>\n",
              "    </tr>\n",
              "    <tr>\n",
              "      <th>1</th>\n",
              "      <td>model_2</td>\n",
              "      <td>2.948097</td>\n",
              "      <td>11.430389</td>\n",
              "    </tr>\n",
              "    <tr>\n",
              "      <th>2</th>\n",
              "      <td>model_3</td>\n",
              "      <td>67.905113</td>\n",
              "      <td>4695.427734</td>\n",
              "    </tr>\n",
              "  </tbody>\n",
              "</table>\n",
              "</div>\n",
              "    <div class=\"colab-df-buttons\">\n",
              "\n",
              "  <div class=\"colab-df-container\">\n",
              "    <button class=\"colab-df-convert\" onclick=\"convertToInteractive('df-6d2afed0-eb7e-4f29-9b0a-7ac4abd68a5e')\"\n",
              "            title=\"Convert this dataframe to an interactive table.\"\n",
              "            style=\"display:none;\">\n",
              "\n",
              "  <svg xmlns=\"http://www.w3.org/2000/svg\" height=\"24px\" viewBox=\"0 -960 960 960\">\n",
              "    <path d=\"M120-120v-720h720v720H120Zm60-500h600v-160H180v160Zm220 220h160v-160H400v160Zm0 220h160v-160H400v160ZM180-400h160v-160H180v160Zm440 0h160v-160H620v160ZM180-180h160v-160H180v160Zm440 0h160v-160H620v160Z\"/>\n",
              "  </svg>\n",
              "    </button>\n",
              "\n",
              "  <style>\n",
              "    .colab-df-container {\n",
              "      display:flex;\n",
              "      gap: 12px;\n",
              "    }\n",
              "\n",
              "    .colab-df-convert {\n",
              "      background-color: #E8F0FE;\n",
              "      border: none;\n",
              "      border-radius: 50%;\n",
              "      cursor: pointer;\n",
              "      display: none;\n",
              "      fill: #1967D2;\n",
              "      height: 32px;\n",
              "      padding: 0 0 0 0;\n",
              "      width: 32px;\n",
              "    }\n",
              "\n",
              "    .colab-df-convert:hover {\n",
              "      background-color: #E2EBFA;\n",
              "      box-shadow: 0px 1px 2px rgba(60, 64, 67, 0.3), 0px 1px 3px 1px rgba(60, 64, 67, 0.15);\n",
              "      fill: #174EA6;\n",
              "    }\n",
              "\n",
              "    .colab-df-buttons div {\n",
              "      margin-bottom: 4px;\n",
              "    }\n",
              "\n",
              "    [theme=dark] .colab-df-convert {\n",
              "      background-color: #3B4455;\n",
              "      fill: #D2E3FC;\n",
              "    }\n",
              "\n",
              "    [theme=dark] .colab-df-convert:hover {\n",
              "      background-color: #434B5C;\n",
              "      box-shadow: 0px 1px 3px 1px rgba(0, 0, 0, 0.15);\n",
              "      filter: drop-shadow(0px 1px 2px rgba(0, 0, 0, 0.3));\n",
              "      fill: #FFFFFF;\n",
              "    }\n",
              "  </style>\n",
              "\n",
              "    <script>\n",
              "      const buttonEl =\n",
              "        document.querySelector('#df-6d2afed0-eb7e-4f29-9b0a-7ac4abd68a5e button.colab-df-convert');\n",
              "      buttonEl.style.display =\n",
              "        google.colab.kernel.accessAllowed ? 'block' : 'none';\n",
              "\n",
              "      async function convertToInteractive(key) {\n",
              "        const element = document.querySelector('#df-6d2afed0-eb7e-4f29-9b0a-7ac4abd68a5e');\n",
              "        const dataTable =\n",
              "          await google.colab.kernel.invokeFunction('convertToInteractive',\n",
              "                                                    [key], {});\n",
              "        if (!dataTable) return;\n",
              "\n",
              "        const docLinkHtml = 'Like what you see? Visit the ' +\n",
              "          '<a target=\"_blank\" href=https://colab.research.google.com/notebooks/data_table.ipynb>data table notebook</a>'\n",
              "          + ' to learn more about interactive tables.';\n",
              "        element.innerHTML = '';\n",
              "        dataTable['output_type'] = 'display_data';\n",
              "        await google.colab.output.renderOutput(dataTable, element);\n",
              "        const docLink = document.createElement('div');\n",
              "        docLink.innerHTML = docLinkHtml;\n",
              "        element.appendChild(docLink);\n",
              "      }\n",
              "    </script>\n",
              "  </div>\n",
              "\n",
              "\n",
              "<div id=\"df-bb4820d1-6b08-4a7e-84db-1a88ab22716e\">\n",
              "  <button class=\"colab-df-quickchart\" onclick=\"quickchart('df-bb4820d1-6b08-4a7e-84db-1a88ab22716e')\"\n",
              "            title=\"Suggest charts\"\n",
              "            style=\"display:none;\">\n",
              "\n",
              "<svg xmlns=\"http://www.w3.org/2000/svg\" height=\"24px\"viewBox=\"0 0 24 24\"\n",
              "     width=\"24px\">\n",
              "    <g>\n",
              "        <path d=\"M19 3H5c-1.1 0-2 .9-2 2v14c0 1.1.9 2 2 2h14c1.1 0 2-.9 2-2V5c0-1.1-.9-2-2-2zM9 17H7v-7h2v7zm4 0h-2V7h2v10zm4 0h-2v-4h2v4z\"/>\n",
              "    </g>\n",
              "</svg>\n",
              "  </button>\n",
              "\n",
              "<style>\n",
              "  .colab-df-quickchart {\n",
              "      --bg-color: #E8F0FE;\n",
              "      --fill-color: #1967D2;\n",
              "      --hover-bg-color: #E2EBFA;\n",
              "      --hover-fill-color: #174EA6;\n",
              "      --disabled-fill-color: #AAA;\n",
              "      --disabled-bg-color: #DDD;\n",
              "  }\n",
              "\n",
              "  [theme=dark] .colab-df-quickchart {\n",
              "      --bg-color: #3B4455;\n",
              "      --fill-color: #D2E3FC;\n",
              "      --hover-bg-color: #434B5C;\n",
              "      --hover-fill-color: #FFFFFF;\n",
              "      --disabled-bg-color: #3B4455;\n",
              "      --disabled-fill-color: #666;\n",
              "  }\n",
              "\n",
              "  .colab-df-quickchart {\n",
              "    background-color: var(--bg-color);\n",
              "    border: none;\n",
              "    border-radius: 50%;\n",
              "    cursor: pointer;\n",
              "    display: none;\n",
              "    fill: var(--fill-color);\n",
              "    height: 32px;\n",
              "    padding: 0;\n",
              "    width: 32px;\n",
              "  }\n",
              "\n",
              "  .colab-df-quickchart:hover {\n",
              "    background-color: var(--hover-bg-color);\n",
              "    box-shadow: 0 1px 2px rgba(60, 64, 67, 0.3), 0 1px 3px 1px rgba(60, 64, 67, 0.15);\n",
              "    fill: var(--button-hover-fill-color);\n",
              "  }\n",
              "\n",
              "  .colab-df-quickchart-complete:disabled,\n",
              "  .colab-df-quickchart-complete:disabled:hover {\n",
              "    background-color: var(--disabled-bg-color);\n",
              "    fill: var(--disabled-fill-color);\n",
              "    box-shadow: none;\n",
              "  }\n",
              "\n",
              "  .colab-df-spinner {\n",
              "    border: 2px solid var(--fill-color);\n",
              "    border-color: transparent;\n",
              "    border-bottom-color: var(--fill-color);\n",
              "    animation:\n",
              "      spin 1s steps(1) infinite;\n",
              "  }\n",
              "\n",
              "  @keyframes spin {\n",
              "    0% {\n",
              "      border-color: transparent;\n",
              "      border-bottom-color: var(--fill-color);\n",
              "      border-left-color: var(--fill-color);\n",
              "    }\n",
              "    20% {\n",
              "      border-color: transparent;\n",
              "      border-left-color: var(--fill-color);\n",
              "      border-top-color: var(--fill-color);\n",
              "    }\n",
              "    30% {\n",
              "      border-color: transparent;\n",
              "      border-left-color: var(--fill-color);\n",
              "      border-top-color: var(--fill-color);\n",
              "      border-right-color: var(--fill-color);\n",
              "    }\n",
              "    40% {\n",
              "      border-color: transparent;\n",
              "      border-right-color: var(--fill-color);\n",
              "      border-top-color: var(--fill-color);\n",
              "    }\n",
              "    60% {\n",
              "      border-color: transparent;\n",
              "      border-right-color: var(--fill-color);\n",
              "    }\n",
              "    80% {\n",
              "      border-color: transparent;\n",
              "      border-right-color: var(--fill-color);\n",
              "      border-bottom-color: var(--fill-color);\n",
              "    }\n",
              "    90% {\n",
              "      border-color: transparent;\n",
              "      border-bottom-color: var(--fill-color);\n",
              "    }\n",
              "  }\n",
              "</style>\n",
              "\n",
              "  <script>\n",
              "    async function quickchart(key) {\n",
              "      const quickchartButtonEl =\n",
              "        document.querySelector('#' + key + ' button');\n",
              "      quickchartButtonEl.disabled = true;  // To prevent multiple clicks.\n",
              "      quickchartButtonEl.classList.add('colab-df-spinner');\n",
              "      try {\n",
              "        const charts = await google.colab.kernel.invokeFunction(\n",
              "            'suggestCharts', [key], {});\n",
              "      } catch (error) {\n",
              "        console.error('Error during call to suggestCharts:', error);\n",
              "      }\n",
              "      quickchartButtonEl.classList.remove('colab-df-spinner');\n",
              "      quickchartButtonEl.classList.add('colab-df-quickchart-complete');\n",
              "    }\n",
              "    (() => {\n",
              "      let quickchartButtonEl =\n",
              "        document.querySelector('#df-bb4820d1-6b08-4a7e-84db-1a88ab22716e button');\n",
              "      quickchartButtonEl.style.display =\n",
              "        google.colab.kernel.accessAllowed ? 'block' : 'none';\n",
              "    })();\n",
              "  </script>\n",
              "</div>\n",
              "\n",
              "  <div id=\"id_77978edf-3e2c-4a05-bc1f-178b516be4bd\">\n",
              "    <style>\n",
              "      .colab-df-generate {\n",
              "        background-color: #E8F0FE;\n",
              "        border: none;\n",
              "        border-radius: 50%;\n",
              "        cursor: pointer;\n",
              "        display: none;\n",
              "        fill: #1967D2;\n",
              "        height: 32px;\n",
              "        padding: 0 0 0 0;\n",
              "        width: 32px;\n",
              "      }\n",
              "\n",
              "      .colab-df-generate:hover {\n",
              "        background-color: #E2EBFA;\n",
              "        box-shadow: 0px 1px 2px rgba(60, 64, 67, 0.3), 0px 1px 3px 1px rgba(60, 64, 67, 0.15);\n",
              "        fill: #174EA6;\n",
              "      }\n",
              "\n",
              "      [theme=dark] .colab-df-generate {\n",
              "        background-color: #3B4455;\n",
              "        fill: #D2E3FC;\n",
              "      }\n",
              "\n",
              "      [theme=dark] .colab-df-generate:hover {\n",
              "        background-color: #434B5C;\n",
              "        box-shadow: 0px 1px 3px 1px rgba(0, 0, 0, 0.15);\n",
              "        filter: drop-shadow(0px 1px 2px rgba(0, 0, 0, 0.3));\n",
              "        fill: #FFFFFF;\n",
              "      }\n",
              "    </style>\n",
              "    <button class=\"colab-df-generate\" onclick=\"generateWithVariable('all_results')\"\n",
              "            title=\"Generate code using this dataframe.\"\n",
              "            style=\"display:none;\">\n",
              "\n",
              "  <svg xmlns=\"http://www.w3.org/2000/svg\" height=\"24px\"viewBox=\"0 0 24 24\"\n",
              "       width=\"24px\">\n",
              "    <path d=\"M7,19H8.4L18.45,9,17,7.55,7,17.6ZM5,21V16.75L18.45,3.32a2,2,0,0,1,2.83,0l1.4,1.43a1.91,1.91,0,0,1,.58,1.4,1.91,1.91,0,0,1-.58,1.4L9.25,21ZM18.45,9,17,7.55Zm-12,3A5.31,5.31,0,0,0,4.9,8.1,5.31,5.31,0,0,0,1,6.5,5.31,5.31,0,0,0,4.9,4.9,5.31,5.31,0,0,0,6.5,1,5.31,5.31,0,0,0,8.1,4.9,5.31,5.31,0,0,0,12,6.5,5.46,5.46,0,0,0,6.5,12Z\"/>\n",
              "  </svg>\n",
              "    </button>\n",
              "    <script>\n",
              "      (() => {\n",
              "      const buttonEl =\n",
              "        document.querySelector('#id_77978edf-3e2c-4a05-bc1f-178b516be4bd button.colab-df-generate');\n",
              "      buttonEl.style.display =\n",
              "        google.colab.kernel.accessAllowed ? 'block' : 'none';\n",
              "\n",
              "      buttonEl.onclick = () => {\n",
              "        google.colab.notebook.generateWithVariable('all_results');\n",
              "      }\n",
              "      })();\n",
              "    </script>\n",
              "  </div>\n",
              "\n",
              "    </div>\n",
              "  </div>\n"
            ],
            "application/vnd.google.colaboratory.intrinsic+json": {
              "type": "dataframe",
              "variable_name": "all_results",
              "summary": "{\n  \"name\": \"all_results\",\n  \"rows\": 3,\n  \"fields\": [\n    {\n      \"column\": \"Model\",\n      \"properties\": {\n        \"dtype\": \"string\",\n        \"num_unique_values\": 3,\n        \"samples\": [\n          \"model_1\",\n          \"model_2\",\n          \"model_3\"\n        ],\n        \"semantic_type\": \"\",\n        \"description\": \"\"\n      }\n    },\n    {\n      \"column\": \"mae\",\n      \"properties\": {\n        \"dtype\": \"float32\",\n        \"num_unique_values\": 3,\n        \"samples\": [\n          30.85763931274414,\n          2.948096513748169,\n          67.90511322021484\n        ],\n        \"semantic_type\": \"\",\n        \"description\": \"\"\n      }\n    },\n    {\n      \"column\": \"mse\",\n      \"properties\": {\n        \"dtype\": \"float32\",\n        \"num_unique_values\": 3,\n        \"samples\": [\n          962.8231201171875,\n          11.430389404296875,\n          4695.427734375\n        ],\n        \"semantic_type\": \"\",\n        \"description\": \"\"\n      }\n    }\n  ]\n}"
            }
          },
          "metadata": {},
          "execution_count": 64
        }
      ]
    },
    {
      "cell_type": "code",
      "source": [
        "model_2.summary()"
      ],
      "metadata": {
        "colab": {
          "base_uri": "https://localhost:8080/"
        },
        "id": "yST8prT7uyM2",
        "outputId": "9137e260-d125-4bf1-8fb6-2dd122874922"
      },
      "execution_count": 65,
      "outputs": [
        {
          "output_type": "stream",
          "name": "stdout",
          "text": [
            "Model: \"sequential_10\"\n",
            "_________________________________________________________________\n",
            " Layer (type)                Output Shape              Param #   \n",
            "=================================================================\n",
            " dense_16 (Dense)            (None, 10)                20        \n",
            "                                                                 \n",
            " dense_17 (Dense)            (None, 1)                 11        \n",
            "                                                                 \n",
            "=================================================================\n",
            "Total params: 31 (124.00 Byte)\n",
            "Trainable params: 31 (124.00 Byte)\n",
            "Non-trainable params: 0 (0.00 Byte)\n",
            "_________________________________________________________________\n"
          ]
        }
      ]
    },
    {
      "cell_type": "code",
      "source": [],
      "metadata": {
        "id": "c4qbZbFhvRx7"
      },
      "execution_count": null,
      "outputs": []
    }
  ]
}