{
  "nbformat": 4,
  "nbformat_minor": 0,
  "metadata": {
    "colab": {
      "provenance": [],
      "authorship_tag": "ABX9TyNm0AA4IV+f7D3LBBPDkGRL",
      "include_colab_link": true
    },
    "kernelspec": {
      "name": "python3",
      "display_name": "Python 3"
    },
    "language_info": {
      "name": "python"
    }
  },
  "cells": [
    {
      "cell_type": "markdown",
      "metadata": {
        "id": "view-in-github",
        "colab_type": "text"
      },
      "source": [
        "<a href=\"https://colab.research.google.com/github/imdebarun/tensorflow2/blob/main/Neural_Network_Regression_with_Tensorflow.ipynb\" target=\"_parent\"><img src=\"https://colab.research.google.com/assets/colab-badge.svg\" alt=\"Open In Colab\"/></a>"
      ]
    },
    {
      "cell_type": "markdown",
      "source": [
        "# Introduction to Regression with Neural Network in Tensorflow :\n",
        "There are many definitions for a regression problem but in our case, we are going to simplify it: predicting a numerical variable based on some other comination of variables, even shorter...predicting a number."
      ],
      "metadata": {
        "id": "yg0RhoNIBI1g"
      }
    },
    {
      "cell_type": "markdown",
      "source": [
        "### Hyperparameter & Typical value :\n",
        "* Input layer shape - Same shape as number of input features\n",
        "* Hidden layer(s) - Problem specific, minimum = 1, maximum = unlimited\n",
        "* Neurons per hidden layer - Problem specific generally 10 to 100\n",
        "* Output layer shape - Same shape as desired prediction shape\n",
        "* Hidden Activation - Usually ReLU (rectified linear unit)\n",
        "* Output Activation - None, ReLU, logistic/tanh\n",
        "* Loss function - MSE (mean squared error) or MAE (mean absolute error) / Huber (combination of MAE/MSE) if outliers\n",
        "* Optimizer - SGD (Stochastic gradient descent), ADAM"
      ],
      "metadata": {
        "id": "ThDweAhjzL9J"
      }
    },
    {
      "cell_type": "code",
      "source": [
        "# Import Tensorflow\n",
        "import tensorflow as tf\n",
        "print(tf.__version__)"
      ],
      "metadata": {
        "colab": {
          "base_uri": "https://localhost:8080/"
        },
        "id": "HvYmEi9m_5Yo",
        "outputId": "d9ef1678-9eb3-4024-fb85-e9e02828f531"
      },
      "execution_count": 1,
      "outputs": [
        {
          "output_type": "stream",
          "name": "stdout",
          "text": [
            "2.15.0\n"
          ]
        }
      ]
    },
    {
      "cell_type": "markdown",
      "source": [
        "### Creating some data to view and fit -"
      ],
      "metadata": {
        "id": "6RWv8pW7B5Y7"
      }
    },
    {
      "cell_type": "code",
      "source": [
        "import numpy as np\n",
        "import matplotlib.pyplot as plt\n",
        "\n",
        "# Create features -\n",
        "X = np.array([-7.0, -4.0, -1.0, 2.0, 5.0, 8.0, 11.0, 14.0])\n",
        "\n",
        "# Create labels -\n",
        "y = np.array([3.0, 6.0, 9.0, 12.0, 15.0, 18.0, 21.0, 24.0])\n",
        "\n",
        "# Visualize it -\n",
        "plt.scatter(X,y)"
      ],
      "metadata": {
        "colab": {
          "base_uri": "https://localhost:8080/",
          "height": 452
        },
        "id": "4r8J6NXZCFaU",
        "outputId": "f529b63e-1dfd-4058-9a5a-1b53ba4a6fd3"
      },
      "execution_count": 2,
      "outputs": [
        {
          "output_type": "execute_result",
          "data": {
            "text/plain": [
              "<matplotlib.collections.PathCollection at 0x7d18c8063b80>"
            ]
          },
          "metadata": {},
          "execution_count": 2
        },
        {
          "output_type": "display_data",
          "data": {
            "text/plain": [
              "<Figure size 640x480 with 1 Axes>"
            ],
            "image/png": "[encoded data removed]"
          },
          "metadata": {}
        }
      ]
    },
    {
      "cell_type": "code",
      "source": [
        "y == X + 10"
      ],
      "metadata": {
        "colab": {
          "base_uri": "https://localhost:8080/"
        },
        "id": "2-QG0XsRCyaS",
        "outputId": "e69bbf5a-86be-4a2f-d32e-043997064f68"
      },
      "execution_count": 3,
      "outputs": [
        {
          "output_type": "execute_result",
          "data": {
            "text/plain": [
              "array([ True,  True,  True,  True,  True,  True,  True,  True])"
            ]
          },
          "metadata": {},
          "execution_count": 3
        }
      ]
    },
    {
      "cell_type": "markdown",
      "source": [
        "### Input and Output shapes -"
      ],
      "metadata": {
        "id": "dObx5RslDQpE"
      }
    },
    {
      "cell_type": "code",
      "source": [
        "# Create a demo tensor for our housing price prediction problem\n",
        "house_info = tf.constant([\"bedroom\", \"bathroom\", \"garage\"])\n",
        "house_price = tf.constant([937900])\n",
        "house_info, house_price"
      ],
      "metadata": {
        "colab": {
          "base_uri": "https://localhost:8080/"
        },
        "id": "S_HJZdRtDXlK",
        "outputId": "c271a5c9-601c-4a7b-a511-73388b9f0505"
      },
      "execution_count": 4,
      "outputs": [
        {
          "output_type": "execute_result",
          "data": {
            "text/plain": [
              "(<tf.Tensor: shape=(3,), dtype=string, numpy=array([b'bedroom', b'bathroom', b'garage'], dtype=object)>,\n",
              " <tf.Tensor: shape=(1,), dtype=int32, numpy=array([937900], dtype=int32)>)"
            ]
          },
          "metadata": {},
          "execution_count": 4
        }
      ]
    },
    {
      "cell_type": "code",
      "source": [
        "# Turn our numpy arrays into tensors with dtype as float 32.\n",
        "X = tf.cast(tf.constant(X), dtype= tf.float32)\n",
        "y = tf.cast(tf.constant(y), dtype = tf.float32)\n",
        "X,y"
      ],
      "metadata": {
        "colab": {
          "base_uri": "https://localhost:8080/"
        },
        "id": "b3l13f5TDXh1",
        "outputId": "a6f8df6a-f942-4b38-e27d-a8ce47b35e84"
      },
      "execution_count": 5,
      "outputs": [
        {
          "output_type": "execute_result",
          "data": {
            "text/plain": [
              "(<tf.Tensor: shape=(8,), dtype=float32, numpy=array([-7., -4., -1.,  2.,  5.,  8., 11., 14.], dtype=float32)>,\n",
              " <tf.Tensor: shape=(8,), dtype=float32, numpy=array([ 3.,  6.,  9., 12., 15., 18., 21., 24.], dtype=float32)>)"
            ]
          },
          "metadata": {},
          "execution_count": 5
        }
      ]
    },
    {
      "cell_type": "code",
      "source": [
        "input_shape = X[0].shape\n",
        "output_shape = y[0].shape\n",
        "input_shape, output_shape"
      ],
      "metadata": {
        "colab": {
          "base_uri": "https://localhost:8080/"
        },
        "id": "qC-RbId7DXfH",
        "outputId": "c4856ae2-51c7-43c0-d3f8-38df399a5e4b"
      },
      "execution_count": 6,
      "outputs": [
        {
          "output_type": "execute_result",
          "data": {
            "text/plain": [
              "(TensorShape([]), TensorShape([]))"
            ]
          },
          "metadata": {},
          "execution_count": 6
        }
      ]
    },
    {
      "cell_type": "markdown",
      "source": [
        "### Steps in modelling with Tensorflow -\n",
        "- **Creating a model** - define the input and output layers, as well as the layers of a deeplearning model.\n",
        "- **Compililng a model** - define the loss function (in other words, the function which tells our model how wrong it is) and the optimizer (tells our model how to improve the patterns its learning) and evaluation metrics (what we can use to interpret the performance of our model)\n",
        "- **Fitting the model** - letting the model try to find patterns between X and y (features and labels)"
      ],
      "metadata": {
        "id": "HGDKSgFRTUHd"
      }
    },
    {
      "cell_type": "code",
      "source": [
        "# Add one extra dimension to the input value to become compataible with the model.\n",
        "X = tf.reshape(X, (-1, 1))"
      ],
      "metadata": {
        "id": "eOy39MbuwljG"
      },
      "execution_count": 7,
      "outputs": []
    },
    {
      "cell_type": "code",
      "source": [
        "# Set random seed\n",
        "tf.random.set_seed(42)\n",
        "\n",
        "# 1. Create a model using the Sequential API\n",
        "model = tf.keras.Sequential([\n",
        "    tf.keras.layers.Dense(1)\n",
        "])\n",
        "\n",
        "# 3. Compile the model\n",
        "model.compile(loss = tf.keras.losses.mae,\n",
        "              optimizer = tf.keras.optimizers.SGD(),\n",
        "              metrics = [\"mae\"]) # mae is short form of mean absolute error\n",
        "\n",
        "# 4. Fit the model\n",
        "model.fit(X, y, epochs = 5)"
      ],
      "metadata": {
        "colab": {
          "base_uri": "https://localhost:8080/"
        },
        "id": "n_NIeAGYUYxD",
        "outputId": "0d084098-7b22-45c0-e2de-b172064c67b7"
      },
      "execution_count": 8,
      "outputs": [
        {
          "output_type": "stream",
          "name": "stdout",
          "text": [
            "Epoch 1/5\n",
            "1/1 [==============================] - 1s 832ms/step - loss: 14.8094 - mae: 14.8094\n",
            "Epoch 2/5\n",
            "1/1 [==============================] - 0s 12ms/step - loss: 14.6769 - mae: 14.6769\n",
            "Epoch 3/5\n",
            "1/1 [==============================] - 0s 10ms/step - loss: 14.5444 - mae: 14.5444\n",
            "Epoch 4/5\n",
            "1/1 [==============================] - 0s 9ms/step - loss: 14.4119 - mae: 14.4119\n",
            "Epoch 5/5\n",
            "1/1 [==============================] - 0s 12ms/step - loss: 14.2794 - mae: 14.2794\n"
          ]
        },
        {
          "output_type": "execute_result",
          "data": {
            "text/plain": [
              "<keras.src.callbacks.History at 0x7d18c2c69d20>"
            ]
          },
          "metadata": {},
          "execution_count": 8
        }
      ]
    },
    {
      "cell_type": "code",
      "source": [
        "# # Optional methodology -\n",
        "# model = tf.keras.Sequential()\n",
        "# model.add(tf.keras.layers.Dense(1))"
      ],
      "metadata": {
        "id": "DBwbgUQtUYtw"
      },
      "execution_count": 9,
      "outputs": []
    },
    {
      "cell_type": "code",
      "source": [
        "# Check out X and y\n",
        "X, y"
      ],
      "metadata": {
        "colab": {
          "base_uri": "https://localhost:8080/"
        },
        "id": "nIafJvUZxet7",
        "outputId": "bd49a77e-9740-4ce9-e7ca-ecfc6de32356"
      },
      "execution_count": 10,
      "outputs": [
        {
          "output_type": "execute_result",
          "data": {
            "text/plain": [
              "(<tf.Tensor: shape=(8, 1), dtype=float32, numpy=\n",
              " array([[-7.],\n",
              "        [-4.],\n",
              "        [-1.],\n",
              "        [ 2.],\n",
              "        [ 5.],\n",
              "        [ 8.],\n",
              "        [11.],\n",
              "        [14.]], dtype=float32)>,\n",
              " <tf.Tensor: shape=(8,), dtype=float32, numpy=array([ 3.,  6.,  9., 12., 15., 18., 21., 24.], dtype=float32)>)"
            ]
          },
          "metadata": {},
          "execution_count": 10
        }
      ]
    },
    {
      "cell_type": "code",
      "source": [
        "# Try to make a prediction using our model:\n",
        "y_pred = model.predict([17.0])\n",
        "y_pred"
      ],
      "metadata": {
        "colab": {
          "base_uri": "https://localhost:8080/"
        },
        "id": "9TR_ddlwxex2",
        "outputId": "fba2ba4a-1d3a-4151-d567-b39a18b1cde0"
      },
      "execution_count": 11,
      "outputs": [
        {
          "output_type": "stream",
          "name": "stdout",
          "text": [
            "1/1 [==============================] - 0s 148ms/step\n"
          ]
        },
        {
          "output_type": "execute_result",
          "data": {
            "text/plain": [
              "array([[-3.3349166]], dtype=float32)"
            ]
          },
          "metadata": {},
          "execution_count": 11
        }
      ]
    },
    {
      "cell_type": "code",
      "source": [
        "y_pred + 11"
      ],
      "metadata": {
        "colab": {
          "base_uri": "https://localhost:8080/"
        },
        "id": "3BqjHv00xxdX",
        "outputId": "c53e1b83-2e6c-4a5e-e8fb-0374b5dacce2"
      },
      "execution_count": 12,
      "outputs": [
        {
          "output_type": "execute_result",
          "data": {
            "text/plain": [
              "array([[7.6650834]], dtype=float32)"
            ]
          },
          "metadata": {},
          "execution_count": 12
        }
      ]
    },
    {
      "cell_type": "markdown",
      "source": [
        "### Steps in modelling with Tensorflow -\n",
        "1. Construct or import a pretrained model relevant to your problem.\n",
        "2. Compile the model (prepare it to be used with data)\n",
        "  * **Loss** - how wrong your model's predictions are compared to the truth labels (we need to minimise this).\n",
        "  * **Optimizer** - how your model should update its internal patterns to better its predictions.\n",
        "  * **Metrics** - human interpretable values for how well your model is doing.\n",
        "3. Fit the model to the training data so it can discover patterns\n",
        "  * **Epochs** - how many times the model will go through all of the training examples.\n",
        "4. Evaluate the model on the test data (how reliable are our model's predictions?)\n"
      ],
      "metadata": {
        "id": "WwHE5MjSyAKf"
      }
    },
    {
      "cell_type": "markdown",
      "source": [
        "## Improving our Model -\n",
        "we can improve our model by altering our steps we took to create a model.\n",
        "1. **Creating a Model** - here we might add more layers, increase the number of hidden units (all called neurons) within each of the hidden layers, change the activation function of each layer.\n",
        "2. **Compiling a model** - here we might change the optimization function or perhaps the **learning rate** of the optimization function.\n",
        "3.**Fitting a model** - here we might fit a model for more **epochs** (leave it training for longer ) or on more data (give the model more examples to learn from)."
      ],
      "metadata": {
        "id": "bVTtpT5Bz6fr"
      }
    },
    {
      "cell_type": "code",
      "source": [
        "# Let's rebuild our model\n",
        "\n",
        "#1. Create the model\n",
        "model = tf.keras.Sequential([\n",
        "    tf.keras.layers.Dense(1)\n",
        "])\n",
        "\n",
        "#2. Compile the model\n",
        "model.compile(loss = tf.keras.losses.mae,\n",
        "              optimizer = tf.keras.optimizers.SGD(),\n",
        "              metrics=[\"mae\"])\n",
        "\n",
        "#3. Fit the model\n",
        "model.fit(X, y, epochs=100)"
      ],
      "metadata": {
        "colab": {
          "base_uri": "https://localhost:8080/"
        },
        "id": "mz8pq8rq0OfH",
        "outputId": "bbb62ec6-cad1-4539-d39c-8591a5c6cf4b"
      },
      "execution_count": 13,
      "outputs": [
        {
          "output_type": "stream",
          "name": "stdout",
          "text": [
            "Epoch 1/100\n",
            "1/1 [==============================] - 1s 512ms/step - loss: 16.5074 - mae: 16.5074\n",
            "Epoch 2/100\n",
            "1/1 [==============================] - 0s 20ms/step - loss: 16.2262 - mae: 16.2262\n",
            "Epoch 3/100\n",
            "1/1 [==============================] - 0s 19ms/step - loss: 15.9449 - mae: 15.9449\n",
            "Epoch 4/100\n",
            "1/1 [==============================] - 0s 12ms/step - loss: 15.6637 - mae: 15.6637\n",
            "Epoch 5/100\n",
            "1/1 [==============================] - 0s 11ms/step - loss: 15.3824 - mae: 15.3824\n",
            "Epoch 6/100\n",
            "1/1 [==============================] - 0s 11ms/step - loss: 15.1012 - mae: 15.1012\n",
            "Epoch 7/100\n",
            "1/1 [==============================] - 0s 11ms/step - loss: 14.8574 - mae: 14.8574\n",
            "Epoch 8/100\n",
            "1/1 [==============================] - 0s 12ms/step - loss: 14.7249 - mae: 14.7249\n",
            "Epoch 9/100\n",
            "1/1 [==============================] - 0s 12ms/step - loss: 14.5924 - mae: 14.5924\n",
            "Epoch 10/100\n",
            "1/1 [==============================] - 0s 12ms/step - loss: 14.4599 - mae: 14.4599\n",
            "Epoch 11/100\n",
            "1/1 [==============================] - 0s 14ms/step - loss: 14.3274 - mae: 14.3274\n",
            "Epoch 12/100\n",
            "1/1 [==============================] - 0s 11ms/step - loss: 14.1949 - mae: 14.1949\n",
            "Epoch 13/100\n",
            "1/1 [==============================] - 0s 11ms/step - loss: 14.0624 - mae: 14.0624\n",
            "Epoch 14/100\n",
            "1/1 [==============================] - 0s 12ms/step - loss: 13.9299 - mae: 13.9299\n",
            "Epoch 15/100\n",
            "1/1 [==============================] - 0s 12ms/step - loss: 13.7974 - mae: 13.7974\n",
            "Epoch 16/100\n",
            "1/1 [==============================] - 0s 12ms/step - loss: 13.6649 - mae: 13.6649\n",
            "Epoch 17/100\n",
            "1/1 [==============================] - 0s 12ms/step - loss: 13.5324 - mae: 13.5324\n",
            "Epoch 18/100\n",
            "1/1 [==============================] - 0s 11ms/step - loss: 13.3999 - mae: 13.3999\n",
            "Epoch 19/100\n",
            "1/1 [==============================] - 0s 11ms/step - loss: 13.2674 - mae: 13.2674\n",
            "Epoch 20/100\n",
            "1/1 [==============================] - 0s 10ms/step - loss: 13.1349 - mae: 13.1349\n",
            "Epoch 21/100\n",
            "1/1 [==============================] - 0s 12ms/step - loss: 13.0024 - mae: 13.0024\n",
            "Epoch 22/100\n",
            "1/1 [==============================] - 0s 12ms/step - loss: 12.8699 - mae: 12.8699\n",
            "Epoch 23/100\n",
            "1/1 [==============================] - 0s 17ms/step - loss: 12.7374 - mae: 12.7374\n",
            "Epoch 24/100\n",
            "1/1 [==============================] - 0s 13ms/step - loss: 12.6049 - mae: 12.6049\n",
            "Epoch 25/100\n",
            "1/1 [==============================] - 0s 13ms/step - loss: 12.4724 - mae: 12.4724\n",
            "Epoch 26/100\n",
            "1/1 [==============================] - 0s 12ms/step - loss: 12.3399 - mae: 12.3399\n",
            "Epoch 27/100\n",
            "1/1 [==============================] - 0s 12ms/step - loss: 12.2074 - mae: 12.2074\n",
            "Epoch 28/100\n",
            "1/1 [==============================] - 0s 12ms/step - loss: 12.0749 - mae: 12.0749\n",
            "Epoch 29/100\n",
            "1/1 [==============================] - 0s 12ms/step - loss: 11.9424 - mae: 11.9424\n",
            "Epoch 30/100\n",
            "1/1 [==============================] - 0s 15ms/step - loss: 11.8099 - mae: 11.8099\n",
            "Epoch 31/100\n",
            "1/1 [==============================] - 0s 19ms/step - loss: 11.6774 - mae: 11.6774\n",
            "Epoch 32/100\n",
            "1/1 [==============================] - 0s 20ms/step - loss: 11.5449 - mae: 11.5449\n",
            "Epoch 33/100\n",
            "1/1 [==============================] - 0s 21ms/step - loss: 11.4124 - mae: 11.4124\n",
            "Epoch 34/100\n",
            "1/1 [==============================] - 0s 14ms/step - loss: 11.2799 - mae: 11.2799\n",
            "Epoch 35/100\n",
            "1/1 [==============================] - 0s 18ms/step - loss: 11.1474 - mae: 11.1474\n",
            "Epoch 36/100\n",
            "1/1 [==============================] - 0s 21ms/step - loss: 11.0149 - mae: 11.0149\n",
            "Epoch 37/100\n",
            "1/1 [==============================] - 0s 27ms/step - loss: 10.8824 - mae: 10.8824\n",
            "Epoch 38/100\n",
            "1/1 [==============================] - 0s 18ms/step - loss: 10.7499 - mae: 10.7499\n",
            "Epoch 39/100\n",
            "1/1 [==============================] - 0s 17ms/step - loss: 10.6174 - mae: 10.6174\n",
            "Epoch 40/100\n",
            "1/1 [==============================] - 0s 13ms/step - loss: 10.4849 - mae: 10.4849\n",
            "Epoch 41/100\n",
            "1/1 [==============================] - 0s 15ms/step - loss: 10.3524 - mae: 10.3524\n",
            "Epoch 42/100\n",
            "1/1 [==============================] - 0s 16ms/step - loss: 10.2199 - mae: 10.2199\n",
            "Epoch 43/100\n",
            "1/1 [==============================] - 0s 16ms/step - loss: 10.0874 - mae: 10.0874\n",
            "Epoch 44/100\n",
            "1/1 [==============================] - 0s 15ms/step - loss: 9.9549 - mae: 9.9549\n",
            "Epoch 45/100\n",
            "1/1 [==============================] - 0s 17ms/step - loss: 9.8224 - mae: 9.8224\n",
            "Epoch 46/100\n",
            "1/1 [==============================] - 0s 12ms/step - loss: 9.6899 - mae: 9.6899\n",
            "Epoch 47/100\n",
            "1/1 [==============================] - 0s 16ms/step - loss: 9.5574 - mae: 9.5574\n",
            "Epoch 48/100\n",
            "1/1 [==============================] - 0s 16ms/step - loss: 9.4249 - mae: 9.4249\n",
            "Epoch 49/100\n",
            "1/1 [==============================] - 0s 16ms/step - loss: 9.2924 - mae: 9.2924\n",
            "Epoch 50/100\n",
            "1/1 [==============================] - 0s 16ms/step - loss: 9.1599 - mae: 9.1599\n",
            "Epoch 51/100\n",
            "1/1 [==============================] - 0s 23ms/step - loss: 9.0274 - mae: 9.0274\n",
            "Epoch 52/100\n",
            "1/1 [==============================] - 0s 22ms/step - loss: 8.8949 - mae: 8.8949\n",
            "Epoch 53/100\n",
            "1/1 [==============================] - 0s 20ms/step - loss: 8.7624 - mae: 8.7624\n",
            "Epoch 54/100\n",
            "1/1 [==============================] - 0s 13ms/step - loss: 8.6299 - mae: 8.6299\n",
            "Epoch 55/100\n",
            "1/1 [==============================] - 0s 15ms/step - loss: 8.4974 - mae: 8.4974\n",
            "Epoch 56/100\n",
            "1/1 [==============================] - 0s 17ms/step - loss: 8.3649 - mae: 8.3649\n",
            "Epoch 57/100\n",
            "1/1 [==============================] - 0s 19ms/step - loss: 8.2324 - mae: 8.2324\n",
            "Epoch 58/100\n",
            "1/1 [==============================] - 0s 20ms/step - loss: 8.0999 - mae: 8.0999\n",
            "Epoch 59/100\n",
            "1/1 [==============================] - 0s 14ms/step - loss: 7.9674 - mae: 7.9674\n",
            "Epoch 60/100\n",
            "1/1 [==============================] - 0s 19ms/step - loss: 7.8349 - mae: 7.8349\n",
            "Epoch 61/100\n",
            "1/1 [==============================] - 0s 19ms/step - loss: 7.7024 - mae: 7.7024\n",
            "Epoch 62/100\n",
            "1/1 [==============================] - 0s 14ms/step - loss: 7.5699 - mae: 7.5699\n",
            "Epoch 63/100\n",
            "1/1 [==============================] - 0s 13ms/step - loss: 7.4374 - mae: 7.4374\n",
            "Epoch 64/100\n",
            "1/1 [==============================] - 0s 17ms/step - loss: 7.3049 - mae: 7.3049\n",
            "Epoch 65/100\n",
            "1/1 [==============================] - 0s 17ms/step - loss: 7.1724 - mae: 7.1724\n",
            "Epoch 66/100\n",
            "1/1 [==============================] - 0s 16ms/step - loss: 7.0399 - mae: 7.0399\n",
            "Epoch 67/100\n",
            "1/1 [==============================] - 0s 14ms/step - loss: 7.0163 - mae: 7.0163\n",
            "Epoch 68/100\n",
            "1/1 [==============================] - 0s 13ms/step - loss: 7.0106 - mae: 7.0106\n",
            "Epoch 69/100\n",
            "1/1 [==============================] - 0s 13ms/step - loss: 7.0050 - mae: 7.0050\n",
            "Epoch 70/100\n",
            "1/1 [==============================] - 0s 14ms/step - loss: 6.9994 - mae: 6.9994\n",
            "Epoch 71/100\n",
            "1/1 [==============================] - 0s 14ms/step - loss: 6.9938 - mae: 6.9938\n",
            "Epoch 72/100\n",
            "1/1 [==============================] - 0s 20ms/step - loss: 6.9881 - mae: 6.9881\n",
            "Epoch 73/100\n",
            "1/1 [==============================] - 0s 21ms/step - loss: 6.9825 - mae: 6.9825\n",
            "Epoch 74/100\n",
            "1/1 [==============================] - 0s 32ms/step - loss: 6.9769 - mae: 6.9769\n",
            "Epoch 75/100\n",
            "1/1 [==============================] - 0s 22ms/step - loss: 6.9713 - mae: 6.9713\n",
            "Epoch 76/100\n",
            "1/1 [==============================] - 0s 24ms/step - loss: 6.9656 - mae: 6.9656\n",
            "Epoch 77/100\n",
            "1/1 [==============================] - 0s 18ms/step - loss: 6.9600 - mae: 6.9600\n",
            "Epoch 78/100\n",
            "1/1 [==============================] - 0s 19ms/step - loss: 6.9544 - mae: 6.9544\n",
            "Epoch 79/100\n",
            "1/1 [==============================] - 0s 21ms/step - loss: 6.9488 - mae: 6.9488\n",
            "Epoch 80/100\n",
            "1/1 [==============================] - 0s 18ms/step - loss: 6.9431 - mae: 6.9431\n",
            "Epoch 81/100\n",
            "1/1 [==============================] - 0s 12ms/step - loss: 6.9375 - mae: 6.9375\n",
            "Epoch 82/100\n",
            "1/1 [==============================] - 0s 17ms/step - loss: 6.9319 - mae: 6.9319\n",
            "Epoch 83/100\n",
            "1/1 [==============================] - 0s 18ms/step - loss: 6.9262 - mae: 6.9262\n",
            "Epoch 84/100\n",
            "1/1 [==============================] - 0s 12ms/step - loss: 6.9206 - mae: 6.9206\n",
            "Epoch 85/100\n",
            "1/1 [==============================] - 0s 13ms/step - loss: 6.9150 - mae: 6.9150\n",
            "Epoch 86/100\n",
            "1/1 [==============================] - 0s 15ms/step - loss: 6.9094 - mae: 6.9094\n",
            "Epoch 87/100\n",
            "1/1 [==============================] - 0s 13ms/step - loss: 6.9038 - mae: 6.9038\n",
            "Epoch 88/100\n",
            "1/1 [==============================] - 0s 14ms/step - loss: 6.8981 - mae: 6.8981\n",
            "Epoch 89/100\n",
            "1/1 [==============================] - 0s 14ms/step - loss: 6.8925 - mae: 6.8925\n",
            "Epoch 90/100\n",
            "1/1 [==============================] - 0s 13ms/step - loss: 6.8869 - mae: 6.8869\n",
            "Epoch 91/100\n",
            "1/1 [==============================] - 0s 12ms/step - loss: 6.8813 - mae: 6.8813\n",
            "Epoch 92/100\n",
            "1/1 [==============================] - 0s 15ms/step - loss: 6.8756 - mae: 6.8756\n",
            "Epoch 93/100\n",
            "1/1 [==============================] - 0s 13ms/step - loss: 6.8700 - mae: 6.8700\n",
            "Epoch 94/100\n",
            "1/1 [==============================] - 0s 16ms/step - loss: 6.8644 - mae: 6.8644\n",
            "Epoch 95/100\n",
            "1/1 [==============================] - 0s 14ms/step - loss: 6.8588 - mae: 6.8588\n",
            "Epoch 96/100\n",
            "1/1 [==============================] - 0s 15ms/step - loss: 6.8531 - mae: 6.8531\n",
            "Epoch 97/100\n",
            "1/1 [==============================] - 0s 16ms/step - loss: 6.8475 - mae: 6.8475\n",
            "Epoch 98/100\n",
            "1/1 [==============================] - 0s 13ms/step - loss: 6.8419 - mae: 6.8419\n",
            "Epoch 99/100\n",
            "1/1 [==============================] - 0s 14ms/step - loss: 6.8363 - mae: 6.8363\n",
            "Epoch 100/100\n",
            "1/1 [==============================] - 0s 16ms/step - loss: 6.8306 - mae: 6.8306\n"
          ]
        },
        {
          "output_type": "execute_result",
          "data": {
            "text/plain": [
              "<keras.src.callbacks.History at 0x7d18c33a8250>"
            ]
          },
          "metadata": {},
          "execution_count": 13
        }
      ]
    },
    {
      "cell_type": "code",
      "source": [
        "# Remind ourselves of the data\n",
        "X, y"
      ],
      "metadata": {
        "colab": {
          "base_uri": "https://localhost:8080/"
        },
        "id": "kGVUhoyQ0Obe",
        "outputId": "7de91eb1-b43b-49da-e2d2-ff2fd7b0f100"
      },
      "execution_count": 14,
      "outputs": [
        {
          "output_type": "execute_result",
          "data": {
            "text/plain": [
              "(<tf.Tensor: shape=(8, 1), dtype=float32, numpy=\n",
              " array([[-7.],\n",
              "        [-4.],\n",
              "        [-1.],\n",
              "        [ 2.],\n",
              "        [ 5.],\n",
              "        [ 8.],\n",
              "        [11.],\n",
              "        [14.]], dtype=float32)>,\n",
              " <tf.Tensor: shape=(8,), dtype=float32, numpy=array([ 3.,  6.,  9., 12., 15., 18., 21., 24.], dtype=float32)>)"
            ]
          },
          "metadata": {},
          "execution_count": 14
        }
      ]
    },
    {
      "cell_type": "code",
      "source": [
        "# Let's see if our model's prediction has improved ...\n",
        "model.predict([17.0])"
      ],
      "metadata": {
        "colab": {
          "base_uri": "https://localhost:8080/"
        },
        "id": "udZL7mmm3ojJ",
        "outputId": "5e7d0636-aaf4-48c8-dd38-7fc5efd908df"
      },
      "execution_count": 15,
      "outputs": [
        {
          "output_type": "stream",
          "name": "stdout",
          "text": [
            "1/1 [==============================] - 0s 151ms/step\n"
          ]
        },
        {
          "output_type": "execute_result",
          "data": {
            "text/plain": [
              "array([[29.788141]], dtype=float32)"
            ]
          },
          "metadata": {},
          "execution_count": 15
        }
      ]
    },
    {
      "cell_type": "code",
      "source": [
        "# Let's see if we can make another change to improve our model -\n",
        "\n",
        "#1. Create the model (this time with an extra hidden layer with 100 hidden units)\n",
        "model = tf.keras.Sequential([\n",
        "    tf.keras.layers.Dense(100, activation = \"relu\"),\n",
        "    tf.keras.layers.Dense(1)\n",
        "])\n",
        "\n",
        "#2. Compile the model\n",
        "model.compile( loss=\"mae\",\n",
        "              optimizer=tf.keras.optimizers.SGD(),\n",
        "               metrics=[\"mae\"])\n",
        "\n",
        "#3. Fit the model\n",
        "model.fit(X,y, epochs=100)"
      ],
      "metadata": {
        "colab": {
          "base_uri": "https://localhost:8080/"
        },
        "id": "-P-LsmAw31Ze",
        "outputId": "93cdcadc-5da7-455f-bbd9-bb9b200b9f00"
      },
      "execution_count": 16,
      "outputs": [
        {
          "output_type": "stream",
          "name": "stdout",
          "text": [
            "Epoch 1/100\n",
            "1/1 [==============================] - 1s 850ms/step - loss: 13.5884 - mae: 13.5884\n",
            "Epoch 2/100\n",
            "1/1 [==============================] - 0s 19ms/step - loss: 12.9886 - mae: 12.9886\n",
            "Epoch 3/100\n",
            "1/1 [==============================] - 0s 14ms/step - loss: 12.3991 - mae: 12.3991\n",
            "Epoch 4/100\n",
            "1/1 [==============================] - 0s 18ms/step - loss: 11.8293 - mae: 11.8293\n",
            "Epoch 5/100\n",
            "1/1 [==============================] - 0s 13ms/step - loss: 11.2473 - mae: 11.2473\n",
            "Epoch 6/100\n",
            "1/1 [==============================] - 0s 18ms/step - loss: 10.6588 - mae: 10.6588\n",
            "Epoch 7/100\n",
            "1/1 [==============================] - 0s 14ms/step - loss: 10.0522 - mae: 10.0522\n",
            "Epoch 8/100\n",
            "1/1 [==============================] - 0s 16ms/step - loss: 9.4193 - mae: 9.4193\n",
            "Epoch 9/100\n",
            "1/1 [==============================] - 0s 12ms/step - loss: 8.7514 - mae: 8.7514\n",
            "Epoch 10/100\n",
            "1/1 [==============================] - 0s 16ms/step - loss: 8.0402 - mae: 8.0402\n",
            "Epoch 11/100\n",
            "1/1 [==============================] - 0s 14ms/step - loss: 7.2824 - mae: 7.2824\n",
            "Epoch 12/100\n",
            "1/1 [==============================] - 0s 16ms/step - loss: 6.4698 - mae: 6.4698\n",
            "Epoch 13/100\n",
            "1/1 [==============================] - 0s 16ms/step - loss: 5.5958 - mae: 5.5958\n",
            "Epoch 14/100\n",
            "1/1 [==============================] - 0s 29ms/step - loss: 4.6573 - mae: 4.6573\n",
            "Epoch 15/100\n",
            "1/1 [==============================] - 0s 22ms/step - loss: 4.1265 - mae: 4.1265\n",
            "Epoch 16/100\n",
            "1/1 [==============================] - 0s 20ms/step - loss: 4.0168 - mae: 4.0168\n",
            "Epoch 17/100\n",
            "1/1 [==============================] - 0s 16ms/step - loss: 4.0113 - mae: 4.0113\n",
            "Epoch 18/100\n",
            "1/1 [==============================] - 0s 17ms/step - loss: 3.9341 - mae: 3.9341\n",
            "Epoch 19/100\n",
            "1/1 [==============================] - 0s 22ms/step - loss: 3.9273 - mae: 3.9273\n",
            "Epoch 20/100\n",
            "1/1 [==============================] - 0s 19ms/step - loss: 3.9292 - mae: 3.9292\n",
            "Epoch 21/100\n",
            "1/1 [==============================] - 0s 21ms/step - loss: 3.9017 - mae: 3.9017\n",
            "Epoch 22/100\n",
            "1/1 [==============================] - 0s 16ms/step - loss: 3.9364 - mae: 3.9364\n",
            "Epoch 23/100\n",
            "1/1 [==============================] - 0s 17ms/step - loss: 3.8761 - mae: 3.8761\n",
            "Epoch 24/100\n",
            "1/1 [==============================] - 0s 13ms/step - loss: 3.9461 - mae: 3.9461\n",
            "Epoch 25/100\n",
            "1/1 [==============================] - 0s 12ms/step - loss: 3.8832 - mae: 3.8832\n",
            "Epoch 26/100\n",
            "1/1 [==============================] - 0s 13ms/step - loss: 3.9315 - mae: 3.9315\n",
            "Epoch 27/100\n",
            "1/1 [==============================] - 0s 12ms/step - loss: 3.8904 - mae: 3.8904\n",
            "Epoch 28/100\n",
            "1/1 [==============================] - 0s 12ms/step - loss: 3.9059 - mae: 3.9059\n",
            "Epoch 29/100\n",
            "1/1 [==============================] - 0s 12ms/step - loss: 3.8977 - mae: 3.8977\n",
            "Epoch 30/100\n",
            "1/1 [==============================] - 0s 13ms/step - loss: 3.8801 - mae: 3.8801\n",
            "Epoch 31/100\n",
            "1/1 [==============================] - 0s 14ms/step - loss: 3.9051 - mae: 3.9051\n",
            "Epoch 32/100\n",
            "1/1 [==============================] - 0s 13ms/step - loss: 3.8543 - mae: 3.8543\n",
            "Epoch 33/100\n",
            "1/1 [==============================] - 0s 12ms/step - loss: 3.9200 - mae: 3.9200\n",
            "Epoch 34/100\n",
            "1/1 [==============================] - 0s 15ms/step - loss: 3.8524 - mae: 3.8524\n",
            "Epoch 35/100\n",
            "1/1 [==============================] - 0s 12ms/step - loss: 3.9092 - mae: 3.9092\n",
            "Epoch 36/100\n",
            "1/1 [==============================] - 0s 13ms/step - loss: 3.8598 - mae: 3.8598\n",
            "Epoch 37/100\n",
            "1/1 [==============================] - 0s 13ms/step - loss: 3.8833 - mae: 3.8833\n",
            "Epoch 38/100\n",
            "1/1 [==============================] - 0s 13ms/step - loss: 3.8673 - mae: 3.8673\n",
            "Epoch 39/100\n",
            "1/1 [==============================] - 0s 14ms/step - loss: 3.8573 - mae: 3.8573\n",
            "Epoch 40/100\n",
            "1/1 [==============================] - 0s 13ms/step - loss: 3.8749 - mae: 3.8749\n",
            "Epoch 41/100\n",
            "1/1 [==============================] - 0s 17ms/step - loss: 3.8352 - mae: 3.8352\n",
            "Epoch 42/100\n",
            "1/1 [==============================] - 0s 15ms/step - loss: 3.8901 - mae: 3.8901\n",
            "Epoch 43/100\n",
            "1/1 [==============================] - 0s 13ms/step - loss: 3.8229 - mae: 3.8229\n",
            "Epoch 44/100\n",
            "1/1 [==============================] - 0s 14ms/step - loss: 3.8856 - mae: 3.8856\n",
            "Epoch 45/100\n",
            "1/1 [==============================] - 0s 14ms/step - loss: 3.8304 - mae: 3.8304\n",
            "Epoch 46/100\n",
            "1/1 [==============================] - 0s 13ms/step - loss: 3.8595 - mae: 3.8595\n",
            "Epoch 47/100\n",
            "1/1 [==============================] - 0s 12ms/step - loss: 3.8381 - mae: 3.8381\n",
            "Epoch 48/100\n",
            "1/1 [==============================] - 0s 13ms/step - loss: 3.8332 - mae: 3.8332\n",
            "Epoch 49/100\n",
            "1/1 [==============================] - 0s 14ms/step - loss: 3.8465 - mae: 3.8465\n",
            "Epoch 50/100\n",
            "1/1 [==============================] - 0s 15ms/step - loss: 3.8135 - mae: 3.8135\n",
            "Epoch 51/100\n",
            "1/1 [==============================] - 0s 21ms/step - loss: 3.8613 - mae: 3.8613\n",
            "Epoch 52/100\n",
            "1/1 [==============================] - 0s 20ms/step - loss: 3.7944 - mae: 3.7944\n",
            "Epoch 53/100\n",
            "1/1 [==============================] - 0s 17ms/step - loss: 3.8608 - mae: 3.8608\n",
            "Epoch 54/100\n",
            "1/1 [==============================] - 0s 14ms/step - loss: 3.8022 - mae: 3.8022\n",
            "Epoch 55/100\n",
            "1/1 [==============================] - 0s 14ms/step - loss: 3.8344 - mae: 3.8344\n",
            "Epoch 56/100\n",
            "1/1 [==============================] - 0s 18ms/step - loss: 3.8101 - mae: 3.8101\n",
            "Epoch 57/100\n",
            "1/1 [==============================] - 0s 15ms/step - loss: 3.8078 - mae: 3.8078\n",
            "Epoch 58/100\n",
            "1/1 [==============================] - 0s 13ms/step - loss: 3.8223 - mae: 3.8223\n",
            "Epoch 59/100\n",
            "1/1 [==============================] - 0s 10ms/step - loss: 3.7878 - mae: 3.7878\n",
            "Epoch 60/100\n",
            "1/1 [==============================] - 0s 15ms/step - loss: 3.8336 - mae: 3.8336\n",
            "Epoch 61/100\n",
            "1/1 [==============================] - 0s 13ms/step - loss: 3.7670 - mae: 3.7670\n",
            "Epoch 62/100\n",
            "1/1 [==============================] - 0s 13ms/step - loss: 3.8347 - mae: 3.8347\n",
            "Epoch 63/100\n",
            "1/1 [==============================] - 0s 21ms/step - loss: 3.7750 - mae: 3.7750\n",
            "Epoch 64/100\n",
            "1/1 [==============================] - 0s 32ms/step - loss: 3.8080 - mae: 3.8080\n",
            "Epoch 65/100\n",
            "1/1 [==============================] - 0s 33ms/step - loss: 3.7831 - mae: 3.7831\n",
            "Epoch 66/100\n",
            "1/1 [==============================] - 0s 30ms/step - loss: 3.7823 - mae: 3.7823\n",
            "Epoch 67/100\n",
            "1/1 [==============================] - 0s 30ms/step - loss: 3.7987 - mae: 3.7987\n",
            "Epoch 68/100\n",
            "1/1 [==============================] - 0s 27ms/step - loss: 3.7608 - mae: 3.7608\n",
            "Epoch 69/100\n",
            "1/1 [==============================] - 0s 58ms/step - loss: 3.8069 - mae: 3.8069\n",
            "Epoch 70/100\n",
            "1/1 [==============================] - 0s 28ms/step - loss: 3.7407 - mae: 3.7407\n",
            "Epoch 71/100\n",
            "1/1 [==============================] - 0s 36ms/step - loss: 3.8072 - mae: 3.8072\n",
            "Epoch 72/100\n",
            "1/1 [==============================] - 0s 24ms/step - loss: 3.7489 - mae: 3.7489\n",
            "Epoch 73/100\n",
            "1/1 [==============================] - 0s 33ms/step - loss: 3.7803 - mae: 3.7803\n",
            "Epoch 74/100\n",
            "1/1 [==============================] - 0s 28ms/step - loss: 3.7572 - mae: 3.7572\n",
            "Epoch 75/100\n",
            "1/1 [==============================] - 0s 29ms/step - loss: 3.7577 - mae: 3.7577\n",
            "Epoch 76/100\n",
            "1/1 [==============================] - 0s 30ms/step - loss: 3.7729 - mae: 3.7729\n",
            "Epoch 77/100\n",
            "1/1 [==============================] - 0s 36ms/step - loss: 3.7325 - mae: 3.7325\n",
            "Epoch 78/100\n",
            "1/1 [==============================] - 0s 25ms/step - loss: 3.7814 - mae: 3.7814\n",
            "Epoch 79/100\n",
            "1/1 [==============================] - 0s 21ms/step - loss: 3.7154 - mae: 3.7154\n",
            "Epoch 80/100\n",
            "1/1 [==============================] - 0s 23ms/step - loss: 3.7785 - mae: 3.7785\n",
            "Epoch 81/100\n",
            "1/1 [==============================] - 0s 22ms/step - loss: 3.7238 - mae: 3.7238\n",
            "Epoch 82/100\n",
            "1/1 [==============================] - 0s 19ms/step - loss: 3.7513 - mae: 3.7513\n",
            "Epoch 83/100\n",
            "1/1 [==============================] - 0s 26ms/step - loss: 3.7328 - mae: 3.7328\n",
            "Epoch 84/100\n",
            "1/1 [==============================] - 0s 25ms/step - loss: 3.7305 - mae: 3.7305\n",
            "Epoch 85/100\n",
            "1/1 [==============================] - 0s 25ms/step - loss: 3.7482 - mae: 3.7482\n",
            "Epoch 86/100\n",
            "1/1 [==============================] - 0s 29ms/step - loss: 3.7028 - mae: 3.7028\n",
            "Epoch 87/100\n",
            "1/1 [==============================] - 0s 21ms/step - loss: 3.7568 - mae: 3.7568\n",
            "Epoch 88/100\n",
            "1/1 [==============================] - 0s 22ms/step - loss: 3.6911 - mae: 3.6911\n",
            "Epoch 89/100\n",
            "1/1 [==============================] - 0s 20ms/step - loss: 3.7485 - mae: 3.7485\n",
            "Epoch 90/100\n",
            "1/1 [==============================] - 0s 11ms/step - loss: 3.6997 - mae: 3.6997\n",
            "Epoch 91/100\n",
            "1/1 [==============================] - 0s 11ms/step - loss: 3.7209 - mae: 3.7209\n",
            "Epoch 92/100\n",
            "1/1 [==============================] - 0s 12ms/step - loss: 3.7121 - mae: 3.7121\n",
            "Epoch 93/100\n",
            "1/1 [==============================] - 0s 13ms/step - loss: 3.6998 - mae: 3.6998\n",
            "Epoch 94/100\n",
            "1/1 [==============================] - 0s 15ms/step - loss: 3.7244 - mae: 3.7244\n",
            "Epoch 95/100\n",
            "1/1 [==============================] - 0s 25ms/step - loss: 3.6717 - mae: 3.6717\n",
            "Epoch 96/100\n",
            "1/1 [==============================] - 0s 16ms/step - loss: 3.7333 - mae: 3.7333\n",
            "Epoch 97/100\n",
            "1/1 [==============================] - 0s 21ms/step - loss: 3.6678 - mae: 3.6678\n",
            "Epoch 98/100\n",
            "1/1 [==============================] - 0s 32ms/step - loss: 3.7172 - mae: 3.7172\n",
            "Epoch 99/100\n",
            "1/1 [==============================] - 0s 38ms/step - loss: 3.6765 - mae: 3.6765\n",
            "Epoch 100/100\n",
            "1/1 [==============================] - 0s 38ms/step - loss: 3.6893 - mae: 3.6893\n"
          ]
        },
        {
          "output_type": "execute_result",
          "data": {
            "text/plain": [
              "<keras.src.callbacks.History at 0x7d18c3461c60>"
            ]
          },
          "metadata": {},
          "execution_count": 16
        }
      ]
    },
    {
      "cell_type": "code",
      "source": [
        "# Let's remind ourselves of the data -\n",
        "X,y"
      ],
      "metadata": {
        "colab": {
          "base_uri": "https://localhost:8080/"
        },
        "id": "jQag8GIU5z5Q",
        "outputId": "76371b41-3b89-4371-fe14-84106d8eb4f0"
      },
      "execution_count": 17,
      "outputs": [
        {
          "output_type": "execute_result",
          "data": {
            "text/plain": [
              "(<tf.Tensor: shape=(8, 1), dtype=float32, numpy=\n",
              " array([[-7.],\n",
              "        [-4.],\n",
              "        [-1.],\n",
              "        [ 2.],\n",
              "        [ 5.],\n",
              "        [ 8.],\n",
              "        [11.],\n",
              "        [14.]], dtype=float32)>,\n",
              " <tf.Tensor: shape=(8,), dtype=float32, numpy=array([ 3.,  6.,  9., 12., 15., 18., 21., 24.], dtype=float32)>)"
            ]
          },
          "metadata": {},
          "execution_count": 17
        }
      ]
    },
    {
      "cell_type": "code",
      "source": [
        "# Let's try to predict the y value -\n",
        "model.predict([17.0])"
      ],
      "metadata": {
        "colab": {
          "base_uri": "https://localhost:8080/"
        },
        "id": "sGs_4dJL6H9B",
        "outputId": "afb6953d-94ae-4d29-f510-a57d1f1ca00c"
      },
      "execution_count": 18,
      "outputs": [
        {
          "output_type": "stream",
          "name": "stdout",
          "text": [
            "1/1 [==============================] - 0s 334ms/step\n"
          ]
        },
        {
          "output_type": "execute_result",
          "data": {
            "text/plain": [
              "array([[32.519844]], dtype=float32)"
            ]
          },
          "metadata": {},
          "execution_count": 18
        }
      ]
    },
    {
      "cell_type": "code",
      "source": [
        "# Let's see if we can make another change to improve our model - now No activation function and reduced hidden units.\n",
        "\n",
        "#1. Create the model (this time with an extra hidden layer with 100 hidden units)\n",
        "model = tf.keras.Sequential([\n",
        "    tf.keras.layers.Dense(50, activation = None),\n",
        "    tf.keras.layers.Dense(1)\n",
        "])\n",
        "\n",
        "#2. Compile the model\n",
        "model.compile( loss=\"mae\",\n",
        "              optimizer=tf.keras.optimizers.SGD(),\n",
        "               metrics=[\"mae\"])\n",
        "\n",
        "#3. Fit the model\n",
        "model.fit(X,y, epochs=100)"
      ],
      "metadata": {
        "colab": {
          "base_uri": "https://localhost:8080/"
        },
        "id": "y6mWa2_n6R7G",
        "outputId": "b8b1f18a-266d-498c-df06-24999b59f928"
      },
      "execution_count": 19,
      "outputs": [
        {
          "output_type": "stream",
          "name": "stdout",
          "text": [
            "Epoch 1/100\n",
            "1/1 [==============================] - 2s 2s/step - loss: 14.3185 - mae: 14.3185\n",
            "Epoch 2/100\n",
            "1/1 [==============================] - 0s 54ms/step - loss: 13.8694 - mae: 13.8694\n",
            "Epoch 3/100\n",
            "1/1 [==============================] - 0s 27ms/step - loss: 13.4236 - mae: 13.4236\n",
            "Epoch 4/100\n",
            "1/1 [==============================] - 0s 21ms/step - loss: 12.9786 - mae: 12.9786\n",
            "Epoch 5/100\n",
            "1/1 [==============================] - 0s 36ms/step - loss: 12.5321 - mae: 12.5321\n",
            "Epoch 6/100\n",
            "1/1 [==============================] - 0s 26ms/step - loss: 12.0819 - mae: 12.0819\n",
            "Epoch 7/100\n",
            "1/1 [==============================] - 0s 17ms/step - loss: 11.6256 - mae: 11.6256\n",
            "Epoch 8/100\n",
            "1/1 [==============================] - 0s 18ms/step - loss: 11.1609 - mae: 11.1609\n",
            "Epoch 9/100\n",
            "1/1 [==============================] - 0s 31ms/step - loss: 10.6853 - mae: 10.6853\n",
            "Epoch 10/100\n",
            "1/1 [==============================] - 0s 13ms/step - loss: 10.1965 - mae: 10.1965\n",
            "Epoch 11/100\n",
            "1/1 [==============================] - 0s 15ms/step - loss: 9.6920 - mae: 9.6920\n",
            "Epoch 12/100\n",
            "1/1 [==============================] - 0s 16ms/step - loss: 9.1691 - mae: 9.1691\n",
            "Epoch 13/100\n",
            "1/1 [==============================] - 0s 16ms/step - loss: 8.6252 - mae: 8.6252\n",
            "Epoch 14/100\n",
            "1/1 [==============================] - 0s 28ms/step - loss: 8.0575 - mae: 8.0575\n",
            "Epoch 15/100\n",
            "1/1 [==============================] - 0s 42ms/step - loss: 7.4631 - mae: 7.4631\n",
            "Epoch 16/100\n",
            "1/1 [==============================] - 0s 38ms/step - loss: 7.1391 - mae: 7.1391\n",
            "Epoch 17/100\n",
            "1/1 [==============================] - 0s 24ms/step - loss: 7.1187 - mae: 7.1187\n",
            "Epoch 18/100\n",
            "1/1 [==============================] - 0s 23ms/step - loss: 7.0982 - mae: 7.0982\n",
            "Epoch 19/100\n",
            "1/1 [==============================] - 0s 23ms/step - loss: 7.0776 - mae: 7.0776\n",
            "Epoch 20/100\n",
            "1/1 [==============================] - 0s 24ms/step - loss: 7.0570 - mae: 7.0570\n",
            "Epoch 21/100\n",
            "1/1 [==============================] - 0s 36ms/step - loss: 7.0363 - mae: 7.0363\n",
            "Epoch 22/100\n",
            "1/1 [==============================] - 0s 28ms/step - loss: 7.0155 - mae: 7.0155\n",
            "Epoch 23/100\n",
            "1/1 [==============================] - 0s 17ms/step - loss: 6.9947 - mae: 6.9947\n",
            "Epoch 24/100\n",
            "1/1 [==============================] - 0s 15ms/step - loss: 6.9738 - mae: 6.9738\n",
            "Epoch 25/100\n",
            "1/1 [==============================] - 0s 18ms/step - loss: 6.9528 - mae: 6.9528\n",
            "Epoch 26/100\n",
            "1/1 [==============================] - 0s 40ms/step - loss: 6.9317 - mae: 6.9317\n",
            "Epoch 27/100\n",
            "1/1 [==============================] - 0s 30ms/step - loss: 6.9105 - mae: 6.9105\n",
            "Epoch 28/100\n",
            "1/1 [==============================] - 0s 48ms/step - loss: 6.8893 - mae: 6.8893\n",
            "Epoch 29/100\n",
            "1/1 [==============================] - 0s 27ms/step - loss: 6.8679 - mae: 6.8679\n",
            "Epoch 30/100\n",
            "1/1 [==============================] - 0s 24ms/step - loss: 6.8464 - mae: 6.8464\n",
            "Epoch 31/100\n",
            "1/1 [==============================] - 0s 25ms/step - loss: 6.8249 - mae: 6.8249\n",
            "Epoch 32/100\n",
            "1/1 [==============================] - 0s 20ms/step - loss: 6.8032 - mae: 6.8032\n",
            "Epoch 33/100\n",
            "1/1 [==============================] - 0s 20ms/step - loss: 6.7814 - mae: 6.7814\n",
            "Epoch 34/100\n",
            "1/1 [==============================] - 0s 21ms/step - loss: 6.7596 - mae: 6.7596\n",
            "Epoch 35/100\n",
            "1/1 [==============================] - 0s 26ms/step - loss: 6.7376 - mae: 6.7376\n",
            "Epoch 36/100\n",
            "1/1 [==============================] - 0s 26ms/step - loss: 6.7154 - mae: 6.7154\n",
            "Epoch 37/100\n",
            "1/1 [==============================] - 0s 24ms/step - loss: 6.7028 - mae: 6.7028\n",
            "Epoch 38/100\n",
            "1/1 [==============================] - 0s 16ms/step - loss: 6.6879 - mae: 6.6879\n",
            "Epoch 39/100\n",
            "1/1 [==============================] - 0s 20ms/step - loss: 6.6660 - mae: 6.6660\n",
            "Epoch 40/100\n",
            "1/1 [==============================] - 0s 26ms/step - loss: 6.6440 - mae: 6.6440\n",
            "Epoch 41/100\n",
            "1/1 [==============================] - 0s 32ms/step - loss: 6.6218 - mae: 6.6218\n",
            "Epoch 42/100\n",
            "1/1 [==============================] - 0s 22ms/step - loss: 6.5995 - mae: 6.5995\n",
            "Epoch 43/100\n",
            "1/1 [==============================] - 0s 22ms/step - loss: 6.5770 - mae: 6.5770\n",
            "Epoch 44/100\n",
            "1/1 [==============================] - 0s 23ms/step - loss: 6.5544 - mae: 6.5544\n",
            "Epoch 45/100\n",
            "1/1 [==============================] - 0s 17ms/step - loss: 6.5317 - mae: 6.5317\n",
            "Epoch 46/100\n",
            "1/1 [==============================] - 0s 21ms/step - loss: 6.5088 - mae: 6.5088\n",
            "Epoch 47/100\n",
            "1/1 [==============================] - 0s 24ms/step - loss: 6.4857 - mae: 6.4857\n",
            "Epoch 48/100\n",
            "1/1 [==============================] - 0s 24ms/step - loss: 6.4625 - mae: 6.4625\n",
            "Epoch 49/100\n",
            "1/1 [==============================] - 0s 25ms/step - loss: 6.4391 - mae: 6.4391\n",
            "Epoch 50/100\n",
            "1/1 [==============================] - 0s 29ms/step - loss: 6.4155 - mae: 6.4155\n",
            "Epoch 51/100\n",
            "1/1 [==============================] - 0s 25ms/step - loss: 6.3918 - mae: 6.3918\n",
            "Epoch 52/100\n",
            "1/1 [==============================] - 0s 27ms/step - loss: 6.3678 - mae: 6.3678\n",
            "Epoch 53/100\n",
            "1/1 [==============================] - 0s 23ms/step - loss: 6.3437 - mae: 6.3437\n",
            "Epoch 54/100\n",
            "1/1 [==============================] - 0s 30ms/step - loss: 6.3194 - mae: 6.3194\n",
            "Epoch 55/100\n",
            "1/1 [==============================] - 0s 34ms/step - loss: 6.2950 - mae: 6.2950\n",
            "Epoch 56/100\n",
            "1/1 [==============================] - 0s 22ms/step - loss: 6.2703 - mae: 6.2703\n",
            "Epoch 57/100\n",
            "1/1 [==============================] - 0s 20ms/step - loss: 6.2516 - mae: 6.2516\n",
            "Epoch 58/100\n",
            "1/1 [==============================] - 0s 37ms/step - loss: 6.2432 - mae: 6.2432\n",
            "Epoch 59/100\n",
            "1/1 [==============================] - 0s 31ms/step - loss: 6.2185 - mae: 6.2185\n",
            "Epoch 60/100\n",
            "1/1 [==============================] - 0s 41ms/step - loss: 6.1936 - mae: 6.1936\n",
            "Epoch 61/100\n",
            "1/1 [==============================] - 0s 28ms/step - loss: 6.1685 - mae: 6.1685\n",
            "Epoch 62/100\n",
            "1/1 [==============================] - 0s 24ms/step - loss: 6.1432 - mae: 6.1432\n",
            "Epoch 63/100\n",
            "1/1 [==============================] - 0s 18ms/step - loss: 6.1176 - mae: 6.1176\n",
            "Epoch 64/100\n",
            "1/1 [==============================] - 0s 25ms/step - loss: 6.0919 - mae: 6.0919\n",
            "Epoch 65/100\n",
            "1/1 [==============================] - 0s 15ms/step - loss: 6.0659 - mae: 6.0659\n",
            "Epoch 66/100\n",
            "1/1 [==============================] - 0s 24ms/step - loss: 6.0397 - mae: 6.0397\n",
            "Epoch 67/100\n",
            "1/1 [==============================] - 0s 21ms/step - loss: 6.0132 - mae: 6.0132\n",
            "Epoch 68/100\n",
            "1/1 [==============================] - 0s 27ms/step - loss: 5.9865 - mae: 5.9865\n",
            "Epoch 69/100\n",
            "1/1 [==============================] - 0s 28ms/step - loss: 5.9596 - mae: 5.9596\n",
            "Epoch 70/100\n",
            "1/1 [==============================] - 0s 19ms/step - loss: 5.9324 - mae: 5.9324\n",
            "Epoch 71/100\n",
            "1/1 [==============================] - 0s 21ms/step - loss: 5.9049 - mae: 5.9049\n",
            "Epoch 72/100\n",
            "1/1 [==============================] - 0s 20ms/step - loss: 5.8772 - mae: 5.8772\n",
            "Epoch 73/100\n",
            "1/1 [==============================] - 0s 30ms/step - loss: 5.8492 - mae: 5.8492\n",
            "Epoch 74/100\n",
            "1/1 [==============================] - 0s 13ms/step - loss: 5.8422 - mae: 5.8422\n",
            "Epoch 75/100\n",
            "1/1 [==============================] - 0s 13ms/step - loss: 5.8200 - mae: 5.8200\n",
            "Epoch 76/100\n",
            "1/1 [==============================] - 0s 14ms/step - loss: 5.7918 - mae: 5.7918\n",
            "Epoch 77/100\n",
            "1/1 [==============================] - 0s 15ms/step - loss: 5.7633 - mae: 5.7633\n",
            "Epoch 78/100\n",
            "1/1 [==============================] - 0s 16ms/step - loss: 5.7345 - mae: 5.7345\n",
            "Epoch 79/100\n",
            "1/1 [==============================] - 0s 24ms/step - loss: 5.7054 - mae: 5.7054\n",
            "Epoch 80/100\n",
            "1/1 [==============================] - 0s 21ms/step - loss: 5.6761 - mae: 5.6761\n",
            "Epoch 81/100\n",
            "1/1 [==============================] - 0s 35ms/step - loss: 5.6464 - mae: 5.6464\n",
            "Epoch 82/100\n",
            "1/1 [==============================] - 0s 17ms/step - loss: 5.6164 - mae: 5.6164\n",
            "Epoch 83/100\n",
            "1/1 [==============================] - 0s 27ms/step - loss: 5.5861 - mae: 5.5861\n",
            "Epoch 84/100\n",
            "1/1 [==============================] - 0s 24ms/step - loss: 5.5555 - mae: 5.5555\n",
            "Epoch 85/100\n",
            "1/1 [==============================] - 0s 14ms/step - loss: 5.5246 - mae: 5.5246\n",
            "Epoch 86/100\n",
            "1/1 [==============================] - 0s 13ms/step - loss: 5.4933 - mae: 5.4933\n",
            "Epoch 87/100\n",
            "1/1 [==============================] - 0s 28ms/step - loss: 5.4617 - mae: 5.4617\n",
            "Epoch 88/100\n",
            "1/1 [==============================] - 0s 23ms/step - loss: 5.4358 - mae: 5.4358\n",
            "Epoch 89/100\n",
            "1/1 [==============================] - 0s 21ms/step - loss: 5.4367 - mae: 5.4367\n",
            "Epoch 90/100\n",
            "1/1 [==============================] - 0s 18ms/step - loss: 5.5375 - mae: 5.5375\n",
            "Epoch 91/100\n",
            "1/1 [==============================] - 0s 23ms/step - loss: 5.3604 - mae: 5.3604\n",
            "Epoch 92/100\n",
            "1/1 [==============================] - 0s 33ms/step - loss: 5.3276 - mae: 5.3276\n",
            "Epoch 93/100\n",
            "1/1 [==============================] - 0s 14ms/step - loss: 5.2944 - mae: 5.2944\n",
            "Epoch 94/100\n",
            "1/1 [==============================] - 0s 18ms/step - loss: 5.2608 - mae: 5.2608\n",
            "Epoch 95/100\n",
            "1/1 [==============================] - 0s 14ms/step - loss: 5.2269 - mae: 5.2269\n",
            "Epoch 96/100\n",
            "1/1 [==============================] - 0s 26ms/step - loss: 5.1925 - mae: 5.1925\n",
            "Epoch 97/100\n",
            "1/1 [==============================] - 0s 34ms/step - loss: 5.1578 - mae: 5.1578\n",
            "Epoch 98/100\n",
            "1/1 [==============================] - 0s 16ms/step - loss: 5.1227 - mae: 5.1227\n",
            "Epoch 99/100\n",
            "1/1 [==============================] - 0s 13ms/step - loss: 5.1150 - mae: 5.1150\n",
            "Epoch 100/100\n",
            "1/1 [==============================] - 0s 13ms/step - loss: 5.1160 - mae: 5.1160\n"
          ]
        },
        {
          "output_type": "execute_result",
          "data": {
            "text/plain": [
              "<keras.src.callbacks.History at 0x7d18c33510c0>"
            ]
          },
          "metadata": {},
          "execution_count": 19
        }
      ]
    },
    {
      "cell_type": "code",
      "source": [
        "# Let's try to predict the y value -\n",
        "model.predict([17.0])"
      ],
      "metadata": {
        "colab": {
          "base_uri": "https://localhost:8080/"
        },
        "id": "ZfL1N_h-7VMv",
        "outputId": "cb6031a1-1249-4a30-a32a-22b3e7f47987"
      },
      "execution_count": 20,
      "outputs": [
        {
          "output_type": "stream",
          "name": "stdout",
          "text": [
            "1/1 [==============================] - 0s 308ms/step\n"
          ]
        },
        {
          "output_type": "execute_result",
          "data": {
            "text/plain": [
              "array([[31.936676]], dtype=float32)"
            ]
          },
          "metadata": {},
          "execution_count": 20
        }
      ]
    },
    {
      "cell_type": "code",
      "source": [
        "# Let's see if we can make another change to improve our model - now we change the optimizer to ADAM optimizer\n",
        "\n",
        "#1. Create the model (this time with an extra hidden layer with 100 hidden units)\n",
        "model = tf.keras.Sequential([\n",
        "    tf.keras.layers.Dense(50, activation = None),\n",
        "    tf.keras.layers.Dense(1)\n",
        "])\n",
        "\n",
        "#2. Compile the model\n",
        "model.compile( loss=\"mae\",\n",
        "              optimizer=tf.keras.optimizers.Adam(),\n",
        "               metrics=[\"mae\"])\n",
        "\n",
        "#3. Fit the model\n",
        "model.fit(X,y, epochs=100)"
      ],
      "metadata": {
        "colab": {
          "base_uri": "https://localhost:8080/"
        },
        "id": "lXYZpyV07aTh",
        "outputId": "fd09a6ca-b2a3-4eb5-927d-1a7494998dc6"
      },
      "execution_count": 21,
      "outputs": [
        {
          "output_type": "stream",
          "name": "stdout",
          "text": [
            "Epoch 1/100\n",
            "1/1 [==============================] - 2s 2s/step - loss: 13.8819 - mae: 13.8819\n",
            "Epoch 2/100\n",
            "1/1 [==============================] - 0s 22ms/step - loss: 13.8104 - mae: 13.8104\n",
            "Epoch 3/100\n",
            "1/1 [==============================] - 0s 26ms/step - loss: 13.7391 - mae: 13.7391\n",
            "Epoch 4/100\n",
            "1/1 [==============================] - 0s 19ms/step - loss: 13.6678 - mae: 13.6678\n",
            "Epoch 5/100\n",
            "1/1 [==============================] - 0s 24ms/step - loss: 13.5965 - mae: 13.5965\n",
            "Epoch 6/100\n",
            "1/1 [==============================] - 0s 63ms/step - loss: 13.5253 - mae: 13.5253\n",
            "Epoch 7/100\n",
            "1/1 [==============================] - 0s 20ms/step - loss: 13.4542 - mae: 13.4542\n",
            "Epoch 8/100\n",
            "1/1 [==============================] - 0s 11ms/step - loss: 13.3831 - mae: 13.3831\n",
            "Epoch 9/100\n",
            "1/1 [==============================] - 0s 17ms/step - loss: 13.3120 - mae: 13.3120\n",
            "Epoch 10/100\n",
            "1/1 [==============================] - 0s 12ms/step - loss: 13.2410 - mae: 13.2410\n",
            "Epoch 11/100\n",
            "1/1 [==============================] - 0s 13ms/step - loss: 13.1701 - mae: 13.1701\n",
            "Epoch 12/100\n",
            "1/1 [==============================] - 0s 14ms/step - loss: 13.0991 - mae: 13.0991\n",
            "Epoch 13/100\n",
            "1/1 [==============================] - 0s 14ms/step - loss: 13.0282 - mae: 13.0282\n",
            "Epoch 14/100\n",
            "1/1 [==============================] - 0s 14ms/step - loss: 12.9573 - mae: 12.9573\n",
            "Epoch 15/100\n",
            "1/1 [==============================] - 0s 11ms/step - loss: 12.8864 - mae: 12.8864\n",
            "Epoch 16/100\n",
            "1/1 [==============================] - 0s 12ms/step - loss: 12.8155 - mae: 12.8155\n",
            "Epoch 17/100\n",
            "1/1 [==============================] - 0s 14ms/step - loss: 12.7446 - mae: 12.7446\n",
            "Epoch 18/100\n",
            "1/1 [==============================] - 0s 16ms/step - loss: 12.6737 - mae: 12.6737\n",
            "Epoch 19/100\n",
            "1/1 [==============================] - 0s 20ms/step - loss: 12.6028 - mae: 12.6028\n",
            "Epoch 20/100\n",
            "1/1 [==============================] - 0s 21ms/step - loss: 12.5319 - mae: 12.5319\n",
            "Epoch 21/100\n",
            "1/1 [==============================] - 0s 20ms/step - loss: 12.4609 - mae: 12.4609\n",
            "Epoch 22/100\n",
            "1/1 [==============================] - 0s 20ms/step - loss: 12.3899 - mae: 12.3899\n",
            "Epoch 23/100\n",
            "1/1 [==============================] - 0s 16ms/step - loss: 12.3188 - mae: 12.3188\n",
            "Epoch 24/100\n",
            "1/1 [==============================] - 0s 14ms/step - loss: 12.2477 - mae: 12.2477\n",
            "Epoch 25/100\n",
            "1/1 [==============================] - 0s 22ms/step - loss: 12.1765 - mae: 12.1765\n",
            "Epoch 26/100\n",
            "1/1 [==============================] - 0s 16ms/step - loss: 12.1052 - mae: 12.1052\n",
            "Epoch 27/100\n",
            "1/1 [==============================] - 0s 22ms/step - loss: 12.0338 - mae: 12.0338\n",
            "Epoch 28/100\n",
            "1/1 [==============================] - 0s 19ms/step - loss: 11.9624 - mae: 11.9624\n",
            "Epoch 29/100\n",
            "1/1 [==============================] - 0s 18ms/step - loss: 11.8908 - mae: 11.8908\n",
            "Epoch 30/100\n",
            "1/1 [==============================] - 0s 16ms/step - loss: 11.8191 - mae: 11.8191\n",
            "Epoch 31/100\n",
            "1/1 [==============================] - 0s 20ms/step - loss: 11.7472 - mae: 11.7472\n",
            "Epoch 32/100\n",
            "1/1 [==============================] - 0s 16ms/step - loss: 11.6753 - mae: 11.6753\n",
            "Epoch 33/100\n",
            "1/1 [==============================] - 0s 14ms/step - loss: 11.6031 - mae: 11.6031\n",
            "Epoch 34/100\n",
            "1/1 [==============================] - 0s 21ms/step - loss: 11.5309 - mae: 11.5309\n",
            "Epoch 35/100\n",
            "1/1 [==============================] - 0s 19ms/step - loss: 11.4584 - mae: 11.4584\n",
            "Epoch 36/100\n",
            "1/1 [==============================] - 0s 20ms/step - loss: 11.3858 - mae: 11.3858\n",
            "Epoch 37/100\n",
            "1/1 [==============================] - 0s 20ms/step - loss: 11.3130 - mae: 11.3130\n",
            "Epoch 38/100\n",
            "1/1 [==============================] - 0s 18ms/step - loss: 11.2400 - mae: 11.2400\n",
            "Epoch 39/100\n",
            "1/1 [==============================] - 0s 20ms/step - loss: 11.1667 - mae: 11.1667\n",
            "Epoch 40/100\n",
            "1/1 [==============================] - 0s 19ms/step - loss: 11.0933 - mae: 11.0933\n",
            "Epoch 41/100\n",
            "1/1 [==============================] - 0s 17ms/step - loss: 11.0196 - mae: 11.0196\n",
            "Epoch 42/100\n",
            "1/1 [==============================] - 0s 15ms/step - loss: 10.9457 - mae: 10.9457\n",
            "Epoch 43/100\n",
            "1/1 [==============================] - 0s 26ms/step - loss: 10.8716 - mae: 10.8716\n",
            "Epoch 44/100\n",
            "1/1 [==============================] - 0s 29ms/step - loss: 10.7972 - mae: 10.7972\n",
            "Epoch 45/100\n",
            "1/1 [==============================] - 0s 14ms/step - loss: 10.7226 - mae: 10.7226\n",
            "Epoch 46/100\n",
            "1/1 [==============================] - 0s 15ms/step - loss: 10.6476 - mae: 10.6476\n",
            "Epoch 47/100\n",
            "1/1 [==============================] - 0s 14ms/step - loss: 10.5724 - mae: 10.5724\n",
            "Epoch 48/100\n",
            "1/1 [==============================] - 0s 15ms/step - loss: 10.4969 - mae: 10.4969\n",
            "Epoch 49/100\n",
            "1/1 [==============================] - 0s 21ms/step - loss: 10.4211 - mae: 10.4211\n",
            "Epoch 50/100\n",
            "1/1 [==============================] - 0s 13ms/step - loss: 10.3450 - mae: 10.3450\n",
            "Epoch 51/100\n",
            "1/1 [==============================] - 0s 17ms/step - loss: 10.2686 - mae: 10.2686\n",
            "Epoch 52/100\n",
            "1/1 [==============================] - 0s 17ms/step - loss: 10.1918 - mae: 10.1918\n",
            "Epoch 53/100\n",
            "1/1 [==============================] - 0s 17ms/step - loss: 10.1147 - mae: 10.1147\n",
            "Epoch 54/100\n",
            "1/1 [==============================] - 0s 19ms/step - loss: 10.0373 - mae: 10.0373\n",
            "Epoch 55/100\n",
            "1/1 [==============================] - 0s 22ms/step - loss: 9.9595 - mae: 9.9595\n",
            "Epoch 56/100\n",
            "1/1 [==============================] - 0s 17ms/step - loss: 9.8814 - mae: 9.8814\n",
            "Epoch 57/100\n",
            "1/1 [==============================] - 0s 17ms/step - loss: 9.8029 - mae: 9.8029\n",
            "Epoch 58/100\n",
            "1/1 [==============================] - 0s 17ms/step - loss: 9.7240 - mae: 9.7240\n",
            "Epoch 59/100\n",
            "1/1 [==============================] - 0s 17ms/step - loss: 9.6448 - mae: 9.6448\n",
            "Epoch 60/100\n",
            "1/1 [==============================] - 0s 24ms/step - loss: 9.5651 - mae: 9.5651\n",
            "Epoch 61/100\n",
            "1/1 [==============================] - 0s 21ms/step - loss: 9.4851 - mae: 9.4851\n",
            "Epoch 62/100\n",
            "1/1 [==============================] - 0s 19ms/step - loss: 9.4046 - mae: 9.4046\n",
            "Epoch 63/100\n",
            "1/1 [==============================] - 0s 20ms/step - loss: 9.3237 - mae: 9.3237\n",
            "Epoch 64/100\n",
            "1/1 [==============================] - 0s 19ms/step - loss: 9.2424 - mae: 9.2424\n",
            "Epoch 65/100\n",
            "1/1 [==============================] - 0s 19ms/step - loss: 9.1607 - mae: 9.1607\n",
            "Epoch 66/100\n",
            "1/1 [==============================] - 0s 20ms/step - loss: 9.0786 - mae: 9.0786\n",
            "Epoch 67/100\n",
            "1/1 [==============================] - 0s 17ms/step - loss: 8.9959 - mae: 8.9959\n",
            "Epoch 68/100\n",
            "1/1 [==============================] - 0s 17ms/step - loss: 8.9129 - mae: 8.9129\n",
            "Epoch 69/100\n",
            "1/1 [==============================] - 0s 18ms/step - loss: 8.8294 - mae: 8.8294\n",
            "Epoch 70/100\n",
            "1/1 [==============================] - 0s 17ms/step - loss: 8.7454 - mae: 8.7454\n",
            "Epoch 71/100\n",
            "1/1 [==============================] - 0s 23ms/step - loss: 8.6609 - mae: 8.6609\n",
            "Epoch 72/100\n",
            "1/1 [==============================] - 0s 32ms/step - loss: 8.5760 - mae: 8.5760\n",
            "Epoch 73/100\n",
            "1/1 [==============================] - 0s 21ms/step - loss: 8.4906 - mae: 8.4906\n",
            "Epoch 74/100\n",
            "1/1 [==============================] - 0s 26ms/step - loss: 8.4047 - mae: 8.4047\n",
            "Epoch 75/100\n",
            "1/1 [==============================] - 0s 17ms/step - loss: 8.3182 - mae: 8.3182\n",
            "Epoch 76/100\n",
            "1/1 [==============================] - 0s 16ms/step - loss: 8.2313 - mae: 8.2313\n",
            "Epoch 77/100\n",
            "1/1 [==============================] - 0s 17ms/step - loss: 8.1438 - mae: 8.1438\n",
            "Epoch 78/100\n",
            "1/1 [==============================] - 0s 19ms/step - loss: 8.0559 - mae: 8.0559\n",
            "Epoch 79/100\n",
            "1/1 [==============================] - 0s 17ms/step - loss: 7.9674 - mae: 7.9674\n",
            "Epoch 80/100\n",
            "1/1 [==============================] - 0s 31ms/step - loss: 7.8783 - mae: 7.8783\n",
            "Epoch 81/100\n",
            "1/1 [==============================] - 0s 21ms/step - loss: 7.7887 - mae: 7.7887\n",
            "Epoch 82/100\n",
            "1/1 [==============================] - 0s 40ms/step - loss: 7.6986 - mae: 7.6986\n",
            "Epoch 83/100\n",
            "1/1 [==============================] - 0s 20ms/step - loss: 7.6079 - mae: 7.6079\n",
            "Epoch 84/100\n",
            "1/1 [==============================] - 0s 16ms/step - loss: 7.5167 - mae: 7.5167\n",
            "Epoch 85/100\n",
            "1/1 [==============================] - 0s 30ms/step - loss: 7.4249 - mae: 7.4249\n",
            "Epoch 86/100\n",
            "1/1 [==============================] - 0s 29ms/step - loss: 7.3325 - mae: 7.3325\n",
            "Epoch 87/100\n",
            "1/1 [==============================] - 0s 21ms/step - loss: 7.2395 - mae: 7.2395\n",
            "Epoch 88/100\n",
            "1/1 [==============================] - 0s 21ms/step - loss: 7.1459 - mae: 7.1459\n",
            "Epoch 89/100\n",
            "1/1 [==============================] - 0s 21ms/step - loss: 7.0518 - mae: 7.0518\n",
            "Epoch 90/100\n",
            "1/1 [==============================] - 0s 18ms/step - loss: 6.9570 - mae: 6.9570\n",
            "Epoch 91/100\n",
            "1/1 [==============================] - 0s 18ms/step - loss: 6.8617 - mae: 6.8617\n",
            "Epoch 92/100\n",
            "1/1 [==============================] - 0s 16ms/step - loss: 6.7657 - mae: 6.7657\n",
            "Epoch 93/100\n",
            "1/1 [==============================] - 0s 19ms/step - loss: 6.6692 - mae: 6.6692\n",
            "Epoch 94/100\n",
            "1/1 [==============================] - 0s 26ms/step - loss: 6.6533 - mae: 6.6533\n",
            "Epoch 95/100\n",
            "1/1 [==============================] - 0s 17ms/step - loss: 6.6412 - mae: 6.6412\n",
            "Epoch 96/100\n",
            "1/1 [==============================] - 0s 21ms/step - loss: 6.6293 - mae: 6.6293\n",
            "Epoch 97/100\n",
            "1/1 [==============================] - 0s 23ms/step - loss: 6.6176 - mae: 6.6176\n",
            "Epoch 98/100\n",
            "1/1 [==============================] - 0s 15ms/step - loss: 6.6062 - mae: 6.6062\n",
            "Epoch 99/100\n",
            "1/1 [==============================] - 0s 24ms/step - loss: 6.5951 - mae: 6.5951\n",
            "Epoch 100/100\n",
            "1/1 [==============================] - 0s 14ms/step - loss: 6.5841 - mae: 6.5841\n"
          ]
        },
        {
          "output_type": "execute_result",
          "data": {
            "text/plain": [
              "<keras.src.callbacks.History at 0x7d18c2d2b250>"
            ]
          },
          "metadata": {},
          "execution_count": 21
        }
      ]
    },
    {
      "cell_type": "code",
      "source": [
        "# Let's try to predict the y value -\n",
        "model.predict([17.0])"
      ],
      "metadata": {
        "colab": {
          "base_uri": "https://localhost:8080/"
        },
        "id": "ZFHwLn7C7yvR",
        "outputId": "261b6cdb-439f-4653-aec2-6cdf5b4a2482"
      },
      "execution_count": 22,
      "outputs": [
        {
          "output_type": "stream",
          "name": "stderr",
          "text": [
            "WARNING:tensorflow:5 out of the last 5 calls to <function Model.make_predict_function.<locals>.predict_function at 0x7d18c334b7f0> triggered tf.function retracing. Tracing is expensive and the excessive number of tracings could be due to (1) creating @tf.function repeatedly in a loop, (2) passing tensors with different shapes, (3) passing Python objects instead of tensors. For (1), please define your @tf.function outside of the loop. For (2), @tf.function has reduce_retracing=True option that can avoid unnecessary retracing. For (3), please refer to https://www.tensorflow.org/guide/function#controlling_retracing and https://www.tensorflow.org/api_docs/python/tf/function for  more details.\n"
          ]
        },
        {
          "output_type": "stream",
          "name": "stdout",
          "text": [
            "1/1 [==============================] - 0s 114ms/step\n"
          ]
        },
        {
          "output_type": "execute_result",
          "data": {
            "text/plain": [
              "array([[31.328882]], dtype=float32)"
            ]
          },
          "metadata": {},
          "execution_count": 22
        }
      ]
    },
    {
      "cell_type": "code",
      "source": [
        "# Let's see if we can make another change to improve our model - now we change the optimizer to ADAM optimizer with learning rate\n",
        "\n",
        "#1. Create the model (this time with an extra hidden layer with 100 hidden units)\n",
        "model = tf.keras.Sequential([\n",
        "    tf.keras.layers.Dense(50, activation = None),\n",
        "    tf.keras.layers.Dense(1)\n",
        "])\n",
        "\n",
        "#2. Compile the model\n",
        "model.compile( loss=\"mae\",\n",
        "              optimizer=tf.keras.optimizers.Adam(lr=0.01),\n",
        "               metrics=[\"mae\"])\n",
        "\n",
        "#3. Fit the model\n",
        "model.fit(X,y, epochs=100)"
      ],
      "metadata": {
        "colab": {
          "base_uri": "https://localhost:8080/"
        },
        "id": "YWGN2KQD76qe",
        "outputId": "3942fd32-796d-45fe-9a45-259aae598cd3"
      },
      "execution_count": 23,
      "outputs": [
        {
          "output_type": "stream",
          "name": "stderr",
          "text": [
            "WARNING:absl:`lr` is deprecated in Keras optimizer, please use `learning_rate` or use the legacy optimizer, e.g.,tf.keras.optimizers.legacy.Adam.\n"
          ]
        },
        {
          "output_type": "stream",
          "name": "stdout",
          "text": [
            "Epoch 1/100\n",
            "1/1 [==============================] - 3s 3s/step - loss: 14.8224 - mae: 14.8224\n",
            "Epoch 2/100\n",
            "1/1 [==============================] - 0s 29ms/step - loss: 14.7496 - mae: 14.7496\n",
            "Epoch 3/100\n",
            "1/1 [==============================] - 0s 24ms/step - loss: 14.6769 - mae: 14.6769\n",
            "Epoch 4/100\n",
            "1/1 [==============================] - 0s 32ms/step - loss: 14.6043 - mae: 14.6043\n",
            "Epoch 5/100\n",
            "1/1 [==============================] - 0s 40ms/step - loss: 14.5317 - mae: 14.5317\n",
            "Epoch 6/100\n",
            "1/1 [==============================] - 0s 40ms/step - loss: 14.4593 - mae: 14.4593\n",
            "Epoch 7/100\n",
            "1/1 [==============================] - 0s 44ms/step - loss: 14.3869 - mae: 14.3869\n",
            "Epoch 8/100\n",
            "1/1 [==============================] - 0s 33ms/step - loss: 14.3145 - mae: 14.3145\n",
            "Epoch 9/100\n",
            "1/1 [==============================] - 0s 33ms/step - loss: 14.2422 - mae: 14.2422\n",
            "Epoch 10/100\n",
            "1/1 [==============================] - 0s 26ms/step - loss: 14.1700 - mae: 14.1700\n",
            "Epoch 11/100\n",
            "1/1 [==============================] - 0s 33ms/step - loss: 14.0978 - mae: 14.0978\n",
            "Epoch 12/100\n",
            "1/1 [==============================] - 0s 29ms/step - loss: 14.0257 - mae: 14.0257\n",
            "Epoch 13/100\n",
            "1/1 [==============================] - 0s 24ms/step - loss: 13.9536 - mae: 13.9536\n",
            "Epoch 14/100\n",
            "1/1 [==============================] - 0s 37ms/step - loss: 13.8815 - mae: 13.8815\n",
            "Epoch 15/100\n",
            "1/1 [==============================] - 0s 37ms/step - loss: 13.8094 - mae: 13.8094\n",
            "Epoch 16/100\n",
            "1/1 [==============================] - 0s 30ms/step - loss: 13.7373 - mae: 13.7373\n",
            "Epoch 17/100\n",
            "1/1 [==============================] - 0s 25ms/step - loss: 13.6653 - mae: 13.6653\n",
            "Epoch 18/100\n",
            "1/1 [==============================] - 0s 11ms/step - loss: 13.5932 - mae: 13.5932\n",
            "Epoch 19/100\n",
            "1/1 [==============================] - 0s 12ms/step - loss: 13.5211 - mae: 13.5211\n",
            "Epoch 20/100\n",
            "1/1 [==============================] - 0s 12ms/step - loss: 13.4490 - mae: 13.4490\n",
            "Epoch 21/100\n",
            "1/1 [==============================] - 0s 14ms/step - loss: 13.3769 - mae: 13.3769\n",
            "Epoch 22/100\n",
            "1/1 [==============================] - 0s 12ms/step - loss: 13.3047 - mae: 13.3047\n",
            "Epoch 23/100\n",
            "1/1 [==============================] - 0s 35ms/step - loss: 13.2325 - mae: 13.2325\n",
            "Epoch 24/100\n",
            "1/1 [==============================] - 0s 20ms/step - loss: 13.1602 - mae: 13.1602\n",
            "Epoch 25/100\n",
            "1/1 [==============================] - 0s 22ms/step - loss: 13.0879 - mae: 13.0879\n",
            "Epoch 26/100\n",
            "1/1 [==============================] - 0s 16ms/step - loss: 13.0156 - mae: 13.0156\n",
            "Epoch 27/100\n",
            "1/1 [==============================] - 0s 17ms/step - loss: 12.9431 - mae: 12.9431\n",
            "Epoch 28/100\n",
            "1/1 [==============================] - 0s 15ms/step - loss: 12.8706 - mae: 12.8706\n",
            "Epoch 29/100\n",
            "1/1 [==============================] - 0s 18ms/step - loss: 12.7981 - mae: 12.7981\n",
            "Epoch 30/100\n",
            "1/1 [==============================] - 0s 20ms/step - loss: 12.7255 - mae: 12.7255\n",
            "Epoch 31/100\n",
            "1/1 [==============================] - 0s 17ms/step - loss: 12.6527 - mae: 12.6527\n",
            "Epoch 32/100\n",
            "1/1 [==============================] - 0s 24ms/step - loss: 12.5799 - mae: 12.5799\n",
            "Epoch 33/100\n",
            "1/1 [==============================] - 0s 24ms/step - loss: 12.5070 - mae: 12.5070\n",
            "Epoch 34/100\n",
            "1/1 [==============================] - 0s 23ms/step - loss: 12.4340 - mae: 12.4340\n",
            "Epoch 35/100\n",
            "1/1 [==============================] - 0s 19ms/step - loss: 12.3609 - mae: 12.3609\n",
            "Epoch 36/100\n",
            "1/1 [==============================] - 0s 55ms/step - loss: 12.2877 - mae: 12.2877\n",
            "Epoch 37/100\n",
            "1/1 [==============================] - 0s 27ms/step - loss: 12.2143 - mae: 12.2143\n",
            "Epoch 38/100\n",
            "1/1 [==============================] - 0s 17ms/step - loss: 12.1408 - mae: 12.1408\n",
            "Epoch 39/100\n",
            "1/1 [==============================] - 0s 15ms/step - loss: 12.0672 - mae: 12.0672\n",
            "Epoch 40/100\n",
            "1/1 [==============================] - 0s 13ms/step - loss: 11.9935 - mae: 11.9935\n",
            "Epoch 41/100\n",
            "1/1 [==============================] - 0s 13ms/step - loss: 11.9195 - mae: 11.9195\n",
            "Epoch 42/100\n",
            "1/1 [==============================] - 0s 28ms/step - loss: 11.8455 - mae: 11.8455\n",
            "Epoch 43/100\n",
            "1/1 [==============================] - 0s 18ms/step - loss: 11.7713 - mae: 11.7713\n",
            "Epoch 44/100\n",
            "1/1 [==============================] - 0s 17ms/step - loss: 11.6969 - mae: 11.6969\n",
            "Epoch 45/100\n",
            "1/1 [==============================] - 0s 14ms/step - loss: 11.6223 - mae: 11.6223\n",
            "Epoch 46/100\n",
            "1/1 [==============================] - 0s 20ms/step - loss: 11.5475 - mae: 11.5475\n",
            "Epoch 47/100\n",
            "1/1 [==============================] - 0s 16ms/step - loss: 11.4726 - mae: 11.4726\n",
            "Epoch 48/100\n",
            "1/1 [==============================] - 0s 16ms/step - loss: 11.3974 - mae: 11.3974\n",
            "Epoch 49/100\n",
            "1/1 [==============================] - 0s 15ms/step - loss: 11.3221 - mae: 11.3221\n",
            "Epoch 50/100\n",
            "1/1 [==============================] - 0s 23ms/step - loss: 11.2465 - mae: 11.2465\n",
            "Epoch 51/100\n",
            "1/1 [==============================] - 0s 17ms/step - loss: 11.1707 - mae: 11.1707\n",
            "Epoch 52/100\n",
            "1/1 [==============================] - 0s 16ms/step - loss: 11.0947 - mae: 11.0947\n",
            "Epoch 53/100\n",
            "1/1 [==============================] - 0s 11ms/step - loss: 11.0185 - mae: 11.0185\n",
            "Epoch 54/100\n",
            "1/1 [==============================] - 0s 12ms/step - loss: 10.9420 - mae: 10.9420\n",
            "Epoch 55/100\n",
            "1/1 [==============================] - 0s 16ms/step - loss: 10.8652 - mae: 10.8652\n",
            "Epoch 56/100\n",
            "1/1 [==============================] - 0s 16ms/step - loss: 10.7883 - mae: 10.7883\n",
            "Epoch 57/100\n",
            "1/1 [==============================] - 0s 11ms/step - loss: 10.7110 - mae: 10.7110\n",
            "Epoch 58/100\n",
            "1/1 [==============================] - 0s 25ms/step - loss: 10.6335 - mae: 10.6335\n",
            "Epoch 59/100\n",
            "1/1 [==============================] - 0s 15ms/step - loss: 10.5558 - mae: 10.5558\n",
            "Epoch 60/100\n",
            "1/1 [==============================] - 0s 12ms/step - loss: 10.4777 - mae: 10.4777\n",
            "Epoch 61/100\n",
            "1/1 [==============================] - 0s 20ms/step - loss: 10.3994 - mae: 10.3994\n",
            "Epoch 62/100\n",
            "1/1 [==============================] - 0s 23ms/step - loss: 10.3208 - mae: 10.3208\n",
            "Epoch 63/100\n",
            "1/1 [==============================] - 0s 32ms/step - loss: 10.2419 - mae: 10.2419\n",
            "Epoch 64/100\n",
            "1/1 [==============================] - 0s 30ms/step - loss: 10.1627 - mae: 10.1627\n",
            "Epoch 65/100\n",
            "1/1 [==============================] - 0s 35ms/step - loss: 10.0832 - mae: 10.0832\n",
            "Epoch 66/100\n",
            "1/1 [==============================] - 0s 29ms/step - loss: 10.0033 - mae: 10.0033\n",
            "Epoch 67/100\n",
            "1/1 [==============================] - 0s 44ms/step - loss: 9.9232 - mae: 9.9232\n",
            "Epoch 68/100\n",
            "1/1 [==============================] - 0s 26ms/step - loss: 9.8427 - mae: 9.8427\n",
            "Epoch 69/100\n",
            "1/1 [==============================] - 0s 27ms/step - loss: 9.7620 - mae: 9.7620\n",
            "Epoch 70/100\n",
            "1/1 [==============================] - 0s 29ms/step - loss: 9.6809 - mae: 9.6809\n",
            "Epoch 71/100\n",
            "1/1 [==============================] - 0s 33ms/step - loss: 9.5994 - mae: 9.5994\n",
            "Epoch 72/100\n",
            "1/1 [==============================] - 0s 26ms/step - loss: 9.5176 - mae: 9.5176\n",
            "Epoch 73/100\n",
            "1/1 [==============================] - 0s 24ms/step - loss: 9.4355 - mae: 9.4355\n",
            "Epoch 74/100\n",
            "1/1 [==============================] - 0s 19ms/step - loss: 9.3530 - mae: 9.3530\n",
            "Epoch 75/100\n",
            "1/1 [==============================] - 0s 28ms/step - loss: 9.2702 - mae: 9.2702\n",
            "Epoch 76/100\n",
            "1/1 [==============================] - 0s 27ms/step - loss: 9.1870 - mae: 9.1870\n",
            "Epoch 77/100\n",
            "1/1 [==============================] - 0s 24ms/step - loss: 9.1034 - mae: 9.1034\n",
            "Epoch 78/100\n",
            "1/1 [==============================] - 0s 19ms/step - loss: 9.0195 - mae: 9.0195\n",
            "Epoch 79/100\n",
            "1/1 [==============================] - 0s 20ms/step - loss: 8.9351 - mae: 8.9351\n",
            "Epoch 80/100\n",
            "1/1 [==============================] - 0s 14ms/step - loss: 8.8504 - mae: 8.8504\n",
            "Epoch 81/100\n",
            "1/1 [==============================] - 0s 16ms/step - loss: 8.7654 - mae: 8.7654\n",
            "Epoch 82/100\n",
            "1/1 [==============================] - 0s 22ms/step - loss: 8.6799 - mae: 8.6799\n",
            "Epoch 83/100\n",
            "1/1 [==============================] - 0s 19ms/step - loss: 8.5940 - mae: 8.5940\n",
            "Epoch 84/100\n",
            "1/1 [==============================] - 0s 28ms/step - loss: 8.5078 - mae: 8.5078\n",
            "Epoch 85/100\n",
            "1/1 [==============================] - 0s 18ms/step - loss: 8.4211 - mae: 8.4211\n",
            "Epoch 86/100\n",
            "1/1 [==============================] - 0s 30ms/step - loss: 8.3340 - mae: 8.3340\n",
            "Epoch 87/100\n",
            "1/1 [==============================] - 0s 38ms/step - loss: 8.2465 - mae: 8.2465\n",
            "Epoch 88/100\n",
            "1/1 [==============================] - 0s 17ms/step - loss: 8.1586 - mae: 8.1586\n",
            "Epoch 89/100\n",
            "1/1 [==============================] - 0s 25ms/step - loss: 8.0703 - mae: 8.0703\n",
            "Epoch 90/100\n",
            "1/1 [==============================] - 0s 25ms/step - loss: 7.9815 - mae: 7.9815\n",
            "Epoch 91/100\n",
            "1/1 [==============================] - 0s 35ms/step - loss: 7.8923 - mae: 7.8923\n",
            "Epoch 92/100\n",
            "1/1 [==============================] - 0s 39ms/step - loss: 7.8027 - mae: 7.8027\n",
            "Epoch 93/100\n",
            "1/1 [==============================] - 0s 30ms/step - loss: 7.7126 - mae: 7.7126\n",
            "Epoch 94/100\n",
            "1/1 [==============================] - 0s 50ms/step - loss: 7.6221 - mae: 7.6221\n",
            "Epoch 95/100\n",
            "1/1 [==============================] - 0s 29ms/step - loss: 7.5312 - mae: 7.5312\n",
            "Epoch 96/100\n",
            "1/1 [==============================] - 0s 30ms/step - loss: 7.4398 - mae: 7.4398\n",
            "Epoch 97/100\n",
            "1/1 [==============================] - 0s 24ms/step - loss: 7.3479 - mae: 7.3479\n",
            "Epoch 98/100\n",
            "1/1 [==============================] - 0s 32ms/step - loss: 7.2556 - mae: 7.2556\n",
            "Epoch 99/100\n",
            "1/1 [==============================] - 0s 42ms/step - loss: 7.1628 - mae: 7.1628\n",
            "Epoch 100/100\n",
            "1/1 [==============================] - 0s 24ms/step - loss: 7.0695 - mae: 7.0695\n"
          ]
        },
        {
          "output_type": "execute_result",
          "data": {
            "text/plain": [
              "<keras.src.callbacks.History at 0x7d18c2d2beb0>"
            ]
          },
          "metadata": {},
          "execution_count": 23
        }
      ]
    },
    {
      "cell_type": "code",
      "source": [
        "# Let's try to predict the y value -\n",
        "model.predict([17.0])"
      ],
      "metadata": {
        "colab": {
          "base_uri": "https://localhost:8080/"
        },
        "id": "TgOvSXg48ID0",
        "outputId": "47b22ec7-8a5e-44d8-d730-e1b89e447304"
      },
      "execution_count": 24,
      "outputs": [
        {
          "output_type": "stream",
          "name": "stderr",
          "text": [
            "WARNING:tensorflow:6 out of the last 6 calls to <function Model.make_predict_function.<locals>.predict_function at 0x7d18c1934b80> triggered tf.function retracing. Tracing is expensive and the excessive number of tracings could be due to (1) creating @tf.function repeatedly in a loop, (2) passing tensors with different shapes, (3) passing Python objects instead of tensors. For (1), please define your @tf.function outside of the loop. For (2), @tf.function has reduce_retracing=True option that can avoid unnecessary retracing. For (3), please refer to https://www.tensorflow.org/guide/function#controlling_retracing and https://www.tensorflow.org/api_docs/python/tf/function for  more details.\n"
          ]
        },
        {
          "output_type": "stream",
          "name": "stdout",
          "text": [
            "1/1 [==============================] - 0s 220ms/step\n"
          ]
        },
        {
          "output_type": "execute_result",
          "data": {
            "text/plain": [
              "array([[26.985844]], dtype=float32)"
            ]
          },
          "metadata": {},
          "execution_count": 24
        }
      ]
    },
    {
      "cell_type": "markdown",
      "source": [
        "## Evaluating a model\n",
        "\n",
        "In practice , typical workflow you'll go through when building neural network is:\n",
        "```\n",
        "Build a model -> fit it -> evaluate it -> tweak a model -> fit it -> evaluate it -> tweak a model -> fit it -> evaluate it ...\n",
        "```\n"
      ],
      "metadata": {
        "id": "6qoDRu9Y8tq9"
      }
    },
    {
      "cell_type": "markdown",
      "source": [
        "#### When it comes to evaluation ... there are 3 words you should memorize:\n",
        "> \"visualize, Visualize, Visualize\"\n",
        "\n",
        "It is always a good idea to visualize -\n",
        "* The data - what data are we working with? What does it look like?\n",
        "* The model itself - What does our model look like?\n",
        "* The traning of a model - how does a model perform while it learns?\n",
        "* The predictions of the model - how do the predictions of a model line up against the ground truth (the original lables)."
      ],
      "metadata": {
        "id": "3OstztIM9GqH"
      }
    },
    {
      "cell_type": "code",
      "source": [
        "# Make a bigger dataset\n",
        "X = tf.range(-100,100,4)\n",
        "X"
      ],
      "metadata": {
        "colab": {
          "base_uri": "https://localhost:8080/"
        },
        "id": "YIMcyf5D9GmS",
        "outputId": "93c4a4b6-5096-42d0-c397-b008c07feaef"
      },
      "execution_count": 25,
      "outputs": [
        {
          "output_type": "execute_result",
          "data": {
            "text/plain": [
              "<tf.Tensor: shape=(50,), dtype=int32, numpy=\n",
              "array([-100,  -96,  -92,  -88,  -84,  -80,  -76,  -72,  -68,  -64,  -60,\n",
              "        -56,  -52,  -48,  -44,  -40,  -36,  -32,  -28,  -24,  -20,  -16,\n",
              "        -12,   -8,   -4,    0,    4,    8,   12,   16,   20,   24,   28,\n",
              "         32,   36,   40,   44,   48,   52,   56,   60,   64,   68,   72,\n",
              "         76,   80,   84,   88,   92,   96], dtype=int32)>"
            ]
          },
          "metadata": {},
          "execution_count": 25
        }
      ]
    },
    {
      "cell_type": "code",
      "source": [
        "# Make labels for the dataset -\n",
        "y = X+10\n",
        "y"
      ],
      "metadata": {
        "colab": {
          "base_uri": "https://localhost:8080/"
        },
        "id": "pcPmpQ5rAQ3L",
        "outputId": "ced6fd37-252a-4c98-aee6-7e4412958c93"
      },
      "execution_count": 26,
      "outputs": [
        {
          "output_type": "execute_result",
          "data": {
            "text/plain": [
              "<tf.Tensor: shape=(50,), dtype=int32, numpy=\n",
              "array([-90, -86, -82, -78, -74, -70, -66, -62, -58, -54, -50, -46, -42,\n",
              "       -38, -34, -30, -26, -22, -18, -14, -10,  -6,  -2,   2,   6,  10,\n",
              "        14,  18,  22,  26,  30,  34,  38,  42,  46,  50,  54,  58,  62,\n",
              "        66,  70,  74,  78,  82,  86,  90,  94,  98, 102, 106], dtype=int32)>"
            ]
          },
          "metadata": {},
          "execution_count": 26
        }
      ]
    },
    {
      "cell_type": "code",
      "source": [
        "# Visualize the data:\n",
        "import matplotlib.pyplot as plt\n",
        "plt.scatter(X,y)"
      ],
      "metadata": {
        "colab": {
          "base_uri": "https://localhost:8080/",
          "height": 447
        },
        "id": "NbTAimsvAdjk",
        "outputId": "e2629e7c-734d-44de-aa5e-386babce83ff"
      },
      "execution_count": 27,
      "outputs": [
        {
          "output_type": "execute_result",
          "data": {
            "text/plain": [
              "<matplotlib.collections.PathCollection at 0x7d18c184bfd0>"
            ]
          },
          "metadata": {},
          "execution_count": 27
        },
        {
          "output_type": "display_data",
          "data": {
            "text/plain": [
              "<Figure size 640x480 with 1 Axes>"
            ],
            "image/png": "[encoded data removed]"
          },
          "metadata": {}
        }
      ]
    },
    {
      "cell_type": "code",
      "source": [
        "# Split the data into train and test sets -\n",
        "X_train = X[:40]\n",
        "X_test = X[40:]\n",
        "\n",
        "y_train = y[:40]\n",
        "y_test = y[40:]\n",
        "\n",
        "len(X_train), len(X_test), len(y_train), len(y_test)"
      ],
      "metadata": {
        "colab": {
          "base_uri": "https://localhost:8080/"
        },
        "id": "Sv7rpxZsAqmm",
        "outputId": "a82111f1-828a-42d7-f033-0dda6f1ec8c8"
      },
      "execution_count": 28,
      "outputs": [
        {
          "output_type": "execute_result",
          "data": {
            "text/plain": [
              "(40, 10, 40, 10)"
            ]
          },
          "metadata": {},
          "execution_count": 28
        }
      ]
    },
    {
      "cell_type": "markdown",
      "source": [
        "### Visualizing the data\n",
        "Now we have got our data in training and test sets...let's visualize it again"
      ],
      "metadata": {
        "id": "FTlBzJaj8Eip"
      }
    },
    {
      "cell_type": "code",
      "source": [
        "plt.figure(figsize =(8,6))\n",
        "# Plot training data in blue-\n",
        "plt.scatter(X_train, y_train, c='b', label = \"Training Data\") # Our model need to learn on this\n",
        "# Plot testing data in green\n",
        "plt.scatter(X_test, y_test, c='g', label = \"Testing Data\")\n",
        "# Show a legend\n",
        "plt.legend();"
      ],
      "metadata": {
        "colab": {
          "base_uri": "https://localhost:8080/",
          "height": 522
        },
        "id": "J5vVxB5B8pOl",
        "outputId": "3cd271fc-39ac-45d8-8bc8-50ba53a767a9"
      },
      "execution_count": 29,
      "outputs": [
        {
          "output_type": "display_data",
          "data": {
            "text/plain": [
              "<Figure size 800x600 with 1 Axes>"
            ],
            "image/png": "[encoded data removed]"
          },
          "metadata": {}
        }
      ]
    },
    {
      "cell_type": "code",
      "source": [
        "# Let's have a look at how to build a neural network for our data -\n",
        "\n",
        "# 1. Create a model\n",
        "model = tf.keras.Sequential([\n",
        "    tf.keras.layers.Dense(1)\n",
        "])\n",
        "\n",
        "# 2. Compile the model\n",
        "model.compile(loss=tf.keras.losses.mae,\n",
        "              optimizer = tf.keras.optimizers.SGD(),\n",
        "              metrics = ['mae'])\n",
        "\n",
        "# # 3. Fit the model\n",
        "# model.fit(X_train, y_train, epochs=100)"
      ],
      "metadata": {
        "id": "B0Jxk6qE8pLI"
      },
      "execution_count": 30,
      "outputs": []
    },
    {
      "cell_type": "code",
      "source": [
        "# model.summary()"
      ],
      "metadata": {
        "id": "k5L0nFqr-ltB"
      },
      "execution_count": 31,
      "outputs": []
    },
    {
      "cell_type": "code",
      "source": [
        "# Let's create a model which builds automatically by defining the input_shape argument\n",
        "tf.random.set_seed(42)\n",
        "#1. Create a model\n",
        "model = tf.keras.Sequential([\n",
        "    tf.keras.layers.Dense(10, input_shape=[1], name='input_layer'),\n",
        "    tf.keras.layers.Dense(1, name='output_layer')  # Dense is a fully connected layer\n",
        "], name='Model_1')\n",
        "# 2. Compile a model\n",
        "model.compile(loss=tf.keras.losses.mae,\n",
        "              optimizer=tf.keras.optimizers.SGD(),\n",
        "              metrics=['mae'])\n"
      ],
      "metadata": {
        "id": "RfhOvh7y-vna"
      },
      "execution_count": 49,
      "outputs": []
    },
    {
      "cell_type": "code",
      "source": [
        "model.summary()"
      ],
      "metadata": {
        "colab": {
          "base_uri": "https://localhost:8080/"
        },
        "id": "wWs-dR9Y_xH3",
        "outputId": "b3eac84d-7584-4ecf-bad6-27f5ddc44c25"
      },
      "execution_count": 50,
      "outputs": [
        {
          "output_type": "stream",
          "name": "stdout",
          "text": [
            "Model: \"Model_1\"\n",
            "_________________________________________________________________\n",
            " Layer (type)                Output Shape              Param #   \n",
            "=================================================================\n",
            " input_layer (Dense)         (None, 10)                20        \n",
            "                                                                 \n",
            " output_layer (Dense)        (None, 1)                 11        \n",
            "                                                                 \n",
            "=================================================================\n",
            "Total params: 31 (124.00 Byte)\n",
            "Trainable params: 31 (124.00 Byte)\n",
            "Non-trainable params: 0 (0.00 Byte)\n",
            "_________________________________________________________________\n"
          ]
        }
      ]
    },
    {
      "cell_type": "code",
      "source": [
        "# Let's fit our model with the training data\n",
        "model.fit(X_train, y_train, epochs=100, verbose=0)"
      ],
      "metadata": {
        "colab": {
          "base_uri": "https://localhost:8080/"
        },
        "id": "eNtDHL3x_0tB",
        "outputId": "061c8f7f-1c63-4eba-8119-82765b3bb0a2"
      },
      "execution_count": 51,
      "outputs": [
        {
          "output_type": "execute_result",
          "data": {
            "text/plain": [
              "<keras.src.callbacks.History at 0x7d18b2f47250>"
            ]
          },
          "metadata": {},
          "execution_count": 51
        }
      ]
    },
    {
      "cell_type": "code",
      "source": [
        "from tensorflow.keras.utils import plot_model\n",
        "\n",
        "plot_model(model=model, show_shapes= True)"
      ],
      "metadata": {
        "colab": {
          "base_uri": "https://localhost:8080/",
          "height": 312
        },
        "id": "bBzI_7ObCEJi",
        "outputId": "886d9ba9-e5ff-4225-8614-bd692e52178b"
      },
      "execution_count": 52,
      "outputs": [
        {
          "output_type": "execute_result",
          "data": {
            "image/png": "[encoded data removed]",
            "text/plain": [
              "<IPython.core.display.Image object>"
            ]
          },
          "metadata": {},
          "execution_count": 52
        }
      ]
    },
    {
      "cell_type": "markdown",
      "source": [
        "### Visualizing our Model's predictions -\n",
        "\n",
        "To visualize the predictions, it's a good practice to plot them against the ground truth labels.\n",
        "often you'll see this in the form of `y_test` or `y_true` versus `y_pred` (ground truth versus your model's predictions)\n"
      ],
      "metadata": {
        "id": "zjKMGd3dDATe"
      }
    },
    {
      "cell_type": "code",
      "source": [
        "# Make some predictions to create y_pred\n",
        "y_preds = model.predict(X_test)\n",
        "y_preds"
      ],
      "metadata": {
        "colab": {
          "base_uri": "https://localhost:8080/"
        },
        "id": "qHtlOaLfrmlk",
        "outputId": "1c586bed-238f-43e3-ec4d-d39f80bf3ef3"
      },
      "execution_count": 53,
      "outputs": [
        {
          "output_type": "stream",
          "name": "stdout",
          "text": [
            "1/1 [==============================] - 0s 59ms/step\n"
          ]
        },
        {
          "output_type": "execute_result",
          "data": {
            "text/plain": [
              "array([[ 78.28118 ],\n",
              "       [ 83.38146 ],\n",
              "       [ 88.48174 ],\n",
              "       [ 93.58202 ],\n",
              "       [ 98.682304],\n",
              "       [103.782585],\n",
              "       [108.88287 ],\n",
              "       [113.98315 ],\n",
              "       [119.083435],\n",
              "       [124.18371 ]], dtype=float32)"
            ]
          },
          "metadata": {},
          "execution_count": 53
        }
      ]
    },
    {
      "cell_type": "code",
      "source": [
        "y_test"
      ],
      "metadata": {
        "colab": {
          "base_uri": "https://localhost:8080/"
        },
        "id": "bUKdZpvfr0q3",
        "outputId": "c7e5eed2-9d1e-42f7-8228-6ce1f4c88776"
      },
      "execution_count": 54,
      "outputs": [
        {
          "output_type": "execute_result",
          "data": {
            "text/plain": [
              "<tf.Tensor: shape=(10,), dtype=int32, numpy=array([ 70,  74,  78,  82,  86,  90,  94,  98, 102, 106], dtype=int32)>"
            ]
          },
          "metadata": {},
          "execution_count": 54
        }
      ]
    },
    {
      "cell_type": "code",
      "source": [
        "X_train.shape"
      ],
      "metadata": {
        "colab": {
          "base_uri": "https://localhost:8080/"
        },
        "id": "6pKW_QypuMH9",
        "outputId": "bce11003-97e5-488a-ce21-d5d28d3bbc54"
      },
      "execution_count": 55,
      "outputs": [
        {
          "output_type": "execute_result",
          "data": {
            "text/plain": [
              "TensorShape([40])"
            ]
          },
          "metadata": {},
          "execution_count": 55
        }
      ]
    },
    {
      "cell_type": "code",
      "source": [
        "y_preds.shape"
      ],
      "metadata": {
        "colab": {
          "base_uri": "https://localhost:8080/"
        },
        "id": "5VotetlquClY",
        "outputId": "6255b52e-293c-4302-b69c-4080d6c3acc5"
      },
      "execution_count": 56,
      "outputs": [
        {
          "output_type": "execute_result",
          "data": {
            "text/plain": [
              "(10, 1)"
            ]
          },
          "metadata": {},
          "execution_count": 56
        }
      ]
    },
    {
      "cell_type": "code",
      "source": [
        "# Let's create a plotting function -\n",
        "def plot_predictions(train_data=X_train,\n",
        "                     train_labels = y_train,\n",
        "                     test_data=X_test,\n",
        "                     test_labels=y_test,\n",
        "                     predictions=y_preds):\n",
        "  \"\"\" Plots training data, test data and compares predictions to ground truth label \"\"\"\n",
        "  plt.figure(figsize=(8,6))\n",
        "  #plot training data in blue\n",
        "  plt.scatter(train_data, train_labels, c='b', label='Training Data')\n",
        "  #plot testing data in green\n",
        "  plt.scatter(test_data, test_labels, c='g', label =\"Testing Data\")\n",
        "  #plot model's predictions in red\n",
        "  plt.scatter(test_data, predictions, c='r', label = \"Predictions\")\n",
        "  # Show the legend\n",
        "  plt.legend();"
      ],
      "metadata": {
        "id": "Ghnwh4K3r4bo"
      },
      "execution_count": 57,
      "outputs": []
    },
    {
      "cell_type": "code",
      "source": [
        "plot_predictions()"
      ],
      "metadata": {
        "colab": {
          "base_uri": "https://localhost:8080/",
          "height": 522
        },
        "id": "bx_pRxd1trdt",
        "outputId": "54164637-a020-4c5e-ab01-9e7bd3b62f7f"
      },
      "execution_count": 58,
      "outputs": [
        {
          "output_type": "display_data",
          "data": {
            "text/plain": [
              "<Figure size 800x600 with 1 Axes>"
            ],
            "image/png": "[encoded data removed]"
          },
          "metadata": {}
        }
      ]
    },
    {
      "cell_type": "markdown",
      "source": [
        "### Evaluating our model's prediction with regression evaluation metrics:\n",
        "Depeneding on the problem you are working on, there will be different evaluation metrics to evaluate your model's performance.\n",
        "\n",
        "Since we're working on a regression, two of the main etrics:\n",
        "* MAE - mean absolute error, \" on average, how wrong is each of my model's predictions\".\n",
        "\n",
        "* MSE - Mean square error, \"Square the average errors\""
      ],
      "metadata": {
        "id": "905aANuptx-f"
      }
    },
    {
      "cell_type": "code",
      "source": [
        "# Evaluate the model on the test set\n",
        "model.evaluate(X_test, y_test)"
      ],
      "metadata": {
        "colab": {
          "base_uri": "https://localhost:8080/"
        },
        "id": "K_2k7IyCAb2u",
        "outputId": "ba79ebf8-6b8e-40d5-bdb3-d762929fa1cc"
      },
      "execution_count": 59,
      "outputs": [
        {
          "output_type": "stream",
          "name": "stdout",
          "text": [
            "1/1 [==============================] - 0s 160ms/step - loss: 13.2324 - mae: 13.2324\n"
          ]
        },
        {
          "output_type": "execute_result",
          "data": {
            "text/plain": [
              "[13.232449531555176, 13.232449531555176]"
            ]
          },
          "metadata": {},
          "execution_count": 59
        }
      ]
    },
    {
      "cell_type": "code",
      "source": [
        "# Calaculate the mean absolute error -\n",
        "mae = tf.metrics.mean_absolute_error(y_true = y_test, y_pred = y_preds)\n",
        "mae"
      ],
      "metadata": {
        "colab": {
          "base_uri": "https://localhost:8080/"
        },
        "id": "HGpQNPnFAbze",
        "outputId": "9438060c-930f-49ae-ba6c-f9b99211e7fa"
      },
      "execution_count": 60,
      "outputs": [
        {
          "output_type": "execute_result",
          "data": {
            "text/plain": [
              "<tf.Tensor: shape=(10,), dtype=float32, numpy=\n",
              "array([12.287527, 10.523707, 10.      , 10.716405, 12.809382, 16.226068,\n",
              "       20.882874, 25.983149, 31.083435, 36.18371 ], dtype=float32)>"
            ]
          },
          "metadata": {},
          "execution_count": 60
        }
      ]
    },
    {
      "cell_type": "code",
      "source": [
        "tf.constant(y_preds)"
      ],
      "metadata": {
        "colab": {
          "base_uri": "https://localhost:8080/"
        },
        "id": "Om-1xg8PEIyw",
        "outputId": "9a370a15-7ba2-4e5b-8a6b-13625e510edb"
      },
      "execution_count": 62,
      "outputs": [
        {
          "output_type": "execute_result",
          "data": {
            "text/plain": [
              "<tf.Tensor: shape=(10, 1), dtype=float32, numpy=\n",
              "array([[ 78.28118 ],\n",
              "       [ 83.38146 ],\n",
              "       [ 88.48174 ],\n",
              "       [ 93.58202 ],\n",
              "       [ 98.682304],\n",
              "       [103.782585],\n",
              "       [108.88287 ],\n",
              "       [113.98315 ],\n",
              "       [119.083435],\n",
              "       [124.18371 ]], dtype=float32)>"
            ]
          },
          "metadata": {},
          "execution_count": 62
        }
      ]
    },
    {
      "cell_type": "code",
      "source": [
        "tf.squeeze(y_preds)"
      ],
      "metadata": {
        "colab": {
          "base_uri": "https://localhost:8080/"
        },
        "id": "nyCqWe0PEko3",
        "outputId": "5dfd8ac9-4ad7-4220-f574-374a8ca44535"
      },
      "execution_count": 63,
      "outputs": [
        {
          "output_type": "execute_result",
          "data": {
            "text/plain": [
              "<tf.Tensor: shape=(10,), dtype=float32, numpy=\n",
              "array([ 78.28118 ,  83.38146 ,  88.48174 ,  93.58202 ,  98.682304,\n",
              "       103.782585, 108.88287 , 113.98315 , 119.083435, 124.18371 ],\n",
              "      dtype=float32)>"
            ]
          },
          "metadata": {},
          "execution_count": 63
        }
      ]
    },
    {
      "cell_type": "code",
      "source": [
        "# Calculate the mean absolute error\n",
        "mae = tf.metrics.mean_absolute_error(y_true = y_test,\n",
        "                                     y_pred = tf.squeeze(y_preds))\n",
        "mae"
      ],
      "metadata": {
        "colab": {
          "base_uri": "https://localhost:8080/"
        },
        "id": "0JG4-uFLExLh",
        "outputId": "6bfebc16-5bc0-447e-b329-f5951e974508"
      },
      "execution_count": 64,
      "outputs": [
        {
          "output_type": "execute_result",
          "data": {
            "text/plain": [
              "<tf.Tensor: shape=(), dtype=float32, numpy=13.232447>"
            ]
          },
          "metadata": {},
          "execution_count": 64
        }
      ]
    },
    {
      "cell_type": "code",
      "source": [
        "# Calculate the mean square error\n",
        "mse = tf.metrics.mean_squared_error(y_true=y_test,\n",
        "                                    y_pred=tf.squeeze(y_preds))\n",
        "mse"
      ],
      "metadata": {
        "colab": {
          "base_uri": "https://localhost:8080/"
        },
        "id": "VLlhr4OVFGbg",
        "outputId": "13ad9cb4-bd6a-4b86-a20c-df2a03a17eff"
      },
      "execution_count": 65,
      "outputs": [
        {
          "output_type": "execute_result",
          "data": {
            "text/plain": [
              "<tf.Tensor: shape=(), dtype=float32, numpy=185.08524>"
            ]
          },
          "metadata": {},
          "execution_count": 65
        }
      ]
    },
    {
      "cell_type": "code",
      "source": [
        "# Make some functions to reuse MAE and MSE:\n",
        "def mae(y_true, y_pred):\n",
        "  return tf.metrics.mean_absolute_error(y_true = y_true,\n",
        "                                        y_pred = tf.squeeze(y_pred))\n",
        "\n",
        "def mse(y_true, y_pred):\n",
        "  return tf.metrics.mean_squared_error(y_true = y_true,\n",
        "                                       y_pred = tf.squeeze(y_pred))"
      ],
      "metadata": {
        "id": "Dfk3jI9mFkTM"
      },
      "execution_count": 73,
      "outputs": []
    },
    {
      "cell_type": "markdown",
      "source": [
        "### Running experiments to improve our model\n",
        "```\n",
        "build a model -> fit it -> evaluate it -> tweak it -> fit it -> evaluate it -> tweak it -> fit it ->evaluate it ...\n",
        "```\n",
        "\n",
        "1. Get more data - get more examples for your model to train on (more opportunities to learn patterns or relationships between featureds and labels).\n",
        "2. Make your model larger (using a more complex model) - this might come in the form of more layers or more hidden units in each layer.\n",
        "3. Train for longer - give your model more of a chance to find the pattens in the data."
      ],
      "metadata": {
        "id": "D1oxmdwWGrmU"
      }
    },
    {
      "cell_type": "code",
      "source": [
        "X_train, y_train"
      ],
      "metadata": {
        "colab": {
          "base_uri": "https://localhost:8080/"
        },
        "id": "3K5aAQ5pIGp2",
        "outputId": "ccc35e78-92e1-4f4b-800f-911dc474746e"
      },
      "execution_count": 67,
      "outputs": [
        {
          "output_type": "execute_result",
          "data": {
            "text/plain": [
              "(<tf.Tensor: shape=(40,), dtype=int32, numpy=\n",
              " array([-100,  -96,  -92,  -88,  -84,  -80,  -76,  -72,  -68,  -64,  -60,\n",
              "         -56,  -52,  -48,  -44,  -40,  -36,  -32,  -28,  -24,  -20,  -16,\n",
              "         -12,   -8,   -4,    0,    4,    8,   12,   16,   20,   24,   28,\n",
              "          32,   36,   40,   44,   48,   52,   56], dtype=int32)>,\n",
              " <tf.Tensor: shape=(40,), dtype=int32, numpy=\n",
              " array([-90, -86, -82, -78, -74, -70, -66, -62, -58, -54, -50, -46, -42,\n",
              "        -38, -34, -30, -26, -22, -18, -14, -10,  -6,  -2,   2,   6,  10,\n",
              "         14,  18,  22,  26,  30,  34,  38,  42,  46,  50,  54,  58,  62,\n",
              "         66], dtype=int32)>)"
            ]
          },
          "metadata": {},
          "execution_count": 67
        }
      ]
    },
    {
      "cell_type": "markdown",
      "source": [
        "* Let's do 3 modelling expirements :\n",
        "1. `model_1` - same as the original model, 1 layer, trained for 100 epochs\n",
        "2. `model_2` - 2 layers, trained for 100 epochs\n",
        "3. `model_3` - 2 layers, trained for 500 epochs\n",
        "\n",
        "**Build `model_1`**"
      ],
      "metadata": {
        "id": "VCac2ywCIJ83"
      }
    },
    {
      "cell_type": "code",
      "source": [
        "# Set random seed\n",
        "tf.random.set_seed(42)\n",
        "\n",
        "# 1. Create a model\n",
        "model_1 = tf.keras.Sequential([\n",
        "    tf.keras.layers.Dense(1, input_shape=[1])\n",
        "])\n",
        "# 2. Compile a model\n",
        "model_1.compile(loss = tf.keras.losses.mae,\n",
        "                optimizer=tf.keras.optimizers.SGD(),\n",
        "                metrics=['mae'])\n",
        "\n",
        "# 3. Fit the Model\n",
        "model_1.fit(X_train, y_train, epochs=100)"
      ],
      "metadata": {
        "colab": {
          "base_uri": "https://localhost:8080/"
        },
        "id": "YyRU3PPdKWjy",
        "outputId": "c26caa66-6e27-4671-9112-a53a5cfc8145"
      },
      "execution_count": 70,
      "outputs": [
        {
          "output_type": "stream",
          "name": "stdout",
          "text": [
            "Epoch 1/100\n",
            "2/2 [==============================] - 0s 12ms/step - loss: 8.4425 - mae: 8.4425\n",
            "Epoch 2/100\n",
            "2/2 [==============================] - 0s 7ms/step - loss: 10.2199 - mae: 10.2199\n",
            "Epoch 3/100\n",
            "2/2 [==============================] - 0s 7ms/step - loss: 10.5437 - mae: 10.5437\n",
            "Epoch 4/100\n",
            "2/2 [==============================] - 0s 7ms/step - loss: 9.6332 - mae: 9.6332\n",
            "Epoch 5/100\n",
            "2/2 [==============================] - 0s 7ms/step - loss: 10.5537 - mae: 10.5537\n",
            "Epoch 6/100\n",
            "2/2 [==============================] - 0s 7ms/step - loss: 9.7692 - mae: 9.7692\n",
            "Epoch 7/100\n",
            "2/2 [==============================] - 0s 10ms/step - loss: 8.8529 - mae: 8.8529\n",
            "Epoch 8/100\n",
            "2/2 [==============================] - 0s 11ms/step - loss: 9.0631 - mae: 9.0631\n",
            "Epoch 9/100\n",
            "2/2 [==============================] - 0s 9ms/step - loss: 19.4687 - mae: 19.4687\n",
            "Epoch 10/100\n",
            "2/2 [==============================] - 0s 8ms/step - loss: 10.5094 - mae: 10.5094\n",
            "Epoch 11/100\n",
            "2/2 [==============================] - 0s 10ms/step - loss: 8.5488 - mae: 8.5488\n",
            "Epoch 12/100\n",
            "2/2 [==============================] - 0s 9ms/step - loss: 11.0057 - mae: 11.0057\n",
            "Epoch 13/100\n",
            "2/2 [==============================] - 0s 8ms/step - loss: 7.5742 - mae: 7.5742\n",
            "Epoch 14/100\n",
            "2/2 [==============================] - 0s 8ms/step - loss: 15.8978 - mae: 15.8978\n",
            "Epoch 15/100\n",
            "2/2 [==============================] - 0s 8ms/step - loss: 12.9700 - mae: 12.9700\n",
            "Epoch 16/100\n",
            "2/2 [==============================] - 0s 7ms/step - loss: 7.9235 - mae: 7.9235\n",
            "Epoch 17/100\n",
            "2/2 [==============================] - 0s 8ms/step - loss: 11.1648 - mae: 11.1648\n",
            "Epoch 18/100\n",
            "2/2 [==============================] - 0s 8ms/step - loss: 10.3208 - mae: 10.3208\n",
            "Epoch 19/100\n",
            "2/2 [==============================] - 0s 8ms/step - loss: 19.4178 - mae: 19.4178\n",
            "Epoch 20/100\n",
            "2/2 [==============================] - 0s 8ms/step - loss: 16.0744 - mae: 16.0744\n",
            "Epoch 21/100\n",
            "2/2 [==============================] - 0s 8ms/step - loss: 11.9817 - mae: 11.9817\n",
            "Epoch 22/100\n",
            "2/2 [==============================] - 0s 9ms/step - loss: 8.5835 - mae: 8.5835\n",
            "Epoch 23/100\n",
            "2/2 [==============================] - 0s 8ms/step - loss: 9.7066 - mae: 9.7066\n",
            "Epoch 24/100\n",
            "2/2 [==============================] - 0s 9ms/step - loss: 10.9462 - mae: 10.9462\n",
            "Epoch 25/100\n",
            "2/2 [==============================] - 0s 12ms/step - loss: 9.1509 - mae: 9.1509\n",
            "Epoch 26/100\n",
            "2/2 [==============================] - 0s 10ms/step - loss: 13.1842 - mae: 13.1842\n",
            "Epoch 27/100\n",
            "2/2 [==============================] - 0s 11ms/step - loss: 10.6554 - mae: 10.6554\n",
            "Epoch 28/100\n",
            "2/2 [==============================] - 0s 9ms/step - loss: 12.8749 - mae: 12.8749\n",
            "Epoch 29/100\n",
            "2/2 [==============================] - 0s 10ms/step - loss: 9.5008 - mae: 9.5008\n",
            "Epoch 30/100\n",
            "2/2 [==============================] - 0s 8ms/step - loss: 16.3992 - mae: 16.3992\n",
            "Epoch 31/100\n",
            "2/2 [==============================] - 0s 8ms/step - loss: 23.5835 - mae: 23.5835\n",
            "Epoch 32/100\n",
            "2/2 [==============================] - 0s 8ms/step - loss: 7.6021 - mae: 7.6021\n",
            "Epoch 33/100\n",
            "2/2 [==============================] - 0s 7ms/step - loss: 9.2999 - mae: 9.2999\n",
            "Epoch 34/100\n",
            "2/2 [==============================] - 0s 7ms/step - loss: 13.6801 - mae: 13.6801\n",
            "Epoch 35/100\n",
            "2/2 [==============================] - 0s 9ms/step - loss: 11.1435 - mae: 11.1435\n",
            "Epoch 36/100\n",
            "2/2 [==============================] - 0s 7ms/step - loss: 13.3650 - mae: 13.3650\n",
            "Epoch 37/100\n",
            "2/2 [==============================] - 0s 8ms/step - loss: 9.4472 - mae: 9.4472\n",
            "Epoch 38/100\n",
            "2/2 [==============================] - 0s 8ms/step - loss: 10.1000 - mae: 10.1000\n",
            "Epoch 39/100\n",
            "2/2 [==============================] - 0s 9ms/step - loss: 10.1954 - mae: 10.1954\n",
            "Epoch 40/100\n",
            "2/2 [==============================] - 0s 9ms/step - loss: 10.9401 - mae: 10.9401\n",
            "Epoch 41/100\n",
            "2/2 [==============================] - 0s 9ms/step - loss: 7.9152 - mae: 7.9152\n",
            "Epoch 42/100\n",
            "2/2 [==============================] - 0s 10ms/step - loss: 10.5781 - mae: 10.5781\n",
            "Epoch 43/100\n",
            "2/2 [==============================] - 0s 8ms/step - loss: 7.2013 - mae: 7.2013\n",
            "Epoch 44/100\n",
            "2/2 [==============================] - 0s 8ms/step - loss: 7.9910 - mae: 7.9910\n",
            "Epoch 45/100\n",
            "2/2 [==============================] - 0s 9ms/step - loss: 9.7844 - mae: 9.7844\n",
            "Epoch 46/100\n",
            "2/2 [==============================] - 0s 10ms/step - loss: 8.8612 - mae: 8.8612\n",
            "Epoch 47/100\n",
            "2/2 [==============================] - 0s 10ms/step - loss: 7.5632 - mae: 7.5632\n",
            "Epoch 48/100\n",
            "2/2 [==============================] - 0s 8ms/step - loss: 8.5620 - mae: 8.5620\n",
            "Epoch 49/100\n",
            "2/2 [==============================] - 0s 9ms/step - loss: 9.9901 - mae: 9.9901\n",
            "Epoch 50/100\n",
            "2/2 [==============================] - 0s 7ms/step - loss: 9.0135 - mae: 9.0135\n",
            "Epoch 51/100\n",
            "2/2 [==============================] - 0s 7ms/step - loss: 10.6603 - mae: 10.6603\n",
            "Epoch 52/100\n",
            "2/2 [==============================] - 0s 7ms/step - loss: 15.2870 - mae: 15.2870\n",
            "Epoch 53/100\n",
            "2/2 [==============================] - 0s 9ms/step - loss: 14.3093 - mae: 14.3093\n",
            "Epoch 54/100\n",
            "2/2 [==============================] - 0s 8ms/step - loss: 21.6042 - mae: 21.6042\n",
            "Epoch 55/100\n",
            "2/2 [==============================] - 0s 9ms/step - loss: 15.9896 - mae: 15.9896\n",
            "Epoch 56/100\n",
            "2/2 [==============================] - 0s 8ms/step - loss: 10.2792 - mae: 10.2792\n",
            "Epoch 57/100\n",
            "2/2 [==============================] - 0s 8ms/step - loss: 9.7597 - mae: 9.7597\n",
            "Epoch 58/100\n",
            "2/2 [==============================] - 0s 9ms/step - loss: 9.0450 - mae: 9.0450\n",
            "Epoch 59/100\n",
            "2/2 [==============================] - 0s 8ms/step - loss: 8.2509 - mae: 8.2509\n",
            "Epoch 60/100\n",
            "2/2 [==============================] - 0s 9ms/step - loss: 9.3467 - mae: 9.3467\n",
            "Epoch 61/100\n",
            "2/2 [==============================] - 0s 8ms/step - loss: 11.1564 - mae: 11.1564\n",
            "Epoch 62/100\n",
            "2/2 [==============================] - 0s 8ms/step - loss: 12.0676 - mae: 12.0676\n",
            "Epoch 63/100\n",
            "2/2 [==============================] - 0s 15ms/step - loss: 7.2606 - mae: 7.2606\n",
            "Epoch 64/100\n",
            "2/2 [==============================] - 0s 10ms/step - loss: 12.4251 - mae: 12.4251\n",
            "Epoch 65/100\n",
            "2/2 [==============================] - 0s 7ms/step - loss: 10.4923 - mae: 10.4923\n",
            "Epoch 66/100\n",
            "2/2 [==============================] - 0s 7ms/step - loss: 15.6010 - mae: 15.6010\n",
            "Epoch 67/100\n",
            "2/2 [==============================] - 0s 7ms/step - loss: 10.0017 - mae: 10.0017\n",
            "Epoch 68/100\n",
            "2/2 [==============================] - 0s 9ms/step - loss: 8.7119 - mae: 8.7119\n",
            "Epoch 69/100\n",
            "2/2 [==============================] - 0s 11ms/step - loss: 13.4771 - mae: 13.4771\n",
            "Epoch 70/100\n",
            "2/2 [==============================] - 0s 8ms/step - loss: 7.4590 - mae: 7.4590\n",
            "Epoch 71/100\n",
            "2/2 [==============================] - 0s 8ms/step - loss: 12.2192 - mae: 12.2192\n",
            "Epoch 72/100\n",
            "2/2 [==============================] - 0s 9ms/step - loss: 8.5223 - mae: 8.5223\n",
            "Epoch 73/100\n",
            "2/2 [==============================] - 0s 11ms/step - loss: 7.0295 - mae: 7.0295\n",
            "Epoch 74/100\n",
            "2/2 [==============================] - 0s 8ms/step - loss: 9.9196 - mae: 9.9196\n",
            "Epoch 75/100\n",
            "2/2 [==============================] - 0s 9ms/step - loss: 9.9289 - mae: 9.9289\n",
            "Epoch 76/100\n",
            "2/2 [==============================] - 0s 9ms/step - loss: 10.0951 - mae: 10.0951\n",
            "Epoch 77/100\n",
            "2/2 [==============================] - 0s 8ms/step - loss: 12.9472 - mae: 12.9472\n",
            "Epoch 78/100\n",
            "2/2 [==============================] - 0s 9ms/step - loss: 11.1389 - mae: 11.1389\n",
            "Epoch 79/100\n",
            "2/2 [==============================] - 0s 9ms/step - loss: 14.6917 - mae: 14.6917\n",
            "Epoch 80/100\n",
            "2/2 [==============================] - 0s 10ms/step - loss: 8.9171 - mae: 8.9171\n",
            "Epoch 81/100\n",
            "2/2 [==============================] - 0s 7ms/step - loss: 10.7608 - mae: 10.7608\n",
            "Epoch 82/100\n",
            "2/2 [==============================] - 0s 11ms/step - loss: 8.3779 - mae: 8.3779\n",
            "Epoch 83/100\n",
            "2/2 [==============================] - 0s 11ms/step - loss: 9.2171 - mae: 9.2171\n",
            "Epoch 84/100\n",
            "2/2 [==============================] - 0s 10ms/step - loss: 8.9334 - mae: 8.9334\n",
            "Epoch 85/100\n",
            "2/2 [==============================] - 0s 8ms/step - loss: 13.1973 - mae: 13.1973\n",
            "Epoch 86/100\n",
            "2/2 [==============================] - 0s 9ms/step - loss: 13.6957 - mae: 13.6957\n",
            "Epoch 87/100\n",
            "2/2 [==============================] - 0s 8ms/step - loss: 13.1798 - mae: 13.1798\n",
            "Epoch 88/100\n",
            "2/2 [==============================] - 0s 8ms/step - loss: 11.5045 - mae: 11.5045\n",
            "Epoch 89/100\n",
            "2/2 [==============================] - 0s 9ms/step - loss: 7.7936 - mae: 7.7936\n",
            "Epoch 90/100\n",
            "2/2 [==============================] - 0s 9ms/step - loss: 10.9184 - mae: 10.9184\n",
            "Epoch 91/100\n",
            "2/2 [==============================] - 0s 8ms/step - loss: 6.7398 - mae: 6.7398\n",
            "Epoch 92/100\n",
            "2/2 [==============================] - 0s 8ms/step - loss: 10.1109 - mae: 10.1109\n",
            "Epoch 93/100\n",
            "2/2 [==============================] - 0s 8ms/step - loss: 7.5997 - mae: 7.5997\n",
            "Epoch 94/100\n",
            "2/2 [==============================] - 0s 8ms/step - loss: 9.2318 - mae: 9.2318\n",
            "Epoch 95/100\n",
            "2/2 [==============================] - 0s 9ms/step - loss: 10.8223 - mae: 10.8223\n",
            "Epoch 96/100\n",
            "2/2 [==============================] - 0s 8ms/step - loss: 10.2848 - mae: 10.2848\n",
            "Epoch 97/100\n",
            "2/2 [==============================] - 0s 7ms/step - loss: 7.6721 - mae: 7.6721\n",
            "Epoch 98/100\n",
            "2/2 [==============================] - 0s 8ms/step - loss: 8.6068 - mae: 8.6068\n",
            "Epoch 99/100\n",
            "2/2 [==============================] - 0s 7ms/step - loss: 9.3852 - mae: 9.3852\n",
            "Epoch 100/100\n",
            "2/2 [==============================] - 0s 7ms/step - loss: 8.8308 - mae: 8.8308\n"
          ]
        },
        {
          "output_type": "execute_result",
          "data": {
            "text/plain": [
              "<keras.src.callbacks.History at 0x7d18c219a1d0>"
            ]
          },
          "metadata": {},
          "execution_count": 70
        }
      ]
    },
    {
      "cell_type": "code",
      "source": [
        "from ast import PyCF_ALLOW_TOP_LEVEL_AWAIT\n",
        "# MAKE A PLOT PREDICTIONS FOR MODEL_1:\n",
        "y_preds_1 = model_1.predict(X_test)\n",
        "plot_predictions(predictions=y_preds_1)"
      ],
      "metadata": {
        "colab": {
          "base_uri": "https://localhost:8080/",
          "height": 539
        },
        "id": "b-bhRXCvLOhk",
        "outputId": "a25eaf4b-5dba-4a43-8ac5-6cab2cec669a"
      },
      "execution_count": 71,
      "outputs": [
        {
          "output_type": "stream",
          "name": "stdout",
          "text": [
            "1/1 [==============================] - 0s 186ms/step\n"
          ]
        },
        {
          "output_type": "display_data",
          "data": {
            "text/plain": [
              "<Figure size 800x600 with 1 Axes>"
            ],
            "image/png": "[encoded data removed]"
          },
          "metadata": {}
        }
      ]
    },
    {
      "cell_type": "code",
      "source": [
        "# Calculate model_1 evaluation metrics\n",
        "mae_1 = mae(y_test,y_preds_1)\n",
        "mse_1 = mse(y_test,y_preds_1)\n",
        "mae_1, mse_1"
      ],
      "metadata": {
        "colab": {
          "base_uri": "https://localhost:8080/"
        },
        "id": "QBHHjd4bM3aa",
        "outputId": "4ce8cdd8-e083-4857-bb00-303e7a0f1b59"
      },
      "execution_count": 74,
      "outputs": [
        {
          "output_type": "execute_result",
          "data": {
            "text/plain": [
              "(<tf.Tensor: shape=(), dtype=float32, numpy=8.662019>,\n",
              " <tf.Tensor: shape=(), dtype=float32, numpy=81.55985>)"
            ]
          },
          "metadata": {},
          "execution_count": 74
        }
      ]
    },
    {
      "cell_type": "markdown",
      "source": [
        "**Build -> `model_2`**\n",
        "* 2 Dense layers, trained for 100 epochs"
      ],
      "metadata": {
        "id": "AAaqYcrYNfCk"
      }
    },
    {
      "cell_type": "code",
      "source": [],
      "metadata": {
        "id": "_ktVv0NmOgYw"
      },
      "execution_count": null,
      "outputs": []
    }
  ]
}