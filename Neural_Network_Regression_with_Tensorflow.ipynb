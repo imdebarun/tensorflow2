{
  "nbformat": 4,
  "nbformat_minor": 0,
  "metadata": {
    "colab": {
      "provenance": [],
      "authorship_tag": "ABX9TyOmHUMC46GD3j1gTogRY+dP",
      "include_colab_link": true
    },
    "kernelspec": {
      "name": "python3",
      "display_name": "Python 3"
    },
    "language_info": {
      "name": "python"
    }
  },
  "cells": [
    {
      "cell_type": "markdown",
      "metadata": {
        "id": "view-in-github",
        "colab_type": "text"
      },
      "source": [
        "<a href=\"https://colab.research.google.com/github/imdebarun/tensorflow2/blob/main/Neural_Network_Regression_with_Tensorflow.ipynb\" target=\"_parent\"><img src=\"https://colab.research.google.com/assets/colab-badge.svg\" alt=\"Open In Colab\"/></a>"
      ]
    },
    {
      "cell_type": "markdown",
      "source": [
        "# Introduction to Regression with Neural Network in Tensorflow :\n",
        "There are many definitions for a regression problem but in our case, we are going to simplify it: predicting a numerical variable based on some other comination of variables, even shorter...predicting a number."
      ],
      "metadata": {
        "id": "yg0RhoNIBI1g"
      }
    },
    {
      "cell_type": "markdown",
      "source": [
        "### Hyperparameter & Typical value :\n",
        "* Input layer shape - Same shape as number of input features\n",
        "* Hidden layer(s) - Problem specific, minimum = 1, maximum = unlimited\n",
        "* Neurons per hidden layer - Problem specific generally 10 to 100\n",
        "* Output layer shape - Same shape as desired prediction shape\n",
        "* Hidden Activation - Usually ReLU (rectified linear unit)\n",
        "* Output Activation - None, ReLU, logistic/tanh\n",
        "* Loss function - MSE (mean squared error) or MAE (mean absolute error) / Huber (combination of MAE/MSE) if outliers\n",
        "* Optimizer - SGD (Stochastic gradient descent), ADAM"
      ],
      "metadata": {
        "id": "ThDweAhjzL9J"
      }
    },
    {
      "cell_type": "code",
      "source": [
        "# Import Tensorflow\n",
        "import tensorflow as tf\n",
        "print(tf.__version__)"
      ],
      "metadata": {
        "colab": {
          "base_uri": "https://localhost:8080/"
        },
        "id": "HvYmEi9m_5Yo",
        "outputId": "c406dbbf-146d-4f4e-cb34-02ebd0f3d9ef"
      },
      "execution_count": 2,
      "outputs": [
        {
          "output_type": "stream",
          "name": "stdout",
          "text": [
            "2.15.0\n"
          ]
        }
      ]
    },
    {
      "cell_type": "markdown",
      "source": [
        "### Creating some data to view and fit -"
      ],
      "metadata": {
        "id": "6RWv8pW7B5Y7"
      }
    },
    {
      "cell_type": "code",
      "source": [
        "import numpy as np\n",
        "import matplotlib.pyplot as plt\n",
        "\n",
        "# Create features -\n",
        "X = np.array([-7.0, -4.0, -1.0, 2.0, 5.0, 8.0, 11.0, 14.0])\n",
        "\n",
        "# Create labels -\n",
        "y = np.array([3.0, 6.0, 9.0, 12.0, 15.0, 18.0, 21.0, 24.0])\n",
        "\n",
        "# Visualize it -\n",
        "plt.scatter(X,y)"
      ],
      "metadata": {
        "colab": {
          "base_uri": "https://localhost:8080/",
          "height": 452
        },
        "id": "4r8J6NXZCFaU",
        "outputId": "822e8cab-87ea-436d-f216-74ee5e594534"
      },
      "execution_count": 3,
      "outputs": [
        {
          "output_type": "execute_result",
          "data": {
            "text/plain": [
              "<matplotlib.collections.PathCollection at 0x7931348371c0>"
            ]
          },
          "metadata": {},
          "execution_count": 3
        },
        {
          "output_type": "display_data",
          "data": {
            "text/plain": [
              "<Figure size 640x480 with 1 Axes>"
            ],
            "image/png": "[encoded data removed]"
          },
          "metadata": {}
        }
      ]
    },
    {
      "cell_type": "code",
      "source": [
        "y == X + 10"
      ],
      "metadata": {
        "colab": {
          "base_uri": "https://localhost:8080/"
        },
        "id": "2-QG0XsRCyaS",
        "outputId": "579c2997-a1e7-4052-c359-672bdbe1d65d"
      },
      "execution_count": 4,
      "outputs": [
        {
          "output_type": "execute_result",
          "data": {
            "text/plain": [
              "array([ True,  True,  True,  True,  True,  True,  True,  True])"
            ]
          },
          "metadata": {},
          "execution_count": 4
        }
      ]
    },
    {
      "cell_type": "markdown",
      "source": [
        "### Input and Output shapes -"
      ],
      "metadata": {
        "id": "dObx5RslDQpE"
      }
    },
    {
      "cell_type": "code",
      "source": [
        "# Create a demo tensor for our housing price prediction problem\n",
        "house_info = tf.constant([\"bedroom\", \"bathroom\", \"garage\"])\n",
        "house_price = tf.constant([937900])\n",
        "house_info, house_price"
      ],
      "metadata": {
        "colab": {
          "base_uri": "https://localhost:8080/"
        },
        "id": "S_HJZdRtDXlK",
        "outputId": "20b09cf2-0e18-46c0-e668-56dbd32ce142"
      },
      "execution_count": 5,
      "outputs": [
        {
          "output_type": "execute_result",
          "data": {
            "text/plain": [
              "(<tf.Tensor: shape=(3,), dtype=string, numpy=array([b'bedroom', b'bathroom', b'garage'], dtype=object)>,\n",
              " <tf.Tensor: shape=(1,), dtype=int32, numpy=array([937900], dtype=int32)>)"
            ]
          },
          "metadata": {},
          "execution_count": 5
        }
      ]
    },
    {
      "cell_type": "code",
      "source": [
        "# Turn our numpy arrays into tensors with dtype as float 32.\n",
        "X = tf.cast(tf.constant(X), dtype= tf.float32)\n",
        "y = tf.cast(tf.constant(y), dtype = tf.float32)\n",
        "X,y"
      ],
      "metadata": {
        "colab": {
          "base_uri": "https://localhost:8080/"
        },
        "id": "b3l13f5TDXh1",
        "outputId": "723094e4-1d34-46ea-a84a-73313326c5b6"
      },
      "execution_count": 6,
      "outputs": [
        {
          "output_type": "execute_result",
          "data": {
            "text/plain": [
              "(<tf.Tensor: shape=(8,), dtype=float32, numpy=array([-7., -4., -1.,  2.,  5.,  8., 11., 14.], dtype=float32)>,\n",
              " <tf.Tensor: shape=(8,), dtype=float32, numpy=array([ 3.,  6.,  9., 12., 15., 18., 21., 24.], dtype=float32)>)"
            ]
          },
          "metadata": {},
          "execution_count": 6
        }
      ]
    },
    {
      "cell_type": "code",
      "source": [
        "input_shape = X[0].shape\n",
        "output_shape = y[0].shape\n",
        "input_shape, output_shape"
      ],
      "metadata": {
        "colab": {
          "base_uri": "https://localhost:8080/"
        },
        "id": "qC-RbId7DXfH",
        "outputId": "240812d3-d87f-4da2-d351-f877ba9828a9"
      },
      "execution_count": 7,
      "outputs": [
        {
          "output_type": "execute_result",
          "data": {
            "text/plain": [
              "(TensorShape([]), TensorShape([]))"
            ]
          },
          "metadata": {},
          "execution_count": 7
        }
      ]
    },
    {
      "cell_type": "markdown",
      "source": [
        "### Steps in modelling with Tensorflow -\n",
        "- **Creating a model** - define the input and output layers, as well as the layers of a deeplearning model.\n",
        "- **Compililng a model** - define the loss function (in other words, the function which tells our model how wrong it is) and the optimizer (tells our model how to improve the patterns its learning) and evaluation metrics (what we can use to interpret the performance of our model)\n",
        "- **Fitting the model** - letting the model try to find patterns between X and y (features and labels)"
      ],
      "metadata": {
        "id": "HGDKSgFRTUHd"
      }
    },
    {
      "cell_type": "code",
      "source": [
        "# Add one extra dimension to the input value to become compataible with the model.\n",
        "X = tf.reshape(X, (-1, 1))"
      ],
      "metadata": {
        "id": "eOy39MbuwljG"
      },
      "execution_count": 8,
      "outputs": []
    },
    {
      "cell_type": "code",
      "source": [
        "# Set random seed\n",
        "tf.random.set_seed(42)\n",
        "\n",
        "# 1. Create a model using the Sequential API\n",
        "model = tf.keras.Sequential([\n",
        "    tf.keras.layers.Dense(1)\n",
        "])\n",
        "\n",
        "# 3. Compile the model\n",
        "model.compile(loss = tf.keras.losses.mae,\n",
        "              optimizer = tf.keras.optimizers.SGD(),\n",
        "              metrics = [\"mae\"]) # mae is short form of mean absolute error\n",
        "\n",
        "# 4. Fit the model\n",
        "model.fit(X, y, epochs = 5)"
      ],
      "metadata": {
        "colab": {
          "base_uri": "https://localhost:8080/"
        },
        "id": "n_NIeAGYUYxD",
        "outputId": "f7796caf-2671-436a-ffea-b43a52db3bef"
      },
      "execution_count": 9,
      "outputs": [
        {
          "output_type": "stream",
          "name": "stdout",
          "text": [
            "Epoch 1/5\n",
            "1/1 [==============================] - 1s 853ms/step - loss: 10.8406 - mae: 10.8406\n",
            "Epoch 2/5\n",
            "1/1 [==============================] - 0s 21ms/step - loss: 10.7081 - mae: 10.7081\n",
            "Epoch 3/5\n",
            "1/1 [==============================] - 0s 22ms/step - loss: 10.5756 - mae: 10.5756\n",
            "Epoch 4/5\n",
            "1/1 [==============================] - 0s 14ms/step - loss: 10.4431 - mae: 10.4431\n",
            "Epoch 5/5\n",
            "1/1 [==============================] - 0s 18ms/step - loss: 10.3106 - mae: 10.3106\n"
          ]
        },
        {
          "output_type": "execute_result",
          "data": {
            "text/plain": [
              "<keras.src.callbacks.History at 0x79313063fd90>"
            ]
          },
          "metadata": {},
          "execution_count": 9
        }
      ]
    },
    {
      "cell_type": "code",
      "source": [
        "# # Optional methodology -\n",
        "# model = tf.keras.Sequential()\n",
        "# model.add(tf.keras.layers.Dense(1))"
      ],
      "metadata": {
        "id": "DBwbgUQtUYtw"
      },
      "execution_count": 10,
      "outputs": []
    },
    {
      "cell_type": "code",
      "source": [
        "# Check out X and y\n",
        "X, y"
      ],
      "metadata": {
        "colab": {
          "base_uri": "https://localhost:8080/"
        },
        "id": "nIafJvUZxet7",
        "outputId": "d4235a5c-53e5-4865-f528-3811bcb3fe7a"
      },
      "execution_count": 11,
      "outputs": [
        {
          "output_type": "execute_result",
          "data": {
            "text/plain": [
              "(<tf.Tensor: shape=(8, 1), dtype=float32, numpy=\n",
              " array([[-7.],\n",
              "        [-4.],\n",
              "        [-1.],\n",
              "        [ 2.],\n",
              "        [ 5.],\n",
              "        [ 8.],\n",
              "        [11.],\n",
              "        [14.]], dtype=float32)>,\n",
              " <tf.Tensor: shape=(8,), dtype=float32, numpy=array([ 3.,  6.,  9., 12., 15., 18., 21., 24.], dtype=float32)>)"
            ]
          },
          "metadata": {},
          "execution_count": 11
        }
      ]
    },
    {
      "cell_type": "code",
      "source": [
        "# Try to make a prediction using our model:\n",
        "y_pred = model.predict([17.0])\n",
        "y_pred"
      ],
      "metadata": {
        "colab": {
          "base_uri": "https://localhost:8080/"
        },
        "id": "9TR_ddlwxex2",
        "outputId": "67e2d5a3-86eb-4d4f-ceaf-f33870756c83"
      },
      "execution_count": 12,
      "outputs": [
        {
          "output_type": "stream",
          "name": "stdout",
          "text": [
            "1/1 [==============================] - 0s 177ms/step\n"
          ]
        },
        {
          "output_type": "execute_result",
          "data": {
            "text/plain": [
              "array([[15.942187]], dtype=float32)"
            ]
          },
          "metadata": {},
          "execution_count": 12
        }
      ]
    },
    {
      "cell_type": "code",
      "source": [
        "y_pred + 11"
      ],
      "metadata": {
        "colab": {
          "base_uri": "https://localhost:8080/"
        },
        "id": "3BqjHv00xxdX",
        "outputId": "5a94968b-fdbb-42aa-ad64-b32c86b1b680"
      },
      "execution_count": 13,
      "outputs": [
        {
          "output_type": "execute_result",
          "data": {
            "text/plain": [
              "array([[26.942188]], dtype=float32)"
            ]
          },
          "metadata": {},
          "execution_count": 13
        }
      ]
    },
    {
      "cell_type": "markdown",
      "source": [
        "### Steps in modelling with Tensorflow -\n",
        "1. Construct or import a pretrained model relevant to your problem.\n",
        "2. Compile the model (prepare it to be used with data)\n",
        "  * **Loss** - how wrong your model's predictions are compared to the truth labels (we need to minimise this).\n",
        "  * **Optimizer** - how your model should update its internal patterns to better its predictions.\n",
        "  * **Metrics** - human interpretable values for how well your model is doing.\n",
        "3. Fit the model to the training data so it can discover patterns\n",
        "  * **Epochs** - how many times the model will go through all of the training examples.\n",
        "4. Evaluate the model on the test data (how reliable are our model's predictions?)\n"
      ],
      "metadata": {
        "id": "WwHE5MjSyAKf"
      }
    },
    {
      "cell_type": "markdown",
      "source": [
        "## Improving our Model -\n",
        "we can improve our model by altering our steps we took to create a model.\n",
        "1. **Creating a Model** - here we might add more layers, increase the number of hidden units (all called neurons) within each of the hidden layers, change the activation function of each layer.\n",
        "2. **Compiling a model** - here we might change the optimization function or perhaps the **learning rate** of the optimization function.\n",
        "3.**Fitting a model** - here we might fit a model for more **epochs** (leave it training for longer ) or on more data (give the model more examples to learn from)."
      ],
      "metadata": {
        "id": "bVTtpT5Bz6fr"
      }
    },
    {
      "cell_type": "code",
      "source": [
        "# Let's rebuild our model\n",
        "\n",
        "#1. Create the model\n",
        "model = tf.keras.Sequential([\n",
        "    tf.keras.layers.Dense(1)\n",
        "])\n",
        "\n",
        "#2. Compile the model\n",
        "model.compile(loss = tf.keras.losses.mae,\n",
        "              optimizer = tf.keras.optimizers.SGD(),\n",
        "              metrics=[\"mae\"])\n",
        "\n",
        "#3. Fit the model\n",
        "model.fit(X, y, epochs=100)"
      ],
      "metadata": {
        "colab": {
          "base_uri": "https://localhost:8080/"
        },
        "id": "mz8pq8rq0OfH",
        "outputId": "e6cf6aa6-9987-4b1a-ba9d-93f79ff2f4d3"
      },
      "execution_count": 14,
      "outputs": [
        {
          "output_type": "stream",
          "name": "stdout",
          "text": [
            "Epoch 1/100\n",
            "1/1 [==============================] - 1s 931ms/step - loss: 21.7279 - mae: 21.7279\n",
            "Epoch 2/100\n",
            "1/1 [==============================] - 0s 22ms/step - loss: 21.3348 - mae: 21.3348\n",
            "Epoch 3/100\n",
            "1/1 [==============================] - 0s 36ms/step - loss: 20.9417 - mae: 20.9417\n",
            "Epoch 4/100\n",
            "1/1 [==============================] - 0s 28ms/step - loss: 20.5558 - mae: 20.5558\n",
            "Epoch 5/100\n",
            "1/1 [==============================] - 0s 24ms/step - loss: 20.2746 - mae: 20.2746\n",
            "Epoch 6/100\n",
            "1/1 [==============================] - 0s 19ms/step - loss: 19.9933 - mae: 19.9933\n",
            "Epoch 7/100\n",
            "1/1 [==============================] - 0s 26ms/step - loss: 19.7121 - mae: 19.7121\n",
            "Epoch 8/100\n",
            "1/1 [==============================] - 0s 17ms/step - loss: 19.4308 - mae: 19.4308\n",
            "Epoch 9/100\n",
            "1/1 [==============================] - 0s 11ms/step - loss: 19.1496 - mae: 19.1496\n",
            "Epoch 10/100\n",
            "1/1 [==============================] - 0s 25ms/step - loss: 18.8683 - mae: 18.8683\n",
            "Epoch 11/100\n",
            "1/1 [==============================] - 0s 16ms/step - loss: 18.5871 - mae: 18.5871\n",
            "Epoch 12/100\n",
            "1/1 [==============================] - 0s 15ms/step - loss: 18.3058 - mae: 18.3058\n",
            "Epoch 13/100\n",
            "1/1 [==============================] - 0s 15ms/step - loss: 18.0246 - mae: 18.0246\n",
            "Epoch 14/100\n",
            "1/1 [==============================] - 0s 13ms/step - loss: 17.7433 - mae: 17.7433\n",
            "Epoch 15/100\n",
            "1/1 [==============================] - 0s 16ms/step - loss: 17.4621 - mae: 17.4621\n",
            "Epoch 16/100\n",
            "1/1 [==============================] - 0s 22ms/step - loss: 17.1808 - mae: 17.1808\n",
            "Epoch 17/100\n",
            "1/1 [==============================] - 0s 34ms/step - loss: 16.8996 - mae: 16.8996\n",
            "Epoch 18/100\n",
            "1/1 [==============================] - 0s 16ms/step - loss: 16.6183 - mae: 16.6183\n",
            "Epoch 19/100\n",
            "1/1 [==============================] - 0s 14ms/step - loss: 16.3371 - mae: 16.3371\n",
            "Epoch 20/100\n",
            "1/1 [==============================] - 0s 16ms/step - loss: 16.0558 - mae: 16.0558\n",
            "Epoch 21/100\n",
            "1/1 [==============================] - 0s 22ms/step - loss: 15.7746 - mae: 15.7746\n",
            "Epoch 22/100\n",
            "1/1 [==============================] - 0s 15ms/step - loss: 15.4933 - mae: 15.4933\n",
            "Epoch 23/100\n",
            "1/1 [==============================] - 0s 14ms/step - loss: 15.2121 - mae: 15.2121\n",
            "Epoch 24/100\n",
            "1/1 [==============================] - 0s 15ms/step - loss: 14.9308 - mae: 14.9308\n",
            "Epoch 25/100\n",
            "1/1 [==============================] - 0s 36ms/step - loss: 14.6801 - mae: 14.6801\n",
            "Epoch 26/100\n",
            "1/1 [==============================] - 0s 17ms/step - loss: 14.5476 - mae: 14.5476\n",
            "Epoch 27/100\n",
            "1/1 [==============================] - 0s 19ms/step - loss: 14.4151 - mae: 14.4151\n",
            "Epoch 28/100\n",
            "1/1 [==============================] - 0s 20ms/step - loss: 14.2826 - mae: 14.2826\n",
            "Epoch 29/100\n",
            "1/1 [==============================] - 0s 10ms/step - loss: 14.1501 - mae: 14.1501\n",
            "Epoch 30/100\n",
            "1/1 [==============================] - 0s 17ms/step - loss: 14.0176 - mae: 14.0176\n",
            "Epoch 31/100\n",
            "1/1 [==============================] - 0s 10ms/step - loss: 13.8851 - mae: 13.8851\n",
            "Epoch 32/100\n",
            "1/1 [==============================] - 0s 17ms/step - loss: 13.7526 - mae: 13.7526\n",
            "Epoch 33/100\n",
            "1/1 [==============================] - 0s 18ms/step - loss: 13.6201 - mae: 13.6201\n",
            "Epoch 34/100\n",
            "1/1 [==============================] - 0s 11ms/step - loss: 13.4876 - mae: 13.4876\n",
            "Epoch 35/100\n",
            "1/1 [==============================] - 0s 15ms/step - loss: 13.3551 - mae: 13.3551\n",
            "Epoch 36/100\n",
            "1/1 [==============================] - 0s 22ms/step - loss: 13.2226 - mae: 13.2226\n",
            "Epoch 37/100\n",
            "1/1 [==============================] - 0s 20ms/step - loss: 13.0901 - mae: 13.0901\n",
            "Epoch 38/100\n",
            "1/1 [==============================] - 0s 22ms/step - loss: 12.9576 - mae: 12.9576\n",
            "Epoch 39/100\n",
            "1/1 [==============================] - 0s 16ms/step - loss: 12.8251 - mae: 12.8251\n",
            "Epoch 40/100\n",
            "1/1 [==============================] - 0s 13ms/step - loss: 12.6926 - mae: 12.6926\n",
            "Epoch 41/100\n",
            "1/1 [==============================] - 0s 22ms/step - loss: 12.5601 - mae: 12.5601\n",
            "Epoch 42/100\n",
            "1/1 [==============================] - 0s 23ms/step - loss: 12.4276 - mae: 12.4276\n",
            "Epoch 43/100\n",
            "1/1 [==============================] - 0s 20ms/step - loss: 12.2951 - mae: 12.2951\n",
            "Epoch 44/100\n",
            "1/1 [==============================] - 0s 16ms/step - loss: 12.1626 - mae: 12.1626\n",
            "Epoch 45/100\n",
            "1/1 [==============================] - 0s 20ms/step - loss: 12.0301 - mae: 12.0301\n",
            "Epoch 46/100\n",
            "1/1 [==============================] - 0s 16ms/step - loss: 11.8976 - mae: 11.8976\n",
            "Epoch 47/100\n",
            "1/1 [==============================] - 0s 27ms/step - loss: 11.7651 - mae: 11.7651\n",
            "Epoch 48/100\n",
            "1/1 [==============================] - 0s 21ms/step - loss: 11.6326 - mae: 11.6326\n",
            "Epoch 49/100\n",
            "1/1 [==============================] - 0s 22ms/step - loss: 11.5001 - mae: 11.5001\n",
            "Epoch 50/100\n",
            "1/1 [==============================] - 0s 21ms/step - loss: 11.3676 - mae: 11.3676\n",
            "Epoch 51/100\n",
            "1/1 [==============================] - 0s 23ms/step - loss: 11.2351 - mae: 11.2351\n",
            "Epoch 52/100\n",
            "1/1 [==============================] - 0s 19ms/step - loss: 11.1026 - mae: 11.1026\n",
            "Epoch 53/100\n",
            "1/1 [==============================] - 0s 28ms/step - loss: 10.9701 - mae: 10.9701\n",
            "Epoch 54/100\n",
            "1/1 [==============================] - 0s 15ms/step - loss: 10.8376 - mae: 10.8376\n",
            "Epoch 55/100\n",
            "1/1 [==============================] - 0s 19ms/step - loss: 10.7051 - mae: 10.7051\n",
            "Epoch 56/100\n",
            "1/1 [==============================] - 0s 15ms/step - loss: 10.5726 - mae: 10.5726\n",
            "Epoch 57/100\n",
            "1/1 [==============================] - 0s 11ms/step - loss: 10.4401 - mae: 10.4401\n",
            "Epoch 58/100\n",
            "1/1 [==============================] - 0s 12ms/step - loss: 10.3076 - mae: 10.3076\n",
            "Epoch 59/100\n",
            "1/1 [==============================] - 0s 11ms/step - loss: 10.1751 - mae: 10.1751\n",
            "Epoch 60/100\n",
            "1/1 [==============================] - 0s 13ms/step - loss: 10.0426 - mae: 10.0426\n",
            "Epoch 61/100\n",
            "1/1 [==============================] - 0s 12ms/step - loss: 9.9101 - mae: 9.9101\n",
            "Epoch 62/100\n",
            "1/1 [==============================] - 0s 17ms/step - loss: 9.7776 - mae: 9.7776\n",
            "Epoch 63/100\n",
            "1/1 [==============================] - 0s 24ms/step - loss: 9.6451 - mae: 9.6451\n",
            "Epoch 64/100\n",
            "1/1 [==============================] - 0s 19ms/step - loss: 9.5126 - mae: 9.5126\n",
            "Epoch 65/100\n",
            "1/1 [==============================] - 0s 17ms/step - loss: 9.3801 - mae: 9.3801\n",
            "Epoch 66/100\n",
            "1/1 [==============================] - 0s 19ms/step - loss: 9.2476 - mae: 9.2476\n",
            "Epoch 67/100\n",
            "1/1 [==============================] - 0s 18ms/step - loss: 9.1151 - mae: 9.1151\n",
            "Epoch 68/100\n",
            "1/1 [==============================] - 0s 23ms/step - loss: 8.9826 - mae: 8.9826\n",
            "Epoch 69/100\n",
            "1/1 [==============================] - 0s 27ms/step - loss: 8.8501 - mae: 8.8501\n",
            "Epoch 70/100\n",
            "1/1 [==============================] - 0s 20ms/step - loss: 8.7176 - mae: 8.7176\n",
            "Epoch 71/100\n",
            "1/1 [==============================] - 0s 22ms/step - loss: 8.5851 - mae: 8.5851\n",
            "Epoch 72/100\n",
            "1/1 [==============================] - 0s 19ms/step - loss: 8.4526 - mae: 8.4526\n",
            "Epoch 73/100\n",
            "1/1 [==============================] - 0s 19ms/step - loss: 8.3201 - mae: 8.3201\n",
            "Epoch 74/100\n",
            "1/1 [==============================] - 0s 27ms/step - loss: 8.1876 - mae: 8.1876\n",
            "Epoch 75/100\n",
            "1/1 [==============================] - 0s 18ms/step - loss: 8.0551 - mae: 8.0551\n",
            "Epoch 76/100\n",
            "1/1 [==============================] - 0s 16ms/step - loss: 7.9226 - mae: 7.9226\n",
            "Epoch 77/100\n",
            "1/1 [==============================] - 0s 27ms/step - loss: 7.7901 - mae: 7.7901\n",
            "Epoch 78/100\n",
            "1/1 [==============================] - 0s 14ms/step - loss: 7.6576 - mae: 7.6576\n",
            "Epoch 79/100\n",
            "1/1 [==============================] - 0s 15ms/step - loss: 7.5251 - mae: 7.5251\n",
            "Epoch 80/100\n",
            "1/1 [==============================] - 0s 19ms/step - loss: 7.3926 - mae: 7.3926\n",
            "Epoch 81/100\n",
            "1/1 [==============================] - 0s 34ms/step - loss: 7.2601 - mae: 7.2601\n",
            "Epoch 82/100\n",
            "1/1 [==============================] - 0s 22ms/step - loss: 7.1276 - mae: 7.1276\n",
            "Epoch 83/100\n",
            "1/1 [==============================] - 0s 26ms/step - loss: 6.9951 - mae: 6.9951\n",
            "Epoch 84/100\n",
            "1/1 [==============================] - 0s 21ms/step - loss: 6.9281 - mae: 6.9281\n",
            "Epoch 85/100\n",
            "1/1 [==============================] - 0s 20ms/step - loss: 6.9225 - mae: 6.9225\n",
            "Epoch 86/100\n",
            "1/1 [==============================] - 0s 24ms/step - loss: 6.9169 - mae: 6.9169\n",
            "Epoch 87/100\n",
            "1/1 [==============================] - 0s 14ms/step - loss: 6.9113 - mae: 6.9113\n",
            "Epoch 88/100\n",
            "1/1 [==============================] - 0s 14ms/step - loss: 6.9056 - mae: 6.9056\n",
            "Epoch 89/100\n",
            "1/1 [==============================] - 0s 18ms/step - loss: 6.9000 - mae: 6.9000\n",
            "Epoch 90/100\n",
            "1/1 [==============================] - 0s 21ms/step - loss: 6.8944 - mae: 6.8944\n",
            "Epoch 91/100\n",
            "1/1 [==============================] - 0s 19ms/step - loss: 6.8888 - mae: 6.8888\n",
            "Epoch 92/100\n",
            "1/1 [==============================] - 0s 23ms/step - loss: 6.8831 - mae: 6.8831\n",
            "Epoch 93/100\n",
            "1/1 [==============================] - 0s 15ms/step - loss: 6.8775 - mae: 6.8775\n",
            "Epoch 94/100\n",
            "1/1 [==============================] - 0s 20ms/step - loss: 6.8719 - mae: 6.8719\n",
            "Epoch 95/100\n",
            "1/1 [==============================] - 0s 17ms/step - loss: 6.8663 - mae: 6.8663\n",
            "Epoch 96/100\n",
            "1/1 [==============================] - 0s 17ms/step - loss: 6.8606 - mae: 6.8606\n",
            "Epoch 97/100\n",
            "1/1 [==============================] - 0s 12ms/step - loss: 6.8550 - mae: 6.8550\n",
            "Epoch 98/100\n",
            "1/1 [==============================] - 0s 25ms/step - loss: 6.8494 - mae: 6.8494\n",
            "Epoch 99/100\n",
            "1/1 [==============================] - 0s 18ms/step - loss: 6.8438 - mae: 6.8438\n",
            "Epoch 100/100\n",
            "1/1 [==============================] - 0s 23ms/step - loss: 6.8381 - mae: 6.8381\n"
          ]
        },
        {
          "output_type": "execute_result",
          "data": {
            "text/plain": [
              "<keras.src.callbacks.History at 0x7931302f7a90>"
            ]
          },
          "metadata": {},
          "execution_count": 14
        }
      ]
    },
    {
      "cell_type": "code",
      "source": [
        "# Remind ourselves of the data\n",
        "X, y"
      ],
      "metadata": {
        "colab": {
          "base_uri": "https://localhost:8080/"
        },
        "id": "kGVUhoyQ0Obe",
        "outputId": "fb2850e1-fb75-4502-f867-ad6955a14592"
      },
      "execution_count": 15,
      "outputs": [
        {
          "output_type": "execute_result",
          "data": {
            "text/plain": [
              "(<tf.Tensor: shape=(8, 1), dtype=float32, numpy=\n",
              " array([[-7.],\n",
              "        [-4.],\n",
              "        [-1.],\n",
              "        [ 2.],\n",
              "        [ 5.],\n",
              "        [ 8.],\n",
              "        [11.],\n",
              "        [14.]], dtype=float32)>,\n",
              " <tf.Tensor: shape=(8,), dtype=float32, numpy=array([ 3.,  6.,  9., 12., 15., 18., 21., 24.], dtype=float32)>)"
            ]
          },
          "metadata": {},
          "execution_count": 15
        }
      ]
    },
    {
      "cell_type": "code",
      "source": [
        "# Let's see if our model's prediction has improved ...\n",
        "model.predict([17.0])"
      ],
      "metadata": {
        "colab": {
          "base_uri": "https://localhost:8080/"
        },
        "id": "udZL7mmm3ojJ",
        "outputId": "f05d7f86-cd69-40bb-c398-6801b832d03b"
      },
      "execution_count": 16,
      "outputs": [
        {
          "output_type": "stream",
          "name": "stdout",
          "text": [
            "1/1 [==============================] - 0s 175ms/step\n"
          ]
        },
        {
          "output_type": "execute_result",
          "data": {
            "text/plain": [
              "array([[29.425068]], dtype=float32)"
            ]
          },
          "metadata": {},
          "execution_count": 16
        }
      ]
    },
    {
      "cell_type": "code",
      "source": [
        "# Let's see if we can make another change to improve our model -\n",
        "\n",
        "#1. Create the model (this time with an extra hidden layer with 100 hidden units)\n",
        "model = tf.keras.Sequential([\n",
        "    tf.keras.layers.Dense(100, activation = \"relu\"),\n",
        "    tf.keras.layers.Dense(1)\n",
        "])\n",
        "\n",
        "#2. Compile the model\n",
        "model.compile( loss=\"mae\",\n",
        "              optimizer=tf.keras.optimizers.SGD(),\n",
        "               metrics=[\"mae\"])\n",
        "\n",
        "#3. Fit the model\n",
        "model.fit(X,y, epochs=100)"
      ],
      "metadata": {
        "colab": {
          "base_uri": "https://localhost:8080/"
        },
        "id": "-P-LsmAw31Ze",
        "outputId": "880a275e-ae39-4d55-fde2-16550ecf0220"
      },
      "execution_count": 17,
      "outputs": [
        {
          "output_type": "stream",
          "name": "stdout",
          "text": [
            "Epoch 1/100\n",
            "1/1 [==============================] - 2s 2s/step - loss: 12.5815 - mae: 12.5815\n",
            "Epoch 2/100\n",
            "1/1 [==============================] - 0s 18ms/step - loss: 12.1213 - mae: 12.1213\n",
            "Epoch 3/100\n",
            "1/1 [==============================] - 0s 20ms/step - loss: 11.6758 - mae: 11.6758\n",
            "Epoch 4/100\n",
            "1/1 [==============================] - 0s 16ms/step - loss: 11.2554 - mae: 11.2554\n",
            "Epoch 5/100\n",
            "1/1 [==============================] - 0s 20ms/step - loss: 10.8211 - mae: 10.8211\n",
            "Epoch 6/100\n",
            "1/1 [==============================] - 0s 24ms/step - loss: 10.3697 - mae: 10.3697\n",
            "Epoch 7/100\n",
            "1/1 [==============================] - 0s 12ms/step - loss: 9.9059 - mae: 9.9059\n",
            "Epoch 8/100\n",
            "1/1 [==============================] - 0s 30ms/step - loss: 9.4103 - mae: 9.4103\n",
            "Epoch 9/100\n",
            "1/1 [==============================] - 0s 40ms/step - loss: 8.8827 - mae: 8.8827\n",
            "Epoch 10/100\n",
            "1/1 [==============================] - 0s 14ms/step - loss: 8.3222 - mae: 8.3222\n",
            "Epoch 11/100\n",
            "1/1 [==============================] - 0s 27ms/step - loss: 7.7193 - mae: 7.7193\n",
            "Epoch 12/100\n",
            "1/1 [==============================] - 0s 20ms/step - loss: 7.0679 - mae: 7.0679\n",
            "Epoch 13/100\n",
            "1/1 [==============================] - 0s 15ms/step - loss: 6.3648 - mae: 6.3648\n",
            "Epoch 14/100\n",
            "1/1 [==============================] - 0s 15ms/step - loss: 5.6051 - mae: 5.6051\n",
            "Epoch 15/100\n",
            "1/1 [==============================] - 0s 26ms/step - loss: 4.7830 - mae: 4.7830\n",
            "Epoch 16/100\n",
            "1/1 [==============================] - 0s 59ms/step - loss: 4.1106 - mae: 4.1106\n",
            "Epoch 17/100\n",
            "1/1 [==============================] - 0s 23ms/step - loss: 4.0173 - mae: 4.0173\n",
            "Epoch 18/100\n",
            "1/1 [==============================] - 0s 24ms/step - loss: 3.9214 - mae: 3.9214\n",
            "Epoch 19/100\n",
            "1/1 [==============================] - 0s 27ms/step - loss: 3.9704 - mae: 3.9704\n",
            "Epoch 20/100\n",
            "1/1 [==============================] - 0s 19ms/step - loss: 3.9045 - mae: 3.9045\n",
            "Epoch 21/100\n",
            "1/1 [==============================] - 0s 28ms/step - loss: 3.9665 - mae: 3.9665\n",
            "Epoch 22/100\n",
            "1/1 [==============================] - 0s 43ms/step - loss: 3.9102 - mae: 3.9102\n",
            "Epoch 23/100\n",
            "1/1 [==============================] - 0s 33ms/step - loss: 3.9447 - mae: 3.9447\n",
            "Epoch 24/100\n",
            "1/1 [==============================] - 0s 23ms/step - loss: 3.9264 - mae: 3.9264\n",
            "Epoch 25/100\n",
            "1/1 [==============================] - 0s 41ms/step - loss: 3.9247 - mae: 3.9247\n",
            "Epoch 26/100\n",
            "1/1 [==============================] - 0s 19ms/step - loss: 3.9322 - mae: 3.9322\n",
            "Epoch 27/100\n",
            "1/1 [==============================] - 0s 29ms/step - loss: 3.8987 - mae: 3.8987\n",
            "Epoch 28/100\n",
            "1/1 [==============================] - 0s 33ms/step - loss: 3.9383 - mae: 3.9383\n",
            "Epoch 29/100\n",
            "1/1 [==============================] - 0s 38ms/step - loss: 3.8728 - mae: 3.8728\n",
            "Epoch 30/100\n",
            "1/1 [==============================] - 0s 48ms/step - loss: 3.9433 - mae: 3.9433\n",
            "Epoch 31/100\n",
            "1/1 [==============================] - 0s 38ms/step - loss: 3.8828 - mae: 3.8828\n",
            "Epoch 32/100\n",
            "1/1 [==============================] - 0s 46ms/step - loss: 3.9272 - mae: 3.9272\n",
            "Epoch 33/100\n",
            "1/1 [==============================] - 0s 41ms/step - loss: 3.8951 - mae: 3.8951\n",
            "Epoch 34/100\n",
            "1/1 [==============================] - 0s 32ms/step - loss: 3.9010 - mae: 3.9010\n",
            "Epoch 35/100\n",
            "1/1 [==============================] - 0s 20ms/step - loss: 3.9011 - mae: 3.9011\n",
            "Epoch 36/100\n",
            "1/1 [==============================] - 0s 27ms/step - loss: 3.8748 - mae: 3.8748\n",
            "Epoch 37/100\n",
            "1/1 [==============================] - 0s 24ms/step - loss: 3.9074 - mae: 3.9074\n",
            "Epoch 38/100\n",
            "1/1 [==============================] - 0s 20ms/step - loss: 3.8485 - mae: 3.8485\n",
            "Epoch 39/100\n",
            "1/1 [==============================] - 0s 28ms/step - loss: 3.9177 - mae: 3.9177\n",
            "Epoch 40/100\n",
            "1/1 [==============================] - 0s 22ms/step - loss: 3.8587 - mae: 3.8587\n",
            "Epoch 41/100\n",
            "1/1 [==============================] - 0s 25ms/step - loss: 3.9024 - mae: 3.9024\n",
            "Epoch 42/100\n",
            "1/1 [==============================] - 0s 17ms/step - loss: 3.8649 - mae: 3.8649\n",
            "Epoch 43/100\n",
            "1/1 [==============================] - 0s 24ms/step - loss: 3.8760 - mae: 3.8760\n",
            "Epoch 44/100\n",
            "1/1 [==============================] - 0s 17ms/step - loss: 3.8711 - mae: 3.8711\n",
            "Epoch 45/100\n",
            "1/1 [==============================] - 0s 20ms/step - loss: 3.8496 - mae: 3.8496\n",
            "Epoch 46/100\n",
            "1/1 [==============================] - 0s 20ms/step - loss: 3.8776 - mae: 3.8776\n",
            "Epoch 47/100\n",
            "1/1 [==============================] - 0s 26ms/step - loss: 3.8275 - mae: 3.8275\n",
            "Epoch 48/100\n",
            "1/1 [==============================] - 0s 19ms/step - loss: 3.8945 - mae: 3.8945\n",
            "Epoch 49/100\n",
            "1/1 [==============================] - 0s 17ms/step - loss: 3.8294 - mae: 3.8294\n",
            "Epoch 50/100\n",
            "1/1 [==============================] - 0s 36ms/step - loss: 3.8765 - mae: 3.8765\n",
            "Epoch 51/100\n",
            "1/1 [==============================] - 0s 20ms/step - loss: 3.8358 - mae: 3.8358\n",
            "Epoch 52/100\n",
            "1/1 [==============================] - 0s 15ms/step - loss: 3.8498 - mae: 3.8498\n",
            "Epoch 53/100\n",
            "1/1 [==============================] - 0s 20ms/step - loss: 3.8423 - mae: 3.8423\n",
            "Epoch 54/100\n",
            "1/1 [==============================] - 0s 24ms/step - loss: 3.8231 - mae: 3.8231\n",
            "Epoch 55/100\n",
            "1/1 [==============================] - 0s 24ms/step - loss: 3.8533 - mae: 3.8533\n",
            "Epoch 56/100\n",
            "1/1 [==============================] - 0s 18ms/step - loss: 3.8059 - mae: 3.8059\n",
            "Epoch 57/100\n",
            "1/1 [==============================] - 0s 17ms/step - loss: 3.8659 - mae: 3.8659\n",
            "Epoch 58/100\n",
            "1/1 [==============================] - 0s 16ms/step - loss: 3.8012 - mae: 3.8012\n",
            "Epoch 59/100\n",
            "1/1 [==============================] - 0s 15ms/step - loss: 3.8492 - mae: 3.8492\n",
            "Epoch 60/100\n",
            "1/1 [==============================] - 0s 19ms/step - loss: 3.8077 - mae: 3.8077\n",
            "Epoch 61/100\n",
            "1/1 [==============================] - 0s 13ms/step - loss: 3.8224 - mae: 3.8224\n",
            "Epoch 62/100\n",
            "1/1 [==============================] - 0s 13ms/step - loss: 3.8145 - mae: 3.8145\n",
            "Epoch 63/100\n",
            "1/1 [==============================] - 0s 19ms/step - loss: 3.8000 - mae: 3.8000\n",
            "Epoch 64/100\n",
            "1/1 [==============================] - 0s 22ms/step - loss: 3.8316 - mae: 3.8316\n",
            "Epoch 65/100\n",
            "1/1 [==============================] - 0s 18ms/step - loss: 3.7778 - mae: 3.7778\n",
            "Epoch 66/100\n",
            "1/1 [==============================] - 0s 18ms/step - loss: 3.8384 - mae: 3.8384\n",
            "Epoch 67/100\n",
            "1/1 [==============================] - 0s 25ms/step - loss: 3.7740 - mae: 3.7740\n",
            "Epoch 68/100\n",
            "1/1 [==============================] - 0s 13ms/step - loss: 3.8207 - mae: 3.8207\n",
            "Epoch 69/100\n",
            "1/1 [==============================] - 0s 16ms/step - loss: 3.7808 - mae: 3.7808\n",
            "Epoch 70/100\n",
            "1/1 [==============================] - 0s 41ms/step - loss: 3.7936 - mae: 3.7936\n",
            "Epoch 71/100\n",
            "1/1 [==============================] - 0s 20ms/step - loss: 3.7920 - mae: 3.7920\n",
            "Epoch 72/100\n",
            "1/1 [==============================] - 0s 14ms/step - loss: 3.7760 - mae: 3.7760\n",
            "Epoch 73/100\n",
            "1/1 [==============================] - 0s 19ms/step - loss: 3.8050 - mae: 3.8050\n",
            "Epoch 74/100\n",
            "1/1 [==============================] - 0s 12ms/step - loss: 3.7484 - mae: 3.7484\n",
            "Epoch 75/100\n",
            "1/1 [==============================] - 0s 12ms/step - loss: 3.8120 - mae: 3.8120\n",
            "Epoch 76/100\n",
            "1/1 [==============================] - 0s 13ms/step - loss: 3.7479 - mae: 3.7479\n",
            "Epoch 77/100\n",
            "1/1 [==============================] - 0s 11ms/step - loss: 3.7911 - mae: 3.7911\n",
            "Epoch 78/100\n",
            "1/1 [==============================] - 0s 25ms/step - loss: 3.7549 - mae: 3.7549\n",
            "Epoch 79/100\n",
            "1/1 [==============================] - 0s 14ms/step - loss: 3.7678 - mae: 3.7678\n",
            "Epoch 80/100\n",
            "1/1 [==============================] - 0s 10ms/step - loss: 3.7723 - mae: 3.7723\n",
            "Epoch 81/100\n",
            "1/1 [==============================] - 0s 12ms/step - loss: 3.7456 - mae: 3.7456\n",
            "Epoch 82/100\n",
            "1/1 [==============================] - 0s 16ms/step - loss: 3.7794 - mae: 3.7794\n",
            "Epoch 83/100\n",
            "1/1 [==============================] - 0s 13ms/step - loss: 3.7177 - mae: 3.7177\n",
            "Epoch 84/100\n",
            "1/1 [==============================] - 0s 15ms/step - loss: 3.7866 - mae: 3.7866\n",
            "Epoch 85/100\n",
            "1/1 [==============================] - 0s 29ms/step - loss: 3.7228 - mae: 3.7228\n",
            "Epoch 86/100\n",
            "1/1 [==============================] - 0s 15ms/step - loss: 3.7601 - mae: 3.7601\n",
            "Epoch 87/100\n",
            "1/1 [==============================] - 0s 15ms/step - loss: 3.7335 - mae: 3.7335\n",
            "Epoch 88/100\n",
            "1/1 [==============================] - 0s 16ms/step - loss: 3.7419 - mae: 3.7419\n",
            "Epoch 89/100\n",
            "1/1 [==============================] - 0s 24ms/step - loss: 3.7476 - mae: 3.7476\n",
            "Epoch 90/100\n",
            "1/1 [==============================] - 0s 23ms/step - loss: 3.7138 - mae: 3.7138\n",
            "Epoch 91/100\n",
            "1/1 [==============================] - 0s 22ms/step - loss: 3.7549 - mae: 3.7549\n",
            "Epoch 92/100\n",
            "1/1 [==============================] - 0s 27ms/step - loss: 3.6915 - mae: 3.6915\n",
            "Epoch 93/100\n",
            "1/1 [==============================] - 0s 16ms/step - loss: 3.7555 - mae: 3.7555\n",
            "Epoch 94/100\n",
            "1/1 [==============================] - 0s 20ms/step - loss: 3.6989 - mae: 3.6989\n",
            "Epoch 95/100\n",
            "1/1 [==============================] - 0s 14ms/step - loss: 3.7310 - mae: 3.7310\n",
            "Epoch 96/100\n",
            "1/1 [==============================] - 0s 17ms/step - loss: 3.7165 - mae: 3.7165\n",
            "Epoch 97/100\n",
            "1/1 [==============================] - 0s 27ms/step - loss: 3.7091 - mae: 3.7091\n",
            "Epoch 98/100\n",
            "1/1 [==============================] - 0s 20ms/step - loss: 3.7239 - mae: 3.7239\n",
            "Epoch 99/100\n",
            "1/1 [==============================] - 0s 9ms/step - loss: 3.6807 - mae: 3.6807\n",
            "Epoch 100/100\n",
            "1/1 [==============================] - 0s 17ms/step - loss: 3.7314 - mae: 3.7314\n"
          ]
        },
        {
          "output_type": "execute_result",
          "data": {
            "text/plain": [
              "<keras.src.callbacks.History at 0x79313019c310>"
            ]
          },
          "metadata": {},
          "execution_count": 17
        }
      ]
    },
    {
      "cell_type": "code",
      "source": [
        "# Let's remind ourselves of the data -\n",
        "X,y"
      ],
      "metadata": {
        "colab": {
          "base_uri": "https://localhost:8080/"
        },
        "id": "jQag8GIU5z5Q",
        "outputId": "2bbf14cf-1929-48ed-cbd7-79c4a97b26c4"
      },
      "execution_count": 18,
      "outputs": [
        {
          "output_type": "execute_result",
          "data": {
            "text/plain": [
              "(<tf.Tensor: shape=(8, 1), dtype=float32, numpy=\n",
              " array([[-7.],\n",
              "        [-4.],\n",
              "        [-1.],\n",
              "        [ 2.],\n",
              "        [ 5.],\n",
              "        [ 8.],\n",
              "        [11.],\n",
              "        [14.]], dtype=float32)>,\n",
              " <tf.Tensor: shape=(8,), dtype=float32, numpy=array([ 3.,  6.,  9., 12., 15., 18., 21., 24.], dtype=float32)>)"
            ]
          },
          "metadata": {},
          "execution_count": 18
        }
      ]
    },
    {
      "cell_type": "code",
      "source": [
        "# Let's try to predict the y value -\n",
        "model.predict([17.0])"
      ],
      "metadata": {
        "colab": {
          "base_uri": "https://localhost:8080/"
        },
        "id": "sGs_4dJL6H9B",
        "outputId": "bb016911-1cc7-4785-a17c-67f10c1215f7"
      },
      "execution_count": 19,
      "outputs": [
        {
          "output_type": "stream",
          "name": "stdout",
          "text": [
            "1/1 [==============================] - 0s 66ms/step\n"
          ]
        },
        {
          "output_type": "execute_result",
          "data": {
            "text/plain": [
              "array([[32.029522]], dtype=float32)"
            ]
          },
          "metadata": {},
          "execution_count": 19
        }
      ]
    },
    {
      "cell_type": "code",
      "source": [
        "# Let's see if we can make another change to improve our model - now No activation function and reduced hidden units.\n",
        "\n",
        "#1. Create the model (this time with an extra hidden layer with 100 hidden units)\n",
        "model = tf.keras.Sequential([\n",
        "    tf.keras.layers.Dense(50, activation = None),\n",
        "    tf.keras.layers.Dense(1)\n",
        "])\n",
        "\n",
        "#2. Compile the model\n",
        "model.compile( loss=\"mae\",\n",
        "              optimizer=tf.keras.optimizers.SGD(),\n",
        "               metrics=[\"mae\"])\n",
        "\n",
        "#3. Fit the model\n",
        "model.fit(X,y, epochs=100)"
      ],
      "metadata": {
        "colab": {
          "base_uri": "https://localhost:8080/"
        },
        "id": "y6mWa2_n6R7G",
        "outputId": "b159232b-76ed-4687-b159-487fdd661d5f"
      },
      "execution_count": 20,
      "outputs": [
        {
          "output_type": "stream",
          "name": "stdout",
          "text": [
            "Epoch 1/100\n",
            "1/1 [==============================] - 0s 405ms/step - loss: 14.5050 - mae: 14.5050\n",
            "Epoch 2/100\n",
            "1/1 [==============================] - 0s 12ms/step - loss: 13.9501 - mae: 13.9501\n",
            "Epoch 3/100\n",
            "1/1 [==============================] - 0s 10ms/step - loss: 13.3991 - mae: 13.3991\n",
            "Epoch 4/100\n",
            "1/1 [==============================] - 0s 9ms/step - loss: 12.8491 - mae: 12.8491\n",
            "Epoch 5/100\n",
            "1/1 [==============================] - 0s 10ms/step - loss: 12.2972 - mae: 12.2972\n",
            "Epoch 6/100\n",
            "1/1 [==============================] - 0s 10ms/step - loss: 11.7406 - mae: 11.7406\n",
            "Epoch 7/100\n",
            "1/1 [==============================] - 0s 10ms/step - loss: 11.1764 - mae: 11.1764\n",
            "Epoch 8/100\n",
            "1/1 [==============================] - 0s 10ms/step - loss: 10.6016 - mae: 10.6016\n",
            "Epoch 9/100\n",
            "1/1 [==============================] - 0s 9ms/step - loss: 10.0134 - mae: 10.0134\n",
            "Epoch 10/100\n",
            "1/1 [==============================] - 0s 10ms/step - loss: 9.4086 - mae: 9.4086\n",
            "Epoch 11/100\n",
            "1/1 [==============================] - 0s 10ms/step - loss: 8.7842 - mae: 8.7842\n",
            "Epoch 12/100\n",
            "1/1 [==============================] - 0s 11ms/step - loss: 8.1370 - mae: 8.1370\n",
            "Epoch 13/100\n",
            "1/1 [==============================] - 0s 10ms/step - loss: 7.4637 - mae: 7.4637\n",
            "Epoch 14/100\n",
            "1/1 [==============================] - 0s 9ms/step - loss: 7.1558 - mae: 7.1558\n",
            "Epoch 15/100\n",
            "1/1 [==============================] - 0s 9ms/step - loss: 7.1338 - mae: 7.1338\n",
            "Epoch 16/100\n",
            "1/1 [==============================] - 0s 10ms/step - loss: 7.1118 - mae: 7.1118\n",
            "Epoch 17/100\n",
            "1/1 [==============================] - 0s 10ms/step - loss: 7.0897 - mae: 7.0897\n",
            "Epoch 18/100\n",
            "1/1 [==============================] - 0s 9ms/step - loss: 7.0675 - mae: 7.0675\n",
            "Epoch 19/100\n",
            "1/1 [==============================] - 0s 11ms/step - loss: 7.0452 - mae: 7.0452\n",
            "Epoch 20/100\n",
            "1/1 [==============================] - 0s 11ms/step - loss: 7.0229 - mae: 7.0229\n",
            "Epoch 21/100\n",
            "1/1 [==============================] - 0s 10ms/step - loss: 7.0005 - mae: 7.0005\n",
            "Epoch 22/100\n",
            "1/1 [==============================] - 0s 10ms/step - loss: 6.9780 - mae: 6.9780\n",
            "Epoch 23/100\n",
            "1/1 [==============================] - 0s 10ms/step - loss: 6.9554 - mae: 6.9554\n",
            "Epoch 24/100\n",
            "1/1 [==============================] - 0s 13ms/step - loss: 6.9328 - mae: 6.9328\n",
            "Epoch 25/100\n",
            "1/1 [==============================] - 0s 13ms/step - loss: 6.9101 - mae: 6.9101\n",
            "Epoch 26/100\n",
            "1/1 [==============================] - 0s 9ms/step - loss: 6.8872 - mae: 6.8872\n",
            "Epoch 27/100\n",
            "1/1 [==============================] - 0s 9ms/step - loss: 6.8643 - mae: 6.8643\n",
            "Epoch 28/100\n",
            "1/1 [==============================] - 0s 13ms/step - loss: 6.8412 - mae: 6.8412\n",
            "Epoch 29/100\n",
            "1/1 [==============================] - 0s 9ms/step - loss: 6.8181 - mae: 6.8181\n",
            "Epoch 30/100\n",
            "1/1 [==============================] - 0s 11ms/step - loss: 6.7993 - mae: 6.7993\n",
            "Epoch 31/100\n",
            "1/1 [==============================] - 0s 11ms/step - loss: 6.7871 - mae: 6.7871\n",
            "Epoch 32/100\n",
            "1/1 [==============================] - 0s 10ms/step - loss: 6.7642 - mae: 6.7642\n",
            "Epoch 33/100\n",
            "1/1 [==============================] - 0s 10ms/step - loss: 6.7412 - mae: 6.7412\n",
            "Epoch 34/100\n",
            "1/1 [==============================] - 0s 10ms/step - loss: 6.7181 - mae: 6.7181\n",
            "Epoch 35/100\n",
            "1/1 [==============================] - 0s 10ms/step - loss: 6.6948 - mae: 6.6948\n",
            "Epoch 36/100\n",
            "1/1 [==============================] - 0s 11ms/step - loss: 6.6714 - mae: 6.6714\n",
            "Epoch 37/100\n",
            "1/1 [==============================] - 0s 10ms/step - loss: 6.6479 - mae: 6.6479\n",
            "Epoch 38/100\n",
            "1/1 [==============================] - 0s 10ms/step - loss: 6.6242 - mae: 6.6242\n",
            "Epoch 39/100\n",
            "1/1 [==============================] - 0s 11ms/step - loss: 6.6004 - mae: 6.6004\n",
            "Epoch 40/100\n",
            "1/1 [==============================] - 0s 10ms/step - loss: 6.5765 - mae: 6.5765\n",
            "Epoch 41/100\n",
            "1/1 [==============================] - 0s 10ms/step - loss: 6.5524 - mae: 6.5524\n",
            "Epoch 42/100\n",
            "1/1 [==============================] - 0s 10ms/step - loss: 6.5281 - mae: 6.5281\n",
            "Epoch 43/100\n",
            "1/1 [==============================] - 0s 13ms/step - loss: 6.5037 - mae: 6.5037\n",
            "Epoch 44/100\n",
            "1/1 [==============================] - 0s 12ms/step - loss: 6.4791 - mae: 6.4791\n",
            "Epoch 45/100\n",
            "1/1 [==============================] - 0s 11ms/step - loss: 6.4543 - mae: 6.4543\n",
            "Epoch 46/100\n",
            "1/1 [==============================] - 0s 11ms/step - loss: 6.4294 - mae: 6.4294\n",
            "Epoch 47/100\n",
            "1/1 [==============================] - 0s 12ms/step - loss: 6.4043 - mae: 6.4043\n",
            "Epoch 48/100\n",
            "1/1 [==============================] - 0s 10ms/step - loss: 6.3790 - mae: 6.3790\n",
            "Epoch 49/100\n",
            "1/1 [==============================] - 0s 13ms/step - loss: 6.3535 - mae: 6.3535\n",
            "Epoch 50/100\n",
            "1/1 [==============================] - 0s 13ms/step - loss: 6.3278 - mae: 6.3278\n",
            "Epoch 51/100\n",
            "1/1 [==============================] - 0s 11ms/step - loss: 6.3020 - mae: 6.3020\n",
            "Epoch 52/100\n",
            "1/1 [==============================] - 0s 12ms/step - loss: 6.2759 - mae: 6.2759\n",
            "Epoch 53/100\n",
            "1/1 [==============================] - 0s 11ms/step - loss: 6.2497 - mae: 6.2497\n",
            "Epoch 54/100\n",
            "1/1 [==============================] - 0s 10ms/step - loss: 6.2380 - mae: 6.2380\n",
            "Epoch 55/100\n",
            "1/1 [==============================] - 0s 10ms/step - loss: 6.2192 - mae: 6.2192\n",
            "Epoch 56/100\n",
            "1/1 [==============================] - 0s 11ms/step - loss: 6.1929 - mae: 6.1929\n",
            "Epoch 57/100\n",
            "1/1 [==============================] - 0s 10ms/step - loss: 6.1664 - mae: 6.1664\n",
            "Epoch 58/100\n",
            "1/1 [==============================] - 0s 11ms/step - loss: 6.1396 - mae: 6.1396\n",
            "Epoch 59/100\n",
            "1/1 [==============================] - 0s 10ms/step - loss: 6.1127 - mae: 6.1127\n",
            "Epoch 60/100\n",
            "1/1 [==============================] - 0s 11ms/step - loss: 6.0855 - mae: 6.0855\n",
            "Epoch 61/100\n",
            "1/1 [==============================] - 0s 10ms/step - loss: 6.0581 - mae: 6.0581\n",
            "Epoch 62/100\n",
            "1/1 [==============================] - 0s 10ms/step - loss: 6.0304 - mae: 6.0304\n",
            "Epoch 63/100\n",
            "1/1 [==============================] - 0s 10ms/step - loss: 6.0025 - mae: 6.0025\n",
            "Epoch 64/100\n",
            "1/1 [==============================] - 0s 11ms/step - loss: 5.9743 - mae: 5.9743\n",
            "Epoch 65/100\n",
            "1/1 [==============================] - 0s 13ms/step - loss: 5.9459 - mae: 5.9459\n",
            "Epoch 66/100\n",
            "1/1 [==============================] - 0s 15ms/step - loss: 5.9172 - mae: 5.9172\n",
            "Epoch 67/100\n",
            "1/1 [==============================] - 0s 13ms/step - loss: 5.8883 - mae: 5.8883\n",
            "Epoch 68/100\n",
            "1/1 [==============================] - 0s 11ms/step - loss: 5.8590 - mae: 5.8590\n",
            "Epoch 69/100\n",
            "1/1 [==============================] - 0s 12ms/step - loss: 5.8295 - mae: 5.8295\n",
            "Epoch 70/100\n",
            "1/1 [==============================] - 0s 11ms/step - loss: 5.7998 - mae: 5.7998\n",
            "Epoch 71/100\n",
            "1/1 [==============================] - 0s 10ms/step - loss: 5.7697 - mae: 5.7697\n",
            "Epoch 72/100\n",
            "1/1 [==============================] - 0s 10ms/step - loss: 5.7450 - mae: 5.7450\n",
            "Epoch 73/100\n",
            "1/1 [==============================] - 0s 11ms/step - loss: 5.7656 - mae: 5.7656\n",
            "Epoch 74/100\n",
            "1/1 [==============================] - 0s 10ms/step - loss: 5.8531 - mae: 5.8531\n",
            "Epoch 75/100\n",
            "1/1 [==============================] - 0s 10ms/step - loss: 5.6719 - mae: 5.6719\n",
            "Epoch 76/100\n",
            "1/1 [==============================] - 0s 12ms/step - loss: 5.6409 - mae: 5.6409\n",
            "Epoch 77/100\n",
            "1/1 [==============================] - 0s 10ms/step - loss: 5.6095 - mae: 5.6095\n",
            "Epoch 78/100\n",
            "1/1 [==============================] - 0s 10ms/step - loss: 5.5778 - mae: 5.5778\n",
            "Epoch 79/100\n",
            "1/1 [==============================] - 0s 14ms/step - loss: 5.5458 - mae: 5.5458\n",
            "Epoch 80/100\n",
            "1/1 [==============================] - 0s 10ms/step - loss: 5.5134 - mae: 5.5134\n",
            "Epoch 81/100\n",
            "1/1 [==============================] - 0s 10ms/step - loss: 5.4807 - mae: 5.4807\n",
            "Epoch 82/100\n",
            "1/1 [==============================] - 0s 10ms/step - loss: 5.4477 - mae: 5.4477\n",
            "Epoch 83/100\n",
            "1/1 [==============================] - 0s 10ms/step - loss: 5.4143 - mae: 5.4143\n",
            "Epoch 84/100\n",
            "1/1 [==============================] - 0s 10ms/step - loss: 5.3806 - mae: 5.3806\n",
            "Epoch 85/100\n",
            "1/1 [==============================] - 0s 11ms/step - loss: 5.3720 - mae: 5.3720\n",
            "Epoch 86/100\n",
            "1/1 [==============================] - 0s 17ms/step - loss: 5.4031 - mae: 5.4031\n",
            "Epoch 87/100\n",
            "1/1 [==============================] - 0s 10ms/step - loss: 5.4847 - mae: 5.4847\n",
            "Epoch 88/100\n",
            "1/1 [==============================] - 0s 10ms/step - loss: 5.2708 - mae: 5.2708\n",
            "Epoch 89/100\n",
            "1/1 [==============================] - 0s 10ms/step - loss: 5.2357 - mae: 5.2357\n",
            "Epoch 90/100\n",
            "1/1 [==============================] - 0s 10ms/step - loss: 5.2002 - mae: 5.2002\n",
            "Epoch 91/100\n",
            "1/1 [==============================] - 0s 10ms/step - loss: 5.1644 - mae: 5.1644\n",
            "Epoch 92/100\n",
            "1/1 [==============================] - 0s 10ms/step - loss: 5.1281 - mae: 5.1281\n",
            "Epoch 93/100\n",
            "1/1 [==============================] - 0s 11ms/step - loss: 5.0914 - mae: 5.0914\n",
            "Epoch 94/100\n",
            "1/1 [==============================] - 0s 10ms/step - loss: 5.0543 - mae: 5.0543\n",
            "Epoch 95/100\n",
            "1/1 [==============================] - 0s 11ms/step - loss: 5.0168 - mae: 5.0168\n",
            "Epoch 96/100\n",
            "1/1 [==============================] - 0s 10ms/step - loss: 4.9879 - mae: 4.9879\n",
            "Epoch 97/100\n",
            "1/1 [==============================] - 0s 11ms/step - loss: 5.1104 - mae: 5.1104\n",
            "Epoch 98/100\n",
            "1/1 [==============================] - 0s 10ms/step - loss: 5.1040 - mae: 5.1040\n",
            "Epoch 99/100\n",
            "1/1 [==============================] - 0s 10ms/step - loss: 4.8941 - mae: 4.8941\n",
            "Epoch 100/100\n",
            "1/1 [==============================] - 0s 11ms/step - loss: 4.8549 - mae: 4.8549\n"
          ]
        },
        {
          "output_type": "execute_result",
          "data": {
            "text/plain": [
              "<keras.src.callbacks.History at 0x79313007b970>"
            ]
          },
          "metadata": {},
          "execution_count": 20
        }
      ]
    },
    {
      "cell_type": "code",
      "source": [
        "# Let's try to predict the y value -\n",
        "model.predict([17.0])"
      ],
      "metadata": {
        "colab": {
          "base_uri": "https://localhost:8080/"
        },
        "id": "ZfL1N_h-7VMv",
        "outputId": "0539fbf8-2ce8-42c2-bff7-3875525eb227"
      },
      "execution_count": 21,
      "outputs": [
        {
          "output_type": "stream",
          "name": "stdout",
          "text": [
            "1/1 [==============================] - 0s 67ms/step\n"
          ]
        },
        {
          "output_type": "execute_result",
          "data": {
            "text/plain": [
              "array([[29.236109]], dtype=float32)"
            ]
          },
          "metadata": {},
          "execution_count": 21
        }
      ]
    },
    {
      "cell_type": "code",
      "source": [
        "# Let's see if we can make another change to improve our model - now we change the optimizer to ADAM optimizer\n",
        "\n",
        "#1. Create the model (this time with an extra hidden layer with 100 hidden units)\n",
        "model = tf.keras.Sequential([\n",
        "    tf.keras.layers.Dense(50, activation = None),\n",
        "    tf.keras.layers.Dense(1)\n",
        "])\n",
        "\n",
        "#2. Compile the model\n",
        "model.compile( loss=\"mae\",\n",
        "              optimizer=tf.keras.optimizers.Adam(),\n",
        "               metrics=[\"mae\"])\n",
        "\n",
        "#3. Fit the model\n",
        "model.fit(X,y, epochs=100)"
      ],
      "metadata": {
        "colab": {
          "base_uri": "https://localhost:8080/"
        },
        "id": "lXYZpyV07aTh",
        "outputId": "6e78d1f7-6ec3-480f-fdc4-9ab1b9dada84"
      },
      "execution_count": 22,
      "outputs": [
        {
          "output_type": "stream",
          "name": "stdout",
          "text": [
            "Epoch 1/100\n",
            "1/1 [==============================] - 1s 555ms/step - loss: 13.4462 - mae: 13.4462\n",
            "Epoch 2/100\n",
            "1/1 [==============================] - 0s 9ms/step - loss: 13.3761 - mae: 13.3761\n",
            "Epoch 3/100\n",
            "1/1 [==============================] - 0s 9ms/step - loss: 13.3060 - mae: 13.3060\n",
            "Epoch 4/100\n",
            "1/1 [==============================] - 0s 11ms/step - loss: 13.2359 - mae: 13.2359\n",
            "Epoch 5/100\n",
            "1/1 [==============================] - 0s 14ms/step - loss: 13.1658 - mae: 13.1658\n",
            "Epoch 6/100\n",
            "1/1 [==============================] - 0s 11ms/step - loss: 13.0958 - mae: 13.0958\n",
            "Epoch 7/100\n",
            "1/1 [==============================] - 0s 12ms/step - loss: 13.0257 - mae: 13.0257\n",
            "Epoch 8/100\n",
            "1/1 [==============================] - 0s 10ms/step - loss: 12.9556 - mae: 12.9556\n",
            "Epoch 9/100\n",
            "1/1 [==============================] - 0s 11ms/step - loss: 12.8855 - mae: 12.8855\n",
            "Epoch 10/100\n",
            "1/1 [==============================] - 0s 9ms/step - loss: 12.8153 - mae: 12.8153\n",
            "Epoch 11/100\n",
            "1/1 [==============================] - 0s 12ms/step - loss: 12.7452 - mae: 12.7452\n",
            "Epoch 12/100\n",
            "1/1 [==============================] - 0s 10ms/step - loss: 12.6750 - mae: 12.6750\n",
            "Epoch 13/100\n",
            "1/1 [==============================] - 0s 14ms/step - loss: 12.6048 - mae: 12.6048\n",
            "Epoch 14/100\n",
            "1/1 [==============================] - 0s 12ms/step - loss: 12.5345 - mae: 12.5345\n",
            "Epoch 15/100\n",
            "1/1 [==============================] - 0s 11ms/step - loss: 12.4642 - mae: 12.4642\n",
            "Epoch 16/100\n",
            "1/1 [==============================] - 0s 11ms/step - loss: 12.3939 - mae: 12.3939\n",
            "Epoch 17/100\n",
            "1/1 [==============================] - 0s 10ms/step - loss: 12.3235 - mae: 12.3235\n",
            "Epoch 18/100\n",
            "1/1 [==============================] - 0s 10ms/step - loss: 12.2531 - mae: 12.2531\n",
            "Epoch 19/100\n",
            "1/1 [==============================] - 0s 11ms/step - loss: 12.1826 - mae: 12.1826\n",
            "Epoch 20/100\n",
            "1/1 [==============================] - 0s 11ms/step - loss: 12.1121 - mae: 12.1121\n",
            "Epoch 21/100\n",
            "1/1 [==============================] - 0s 11ms/step - loss: 12.0415 - mae: 12.0415\n",
            "Epoch 22/100\n",
            "1/1 [==============================] - 0s 10ms/step - loss: 11.9709 - mae: 11.9709\n",
            "Epoch 23/100\n",
            "1/1 [==============================] - 0s 11ms/step - loss: 11.9001 - mae: 11.9001\n",
            "Epoch 24/100\n",
            "1/1 [==============================] - 0s 12ms/step - loss: 11.8293 - mae: 11.8293\n",
            "Epoch 25/100\n",
            "1/1 [==============================] - 0s 11ms/step - loss: 11.7585 - mae: 11.7585\n",
            "Epoch 26/100\n",
            "1/1 [==============================] - 0s 10ms/step - loss: 11.6875 - mae: 11.6875\n",
            "Epoch 27/100\n",
            "1/1 [==============================] - 0s 13ms/step - loss: 11.6164 - mae: 11.6164\n",
            "Epoch 28/100\n",
            "1/1 [==============================] - 0s 10ms/step - loss: 11.5453 - mae: 11.5453\n",
            "Epoch 29/100\n",
            "1/1 [==============================] - 0s 10ms/step - loss: 11.4740 - mae: 11.4740\n",
            "Epoch 30/100\n",
            "1/1 [==============================] - 0s 10ms/step - loss: 11.4026 - mae: 11.4026\n",
            "Epoch 31/100\n",
            "1/1 [==============================] - 0s 10ms/step - loss: 11.3311 - mae: 11.3311\n",
            "Epoch 32/100\n",
            "1/1 [==============================] - 0s 16ms/step - loss: 11.2595 - mae: 11.2595\n",
            "Epoch 33/100\n",
            "1/1 [==============================] - 0s 15ms/step - loss: 11.1878 - mae: 11.1878\n",
            "Epoch 34/100\n",
            "1/1 [==============================] - 0s 16ms/step - loss: 11.1159 - mae: 11.1159\n",
            "Epoch 35/100\n",
            "1/1 [==============================] - 0s 11ms/step - loss: 11.0438 - mae: 11.0438\n",
            "Epoch 36/100\n",
            "1/1 [==============================] - 0s 11ms/step - loss: 10.9716 - mae: 10.9716\n",
            "Epoch 37/100\n",
            "1/1 [==============================] - 0s 10ms/step - loss: 10.8993 - mae: 10.8993\n",
            "Epoch 38/100\n",
            "1/1 [==============================] - 0s 10ms/step - loss: 10.8268 - mae: 10.8268\n",
            "Epoch 39/100\n",
            "1/1 [==============================] - 0s 15ms/step - loss: 10.7541 - mae: 10.7541\n",
            "Epoch 40/100\n",
            "1/1 [==============================] - 0s 10ms/step - loss: 10.6813 - mae: 10.6813\n",
            "Epoch 41/100\n",
            "1/1 [==============================] - 0s 10ms/step - loss: 10.6082 - mae: 10.6082\n",
            "Epoch 42/100\n",
            "1/1 [==============================] - 0s 10ms/step - loss: 10.5350 - mae: 10.5350\n",
            "Epoch 43/100\n",
            "1/1 [==============================] - 0s 10ms/step - loss: 10.4616 - mae: 10.4616\n",
            "Epoch 44/100\n",
            "1/1 [==============================] - 0s 9ms/step - loss: 10.3879 - mae: 10.3879\n",
            "Epoch 45/100\n",
            "1/1 [==============================] - 0s 11ms/step - loss: 10.3141 - mae: 10.3141\n",
            "Epoch 46/100\n",
            "1/1 [==============================] - 0s 10ms/step - loss: 10.2400 - mae: 10.2400\n",
            "Epoch 47/100\n",
            "1/1 [==============================] - 0s 10ms/step - loss: 10.1658 - mae: 10.1658\n",
            "Epoch 48/100\n",
            "1/1 [==============================] - 0s 10ms/step - loss: 10.0913 - mae: 10.0913\n",
            "Epoch 49/100\n",
            "1/1 [==============================] - 0s 10ms/step - loss: 10.0165 - mae: 10.0165\n",
            "Epoch 50/100\n",
            "1/1 [==============================] - 0s 13ms/step - loss: 9.9415 - mae: 9.9415\n",
            "Epoch 51/100\n",
            "1/1 [==============================] - 0s 13ms/step - loss: 9.8663 - mae: 9.8663\n",
            "Epoch 52/100\n",
            "1/1 [==============================] - 0s 12ms/step - loss: 9.7908 - mae: 9.7908\n",
            "Epoch 53/100\n",
            "1/1 [==============================] - 0s 11ms/step - loss: 9.7151 - mae: 9.7151\n",
            "Epoch 54/100\n",
            "1/1 [==============================] - 0s 12ms/step - loss: 9.6390 - mae: 9.6390\n",
            "Epoch 55/100\n",
            "1/1 [==============================] - 0s 15ms/step - loss: 9.5627 - mae: 9.5627\n",
            "Epoch 56/100\n",
            "1/1 [==============================] - 0s 12ms/step - loss: 9.4862 - mae: 9.4862\n",
            "Epoch 57/100\n",
            "1/1 [==============================] - 0s 11ms/step - loss: 9.4093 - mae: 9.4093\n",
            "Epoch 58/100\n",
            "1/1 [==============================] - 0s 11ms/step - loss: 9.3321 - mae: 9.3321\n",
            "Epoch 59/100\n",
            "1/1 [==============================] - 0s 11ms/step - loss: 9.2547 - mae: 9.2547\n",
            "Epoch 60/100\n",
            "1/1 [==============================] - 0s 11ms/step - loss: 9.1769 - mae: 9.1769\n",
            "Epoch 61/100\n",
            "1/1 [==============================] - 0s 11ms/step - loss: 9.0988 - mae: 9.0988\n",
            "Epoch 62/100\n",
            "1/1 [==============================] - 0s 11ms/step - loss: 9.0204 - mae: 9.0204\n",
            "Epoch 63/100\n",
            "1/1 [==============================] - 0s 12ms/step - loss: 8.9417 - mae: 8.9417\n",
            "Epoch 64/100\n",
            "1/1 [==============================] - 0s 11ms/step - loss: 8.8626 - mae: 8.8626\n",
            "Epoch 65/100\n",
            "1/1 [==============================] - 0s 11ms/step - loss: 8.7832 - mae: 8.7832\n",
            "Epoch 66/100\n",
            "1/1 [==============================] - 0s 11ms/step - loss: 8.7035 - mae: 8.7035\n",
            "Epoch 67/100\n",
            "1/1 [==============================] - 0s 12ms/step - loss: 8.6234 - mae: 8.6234\n",
            "Epoch 68/100\n",
            "1/1 [==============================] - 0s 11ms/step - loss: 8.5429 - mae: 8.5429\n",
            "Epoch 69/100\n",
            "1/1 [==============================] - 0s 11ms/step - loss: 8.4621 - mae: 8.4621\n",
            "Epoch 70/100\n",
            "1/1 [==============================] - 0s 11ms/step - loss: 8.3809 - mae: 8.3809\n",
            "Epoch 71/100\n",
            "1/1 [==============================] - 0s 13ms/step - loss: 8.2993 - mae: 8.2993\n",
            "Epoch 72/100\n",
            "1/1 [==============================] - 0s 10ms/step - loss: 8.2174 - mae: 8.2174\n",
            "Epoch 73/100\n",
            "1/1 [==============================] - 0s 10ms/step - loss: 8.1350 - mae: 8.1350\n",
            "Epoch 74/100\n",
            "1/1 [==============================] - 0s 11ms/step - loss: 8.0523 - mae: 8.0523\n",
            "Epoch 75/100\n",
            "1/1 [==============================] - 0s 10ms/step - loss: 7.9691 - mae: 7.9691\n",
            "Epoch 76/100\n",
            "1/1 [==============================] - 0s 11ms/step - loss: 7.8855 - mae: 7.8855\n",
            "Epoch 77/100\n",
            "1/1 [==============================] - 0s 12ms/step - loss: 7.8015 - mae: 7.8015\n",
            "Epoch 78/100\n",
            "1/1 [==============================] - 0s 11ms/step - loss: 7.7171 - mae: 7.7171\n",
            "Epoch 79/100\n",
            "1/1 [==============================] - 0s 10ms/step - loss: 7.6323 - mae: 7.6323\n",
            "Epoch 80/100\n",
            "1/1 [==============================] - 0s 11ms/step - loss: 7.5470 - mae: 7.5470\n",
            "Epoch 81/100\n",
            "1/1 [==============================] - 0s 10ms/step - loss: 7.4613 - mae: 7.4613\n",
            "Epoch 82/100\n",
            "1/1 [==============================] - 0s 10ms/step - loss: 7.3751 - mae: 7.3751\n",
            "Epoch 83/100\n",
            "1/1 [==============================] - 0s 10ms/step - loss: 7.2884 - mae: 7.2884\n",
            "Epoch 84/100\n",
            "1/1 [==============================] - 0s 10ms/step - loss: 7.2013 - mae: 7.2013\n",
            "Epoch 85/100\n",
            "1/1 [==============================] - 0s 10ms/step - loss: 7.1138 - mae: 7.1138\n",
            "Epoch 86/100\n",
            "1/1 [==============================] - 0s 9ms/step - loss: 7.0257 - mae: 7.0257\n",
            "Epoch 87/100\n",
            "1/1 [==============================] - 0s 10ms/step - loss: 6.9372 - mae: 6.9372\n",
            "Epoch 88/100\n",
            "1/1 [==============================] - 0s 10ms/step - loss: 6.8482 - mae: 6.8482\n",
            "Epoch 89/100\n",
            "1/1 [==============================] - 0s 10ms/step - loss: 6.7851 - mae: 6.7851\n",
            "Epoch 90/100\n",
            "1/1 [==============================] - 0s 10ms/step - loss: 6.7749 - mae: 6.7749\n",
            "Epoch 91/100\n",
            "1/1 [==============================] - 0s 17ms/step - loss: 6.7649 - mae: 6.7649\n",
            "Epoch 92/100\n",
            "1/1 [==============================] - 0s 11ms/step - loss: 6.7550 - mae: 6.7550\n",
            "Epoch 93/100\n",
            "1/1 [==============================] - 0s 16ms/step - loss: 6.7454 - mae: 6.7454\n",
            "Epoch 94/100\n",
            "1/1 [==============================] - 0s 14ms/step - loss: 6.7360 - mae: 6.7360\n",
            "Epoch 95/100\n",
            "1/1 [==============================] - 0s 13ms/step - loss: 6.7266 - mae: 6.7266\n",
            "Epoch 96/100\n",
            "1/1 [==============================] - 0s 11ms/step - loss: 6.7175 - mae: 6.7175\n",
            "Epoch 97/100\n",
            "1/1 [==============================] - 0s 10ms/step - loss: 6.7084 - mae: 6.7084\n",
            "Epoch 98/100\n",
            "1/1 [==============================] - 0s 10ms/step - loss: 6.6994 - mae: 6.6994\n",
            "Epoch 99/100\n",
            "1/1 [==============================] - 0s 9ms/step - loss: 6.6906 - mae: 6.6906\n",
            "Epoch 100/100\n",
            "1/1 [==============================] - 0s 14ms/step - loss: 6.6818 - mae: 6.6818\n"
          ]
        },
        {
          "output_type": "execute_result",
          "data": {
            "text/plain": [
              "<keras.src.callbacks.History at 0x79311ca26260>"
            ]
          },
          "metadata": {},
          "execution_count": 22
        }
      ]
    },
    {
      "cell_type": "code",
      "source": [
        "# Let's try to predict the y value -\n",
        "model.predict([17.0])"
      ],
      "metadata": {
        "colab": {
          "base_uri": "https://localhost:8080/"
        },
        "id": "ZFHwLn7C7yvR",
        "outputId": "43134326-208e-425b-d931-b37cb29302ea"
      },
      "execution_count": 23,
      "outputs": [
        {
          "output_type": "stream",
          "name": "stderr",
          "text": [
            "WARNING:tensorflow:5 out of the last 5 calls to <function Model.make_predict_function.<locals>.predict_function at 0x793130077370> triggered tf.function retracing. Tracing is expensive and the excessive number of tracings could be due to (1) creating @tf.function repeatedly in a loop, (2) passing tensors with different shapes, (3) passing Python objects instead of tensors. For (1), please define your @tf.function outside of the loop. For (2), @tf.function has reduce_retracing=True option that can avoid unnecessary retracing. For (3), please refer to https://www.tensorflow.org/guide/function#controlling_retracing and https://www.tensorflow.org/api_docs/python/tf/function for  more details.\n"
          ]
        },
        {
          "output_type": "stream",
          "name": "stdout",
          "text": [
            "1/1 [==============================] - 0s 72ms/step\n"
          ]
        },
        {
          "output_type": "execute_result",
          "data": {
            "text/plain": [
              "array([[31.742954]], dtype=float32)"
            ]
          },
          "metadata": {},
          "execution_count": 23
        }
      ]
    },
    {
      "cell_type": "code",
      "source": [
        "# Let's see if we can make another change to improve our model - now we change the optimizer to ADAM optimizer with learning rate\n",
        "\n",
        "#1. Create the model (this time with an extra hidden layer with 100 hidden units)\n",
        "model = tf.keras.Sequential([\n",
        "    tf.keras.layers.Dense(50, activation = None),\n",
        "    tf.keras.layers.Dense(1)\n",
        "])\n",
        "\n",
        "#2. Compile the model\n",
        "model.compile( loss=\"mae\",\n",
        "              optimizer=tf.keras.optimizers.Adam(lr=0.01),\n",
        "               metrics=[\"mae\"])\n",
        "\n",
        "#3. Fit the model\n",
        "model.fit(X,y, epochs=100)"
      ],
      "metadata": {
        "colab": {
          "base_uri": "https://localhost:8080/"
        },
        "id": "YWGN2KQD76qe",
        "outputId": "e76c7868-1730-47c4-e876-7e6028d97a7e"
      },
      "execution_count": 24,
      "outputs": [
        {
          "output_type": "stream",
          "name": "stderr",
          "text": [
            "WARNING:absl:`lr` is deprecated in Keras optimizer, please use `learning_rate` or use the legacy optimizer, e.g.,tf.keras.optimizers.legacy.Adam.\n"
          ]
        },
        {
          "output_type": "stream",
          "name": "stdout",
          "text": [
            "Epoch 1/100\n",
            "1/1 [==============================] - 1s 556ms/step - loss: 12.2501 - mae: 12.2501\n",
            "Epoch 2/100\n",
            "1/1 [==============================] - 0s 11ms/step - loss: 12.1797 - mae: 12.1797\n",
            "Epoch 3/100\n",
            "1/1 [==============================] - 0s 12ms/step - loss: 12.1093 - mae: 12.1093\n",
            "Epoch 4/100\n",
            "1/1 [==============================] - 0s 11ms/step - loss: 12.0387 - mae: 12.0387\n",
            "Epoch 5/100\n",
            "1/1 [==============================] - 0s 10ms/step - loss: 11.9679 - mae: 11.9679\n",
            "Epoch 6/100\n",
            "1/1 [==============================] - 0s 13ms/step - loss: 11.8970 - mae: 11.8970\n",
            "Epoch 7/100\n",
            "1/1 [==============================] - 0s 10ms/step - loss: 11.8259 - mae: 11.8259\n",
            "Epoch 8/100\n",
            "1/1 [==============================] - 0s 10ms/step - loss: 11.7547 - mae: 11.7547\n",
            "Epoch 9/100\n",
            "1/1 [==============================] - 0s 10ms/step - loss: 11.6833 - mae: 11.6833\n",
            "Epoch 10/100\n",
            "1/1 [==============================] - 0s 10ms/step - loss: 11.6117 - mae: 11.6117\n",
            "Epoch 11/100\n",
            "1/1 [==============================] - 0s 10ms/step - loss: 11.5400 - mae: 11.5400\n",
            "Epoch 12/100\n",
            "1/1 [==============================] - 0s 10ms/step - loss: 11.4681 - mae: 11.4681\n",
            "Epoch 13/100\n",
            "1/1 [==============================] - 0s 10ms/step - loss: 11.3960 - mae: 11.3960\n",
            "Epoch 14/100\n",
            "1/1 [==============================] - 0s 13ms/step - loss: 11.3237 - mae: 11.3237\n",
            "Epoch 15/100\n",
            "1/1 [==============================] - 0s 10ms/step - loss: 11.2512 - mae: 11.2512\n",
            "Epoch 16/100\n",
            "1/1 [==============================] - 0s 10ms/step - loss: 11.1786 - mae: 11.1786\n",
            "Epoch 17/100\n",
            "1/1 [==============================] - 0s 14ms/step - loss: 11.1057 - mae: 11.1057\n",
            "Epoch 18/100\n",
            "1/1 [==============================] - 0s 12ms/step - loss: 11.0326 - mae: 11.0326\n",
            "Epoch 19/100\n",
            "1/1 [==============================] - 0s 17ms/step - loss: 10.9594 - mae: 10.9594\n",
            "Epoch 20/100\n",
            "1/1 [==============================] - 0s 10ms/step - loss: 10.8859 - mae: 10.8859\n",
            "Epoch 21/100\n",
            "1/1 [==============================] - 0s 11ms/step - loss: 10.8122 - mae: 10.8122\n",
            "Epoch 22/100\n",
            "1/1 [==============================] - 0s 14ms/step - loss: 10.7383 - mae: 10.7383\n",
            "Epoch 23/100\n",
            "1/1 [==============================] - 0s 10ms/step - loss: 10.6641 - mae: 10.6641\n",
            "Epoch 24/100\n",
            "1/1 [==============================] - 0s 10ms/step - loss: 10.5897 - mae: 10.5897\n",
            "Epoch 25/100\n",
            "1/1 [==============================] - 0s 10ms/step - loss: 10.5151 - mae: 10.5151\n",
            "Epoch 26/100\n",
            "1/1 [==============================] - 0s 10ms/step - loss: 10.4402 - mae: 10.4402\n",
            "Epoch 27/100\n",
            "1/1 [==============================] - 0s 10ms/step - loss: 10.3651 - mae: 10.3651\n",
            "Epoch 28/100\n",
            "1/1 [==============================] - 0s 10ms/step - loss: 10.2898 - mae: 10.2898\n",
            "Epoch 29/100\n",
            "1/1 [==============================] - 0s 9ms/step - loss: 10.2141 - mae: 10.2141\n",
            "Epoch 30/100\n",
            "1/1 [==============================] - 0s 9ms/step - loss: 10.1383 - mae: 10.1383\n",
            "Epoch 31/100\n",
            "1/1 [==============================] - 0s 11ms/step - loss: 10.0621 - mae: 10.0621\n",
            "Epoch 32/100\n",
            "1/1 [==============================] - 0s 14ms/step - loss: 9.9857 - mae: 9.9857\n",
            "Epoch 33/100\n",
            "1/1 [==============================] - 0s 12ms/step - loss: 9.9090 - mae: 9.9090\n",
            "Epoch 34/100\n",
            "1/1 [==============================] - 0s 10ms/step - loss: 9.8320 - mae: 9.8320\n",
            "Epoch 35/100\n",
            "1/1 [==============================] - 0s 10ms/step - loss: 9.7547 - mae: 9.7547\n",
            "Epoch 36/100\n",
            "1/1 [==============================] - 0s 9ms/step - loss: 9.6771 - mae: 9.6771\n",
            "Epoch 37/100\n",
            "1/1 [==============================] - 0s 10ms/step - loss: 9.5992 - mae: 9.5992\n",
            "Epoch 38/100\n",
            "1/1 [==============================] - 0s 10ms/step - loss: 9.5210 - mae: 9.5210\n",
            "Epoch 39/100\n",
            "1/1 [==============================] - 0s 10ms/step - loss: 9.4425 - mae: 9.4425\n",
            "Epoch 40/100\n",
            "1/1 [==============================] - 0s 10ms/step - loss: 9.3637 - mae: 9.3637\n",
            "Epoch 41/100\n",
            "1/1 [==============================] - 0s 10ms/step - loss: 9.2845 - mae: 9.2845\n",
            "Epoch 42/100\n",
            "1/1 [==============================] - 0s 10ms/step - loss: 9.2051 - mae: 9.2051\n",
            "Epoch 43/100\n",
            "1/1 [==============================] - 0s 10ms/step - loss: 9.1252 - mae: 9.1252\n",
            "Epoch 44/100\n",
            "1/1 [==============================] - 0s 10ms/step - loss: 9.0451 - mae: 9.0451\n",
            "Epoch 45/100\n",
            "1/1 [==============================] - 0s 10ms/step - loss: 8.9646 - mae: 8.9646\n",
            "Epoch 46/100\n",
            "1/1 [==============================] - 0s 10ms/step - loss: 8.8837 - mae: 8.8837\n",
            "Epoch 47/100\n",
            "1/1 [==============================] - 0s 9ms/step - loss: 8.8025 - mae: 8.8025\n",
            "Epoch 48/100\n",
            "1/1 [==============================] - 0s 10ms/step - loss: 8.7209 - mae: 8.7209\n",
            "Epoch 49/100\n",
            "1/1 [==============================] - 0s 10ms/step - loss: 8.6389 - mae: 8.6389\n",
            "Epoch 50/100\n",
            "1/1 [==============================] - 0s 10ms/step - loss: 8.5566 - mae: 8.5566\n",
            "Epoch 51/100\n",
            "1/1 [==============================] - 0s 10ms/step - loss: 8.4739 - mae: 8.4739\n",
            "Epoch 52/100\n",
            "1/1 [==============================] - 0s 10ms/step - loss: 8.3908 - mae: 8.3908\n",
            "Epoch 53/100\n",
            "1/1 [==============================] - 0s 9ms/step - loss: 8.3073 - mae: 8.3073\n",
            "Epoch 54/100\n",
            "1/1 [==============================] - 0s 10ms/step - loss: 8.2234 - mae: 8.2234\n",
            "Epoch 55/100\n",
            "1/1 [==============================] - 0s 10ms/step - loss: 8.1391 - mae: 8.1391\n",
            "Epoch 56/100\n",
            "1/1 [==============================] - 0s 10ms/step - loss: 8.0543 - mae: 8.0543\n",
            "Epoch 57/100\n",
            "1/1 [==============================] - 0s 10ms/step - loss: 7.9692 - mae: 7.9692\n",
            "Epoch 58/100\n",
            "1/1 [==============================] - 0s 10ms/step - loss: 7.8836 - mae: 7.8836\n",
            "Epoch 59/100\n",
            "1/1 [==============================] - 0s 11ms/step - loss: 7.7976 - mae: 7.7976\n",
            "Epoch 60/100\n",
            "1/1 [==============================] - 0s 11ms/step - loss: 7.7112 - mae: 7.7112\n",
            "Epoch 61/100\n",
            "1/1 [==============================] - 0s 10ms/step - loss: 7.6243 - mae: 7.6243\n",
            "Epoch 62/100\n",
            "1/1 [==============================] - 0s 10ms/step - loss: 7.5369 - mae: 7.5369\n",
            "Epoch 63/100\n",
            "1/1 [==============================] - 0s 10ms/step - loss: 7.4491 - mae: 7.4491\n",
            "Epoch 64/100\n",
            "1/1 [==============================] - 0s 10ms/step - loss: 7.3609 - mae: 7.3609\n",
            "Epoch 65/100\n",
            "1/1 [==============================] - 0s 10ms/step - loss: 7.2721 - mae: 7.2721\n",
            "Epoch 66/100\n",
            "1/1 [==============================] - 0s 13ms/step - loss: 7.1829 - mae: 7.1829\n",
            "Epoch 67/100\n",
            "1/1 [==============================] - 0s 11ms/step - loss: 7.0932 - mae: 7.0932\n",
            "Epoch 68/100\n",
            "1/1 [==============================] - 0s 11ms/step - loss: 7.0031 - mae: 7.0031\n",
            "Epoch 69/100\n",
            "1/1 [==============================] - 0s 11ms/step - loss: 6.9200 - mae: 6.9200\n",
            "Epoch 70/100\n",
            "1/1 [==============================] - 0s 10ms/step - loss: 6.9096 - mae: 6.9096\n",
            "Epoch 71/100\n",
            "1/1 [==============================] - 0s 10ms/step - loss: 6.8995 - mae: 6.8995\n",
            "Epoch 72/100\n",
            "1/1 [==============================] - 0s 10ms/step - loss: 6.8896 - mae: 6.8896\n",
            "Epoch 73/100\n",
            "1/1 [==============================] - 0s 11ms/step - loss: 6.8799 - mae: 6.8799\n",
            "Epoch 74/100\n",
            "1/1 [==============================] - 0s 10ms/step - loss: 6.8703 - mae: 6.8703\n",
            "Epoch 75/100\n",
            "1/1 [==============================] - 0s 14ms/step - loss: 6.8609 - mae: 6.8609\n",
            "Epoch 76/100\n",
            "1/1 [==============================] - 0s 11ms/step - loss: 6.8516 - mae: 6.8516\n",
            "Epoch 77/100\n",
            "1/1 [==============================] - 0s 10ms/step - loss: 6.8424 - mae: 6.8424\n",
            "Epoch 78/100\n",
            "1/1 [==============================] - 0s 11ms/step - loss: 6.8333 - mae: 6.8333\n",
            "Epoch 79/100\n",
            "1/1 [==============================] - 0s 10ms/step - loss: 6.8244 - mae: 6.8244\n",
            "Epoch 80/100\n",
            "1/1 [==============================] - 0s 11ms/step - loss: 6.8154 - mae: 6.8154\n",
            "Epoch 81/100\n",
            "1/1 [==============================] - 0s 16ms/step - loss: 6.8066 - mae: 6.8066\n",
            "Epoch 82/100\n",
            "1/1 [==============================] - 0s 10ms/step - loss: 6.7978 - mae: 6.7978\n",
            "Epoch 83/100\n",
            "1/1 [==============================] - 0s 13ms/step - loss: 6.7976 - mae: 6.7976\n",
            "Epoch 84/100\n",
            "1/1 [==============================] - 0s 16ms/step - loss: 6.8018 - mae: 6.8018\n",
            "Epoch 85/100\n",
            "1/1 [==============================] - 0s 10ms/step - loss: 6.7999 - mae: 6.7999\n",
            "Epoch 86/100\n",
            "1/1 [==============================] - 0s 11ms/step - loss: 6.7925 - mae: 6.7925\n",
            "Epoch 87/100\n",
            "1/1 [==============================] - 0s 10ms/step - loss: 6.7801 - mae: 6.7801\n",
            "Epoch 88/100\n",
            "1/1 [==============================] - 0s 12ms/step - loss: 6.7631 - mae: 6.7631\n",
            "Epoch 89/100\n",
            "1/1 [==============================] - 0s 26ms/step - loss: 6.7454 - mae: 6.7454\n",
            "Epoch 90/100\n",
            "1/1 [==============================] - 0s 13ms/step - loss: 6.7388 - mae: 6.7388\n",
            "Epoch 91/100\n",
            "1/1 [==============================] - 0s 13ms/step - loss: 6.7320 - mae: 6.7320\n",
            "Epoch 92/100\n",
            "1/1 [==============================] - 0s 11ms/step - loss: 6.7251 - mae: 6.7251\n",
            "Epoch 93/100\n",
            "1/1 [==============================] - 0s 15ms/step - loss: 6.7181 - mae: 6.7181\n",
            "Epoch 94/100\n",
            "1/1 [==============================] - 0s 11ms/step - loss: 6.7109 - mae: 6.7109\n",
            "Epoch 95/100\n",
            "1/1 [==============================] - 0s 10ms/step - loss: 6.7036 - mae: 6.7036\n",
            "Epoch 96/100\n",
            "1/1 [==============================] - 0s 10ms/step - loss: 6.6962 - mae: 6.6962\n",
            "Epoch 97/100\n",
            "1/1 [==============================] - 0s 11ms/step - loss: 6.6886 - mae: 6.6886\n",
            "Epoch 98/100\n",
            "1/1 [==============================] - 0s 11ms/step - loss: 6.6810 - mae: 6.6810\n",
            "Epoch 99/100\n",
            "1/1 [==============================] - 0s 16ms/step - loss: 6.6733 - mae: 6.6733\n",
            "Epoch 100/100\n",
            "1/1 [==============================] - 0s 12ms/step - loss: 6.6655 - mae: 6.6655\n"
          ]
        },
        {
          "output_type": "execute_result",
          "data": {
            "text/plain": [
              "<keras.src.callbacks.History at 0x79311ca0a710>"
            ]
          },
          "metadata": {},
          "execution_count": 24
        }
      ]
    },
    {
      "cell_type": "code",
      "source": [
        "# Let's try to predict the y value -\n",
        "model.predict([17.0])"
      ],
      "metadata": {
        "colab": {
          "base_uri": "https://localhost:8080/"
        },
        "id": "TgOvSXg48ID0",
        "outputId": "cfe1c098-c904-4e54-af3c-365287eadcda"
      },
      "execution_count": 25,
      "outputs": [
        {
          "output_type": "stream",
          "name": "stderr",
          "text": [
            "WARNING:tensorflow:6 out of the last 6 calls to <function Model.make_predict_function.<locals>.predict_function at 0x793121f22290> triggered tf.function retracing. Tracing is expensive and the excessive number of tracings could be due to (1) creating @tf.function repeatedly in a loop, (2) passing tensors with different shapes, (3) passing Python objects instead of tensors. For (1), please define your @tf.function outside of the loop. For (2), @tf.function has reduce_retracing=True option that can avoid unnecessary retracing. For (3), please refer to https://www.tensorflow.org/guide/function#controlling_retracing and https://www.tensorflow.org/api_docs/python/tf/function for  more details.\n"
          ]
        },
        {
          "output_type": "stream",
          "name": "stdout",
          "text": [
            "1/1 [==============================] - 0s 199ms/step\n"
          ]
        },
        {
          "output_type": "execute_result",
          "data": {
            "text/plain": [
              "array([[31.391407]], dtype=float32)"
            ]
          },
          "metadata": {},
          "execution_count": 25
        }
      ]
    },
    {
      "cell_type": "markdown",
      "source": [
        "## Evaluating a model\n",
        "\n",
        "In practice , typical workflow you'll go through when building neural network is:\n",
        "```\n",
        "Build a model -> fit it -> evaluate it -> tweak a model -> fit it -> evaluate it -> tweak a model -> fit it -> evaluate it ...\n",
        "```\n"
      ],
      "metadata": {
        "id": "6qoDRu9Y8tq9"
      }
    },
    {
      "cell_type": "markdown",
      "source": [
        "#### When it comes to evaluation ... there are 3 words you should memorize:\n",
        "> \"visualize, Visualize, Visualize\"\n",
        "\n",
        "It is always a good idea to visualize -\n",
        "* The data - what data are we working with? What does it look like?\n",
        "* The model itself - What does our model look like?\n",
        "* The traning of a model - how does a model perform while it learns?\n",
        "* The predictions of the model - how do the predictions of a model line up against the ground truth (the original lables)."
      ],
      "metadata": {
        "id": "3OstztIM9GqH"
      }
    },
    {
      "cell_type": "code",
      "source": [
        "# Make a bigger dataset\n",
        "X = tf.range(-100,100,4)\n",
        "X"
      ],
      "metadata": {
        "colab": {
          "base_uri": "https://localhost:8080/"
        },
        "id": "YIMcyf5D9GmS",
        "outputId": "5437b56f-43ea-4c3a-e52a-fdbbc740b876"
      },
      "execution_count": 26,
      "outputs": [
        {
          "output_type": "execute_result",
          "data": {
            "text/plain": [
              "<tf.Tensor: shape=(50,), dtype=int32, numpy=\n",
              "array([-100,  -96,  -92,  -88,  -84,  -80,  -76,  -72,  -68,  -64,  -60,\n",
              "        -56,  -52,  -48,  -44,  -40,  -36,  -32,  -28,  -24,  -20,  -16,\n",
              "        -12,   -8,   -4,    0,    4,    8,   12,   16,   20,   24,   28,\n",
              "         32,   36,   40,   44,   48,   52,   56,   60,   64,   68,   72,\n",
              "         76,   80,   84,   88,   92,   96], dtype=int32)>"
            ]
          },
          "metadata": {},
          "execution_count": 26
        }
      ]
    },
    {
      "cell_type": "code",
      "source": [
        "# Make labels for the dataset -\n",
        "y = X+10\n",
        "y"
      ],
      "metadata": {
        "colab": {
          "base_uri": "https://localhost:8080/"
        },
        "id": "pcPmpQ5rAQ3L",
        "outputId": "c1d91899-1596-4465-bdb1-290a0aea68bd"
      },
      "execution_count": 27,
      "outputs": [
        {
          "output_type": "execute_result",
          "data": {
            "text/plain": [
              "<tf.Tensor: shape=(50,), dtype=int32, numpy=\n",
              "array([-90, -86, -82, -78, -74, -70, -66, -62, -58, -54, -50, -46, -42,\n",
              "       -38, -34, -30, -26, -22, -18, -14, -10,  -6,  -2,   2,   6,  10,\n",
              "        14,  18,  22,  26,  30,  34,  38,  42,  46,  50,  54,  58,  62,\n",
              "        66,  70,  74,  78,  82,  86,  90,  94,  98, 102, 106], dtype=int32)>"
            ]
          },
          "metadata": {},
          "execution_count": 27
        }
      ]
    },
    {
      "cell_type": "code",
      "source": [
        "# Visualize the data:\n",
        "import matplotlib.pyplot as plt\n",
        "plt.scatter(X,y)"
      ],
      "metadata": {
        "colab": {
          "base_uri": "https://localhost:8080/",
          "height": 447
        },
        "id": "NbTAimsvAdjk",
        "outputId": "e68fbc9a-1b35-4993-dd2a-5eae5975ceb2"
      },
      "execution_count": 28,
      "outputs": [
        {
          "output_type": "execute_result",
          "data": {
            "text/plain": [
              "<matplotlib.collections.PathCollection at 0x793121e45f60>"
            ]
          },
          "metadata": {},
          "execution_count": 28
        },
        {
          "output_type": "display_data",
          "data": {
            "text/plain": [
              "<Figure size 640x480 with 1 Axes>"
            ],
            "image/png": "[encoded data removed]"
          },
          "metadata": {}
        }
      ]
    },
    {
      "cell_type": "code",
      "source": [
        "# Split the data into train and test sets -\n",
        "X_train = X[:40]\n",
        "X_test = X[40:]\n",
        "\n",
        "y_train = y[:40]\n",
        "y_test = y[40:]\n",
        "\n",
        "len(X_train), len(X_test), len(y_train), len(y_test)"
      ],
      "metadata": {
        "colab": {
          "base_uri": "https://localhost:8080/"
        },
        "id": "Sv7rpxZsAqmm",
        "outputId": "f16c6bbf-6689-481f-97cc-974787ef3833"
      },
      "execution_count": 29,
      "outputs": [
        {
          "output_type": "execute_result",
          "data": {
            "text/plain": [
              "(40, 10, 40, 10)"
            ]
          },
          "metadata": {},
          "execution_count": 29
        }
      ]
    },
    {
      "cell_type": "markdown",
      "source": [
        "### Visualizing the data\n",
        "Now we have got our data in training and test sets...let's visualize it again"
      ],
      "metadata": {
        "id": "FTlBzJaj8Eip"
      }
    },
    {
      "cell_type": "code",
      "source": [
        "plt.figure(figsize =(8,6))\n",
        "# Plot training data in blue-\n",
        "plt.scatter(X_train, y_train, c='b', label = \"Training Data\") # Our model need to learn on this\n",
        "# Plot testing data in green\n",
        "plt.scatter(X_test, y_test, c='g', label = \"Testing Data\")\n",
        "# Show a legend\n",
        "plt.legend();"
      ],
      "metadata": {
        "colab": {
          "base_uri": "https://localhost:8080/",
          "height": 522
        },
        "id": "J5vVxB5B8pOl",
        "outputId": "17d882bf-80d1-408a-baa2-7de5892218e4"
      },
      "execution_count": 31,
      "outputs": [
        {
          "output_type": "display_data",
          "data": {
            "text/plain": [
              "<Figure size 800x600 with 1 Axes>"
            ],
            "image/png": "[encoded data removed]"
          },
          "metadata": {}
        }
      ]
    },
    {
      "cell_type": "code",
      "source": [
        "# Let's have a look at how to build a neural network for our data -\n",
        "\n",
        "# 1. Create a model\n",
        "model = tf.keras.Sequential([\n",
        "    tf.keras.layers.Dense(1)\n",
        "])\n",
        "\n",
        "# 2. Compile the model\n",
        "model.compile(loss=tf.keras.losses.mae,\n",
        "              optimizer = tf.keras.optimizers.SGD(),\n",
        "              metrics = ['mae'])\n",
        "\n",
        "# # 3. Fit the model\n",
        "# model.fit(X_train, y_train, epochs=100)"
      ],
      "metadata": {
        "id": "B0Jxk6qE8pLI"
      },
      "execution_count": 33,
      "outputs": []
    },
    {
      "cell_type": "code",
      "source": [
        "# model.summary()"
      ],
      "metadata": {
        "id": "k5L0nFqr-ltB"
      },
      "execution_count": 35,
      "outputs": []
    },
    {
      "cell_type": "code",
      "source": [
        "# Let's create a model which builds automatically by defining the input_shape argument\n",
        "tf.random.set_seed(42)\n",
        "#1. Create a model\n",
        "model = tf.keras.Sequential([\n",
        "    tf.keras.layers.Dense(1, input_shape=[1]) # Dense is a fully connected layer\n",
        "])\n",
        "# 2. Compile a model\n",
        "model.compile(loss=tf.keras.losses.mae,\n",
        "              optimizer=tf.keras.optimizers.SGD(),\n",
        "              metrics=['mae'])\n"
      ],
      "metadata": {
        "id": "RfhOvh7y-vna"
      },
      "execution_count": 36,
      "outputs": []
    },
    {
      "cell_type": "code",
      "source": [
        "model.summary()"
      ],
      "metadata": {
        "colab": {
          "base_uri": "https://localhost:8080/"
        },
        "id": "wWs-dR9Y_xH3",
        "outputId": "007ef831-dbe3-4ff3-d778-1cb77d9f4959"
      },
      "execution_count": 37,
      "outputs": [
        {
          "output_type": "stream",
          "name": "stdout",
          "text": [
            "Model: \"sequential_7\"\n",
            "_________________________________________________________________\n",
            " Layer (type)                Output Shape              Param #   \n",
            "=================================================================\n",
            " dense_11 (Dense)            (None, 1)                 2         \n",
            "                                                                 \n",
            "=================================================================\n",
            "Total params: 2 (8.00 Byte)\n",
            "Trainable params: 2 (8.00 Byte)\n",
            "Non-trainable params: 0 (0.00 Byte)\n",
            "_________________________________________________________________\n"
          ]
        }
      ]
    },
    {
      "cell_type": "code",
      "source": [
        "# Let's fit our model with the training data\n",
        "model.fit(X_train, y_train, epochs=100, verbose=0)"
      ],
      "metadata": {
        "colab": {
          "base_uri": "https://localhost:8080/"
        },
        "id": "eNtDHL3x_0tB",
        "outputId": "ea32678b-2200-45a4-de58-a9dbc19b506a"
      },
      "execution_count": 38,
      "outputs": [
        {
          "output_type": "execute_result",
          "data": {
            "text/plain": [
              "<keras.src.callbacks.History at 0x793117174b20>"
            ]
          },
          "metadata": {},
          "execution_count": 38
        }
      ]
    },
    {
      "cell_type": "code",
      "source": [
        "from tensorflow.keras.utils import plot_model\n",
        "\n",
        "plot_model(model=model, show_shapes= True)"
      ],
      "metadata": {
        "colab": {
          "base_uri": "https://localhost:8080/",
          "height": 201
        },
        "id": "bBzI_7ObCEJi",
        "outputId": "bc0277b5-4137-40bf-f20c-3f2594723698"
      },
      "execution_count": 40,
      "outputs": [
        {
          "output_type": "execute_result",
          "data": {
            "image/png": "[encoded data removed]",
            "text/plain": [
              "<IPython.core.display.Image object>"
            ]
          },
          "metadata": {},
          "execution_count": 40
        }
      ]
    },
    {
      "cell_type": "code",
      "source": [],
      "metadata": {
        "id": "zjKMGd3dDATe"
      },
      "execution_count": null,
      "outputs": []
    }
  ]
}